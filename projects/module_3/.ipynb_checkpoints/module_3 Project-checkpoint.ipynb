{
 "cells": [
  {
   "cell_type": "markdown",
   "metadata": {},
   "source": [
    "![](https://www.pata.org/wp-content/uploads/2014/09/TripAdvisor_Logo-300x119.png)\n",
    "# Predict TripAdvisor Rating\n",
    "## В этом соревновании нам предстоит предсказать рейтинг ресторана в TripAdvisor\n",
    "**По ходу задачи:**\n",
    "* Прокачаем работу с pandas\n",
    "* Научимся работать с Kaggle Notebooks\n",
    "* Поймем как делать предобработку различных данных\n",
    "* Научимся работать с пропущенными данными (Nan)\n",
    "* Познакомимся с различными видами кодирования признаков\n",
    "* Немного попробуем [Feature Engineering](https://ru.wikipedia.org/wiki/Конструирование_признаков) (генерировать новые признаки)\n",
    "* И совсем немного затронем ML\n",
    "* И многое другое...   \n",
    "\n",
    "\n",
    "\n",
    "### И самое важное, все это вы сможете сделать самостоятельно!\n",
    "\n",
    "*Этот Ноутбук являетсся Примером/Шаблоном к этому соревнованию (Baseline) и не служит готовым решением!*   \n",
    "Вы можете использовать его как основу для построения своего решения.\n",
    "\n",
    "> что такое baseline решение, зачем оно нужно и почему предоставлять baseline к соревнованию стало важным стандартом на kaggle и других площадках.   \n",
    "**baseline** создается больше как шаблон, где можно посмотреть как происходит обращение с входящими данными и что нужно получить на выходе. При этом МЛ начинка может быть достаточно простой, просто для примера. Это помогает быстрее приступить к самому МЛ, а не тратить ценное время на чисто инженерные задачи. \n",
    "Также baseline являеться хорошей опорной точкой по метрике. Если твое решение хуже baseline - ты явно делаешь что-то не то и стоит попробовать другой путь) \n",
    "\n",
    "В контексте нашего соревнования baseline идет с небольшими примерами того, что можно делать с данными, и с инструкцией, что делать дальше, чтобы улучшить результат.  Вообще готовым решением это сложно назвать, так как используются всего 2 самых простых признака (а остальные исключаются)."
   ]
  },
  {
   "cell_type": "markdown",
   "metadata": {},
   "source": [
    "# import"
   ]
  },
  {
   "cell_type": "code",
   "execution_count": 1,
   "metadata": {
    "_cell_guid": "b1076dfc-b9ad-4769-8c92-a6c4dae69d19",
    "_uuid": "8f2839f25d086af736a60e9eeb907d3b93b6e0e5",
    "execution": {
     "iopub.execute_input": "2021-07-28T14:43:19.858465Z",
     "iopub.status.busy": "2021-07-28T14:43:19.858126Z",
     "iopub.status.idle": "2021-07-28T14:43:19.876784Z",
     "shell.execute_reply": "2021-07-28T14:43:19.875907Z",
     "shell.execute_reply.started": "2021-07-28T14:43:19.858424Z"
    }
   },
   "outputs": [],
   "source": [
    "# This Python 3 environment comes with many helpful analytics libraries installed\n",
    "# It is defined by the kaggle/python docker image: https://github.com/kaggle/docker-python\n",
    "# For example, here's several helpful packages to load in \n",
    "\n",
    "import numpy as np # linear algebraimport pandas as pd # data processing, CSV file I/O (e.g. pd.read_csv)\n",
    "import pandas as pd\n",
    "from textblob import TextBlob\n",
    "from datetime import datetime, timedelta\n",
    "import re\n",
    "\n",
    "import matplotlib.pyplot as plt\n",
    "import seaborn as sns \n",
    "%matplotlib inline\n",
    "\n",
    "# Загружаем специальный удобный инструмент для разделения датасета:\n",
    "from sklearn.model_selection import train_test_split\n",
    "\n",
    "# Input data files are available in the \"../input/\" directory.\n",
    "# For example, running this (by clicking run or pressing Shift+Enter) will list all files under the input directory\n",
    "\n",
    "import os\n",
    "for dirname, _, filenames in os.walk('/kaggle/input'):\n",
    "    for filename in filenames:\n",
    "        print(os.path.join(dirname, filename))\n",
    "\n",
    "# Any results you write to the current directory are saved as output."
   ]
  },
  {
   "cell_type": "code",
   "execution_count": 2,
   "metadata": {
    "execution": {
     "iopub.execute_input": "2021-07-28T14:43:19.879865Z",
     "iopub.status.busy": "2021-07-28T14:43:19.879511Z",
     "iopub.status.idle": "2021-07-28T14:43:19.892660Z",
     "shell.execute_reply": "2021-07-28T14:43:19.891725Z",
     "shell.execute_reply.started": "2021-07-28T14:43:19.879799Z"
    }
   },
   "outputs": [],
   "source": [
    "# всегда фиксируйте RANDOM_SEED, чтобы ваши эксперименты были воспроизводимы!\n",
    "RANDOM_SEED = 312"
   ]
  },
  {
   "cell_type": "code",
   "execution_count": 3,
   "metadata": {
    "execution": {
     "iopub.execute_input": "2021-07-28T14:43:19.894512Z",
     "iopub.status.busy": "2021-07-28T14:43:19.894110Z",
     "iopub.status.idle": "2021-07-28T14:43:22.347078Z",
     "shell.execute_reply": "2021-07-28T14:43:22.345888Z",
     "shell.execute_reply.started": "2021-07-28T14:43:19.894459Z"
    }
   },
   "outputs": [],
   "source": [
    "# зафиксируем версию пакетов, чтобы эксперименты были воспроизводимы:\n",
    "!pip freeze > requirements.txt"
   ]
  },
  {
   "cell_type": "markdown",
   "metadata": {},
   "source": [
    "# Набор собственных функций предобработки:"
   ]
  },
  {
   "cell_type": "code",
   "execution_count": 4,
   "metadata": {
    "execution": {
     "iopub.execute_input": "2021-07-28T14:43:22.348722Z",
     "iopub.status.busy": "2021-07-28T14:43:22.348469Z",
     "iopub.status.idle": "2021-07-28T14:43:22.358325Z",
     "shell.execute_reply": "2021-07-28T14:43:22.357618Z",
     "shell.execute_reply.started": "2021-07-28T14:43:22.348684Z"
    }
   },
   "outputs": [],
   "source": [
    "#функция замены текстовой ценовой категории на цифру\n",
    "def replace_price_tag(tag):\n",
    "    return price_dict[tag]\n",
    "\n",
    "#функция заменяет NaN-значения в количестве отзыов на 0 или 1 в зависимости от количества дат последних двух отзывов\n",
    "def nan_review_attribution(df, num_col, reviews_col):    \n",
    "    gen = (i for i in df[num_col].index if np.isnan(df[num_col][i]))\n",
    "    for i in gen:\n",
    "        df.at[i, num_col] = len(re.findall(r\"\\d+\\/\\d+\\/\\d+\", df[reviews_col][i]))\n",
    "    return df[num_col]\n",
    "\n",
    "    \n",
    "#возвращает количество стилей кухни. Если НаН возворащает среднее 3\n",
    "def cuisine_number(string):\n",
    "    if pd.isnull(string):\n",
    "        return 3\n",
    "    else:\n",
    "        return len(re.findall(r\"\\'[\\w+\\s*]+\\'\",str(string)))\n",
    "\n",
    "#функция добавляет колонку с количеством ресторанов в городе\n",
    "def city_resto_num(city):\n",
    "    return resto_per_city[city] #resto_per_city это внешний словарь, который будет создан по месту применения функции"
   ]
  },
  {
   "cell_type": "markdown",
   "metadata": {},
   "source": [
    "# DATA"
   ]
  },
  {
   "cell_type": "code",
   "execution_count": 5,
   "metadata": {
    "_cell_guid": "79c7e3d0-c299-4dcb-8224-4455121ee9b0",
    "_uuid": "d629ff2d2480ee46fbb7e2d37f6b5fab8052498a",
    "execution": {
     "iopub.execute_input": "2021-07-28T14:43:22.361621Z",
     "iopub.status.busy": "2021-07-28T14:43:22.361164Z",
     "iopub.status.idle": "2021-07-28T14:43:22.644441Z",
     "shell.execute_reply": "2021-07-28T14:43:22.643533Z",
     "shell.execute_reply.started": "2021-07-28T14:43:22.361565Z"
    }
   },
   "outputs": [],
   "source": [
    "\n",
    "df_train = pd.read_csv('main_task.csv')\n",
    "df_test = pd.read_csv('kaggle_task.csv')\n",
    "sample_submission = pd.read_csv('sample_submission.csv')"
   ]
  },
  {
   "cell_type": "code",
   "execution_count": 6,
   "metadata": {
    "execution": {
     "iopub.execute_input": "2021-07-28T14:43:22.649972Z",
     "iopub.status.busy": "2021-07-28T14:43:22.649682Z",
     "iopub.status.idle": "2021-07-28T14:43:22.656600Z",
     "shell.execute_reply": "2021-07-28T14:43:22.655170Z",
     "shell.execute_reply.started": "2021-07-28T14:43:22.649934Z"
    }
   },
   "outputs": [],
   "source": [
    "df_train.columns = ['id','city','style','city_rank','rating','price','num_of_reviews','reviews','url_ta','id_ta']\n",
    "df_test.columns = ['id','city','style','city_rank','price','num_of_reviews','reviews','url_ta','id_ta']"
   ]
  },
  {
   "cell_type": "code",
   "execution_count": 7,
   "metadata": {
    "execution": {
     "iopub.execute_input": "2021-07-28T14:43:22.659097Z",
     "iopub.status.busy": "2021-07-28T14:43:22.658427Z",
     "iopub.status.idle": "2021-07-28T14:43:22.703874Z",
     "shell.execute_reply": "2021-07-28T14:43:22.702663Z",
     "shell.execute_reply.started": "2021-07-28T14:43:22.658739Z"
    }
   },
   "outputs": [
    {
     "name": "stdout",
     "output_type": "stream",
     "text": [
      "<class 'pandas.core.frame.DataFrame'>\n",
      "RangeIndex: 40000 entries, 0 to 39999\n",
      "Data columns (total 10 columns):\n",
      " #   Column          Non-Null Count  Dtype  \n",
      "---  ------          --------------  -----  \n",
      " 0   id              40000 non-null  object \n",
      " 1   city            40000 non-null  object \n",
      " 2   style           30717 non-null  object \n",
      " 3   city_rank       40000 non-null  float64\n",
      " 4   rating          40000 non-null  float64\n",
      " 5   price           26114 non-null  object \n",
      " 6   num_of_reviews  37457 non-null  float64\n",
      " 7   reviews         40000 non-null  object \n",
      " 8   url_ta          40000 non-null  object \n",
      " 9   id_ta           40000 non-null  object \n",
      "dtypes: float64(3), object(7)\n",
      "memory usage: 3.1+ MB\n"
     ]
    }
   ],
   "source": [
    "df_train.info()"
   ]
  },
  {
   "cell_type": "code",
   "execution_count": 8,
   "metadata": {
    "execution": {
     "iopub.execute_input": "2021-07-28T14:43:22.706204Z",
     "iopub.status.busy": "2021-07-28T14:43:22.705628Z",
     "iopub.status.idle": "2021-07-28T14:43:22.728267Z",
     "shell.execute_reply": "2021-07-28T14:43:22.727041Z",
     "shell.execute_reply.started": "2021-07-28T14:43:22.706145Z"
    }
   },
   "outputs": [
    {
     "data": {
      "text/html": [
       "<div>\n",
       "<style scoped>\n",
       "    .dataframe tbody tr th:only-of-type {\n",
       "        vertical-align: middle;\n",
       "    }\n",
       "\n",
       "    .dataframe tbody tr th {\n",
       "        vertical-align: top;\n",
       "    }\n",
       "\n",
       "    .dataframe thead th {\n",
       "        text-align: right;\n",
       "    }\n",
       "</style>\n",
       "<table border=\"1\" class=\"dataframe\">\n",
       "  <thead>\n",
       "    <tr style=\"text-align: right;\">\n",
       "      <th></th>\n",
       "      <th>id</th>\n",
       "      <th>city</th>\n",
       "      <th>style</th>\n",
       "      <th>city_rank</th>\n",
       "      <th>rating</th>\n",
       "      <th>price</th>\n",
       "      <th>num_of_reviews</th>\n",
       "      <th>reviews</th>\n",
       "      <th>url_ta</th>\n",
       "      <th>id_ta</th>\n",
       "    </tr>\n",
       "  </thead>\n",
       "  <tbody>\n",
       "    <tr>\n",
       "      <th>0</th>\n",
       "      <td>id_5569</td>\n",
       "      <td>Paris</td>\n",
       "      <td>['European', 'French', 'International']</td>\n",
       "      <td>5570.0</td>\n",
       "      <td>3.5</td>\n",
       "      <td>$$ - $$$</td>\n",
       "      <td>194.0</td>\n",
       "      <td>[['Good food at your doorstep', 'A good hotel ...</td>\n",
       "      <td>/Restaurant_Review-g187147-d1912643-Reviews-R_...</td>\n",
       "      <td>d1912643</td>\n",
       "    </tr>\n",
       "    <tr>\n",
       "      <th>1</th>\n",
       "      <td>id_1535</td>\n",
       "      <td>Stockholm</td>\n",
       "      <td>NaN</td>\n",
       "      <td>1537.0</td>\n",
       "      <td>4.0</td>\n",
       "      <td>NaN</td>\n",
       "      <td>10.0</td>\n",
       "      <td>[['Unique cuisine', 'Delicious Nepalese food']...</td>\n",
       "      <td>/Restaurant_Review-g189852-d7992032-Reviews-Bu...</td>\n",
       "      <td>d7992032</td>\n",
       "    </tr>\n",
       "    <tr>\n",
       "      <th>2</th>\n",
       "      <td>id_352</td>\n",
       "      <td>London</td>\n",
       "      <td>['Japanese', 'Sushi', 'Asian', 'Grill', 'Veget...</td>\n",
       "      <td>353.0</td>\n",
       "      <td>4.5</td>\n",
       "      <td>$$$$</td>\n",
       "      <td>688.0</td>\n",
       "      <td>[['Catch up with friends', 'Not exceptional'],...</td>\n",
       "      <td>/Restaurant_Review-g186338-d8632781-Reviews-RO...</td>\n",
       "      <td>d8632781</td>\n",
       "    </tr>\n",
       "    <tr>\n",
       "      <th>3</th>\n",
       "      <td>id_3456</td>\n",
       "      <td>Berlin</td>\n",
       "      <td>NaN</td>\n",
       "      <td>3458.0</td>\n",
       "      <td>5.0</td>\n",
       "      <td>NaN</td>\n",
       "      <td>3.0</td>\n",
       "      <td>[[], []]</td>\n",
       "      <td>/Restaurant_Review-g187323-d1358776-Reviews-Es...</td>\n",
       "      <td>d1358776</td>\n",
       "    </tr>\n",
       "    <tr>\n",
       "      <th>4</th>\n",
       "      <td>id_615</td>\n",
       "      <td>Munich</td>\n",
       "      <td>['German', 'Central European', 'Vegetarian Fri...</td>\n",
       "      <td>621.0</td>\n",
       "      <td>4.0</td>\n",
       "      <td>$$ - $$$</td>\n",
       "      <td>84.0</td>\n",
       "      <td>[['Best place to try a Bavarian food', 'Nice b...</td>\n",
       "      <td>/Restaurant_Review-g187309-d6864963-Reviews-Au...</td>\n",
       "      <td>d6864963</td>\n",
       "    </tr>\n",
       "  </tbody>\n",
       "</table>\n",
       "</div>"
      ],
      "text/plain": [
       "        id       city                                              style  \\\n",
       "0  id_5569      Paris            ['European', 'French', 'International']   \n",
       "1  id_1535  Stockholm                                                NaN   \n",
       "2   id_352     London  ['Japanese', 'Sushi', 'Asian', 'Grill', 'Veget...   \n",
       "3  id_3456     Berlin                                                NaN   \n",
       "4   id_615     Munich  ['German', 'Central European', 'Vegetarian Fri...   \n",
       "\n",
       "   city_rank  rating     price  num_of_reviews  \\\n",
       "0     5570.0     3.5  $$ - $$$           194.0   \n",
       "1     1537.0     4.0       NaN            10.0   \n",
       "2      353.0     4.5      $$$$           688.0   \n",
       "3     3458.0     5.0       NaN             3.0   \n",
       "4      621.0     4.0  $$ - $$$            84.0   \n",
       "\n",
       "                                             reviews  \\\n",
       "0  [['Good food at your doorstep', 'A good hotel ...   \n",
       "1  [['Unique cuisine', 'Delicious Nepalese food']...   \n",
       "2  [['Catch up with friends', 'Not exceptional'],...   \n",
       "3                                           [[], []]   \n",
       "4  [['Best place to try a Bavarian food', 'Nice b...   \n",
       "\n",
       "                                              url_ta     id_ta  \n",
       "0  /Restaurant_Review-g187147-d1912643-Reviews-R_...  d1912643  \n",
       "1  /Restaurant_Review-g189852-d7992032-Reviews-Bu...  d7992032  \n",
       "2  /Restaurant_Review-g186338-d8632781-Reviews-RO...  d8632781  \n",
       "3  /Restaurant_Review-g187323-d1358776-Reviews-Es...  d1358776  \n",
       "4  /Restaurant_Review-g187309-d6864963-Reviews-Au...  d6864963  "
      ]
     },
     "execution_count": 8,
     "metadata": {},
     "output_type": "execute_result"
    }
   ],
   "source": [
    "df_train.head(5)"
   ]
  },
  {
   "cell_type": "code",
   "execution_count": 9,
   "metadata": {
    "execution": {
     "iopub.execute_input": "2021-07-28T14:43:22.731056Z",
     "iopub.status.busy": "2021-07-28T14:43:22.730611Z",
     "iopub.status.idle": "2021-07-28T14:43:22.754453Z",
     "shell.execute_reply": "2021-07-28T14:43:22.753297Z",
     "shell.execute_reply.started": "2021-07-28T14:43:22.730960Z"
    }
   },
   "outputs": [
    {
     "name": "stdout",
     "output_type": "stream",
     "text": [
      "<class 'pandas.core.frame.DataFrame'>\n",
      "RangeIndex: 10000 entries, 0 to 9999\n",
      "Data columns (total 9 columns):\n",
      " #   Column          Non-Null Count  Dtype  \n",
      "---  ------          --------------  -----  \n",
      " 0   id              10000 non-null  object \n",
      " 1   city            10000 non-null  object \n",
      " 2   style           7693 non-null   object \n",
      " 3   city_rank       10000 non-null  float64\n",
      " 4   price           6525 non-null   object \n",
      " 5   num_of_reviews  9343 non-null   float64\n",
      " 6   reviews         9998 non-null   object \n",
      " 7   url_ta          10000 non-null  object \n",
      " 8   id_ta           10000 non-null  object \n",
      "dtypes: float64(2), object(7)\n",
      "memory usage: 703.2+ KB\n"
     ]
    }
   ],
   "source": [
    "df_test.info()"
   ]
  },
  {
   "cell_type": "markdown",
   "metadata": {},
   "source": [
    "### Видим два нан в ревью, нужно их заменить на пустые отзывы как в основном датасете"
   ]
  },
  {
   "cell_type": "code",
   "execution_count": 10,
   "metadata": {
    "execution": {
     "iopub.execute_input": "2021-07-28T14:43:22.756575Z",
     "iopub.status.busy": "2021-07-28T14:43:22.756207Z",
     "iopub.status.idle": "2021-07-28T14:43:22.779738Z",
     "shell.execute_reply": "2021-07-28T14:43:22.778298Z",
     "shell.execute_reply.started": "2021-07-28T14:43:22.756512Z"
    }
   },
   "outputs": [
    {
     "name": "stdout",
     "output_type": "stream",
     "text": [
      "<class 'pandas.core.frame.DataFrame'>\n",
      "RangeIndex: 10000 entries, 0 to 9999\n",
      "Data columns (total 9 columns):\n",
      " #   Column          Non-Null Count  Dtype  \n",
      "---  ------          --------------  -----  \n",
      " 0   id              10000 non-null  object \n",
      " 1   city            10000 non-null  object \n",
      " 2   style           7693 non-null   object \n",
      " 3   city_rank       10000 non-null  float64\n",
      " 4   price           6525 non-null   object \n",
      " 5   num_of_reviews  9343 non-null   float64\n",
      " 6   reviews         10000 non-null  object \n",
      " 7   url_ta          10000 non-null  object \n",
      " 8   id_ta           10000 non-null  object \n",
      "dtypes: float64(2), object(7)\n",
      "memory usage: 703.2+ KB\n"
     ]
    }
   ],
   "source": [
    "df_test.reviews.fillna('[[], []]', inplace=True)\n",
    "df_test.info()"
   ]
  },
  {
   "cell_type": "code",
   "execution_count": 11,
   "metadata": {
    "execution": {
     "iopub.execute_input": "2021-07-28T14:43:22.781440Z",
     "iopub.status.busy": "2021-07-28T14:43:22.781165Z",
     "iopub.status.idle": "2021-07-28T14:43:22.800618Z",
     "shell.execute_reply": "2021-07-28T14:43:22.799357Z",
     "shell.execute_reply.started": "2021-07-28T14:43:22.781391Z"
    },
    "scrolled": true
   },
   "outputs": [
    {
     "data": {
      "text/html": [
       "<div>\n",
       "<style scoped>\n",
       "    .dataframe tbody tr th:only-of-type {\n",
       "        vertical-align: middle;\n",
       "    }\n",
       "\n",
       "    .dataframe tbody tr th {\n",
       "        vertical-align: top;\n",
       "    }\n",
       "\n",
       "    .dataframe thead th {\n",
       "        text-align: right;\n",
       "    }\n",
       "</style>\n",
       "<table border=\"1\" class=\"dataframe\">\n",
       "  <thead>\n",
       "    <tr style=\"text-align: right;\">\n",
       "      <th></th>\n",
       "      <th>id</th>\n",
       "      <th>city</th>\n",
       "      <th>style</th>\n",
       "      <th>city_rank</th>\n",
       "      <th>price</th>\n",
       "      <th>num_of_reviews</th>\n",
       "      <th>reviews</th>\n",
       "      <th>url_ta</th>\n",
       "      <th>id_ta</th>\n",
       "    </tr>\n",
       "  </thead>\n",
       "  <tbody>\n",
       "    <tr>\n",
       "      <th>0</th>\n",
       "      <td>id_0</td>\n",
       "      <td>Paris</td>\n",
       "      <td>['Bar', 'Pub']</td>\n",
       "      <td>12963.0</td>\n",
       "      <td>$$ - $$$</td>\n",
       "      <td>4.0</td>\n",
       "      <td>[[], []]</td>\n",
       "      <td>/Restaurant_Review-g187147-d10746918-Reviews-L...</td>\n",
       "      <td>d10746918</td>\n",
       "    </tr>\n",
       "    <tr>\n",
       "      <th>1</th>\n",
       "      <td>id_1</td>\n",
       "      <td>Helsinki</td>\n",
       "      <td>['European', 'Scandinavian', 'Gluten Free Opti...</td>\n",
       "      <td>106.0</td>\n",
       "      <td>$$ - $$$</td>\n",
       "      <td>97.0</td>\n",
       "      <td>[['Very good reviews!', 'Fine dining in Hakani...</td>\n",
       "      <td>/Restaurant_Review-g189934-d6674944-Reviews-Ra...</td>\n",
       "      <td>d6674944</td>\n",
       "    </tr>\n",
       "    <tr>\n",
       "      <th>2</th>\n",
       "      <td>id_2</td>\n",
       "      <td>Edinburgh</td>\n",
       "      <td>['Vegetarian Friendly']</td>\n",
       "      <td>810.0</td>\n",
       "      <td>$$ - $$$</td>\n",
       "      <td>28.0</td>\n",
       "      <td>[['Better than the Links', 'Ivy Black'], ['12/...</td>\n",
       "      <td>/Restaurant_Review-g186525-d13129638-Reviews-B...</td>\n",
       "      <td>d13129638</td>\n",
       "    </tr>\n",
       "    <tr>\n",
       "      <th>3</th>\n",
       "      <td>id_3</td>\n",
       "      <td>London</td>\n",
       "      <td>['Italian', 'Mediterranean', 'European', 'Vege...</td>\n",
       "      <td>1669.0</td>\n",
       "      <td>$$$$</td>\n",
       "      <td>202.0</td>\n",
       "      <td>[['Most exquisite', 'Delicious and authentic']...</td>\n",
       "      <td>/Restaurant_Review-g186338-d680417-Reviews-Qui...</td>\n",
       "      <td>d680417</td>\n",
       "    </tr>\n",
       "    <tr>\n",
       "      <th>4</th>\n",
       "      <td>id_4</td>\n",
       "      <td>Bratislava</td>\n",
       "      <td>['Italian', 'Mediterranean', 'European', 'Seaf...</td>\n",
       "      <td>37.0</td>\n",
       "      <td>$$$$</td>\n",
       "      <td>162.0</td>\n",
       "      <td>[['Always the best in bratislava', 'Very good ...</td>\n",
       "      <td>/Restaurant_Review-g274924-d1112354-Reviews-Ma...</td>\n",
       "      <td>d1112354</td>\n",
       "    </tr>\n",
       "  </tbody>\n",
       "</table>\n",
       "</div>"
      ],
      "text/plain": [
       "     id        city                                              style  \\\n",
       "0  id_0       Paris                                     ['Bar', 'Pub']   \n",
       "1  id_1    Helsinki  ['European', 'Scandinavian', 'Gluten Free Opti...   \n",
       "2  id_2   Edinburgh                            ['Vegetarian Friendly']   \n",
       "3  id_3      London  ['Italian', 'Mediterranean', 'European', 'Vege...   \n",
       "4  id_4  Bratislava  ['Italian', 'Mediterranean', 'European', 'Seaf...   \n",
       "\n",
       "   city_rank     price  num_of_reviews  \\\n",
       "0    12963.0  $$ - $$$             4.0   \n",
       "1      106.0  $$ - $$$            97.0   \n",
       "2      810.0  $$ - $$$            28.0   \n",
       "3     1669.0      $$$$           202.0   \n",
       "4       37.0      $$$$           162.0   \n",
       "\n",
       "                                             reviews  \\\n",
       "0                                           [[], []]   \n",
       "1  [['Very good reviews!', 'Fine dining in Hakani...   \n",
       "2  [['Better than the Links', 'Ivy Black'], ['12/...   \n",
       "3  [['Most exquisite', 'Delicious and authentic']...   \n",
       "4  [['Always the best in bratislava', 'Very good ...   \n",
       "\n",
       "                                              url_ta      id_ta  \n",
       "0  /Restaurant_Review-g187147-d10746918-Reviews-L...  d10746918  \n",
       "1  /Restaurant_Review-g189934-d6674944-Reviews-Ra...   d6674944  \n",
       "2  /Restaurant_Review-g186525-d13129638-Reviews-B...  d13129638  \n",
       "3  /Restaurant_Review-g186338-d680417-Reviews-Qui...    d680417  \n",
       "4  /Restaurant_Review-g274924-d1112354-Reviews-Ma...   d1112354  "
      ]
     },
     "execution_count": 11,
     "metadata": {},
     "output_type": "execute_result"
    }
   ],
   "source": [
    "df_test.head(5)"
   ]
  },
  {
   "cell_type": "code",
   "execution_count": 12,
   "metadata": {
    "execution": {
     "iopub.execute_input": "2021-07-28T14:43:22.802704Z",
     "iopub.status.busy": "2021-07-28T14:43:22.802171Z",
     "iopub.status.idle": "2021-07-28T14:43:22.824377Z",
     "shell.execute_reply": "2021-07-28T14:43:22.823630Z",
     "shell.execute_reply.started": "2021-07-28T14:43:22.802630Z"
    },
    "scrolled": true
   },
   "outputs": [
    {
     "data": {
      "text/html": [
       "<div>\n",
       "<style scoped>\n",
       "    .dataframe tbody tr th:only-of-type {\n",
       "        vertical-align: middle;\n",
       "    }\n",
       "\n",
       "    .dataframe tbody tr th {\n",
       "        vertical-align: top;\n",
       "    }\n",
       "\n",
       "    .dataframe thead th {\n",
       "        text-align: right;\n",
       "    }\n",
       "</style>\n",
       "<table border=\"1\" class=\"dataframe\">\n",
       "  <thead>\n",
       "    <tr style=\"text-align: right;\">\n",
       "      <th></th>\n",
       "      <th>Restaurant_id</th>\n",
       "      <th>Rating</th>\n",
       "    </tr>\n",
       "  </thead>\n",
       "  <tbody>\n",
       "    <tr>\n",
       "      <th>0</th>\n",
       "      <td>id_0</td>\n",
       "      <td>2.0</td>\n",
       "    </tr>\n",
       "    <tr>\n",
       "      <th>1</th>\n",
       "      <td>id_1</td>\n",
       "      <td>2.5</td>\n",
       "    </tr>\n",
       "    <tr>\n",
       "      <th>2</th>\n",
       "      <td>id_2</td>\n",
       "      <td>4.0</td>\n",
       "    </tr>\n",
       "    <tr>\n",
       "      <th>3</th>\n",
       "      <td>id_3</td>\n",
       "      <td>1.0</td>\n",
       "    </tr>\n",
       "    <tr>\n",
       "      <th>4</th>\n",
       "      <td>id_4</td>\n",
       "      <td>4.0</td>\n",
       "    </tr>\n",
       "  </tbody>\n",
       "</table>\n",
       "</div>"
      ],
      "text/plain": [
       "  Restaurant_id  Rating\n",
       "0          id_0     2.0\n",
       "1          id_1     2.5\n",
       "2          id_2     4.0\n",
       "3          id_3     1.0\n",
       "4          id_4     4.0"
      ]
     },
     "execution_count": 12,
     "metadata": {},
     "output_type": "execute_result"
    }
   ],
   "source": [
    "sample_submission.head(5)"
   ]
  },
  {
   "cell_type": "code",
   "execution_count": 13,
   "metadata": {
    "execution": {
     "iopub.execute_input": "2021-07-28T14:43:22.825662Z",
     "iopub.status.busy": "2021-07-28T14:43:22.825446Z",
     "iopub.status.idle": "2021-07-28T14:43:22.841630Z",
     "shell.execute_reply": "2021-07-28T14:43:22.840809Z",
     "shell.execute_reply.started": "2021-07-28T14:43:22.825629Z"
    }
   },
   "outputs": [
    {
     "name": "stdout",
     "output_type": "stream",
     "text": [
      "<class 'pandas.core.frame.DataFrame'>\n",
      "RangeIndex: 10000 entries, 0 to 9999\n",
      "Data columns (total 2 columns):\n",
      " #   Column         Non-Null Count  Dtype  \n",
      "---  ------         --------------  -----  \n",
      " 0   Restaurant_id  10000 non-null  object \n",
      " 1   Rating         10000 non-null  float64\n",
      "dtypes: float64(1), object(1)\n",
      "memory usage: 156.4+ KB\n"
     ]
    }
   ],
   "source": [
    "sample_submission.info()"
   ]
  },
  {
   "cell_type": "code",
   "execution_count": 14,
   "metadata": {
    "execution": {
     "iopub.execute_input": "2021-07-28T14:43:22.843274Z",
     "iopub.status.busy": "2021-07-28T14:43:22.842975Z",
     "iopub.status.idle": "2021-07-28T14:43:22.885462Z",
     "shell.execute_reply": "2021-07-28T14:43:22.884622Z",
     "shell.execute_reply.started": "2021-07-28T14:43:22.843222Z"
    }
   },
   "outputs": [],
   "source": [
    "# ВАЖНО! дря корректной обработки признаков объединяем трейн и тест в один датасет\n",
    "df_train['sample'] = 1 # помечаем где у нас трейн\n",
    "df_test['sample'] = 0 # помечаем где у нас тест\n",
    "df_test['rating'] = 0 # в тесте у нас нет значения Rating, мы его должны предсказать, по этому пока просто заполняем нулями\n",
    "\n",
    "df = df_test.append(df_train, sort=False).reset_index(drop=True) # объединяем"
   ]
  },
  {
   "cell_type": "code",
   "execution_count": 15,
   "metadata": {
    "execution": {
     "iopub.execute_input": "2021-07-28T14:43:22.888706Z",
     "iopub.status.busy": "2021-07-28T14:43:22.888180Z",
     "iopub.status.idle": "2021-07-28T14:43:22.896156Z",
     "shell.execute_reply": "2021-07-28T14:43:22.895174Z",
     "shell.execute_reply.started": "2021-07-28T14:43:22.888648Z"
    }
   },
   "outputs": [
    {
     "data": {
      "text/plain": [
       "str"
      ]
     },
     "execution_count": 15,
     "metadata": {},
     "output_type": "execute_result"
    }
   ],
   "source": [
    "type(df.reviews.iloc[5])"
   ]
  },
  {
   "cell_type": "code",
   "execution_count": 16,
   "metadata": {
    "execution": {
     "iopub.execute_input": "2021-07-28T14:43:22.897957Z",
     "iopub.status.busy": "2021-07-28T14:43:22.897560Z",
     "iopub.status.idle": "2021-07-28T14:43:22.952790Z",
     "shell.execute_reply": "2021-07-28T14:43:22.951967Z",
     "shell.execute_reply.started": "2021-07-28T14:43:22.897905Z"
    }
   },
   "outputs": [
    {
     "name": "stdout",
     "output_type": "stream",
     "text": [
      "<class 'pandas.core.frame.DataFrame'>\n",
      "RangeIndex: 50000 entries, 0 to 49999\n",
      "Data columns (total 11 columns):\n",
      " #   Column          Non-Null Count  Dtype  \n",
      "---  ------          --------------  -----  \n",
      " 0   id              50000 non-null  object \n",
      " 1   city            50000 non-null  object \n",
      " 2   style           38410 non-null  object \n",
      " 3   city_rank       50000 non-null  float64\n",
      " 4   price           32639 non-null  object \n",
      " 5   num_of_reviews  46800 non-null  float64\n",
      " 6   reviews         50000 non-null  object \n",
      " 7   url_ta          50000 non-null  object \n",
      " 8   id_ta           50000 non-null  object \n",
      " 9   sample          50000 non-null  int64  \n",
      " 10  rating          50000 non-null  float64\n",
      "dtypes: float64(3), int64(1), object(7)\n",
      "memory usage: 4.2+ MB\n"
     ]
    }
   ],
   "source": [
    "df.info()"
   ]
  },
  {
   "cell_type": "markdown",
   "metadata": {},
   "source": [
    "Подробнее по признакам:\n",
    "* City: Город \n",
    "* Cuisine Style: Кухня\n",
    "* Ranking: Ранг ресторана относительно других ресторанов в этом городе\n",
    "* Price Range: Цены в ресторане в 3 категориях\n",
    "* Number of Reviews: Количество отзывов\n",
    "* Reviews: 2 последних отзыва и даты этих отзывов\n",
    "* URL_TA: страница ресторана на 'www.tripadvisor.com' \n",
    "* ID_TA: ID ресторана в TripAdvisor\n",
    "* Rating: Рейтинг ресторана"
   ]
  },
  {
   "cell_type": "code",
   "execution_count": 17,
   "metadata": {
    "execution": {
     "iopub.execute_input": "2021-07-28T14:43:22.954814Z",
     "iopub.status.busy": "2021-07-28T14:43:22.954444Z",
     "iopub.status.idle": "2021-07-28T14:43:22.976129Z",
     "shell.execute_reply": "2021-07-28T14:43:22.974656Z",
     "shell.execute_reply.started": "2021-07-28T14:43:22.954646Z"
    }
   },
   "outputs": [
    {
     "data": {
      "text/html": [
       "<div>\n",
       "<style scoped>\n",
       "    .dataframe tbody tr th:only-of-type {\n",
       "        vertical-align: middle;\n",
       "    }\n",
       "\n",
       "    .dataframe tbody tr th {\n",
       "        vertical-align: top;\n",
       "    }\n",
       "\n",
       "    .dataframe thead th {\n",
       "        text-align: right;\n",
       "    }\n",
       "</style>\n",
       "<table border=\"1\" class=\"dataframe\">\n",
       "  <thead>\n",
       "    <tr style=\"text-align: right;\">\n",
       "      <th></th>\n",
       "      <th>id</th>\n",
       "      <th>city</th>\n",
       "      <th>style</th>\n",
       "      <th>city_rank</th>\n",
       "      <th>price</th>\n",
       "      <th>num_of_reviews</th>\n",
       "      <th>reviews</th>\n",
       "      <th>url_ta</th>\n",
       "      <th>id_ta</th>\n",
       "      <th>sample</th>\n",
       "      <th>rating</th>\n",
       "    </tr>\n",
       "  </thead>\n",
       "  <tbody>\n",
       "    <tr>\n",
       "      <th>10563</th>\n",
       "      <td>id_1745</td>\n",
       "      <td>Lisbon</td>\n",
       "      <td>['European', 'Contemporary', 'Portuguese']</td>\n",
       "      <td>1747.0</td>\n",
       "      <td>$$ - $$$</td>\n",
       "      <td>11.0</td>\n",
       "      <td>[['My all-time favorite', 'Disapointing...'], ...</td>\n",
       "      <td>/Restaurant_Review-g189158-d13150829-Reviews-T...</td>\n",
       "      <td>d13150829</td>\n",
       "      <td>1</td>\n",
       "      <td>4.0</td>\n",
       "    </tr>\n",
       "    <tr>\n",
       "      <th>45206</th>\n",
       "      <td>id_3818</td>\n",
       "      <td>Madrid</td>\n",
       "      <td>['Peruvian', 'South American']</td>\n",
       "      <td>3820.0</td>\n",
       "      <td>NaN</td>\n",
       "      <td>6.0</td>\n",
       "      <td>[['Happy every time'], ['08/19/2017']]</td>\n",
       "      <td>/Restaurant_Review-g187514-d3812933-Reviews-Sa...</td>\n",
       "      <td>d3812933</td>\n",
       "      <td>1</td>\n",
       "      <td>4.5</td>\n",
       "    </tr>\n",
       "    <tr>\n",
       "      <th>33541</th>\n",
       "      <td>id_4869</td>\n",
       "      <td>Paris</td>\n",
       "      <td>['French', 'Bar', 'Cafe', 'European', 'Pub', '...</td>\n",
       "      <td>4870.0</td>\n",
       "      <td>$</td>\n",
       "      <td>115.0</td>\n",
       "      <td>[['Great veggie burger and great waitstaff.', ...</td>\n",
       "      <td>/Restaurant_Review-g187147-d3614284-Reviews-Fr...</td>\n",
       "      <td>d3614284</td>\n",
       "      <td>1</td>\n",
       "      <td>3.5</td>\n",
       "    </tr>\n",
       "    <tr>\n",
       "      <th>40660</th>\n",
       "      <td>id_4382</td>\n",
       "      <td>Paris</td>\n",
       "      <td>['French']</td>\n",
       "      <td>4383.0</td>\n",
       "      <td>$$ - $$$</td>\n",
       "      <td>44.0</td>\n",
       "      <td>[['Very lucky find', 'My kind of restaurant'],...</td>\n",
       "      <td>/Restaurant_Review-g187147-d7613462-Reviews-Le...</td>\n",
       "      <td>d7613462</td>\n",
       "      <td>1</td>\n",
       "      <td>4.5</td>\n",
       "    </tr>\n",
       "    <tr>\n",
       "      <th>16551</th>\n",
       "      <td>id_6039</td>\n",
       "      <td>Madrid</td>\n",
       "      <td>['International', 'Mediterranean']</td>\n",
       "      <td>6042.0</td>\n",
       "      <td>$$ - $$$</td>\n",
       "      <td>234.0</td>\n",
       "      <td>[['weekend visit to family', 'Nice ambient and...</td>\n",
       "      <td>/Restaurant_Review-g187514-d991415-Reviews-El_...</td>\n",
       "      <td>d991415</td>\n",
       "      <td>1</td>\n",
       "      <td>3.0</td>\n",
       "    </tr>\n",
       "  </tbody>\n",
       "</table>\n",
       "</div>"
      ],
      "text/plain": [
       "            id    city                                              style  \\\n",
       "10563  id_1745  Lisbon         ['European', 'Contemporary', 'Portuguese']   \n",
       "45206  id_3818  Madrid                     ['Peruvian', 'South American']   \n",
       "33541  id_4869   Paris  ['French', 'Bar', 'Cafe', 'European', 'Pub', '...   \n",
       "40660  id_4382   Paris                                         ['French']   \n",
       "16551  id_6039  Madrid                 ['International', 'Mediterranean']   \n",
       "\n",
       "       city_rank     price  num_of_reviews  \\\n",
       "10563     1747.0  $$ - $$$            11.0   \n",
       "45206     3820.0       NaN             6.0   \n",
       "33541     4870.0         $           115.0   \n",
       "40660     4383.0  $$ - $$$            44.0   \n",
       "16551     6042.0  $$ - $$$           234.0   \n",
       "\n",
       "                                                 reviews  \\\n",
       "10563  [['My all-time favorite', 'Disapointing...'], ...   \n",
       "45206             [['Happy every time'], ['08/19/2017']]   \n",
       "33541  [['Great veggie burger and great waitstaff.', ...   \n",
       "40660  [['Very lucky find', 'My kind of restaurant'],...   \n",
       "16551  [['weekend visit to family', 'Nice ambient and...   \n",
       "\n",
       "                                                  url_ta      id_ta  sample  \\\n",
       "10563  /Restaurant_Review-g189158-d13150829-Reviews-T...  d13150829       1   \n",
       "45206  /Restaurant_Review-g187514-d3812933-Reviews-Sa...   d3812933       1   \n",
       "33541  /Restaurant_Review-g187147-d3614284-Reviews-Fr...   d3614284       1   \n",
       "40660  /Restaurant_Review-g187147-d7613462-Reviews-Le...   d7613462       1   \n",
       "16551  /Restaurant_Review-g187514-d991415-Reviews-El_...    d991415       1   \n",
       "\n",
       "       rating  \n",
       "10563     4.0  \n",
       "45206     4.5  \n",
       "33541     3.5  \n",
       "40660     4.5  \n",
       "16551     3.0  "
      ]
     },
     "execution_count": 17,
     "metadata": {},
     "output_type": "execute_result"
    }
   ],
   "source": [
    "df.sample(5)"
   ]
  },
  {
   "cell_type": "code",
   "execution_count": 18,
   "metadata": {
    "execution": {
     "iopub.execute_input": "2021-07-28T14:43:22.978800Z",
     "iopub.status.busy": "2021-07-28T14:43:22.978178Z",
     "iopub.status.idle": "2021-07-28T14:43:22.990208Z",
     "shell.execute_reply": "2021-07-28T14:43:22.988821Z",
     "shell.execute_reply.started": "2021-07-28T14:43:22.978742Z"
    }
   },
   "outputs": [
    {
     "data": {
      "text/plain": [
       "\"[['Very good reviews!', 'Fine dining in Hakaniemi'], ['12/05/2017', '10/29/2017']]\""
      ]
     },
     "execution_count": 18,
     "metadata": {},
     "output_type": "execute_result"
    }
   ],
   "source": [
    "df.reviews[1]"
   ]
  },
  {
   "cell_type": "markdown",
   "metadata": {},
   "source": [
    "Как видим, большинство признаков у нас требует очистки и предварительной обработки."
   ]
  },
  {
   "cell_type": "markdown",
   "metadata": {},
   "source": [
    "# Cleaning and Prepping Data\n",
    "Обычно данные содержат в себе кучу мусора, который необходимо почистить, для того чтобы привести их в приемлемый формат. Чистка данных — это необходимый этап решения почти любой реальной задачи.   \n",
    "![](https://analyticsindiamag.com/wp-content/uploads/2018/01/data-cleaning.png)"
   ]
  },
  {
   "cell_type": "markdown",
   "metadata": {},
   "source": [
    "## 1. Обработка NAN \n",
    "У наличия пропусков могут быть разные причины, но пропуски нужно либо заполнить, либо исключить из набора полностью. Но с пропусками нужно быть внимательным, **даже отсутствие информации может быть важным признаком!**   \n",
    "По этому перед обработкой NAN лучше вынести информацию о наличии пропуска как отдельный признак "
   ]
  },
  {
   "cell_type": "markdown",
   "metadata": {},
   "source": [
    "### 1.1 Обработка нан в количестве отзывов"
   ]
  },
  {
   "cell_type": "code",
   "execution_count": 19,
   "metadata": {
    "execution": {
     "iopub.execute_input": "2021-07-28T14:43:22.992367Z",
     "iopub.status.busy": "2021-07-28T14:43:22.991821Z",
     "iopub.status.idle": "2021-07-28T14:43:22.999547Z",
     "shell.execute_reply": "2021-07-28T14:43:22.998535Z",
     "shell.execute_reply.started": "2021-07-28T14:43:22.992136Z"
    }
   },
   "outputs": [],
   "source": [
    "# Для примера я возьму столбец Number of Reviews\n",
    "df['Number_of_Reviews_isNAN'] = pd.isna(df['num_of_reviews']).astype('uint8')"
   ]
  },
  {
   "cell_type": "code",
   "execution_count": 20,
   "metadata": {
    "execution": {
     "iopub.execute_input": "2021-07-28T14:43:23.001692Z",
     "iopub.status.busy": "2021-07-28T14:43:23.001303Z",
     "iopub.status.idle": "2021-07-28T14:43:23.013504Z",
     "shell.execute_reply": "2021-07-28T14:43:23.012402Z",
     "shell.execute_reply.started": "2021-07-28T14:43:23.001524Z"
    }
   },
   "outputs": [
    {
     "data": {
      "text/plain": [
       "0        0\n",
       "1        0\n",
       "2        0\n",
       "3        0\n",
       "4        0\n",
       "        ..\n",
       "49995    0\n",
       "49996    0\n",
       "49997    0\n",
       "49998    0\n",
       "49999    0\n",
       "Name: Number_of_Reviews_isNAN, Length: 50000, dtype: uint8"
      ]
     },
     "execution_count": 20,
     "metadata": {},
     "output_type": "execute_result"
    }
   ],
   "source": [
    "df['Number_of_Reviews_isNAN']"
   ]
  },
  {
   "cell_type": "code",
   "execution_count": 21,
   "metadata": {
    "execution": {
     "iopub.execute_input": "2021-07-28T14:43:23.015449Z",
     "iopub.status.busy": "2021-07-28T14:43:23.015121Z",
     "iopub.status.idle": "2021-07-28T14:43:24.264850Z",
     "shell.execute_reply": "2021-07-28T14:43:24.263826Z",
     "shell.execute_reply.started": "2021-07-28T14:43:23.015403Z"
    }
   },
   "outputs": [],
   "source": [
    "# Далее заполняем пропуски 0 или 1 в зависимости от данных в колонке с отзывами\n",
    "df['num_of_reviews'] = nan_review_attribution(df, 'num_of_reviews','reviews')"
   ]
  },
  {
   "cell_type": "markdown",
   "metadata": {},
   "source": [
    "### 1.2 Обработка нан в ценовой категории"
   ]
  },
  {
   "cell_type": "code",
   "execution_count": 22,
   "metadata": {
    "execution": {
     "iopub.execute_input": "2021-07-28T14:43:24.266674Z",
     "iopub.status.busy": "2021-07-28T14:43:24.266367Z",
     "iopub.status.idle": "2021-07-28T14:43:24.285254Z",
     "shell.execute_reply": "2021-07-28T14:43:24.284361Z",
     "shell.execute_reply.started": "2021-07-28T14:43:24.266628Z"
    }
   },
   "outputs": [
    {
     "data": {
      "text/plain": [
       "$$ - $$$    23041\n",
       "$            7816\n",
       "$$$$         1782\n",
       "Name: price, dtype: int64"
      ]
     },
     "execution_count": 22,
     "metadata": {},
     "output_type": "execute_result"
    }
   ],
   "source": [
    "df.price.value_counts()"
   ]
  },
  {
   "cell_type": "markdown",
   "metadata": {},
   "source": [
    "С большим отрывом доминирует средняя категория. Ей заполним пропуски."
   ]
  },
  {
   "cell_type": "code",
   "execution_count": 23,
   "metadata": {
    "execution": {
     "iopub.execute_input": "2021-07-28T14:43:24.286907Z",
     "iopub.status.busy": "2021-07-28T14:43:24.286630Z",
     "iopub.status.idle": "2021-07-28T14:43:24.320107Z",
     "shell.execute_reply": "2021-07-28T14:43:24.319099Z",
     "shell.execute_reply.started": "2021-07-28T14:43:24.286863Z"
    }
   },
   "outputs": [
    {
     "data": {
      "text/plain": [
       "$$ - $$$    40402\n",
       "$            7816\n",
       "$$$$         1782\n",
       "Name: price, dtype: int64"
      ]
     },
     "execution_count": 23,
     "metadata": {},
     "output_type": "execute_result"
    }
   ],
   "source": [
    "df.price.fillna('$$ - $$$',inplace=True)\n",
    "df.price.value_counts()"
   ]
  },
  {
   "cell_type": "markdown",
   "metadata": {},
   "source": [
    "## 2. Обработка признаков\n",
    "Для начала посмотрим какие признаки у нас могут быть категориальными."
   ]
  },
  {
   "cell_type": "markdown",
   "metadata": {},
   "source": [
    "### 2.1 Заменим ценовую категорию на числа"
   ]
  },
  {
   "cell_type": "code",
   "execution_count": 24,
   "metadata": {
    "execution": {
     "iopub.execute_input": "2021-07-28T14:43:24.321795Z",
     "iopub.status.busy": "2021-07-28T14:43:24.321447Z",
     "iopub.status.idle": "2021-07-28T14:43:24.336483Z",
     "shell.execute_reply": "2021-07-28T14:43:24.335430Z",
     "shell.execute_reply.started": "2021-07-28T14:43:24.321721Z"
    }
   },
   "outputs": [
    {
     "data": {
      "text/plain": [
       "array(['$$ - $$$', '$$$$', '$'], dtype=object)"
      ]
     },
     "execution_count": 24,
     "metadata": {},
     "output_type": "execute_result"
    }
   ],
   "source": [
    "df.price.unique()"
   ]
  },
  {
   "cell_type": "markdown",
   "metadata": {},
   "source": [
    "Видим три значения, создаем словарь замены и применяем заранее приготовленную функцию по замене категорий"
   ]
  },
  {
   "cell_type": "code",
   "execution_count": 25,
   "metadata": {
    "execution": {
     "iopub.execute_input": "2021-07-28T14:43:24.338396Z",
     "iopub.status.busy": "2021-07-28T14:43:24.338013Z",
     "iopub.status.idle": "2021-07-28T14:43:24.389048Z",
     "shell.execute_reply": "2021-07-28T14:43:24.388241Z",
     "shell.execute_reply.started": "2021-07-28T14:43:24.338337Z"
    }
   },
   "outputs": [
    {
     "data": {
      "text/plain": [
       "0        2\n",
       "1        2\n",
       "2        2\n",
       "3        3\n",
       "4        3\n",
       "        ..\n",
       "49995    2\n",
       "49996    2\n",
       "49997    2\n",
       "49998    2\n",
       "49999    2\n",
       "Name: price, Length: 50000, dtype: int64"
      ]
     },
     "execution_count": 25,
     "metadata": {},
     "output_type": "execute_result"
    }
   ],
   "source": [
    "price_dict = {'$':1, '$$ - $$$':2, '$$$$':3}\n",
    "df.price = df.price.apply(replace_price_tag)\n",
    "df.price"
   ]
  },
  {
   "cell_type": "code",
   "execution_count": 26,
   "metadata": {
    "execution": {
     "iopub.execute_input": "2021-07-28T14:43:24.391170Z",
     "iopub.status.busy": "2021-07-28T14:43:24.390820Z",
     "iopub.status.idle": "2021-07-28T14:43:24.530863Z",
     "shell.execute_reply": "2021-07-28T14:43:24.529812Z",
     "shell.execute_reply.started": "2021-07-28T14:43:24.391112Z"
    }
   },
   "outputs": [
    {
     "data": {
      "text/plain": [
       "id                         13094\n",
       "city                          31\n",
       "style                      10732\n",
       "city_rank                  12975\n",
       "price                          3\n",
       "num_of_reviews              1575\n",
       "reviews                    41857\n",
       "url_ta                     49963\n",
       "id_ta                      49963\n",
       "sample                         2\n",
       "rating                        10\n",
       "Number_of_Reviews_isNAN        2\n",
       "dtype: int64"
      ]
     },
     "execution_count": 26,
     "metadata": {},
     "output_type": "execute_result"
    }
   ],
   "source": [
    "df.nunique(dropna=False)"
   ]
  },
  {
   "cell_type": "markdown",
   "metadata": {},
   "source": [
    "#### 2.2 Работаем со стилями кухни. Разбиваем на массив и создаем колонку с количеством представленных кухонь. NaN заменяем на среднее"
   ]
  },
  {
   "cell_type": "code",
   "execution_count": 27,
   "metadata": {
    "execution": {
     "iopub.execute_input": "2021-07-28T14:43:24.533066Z",
     "iopub.status.busy": "2021-07-28T14:43:24.532395Z",
     "iopub.status.idle": "2021-07-28T14:43:24.759816Z",
     "shell.execute_reply": "2021-07-28T14:43:24.758843Z",
     "shell.execute_reply.started": "2021-07-28T14:43:24.532923Z"
    }
   },
   "outputs": [
    {
     "data": {
      "text/plain": [
       "0        2\n",
       "1        5\n",
       "2        1\n",
       "3        5\n",
       "4        6\n",
       "        ..\n",
       "49995    4\n",
       "49996    5\n",
       "49997    2\n",
       "49998    5\n",
       "49999    1\n",
       "Name: num_of_cuisines, Length: 50000, dtype: int64"
      ]
     },
     "execution_count": 27,
     "metadata": {},
     "output_type": "execute_result"
    }
   ],
   "source": [
    "df['num_of_cuisines'] = df['style'].apply(cuisine_number) \n",
    "df['num_of_cuisines']"
   ]
  },
  {
   "cell_type": "markdown",
   "metadata": {},
   "source": [
    "### 2.3 Обрабатываем даты.\n",
    "Функцию обработки решил взять из бейзлайна,т.к. она логично дополненая определением тональности отзывов, я был уже далеко за дедлайном и времени на написание своей уже не было (хотя простенбкая на определение времени между комментариями была)"
   ]
  },
  {
   "cell_type": "code",
   "execution_count": 28,
   "metadata": {
    "execution": {
     "iopub.execute_input": "2021-07-28T14:43:24.761381Z",
     "iopub.status.busy": "2021-07-28T14:43:24.761144Z",
     "iopub.status.idle": "2021-07-28T14:43:24.794639Z",
     "shell.execute_reply": "2021-07-28T14:43:24.793475Z",
     "shell.execute_reply.started": "2021-07-28T14:43:24.761346Z"
    }
   },
   "outputs": [],
   "source": [
    "def change_reviews(data, df_columns):\n",
    "    \"\"\" Функция принимает на вход ДФ и колонку с отзывами.\n",
    "    Создаёт новые колонки в ДФ:\n",
    "    Review_1 - c текстом первого отзыва;\n",
    "    Review_2 - с текстом второго отзыва;\n",
    "    How_long_ago_1 - сколько дней назад написан первый отзыв;\n",
    "    How_long_ago_2 - сколько дней назад написан второй отзыв;\n",
    "    Day1_2 - разница в днях написания первого и второго отзыва;\n",
    "    Day_of_week_1 - день недели написания первого отзыва;\n",
    "    Day_of_week_2 - день недели написания второго отзыва;\n",
    "    Month_1 - месяц написания первого отзыва;\n",
    "    Month_2 - месяц написания второго отзыва\"\"\"\n",
    "    df_columns.fillna('[[], []]', inplace=True)\n",
    "    data['Two_reviews'] = df_columns.apply(lambda x: x.split('],')[0].split(\"',\"))\n",
    "    # Создаёт две колонки с текстами отзывов\n",
    "    data['Review_1'] = data['Two_reviews'].apply(lambda x: x[0])\n",
    "    data['Review_2'] = data['Two_reviews'].apply(lambda x: x[-1])\n",
    "    data['Review_1'] = data['Review_1'].apply(\n",
    "        lambda x: x.replace('[', '').replace(\"'\", '').replace('\"', ''))\n",
    "    data['Review_2'] = data['Review_2'].apply(\n",
    "        lambda x: x.replace('[', '').replace(\"'\", '').replace('\"', ''))\n",
    "    data.drop('Two_reviews', axis=1, inplace=True)\n",
    "\n",
    "    # Удалим повторы, если отзыв был один и он продублировался в столбец Review_2\n",
    "    data['Review_2'] = data[['Review_2', 'Review_1']].apply(\n",
    "        lambda x: '' if x[0] == x[1] else x[0], axis=1)\n",
    "\n",
    "    # Работа с датами\n",
    "    data['Days_reviews'] = df_columns.apply(\n",
    "        lambda x: x.split('],')[-1].split(\"',\"))\n",
    "    data['Day_1'] = data['Days_reviews'].apply(lambda x: x[0])\n",
    "    data['Day_2'] = data['Days_reviews'].apply(lambda x: x[-1])\n",
    "    data['Day_1'] = data['Day_1'].apply(\n",
    "        lambda x: x.replace('[', '').replace(\"'\", '').replace(']', '').replace(' ', '').replace('\"', ''))\n",
    "    data['Day_2'] = data['Day_2'].apply(\n",
    "        lambda x: x.replace('[', '').replace(\"'\", '').replace(']', '').replace(' ', '').replace('\"', ''))\n",
    "    data.drop('Days_reviews', axis=1, inplace=True)\n",
    "\n",
    "    # Удалим вторую дату (дубликат первой), если отзыв был всего один\n",
    "    data['Day_2'] = data[['Day_2', 'Review_2']].apply(\n",
    "        lambda x: '' if x[1] == '' else x[0], axis=1)\n",
    "\n",
    "    # Переведём данные в формат datetime.strptime для удобства дальнейшей работы\n",
    "    data['Day_1'] = data['Day_1'].apply(lambda x: x if len(\n",
    "        x) == 0 else datetime.strptime(x, '%m/%d/%Y'))\n",
    "    data['Day_2'] = data['Day_2'].apply(lambda x: x if len(\n",
    "        x) == 0 else datetime.strptime(x, '%m/%d/%Y'))\n",
    "\n",
    "    # Cоздаём колонки, показывающие сколько дней назад были написаны отзывы\n",
    "    data['How_long_ago_1'] = (datetime.today() - data['Day_1'])\n",
    "    data['How_long_ago_2'] = datetime.today() - data['Day_2']\n",
    "    data['How_long_ago_1'] = data['How_long_ago_1'].apply(lambda x: x.days)\n",
    "    data['How_long_ago_2'] = data['How_long_ago_2'].apply(lambda x: x.days)\n",
    "    # Если пропущены значения, то заменим на среднее\n",
    "    data['How_long_ago_1'].fillna(\n",
    "        round(data['How_long_ago_1'].mean()), inplace=True)\n",
    "    data['How_long_ago_2'].fillna(\n",
    "        round(data['How_long_ago_2'].mean()), inplace=True)\n",
    "\n",
    "    # Создаём колонку с разницей в датах отзывов\n",
    "    data['Day1_2'] = abs(data['Day_1'] - data['Day_2'])\n",
    "    data['Day_1'] = data['Day_1'].fillna(0)\n",
    "    data['Day_2'] = data['Day_2'].fillna(0)\n",
    "    data['Day1_2'] = data['Day1_2'].apply(lambda x: x.days)\n",
    "    data['Day1_2'] = data['Day1_2'].fillna(0)\n",
    "\n",
    "    # Создаём колонки с днями недели отзывов и месяцы\n",
    "    data['Day_of_week_1'] = data['Day_1'].apply(\n",
    "        lambda x: 0 if x == 0 else x.strftime('%A'))\n",
    "    data['Day_of_week_2'] = data['Day_2'].apply(\n",
    "        lambda x: 0 if x == 0 else x.strftime('%A'))\n",
    "    data['Month_1'] = data['Day_1'].apply(\n",
    "        lambda x: 0 if x == 0 else x.strftime('%m'))\n",
    "    data['Month_2'] = data['Day_2'].apply(\n",
    "        lambda x: 0 if x == 0 else x.strftime('%m'))\n",
    "\n",
    "    # Удаляем больше ненужные колонки\n",
    "    data.drop('Day_1', axis=1, inplace=True)\n",
    "    data.drop('Day_2', axis=1, inplace=True)\n",
    "    data.drop('reviews', axis=1, inplace=True)"
   ]
  },
  {
   "cell_type": "code",
   "execution_count": 29,
   "metadata": {
    "execution": {
     "iopub.execute_input": "2021-07-28T14:43:24.800015Z",
     "iopub.status.busy": "2021-07-28T14:43:24.799548Z",
     "iopub.status.idle": "2021-07-28T14:43:34.438975Z",
     "shell.execute_reply": "2021-07-28T14:43:34.438120Z",
     "shell.execute_reply.started": "2021-07-28T14:43:24.799940Z"
    }
   },
   "outputs": [],
   "source": [
    "change_reviews(df,df[\"reviews\"])"
   ]
  },
  {
   "cell_type": "code",
   "execution_count": 30,
   "metadata": {
    "execution": {
     "iopub.execute_input": "2021-07-28T14:43:34.441214Z",
     "iopub.status.busy": "2021-07-28T14:43:34.440899Z",
     "iopub.status.idle": "2021-07-28T14:44:28.868193Z",
     "shell.execute_reply": "2021-07-28T14:44:28.867088Z",
     "shell.execute_reply.started": "2021-07-28T14:43:34.441156Z"
    }
   },
   "outputs": [],
   "source": [
    "df['Review_1'] = df['Review_1'].apply(lambda x: TextBlob(x).polarity)\n",
    "df['Review_2'] = df['Review_2'].apply(lambda x: TextBlob(x).polarity)"
   ]
  },
  {
   "cell_type": "markdown",
   "metadata": {},
   "source": [
    "### 2.4 добавляем признак \"количество ресторанов в городе\""
   ]
  },
  {
   "cell_type": "code",
   "execution_count": 31,
   "metadata": {
    "execution": {
     "iopub.execute_input": "2021-07-28T14:44:28.870151Z",
     "iopub.status.busy": "2021-07-28T14:44:28.869809Z",
     "iopub.status.idle": "2021-07-28T14:44:28.924827Z",
     "shell.execute_reply": "2021-07-28T14:44:28.924102Z",
     "shell.execute_reply.started": "2021-07-28T14:44:28.870098Z"
    }
   },
   "outputs": [],
   "source": [
    "resto_per_city = df.city.value_counts().to_dict() # словарь \"город: количество ресторанов\"\n",
    "df['num_of_resto'] = df.city.apply(city_resto_num)"
   ]
  },
  {
   "cell_type": "markdown",
   "metadata": {},
   "source": [
    "### 2.5 Нормируем ранг ресторана в городе"
   ]
  },
  {
   "cell_type": "code",
   "execution_count": 32,
   "metadata": {
    "execution": {
     "iopub.execute_input": "2021-07-28T14:44:28.926957Z",
     "iopub.status.busy": "2021-07-28T14:44:28.926429Z",
     "iopub.status.idle": "2021-07-28T14:44:31.708079Z",
     "shell.execute_reply": "2021-07-28T14:44:31.706703Z",
     "shell.execute_reply.started": "2021-07-28T14:44:28.926735Z"
    }
   },
   "outputs": [
    {
     "data": {
      "image/png": "[encoded data removed]",
      "text/plain": [
       "<Figure size 432x288 with 1 Axes>"
      ]
     },
     "metadata": {
      "needs_background": "light"
     },
     "output_type": "display_data"
    }
   ],
   "source": [
    "for x in (df['city'].value_counts())[0:10].index:\n",
    "    df['city_rank'][df['city'] == x].hist(bins=100)\n",
    "plt.show()"
   ]
  },
  {
   "cell_type": "code",
   "execution_count": 33,
   "metadata": {
    "execution": {
     "iopub.execute_input": "2021-07-28T14:44:31.710897Z",
     "iopub.status.busy": "2021-07-28T14:44:31.710244Z",
     "iopub.status.idle": "2021-07-28T14:44:31.718739Z",
     "shell.execute_reply": "2021-07-28T14:44:31.717555Z",
     "shell.execute_reply.started": "2021-07-28T14:44:31.710834Z"
    }
   },
   "outputs": [],
   "source": [
    "df.city_rank = df.city_rank/df.num_of_resto #norm per number of resto in a city"
   ]
  },
  {
   "cell_type": "markdown",
   "metadata": {},
   "source": [
    "#### Получили красиво норммированный ранг от 0 до 3"
   ]
  },
  {
   "cell_type": "code",
   "execution_count": 34,
   "metadata": {
    "execution": {
     "iopub.execute_input": "2021-07-28T14:44:31.720966Z",
     "iopub.status.busy": "2021-07-28T14:44:31.720400Z",
     "iopub.status.idle": "2021-07-28T14:44:34.337601Z",
     "shell.execute_reply": "2021-07-28T14:44:34.336508Z",
     "shell.execute_reply.started": "2021-07-28T14:44:31.720906Z"
    }
   },
   "outputs": [
    {
     "data": {
      "image/png": "[encoded data removed]",
      "text/plain": [
       "<Figure size 432x288 with 1 Axes>"
      ]
     },
     "metadata": {
      "needs_background": "light"
     },
     "output_type": "display_data"
    }
   ],
   "source": [
    "for x in (df['city'].value_counts())[0:10].index:\n",
    "    df['city_rank'][df['city'] == x].hist(bins=100)\n",
    "plt.show()"
   ]
  },
  {
   "cell_type": "markdown",
   "metadata": {},
   "source": [
    "### 2.6 добавим dummy переменную по городам"
   ]
  },
  {
   "cell_type": "code",
   "execution_count": 35,
   "metadata": {
    "execution": {
     "iopub.execute_input": "2021-07-28T14:44:34.340279Z",
     "iopub.status.busy": "2021-07-28T14:44:34.339649Z",
     "iopub.status.idle": "2021-07-28T14:44:34.386549Z",
     "shell.execute_reply": "2021-07-28T14:44:34.385501Z",
     "shell.execute_reply.started": "2021-07-28T14:44:34.340209Z"
    }
   },
   "outputs": [],
   "source": [
    "dummy = pd.get_dummies(df.city)\n",
    "df = pd.concat([df, dummy], axis=1)"
   ]
  },
  {
   "cell_type": "markdown",
   "metadata": {},
   "source": [
    "### 2.7 добавим информацию о городах из внешнего ексель файла (подготовлен вручную). В файле находится информация о населении города ('population') и название и ВВП страны, в которой находится город ('gdp')"
   ]
  },
  {
   "cell_type": "code",
   "execution_count": 36,
   "metadata": {
    "execution": {
     "iopub.execute_input": "2021-07-28T14:44:34.388158Z",
     "iopub.status.busy": "2021-07-28T14:44:34.387853Z",
     "iopub.status.idle": "2021-07-28T14:44:34.702043Z",
     "shell.execute_reply": "2021-07-28T14:44:34.701048Z",
     "shell.execute_reply.started": "2021-07-28T14:44:34.388105Z"
    }
   },
   "outputs": [],
   "source": [
    "cities_df = pd.read_excel('Cities.xls')\n",
    "df = pd.merge(df, cities_df, on='city')"
   ]
  },
  {
   "cell_type": "markdown",
   "metadata": {},
   "source": [
    "#### удаляем все колонки типа object"
   ]
  },
  {
   "cell_type": "code",
   "execution_count": 37,
   "metadata": {
    "execution": {
     "iopub.execute_input": "2021-07-28T14:44:34.703472Z",
     "iopub.status.busy": "2021-07-28T14:44:34.703232Z",
     "iopub.status.idle": "2021-07-28T14:44:34.770335Z",
     "shell.execute_reply": "2021-07-28T14:44:34.769339Z",
     "shell.execute_reply.started": "2021-07-28T14:44:34.703424Z"
    }
   },
   "outputs": [
    {
     "name": "stdout",
     "output_type": "stream",
     "text": [
      "<class 'pandas.core.frame.DataFrame'>\n",
      "Int64Index: 50000 entries, 0 to 49999\n",
      "Data columns (total 46 columns):\n",
      " #   Column                   Non-Null Count  Dtype  \n",
      "---  ------                   --------------  -----  \n",
      " 0   city_rank                50000 non-null  float64\n",
      " 1   price                    50000 non-null  int64  \n",
      " 2   num_of_reviews           50000 non-null  float64\n",
      " 3   sample                   50000 non-null  int64  \n",
      " 4   rating                   50000 non-null  float64\n",
      " 5   Number_of_Reviews_isNAN  50000 non-null  uint8  \n",
      " 6   num_of_cuisines          50000 non-null  int64  \n",
      " 7   Review_1                 50000 non-null  float64\n",
      " 8   Review_2                 50000 non-null  float64\n",
      " 9   How_long_ago_1           50000 non-null  float64\n",
      " 10  How_long_ago_2           50000 non-null  float64\n",
      " 11  Day1_2                   50000 non-null  float64\n",
      " 12  num_of_resto             50000 non-null  int64  \n",
      " 13  Amsterdam                50000 non-null  uint8  \n",
      " 14  Athens                   50000 non-null  uint8  \n",
      " 15  Barcelona                50000 non-null  uint8  \n",
      " 16  Berlin                   50000 non-null  uint8  \n",
      " 17  Bratislava               50000 non-null  uint8  \n",
      " 18  Brussels                 50000 non-null  uint8  \n",
      " 19  Budapest                 50000 non-null  uint8  \n",
      " 20  Copenhagen               50000 non-null  uint8  \n",
      " 21  Dublin                   50000 non-null  uint8  \n",
      " 22  Edinburgh                50000 non-null  uint8  \n",
      " 23  Geneva                   50000 non-null  uint8  \n",
      " 24  Hamburg                  50000 non-null  uint8  \n",
      " 25  Helsinki                 50000 non-null  uint8  \n",
      " 26  Krakow                   50000 non-null  uint8  \n",
      " 27  Lisbon                   50000 non-null  uint8  \n",
      " 28  Ljubljana                50000 non-null  uint8  \n",
      " 29  London                   50000 non-null  uint8  \n",
      " 30  Luxembourg               50000 non-null  uint8  \n",
      " 31  Lyon                     50000 non-null  uint8  \n",
      " 32  Madrid                   50000 non-null  uint8  \n",
      " 33  Milan                    50000 non-null  uint8  \n",
      " 34  Munich                   50000 non-null  uint8  \n",
      " 35  Oporto                   50000 non-null  uint8  \n",
      " 36  Oslo                     50000 non-null  uint8  \n",
      " 37  Paris                    50000 non-null  uint8  \n",
      " 38  Prague                   50000 non-null  uint8  \n",
      " 39  Rome                     50000 non-null  uint8  \n",
      " 40  Stockholm                50000 non-null  uint8  \n",
      " 41  Vienna                   50000 non-null  uint8  \n",
      " 42  Warsaw                   50000 non-null  uint8  \n",
      " 43  Zurich                   50000 non-null  uint8  \n",
      " 44  gdp                      50000 non-null  int64  \n",
      " 45  population               50000 non-null  int64  \n",
      "dtypes: float64(8), int64(6), uint8(32)\n",
      "memory usage: 7.2 MB\n"
     ]
    }
   ],
   "source": [
    "df = df.select_dtypes(exclude='object')\n",
    "df.info()"
   ]
  },
  {
   "cell_type": "markdown",
   "metadata": {},
   "source": [
    "### Посмотрим распределение целевой переменной относительно признака"
   ]
  },
  {
   "cell_type": "code",
   "execution_count": 38,
   "metadata": {
    "execution": {
     "iopub.execute_input": "2021-07-28T14:44:34.771738Z",
     "iopub.status.busy": "2021-07-28T14:44:34.771507Z",
     "iopub.status.idle": "2021-07-28T14:44:35.247331Z",
     "shell.execute_reply": "2021-07-28T14:44:35.246083Z",
     "shell.execute_reply.started": "2021-07-28T14:44:34.771698Z"
    }
   },
   "outputs": [
    {
     "data": {
      "text/plain": [
       "<AxesSubplot:>"
      ]
     },
     "execution_count": 38,
     "metadata": {},
     "output_type": "execute_result"
    },
    {
     "data": {
      "image/png": "[encoded data removed]",
      "text/plain": [
       "<Figure size 432x288 with 1 Axes>"
      ]
     },
     "metadata": {
      "needs_background": "light"
     },
     "output_type": "display_data"
    }
   ],
   "source": [
    "df['city_rank'][df['rating'] == 5].hist(bins=100)\n"
   ]
  },
  {
   "cell_type": "code",
   "execution_count": 39,
   "metadata": {
    "execution": {
     "iopub.execute_input": "2021-07-28T14:44:35.249733Z",
     "iopub.status.busy": "2021-07-28T14:44:35.249348Z",
     "iopub.status.idle": "2021-07-28T14:44:35.662444Z",
     "shell.execute_reply": "2021-07-28T14:44:35.661468Z",
     "shell.execute_reply.started": "2021-07-28T14:44:35.249674Z"
    }
   },
   "outputs": [
    {
     "data": {
      "text/plain": [
       "<AxesSubplot:>"
      ]
     },
     "execution_count": 39,
     "metadata": {},
     "output_type": "execute_result"
    },
    {
     "data": {
      "image/png": "[encoded data removed]",
      "text/plain": [
       "<Figure size 432x288 with 1 Axes>"
      ]
     },
     "metadata": {
      "needs_background": "light"
     },
     "output_type": "display_data"
    }
   ],
   "source": [
    "df['city_rank'][df['rating'] < 4].hist(bins=100)"
   ]
  },
  {
   "cell_type": "markdown",
   "metadata": {},
   "source": [
    "### После нормализации рейтинга видна четкая структура распределения целевой переменной от ранга"
   ]
  },
  {
   "cell_type": "markdown",
   "metadata": {},
   "source": [
    "# Data Preprocessing\n",
    "Теперь, для удобства и воспроизводимости кода, завернем всю обработку в одну большую функцию."
   ]
  },
  {
   "cell_type": "code",
   "execution_count": 40,
   "metadata": {
    "execution": {
     "iopub.execute_input": "2021-07-28T14:59:29.422461Z",
     "iopub.status.busy": "2021-07-28T14:59:29.422090Z",
     "iopub.status.idle": "2021-07-28T14:59:29.735996Z",
     "shell.execute_reply": "2021-07-28T14:59:29.734770Z",
     "shell.execute_reply.started": "2021-07-28T14:59:29.422374Z"
    }
   },
   "outputs": [
    {
     "name": "stdout",
     "output_type": "stream",
     "text": [
      "<class 'pandas.core.frame.DataFrame'>\n",
      "RangeIndex: 50000 entries, 0 to 49999\n",
      "Data columns (total 11 columns):\n",
      " #   Column             Non-Null Count  Dtype  \n",
      "---  ------             --------------  -----  \n",
      " 0   Restaurant_id      50000 non-null  object \n",
      " 1   City               50000 non-null  object \n",
      " 2   Cuisine Style      38410 non-null  object \n",
      " 3   Ranking            50000 non-null  float64\n",
      " 4   Price Range        32639 non-null  object \n",
      " 5   Number of Reviews  46800 non-null  float64\n",
      " 6   Reviews            49998 non-null  object \n",
      " 7   URL_TA             50000 non-null  object \n",
      " 8   ID_TA              50000 non-null  object \n",
      " 9   sample             50000 non-null  int64  \n",
      " 10  Rating             50000 non-null  float64\n",
      "dtypes: float64(3), int64(1), object(7)\n",
      "memory usage: 4.2+ MB\n"
     ]
    }
   ],
   "source": [
    "# на всякий случай, заново подгружаем данные\n",
    "df_train = pd.read_csv('main_task.csv')\n",
    "df_test = pd.read_csv('kaggle_task.csv')\n",
    "df_train['sample'] = 1 # помечаем где у нас трейн\n",
    "df_test['sample'] = 0 # помечаем где у нас тест\n",
    "df_test['Rating'] = 0 # в тесте у нас нет значения Rating, мы его должны предсказать, по этому пока просто заполняем нулями\n",
    "\n",
    "data = df_test.append(df_train, sort=False).reset_index(drop=True) # объединяем\n",
    "data.info()"
   ]
  },
  {
   "cell_type": "markdown",
   "metadata": {},
   "source": [
    "## Продублируем для удобства набор собственных функций обработки"
   ]
  },
  {
   "cell_type": "code",
   "execution_count": 41,
   "metadata": {
    "execution": {
     "iopub.execute_input": "2021-07-28T14:59:40.444677Z",
     "iopub.status.busy": "2021-07-28T14:59:40.444392Z",
     "iopub.status.idle": "2021-07-28T14:59:40.482978Z",
     "shell.execute_reply": "2021-07-28T14:59:40.482053Z",
     "shell.execute_reply.started": "2021-07-28T14:59:40.444633Z"
    }
   },
   "outputs": [],
   "source": [
    "#функция замены текстовой ценовой категории на цифру\n",
    "def replace_price_tag(tag):\n",
    "    return price_dict[tag]\n",
    "\n",
    "#функция заменяет NaN-значения в количестве отзыов на 0 или 1 в зависимости от количества дат последних двух отзывов\n",
    "def nan_review_attribution(df, num_col, reviews_col):    \n",
    "    gen = (i for i in df[num_col].index if np.isnan(df[num_col][i]))\n",
    "    for i in gen:\n",
    "        df.at[i, num_col] = len(re.findall(r\"\\d+\\/\\d+\\/\\d+\", df[reviews_col][i]))\n",
    "    return df[num_col]\n",
    "\n",
    "    \n",
    "#возвращает количество стилей кухни. Если НаН возворащает среднее 3\n",
    "def cuisine_number(string):\n",
    "    if pd.isnull(string):\n",
    "        return 3\n",
    "    else:\n",
    "        return len(re.findall(r\"\\'[\\w+\\s*]+\\'\",str(string)))\n",
    "\n",
    "#функция добавляет колонку с количеством ресторанов в городе\n",
    "def city_resto_num(city):\n",
    "    return resto_per_city[city]\n",
    "\n",
    "\n",
    "def change_reviews(data, df_columns):\n",
    "    \"\"\" Функция принимает на вход ДФ и колонку с отзывами.\n",
    "    Создаёт новые колонки в ДФ:\n",
    "    Review_1 - c текстом первого отзыва;\n",
    "    Review_2 - с текстом второго отзыва;\n",
    "    How_long_ago_1 - сколько дней назад написан первый отзыв;\n",
    "    How_long_ago_2 - сколько дней назад написан второй отзыв;\n",
    "    Day1_2 - разница в днях написания первого и второго отзыва;\n",
    "    Day_of_week_1 - день недели написания первого отзыва;\n",
    "    Day_of_week_2 - день недели написания второго отзыва;\n",
    "    Month_1 - месяц написания первого отзыва;\n",
    "    Month_2 - месяц написания второго отзыва\"\"\"\n",
    "    df_columns.fillna('[[], []]', inplace=True)\n",
    "    data['Two_reviews'] = df_columns.apply(lambda x: x.split('],')[0].split(\"',\"))\n",
    "    # Создаёт две колонки с текстами отзывов\n",
    "    data['Review_1'] = data['Two_reviews'].apply(lambda x: x[0])\n",
    "    data['Review_2'] = data['Two_reviews'].apply(lambda x: x[-1])\n",
    "    data['Review_1'] = data['Review_1'].apply(\n",
    "        lambda x: x.replace('[', '').replace(\"'\", '').replace('\"', ''))\n",
    "    data['Review_2'] = data['Review_2'].apply(\n",
    "        lambda x: x.replace('[', '').replace(\"'\", '').replace('\"', ''))\n",
    "    data.drop('Two_reviews', axis=1, inplace=True)\n",
    "\n",
    "    # Удалим повторы, если отзыв был один и он продублировался в столбец Review_2\n",
    "    data['Review_2'] = data[['Review_2', 'Review_1']].apply(\n",
    "        lambda x: '' if x[0] == x[1] else x[0], axis=1)\n",
    "\n",
    "    # Работа с датами\n",
    "    data['Days_reviews'] = df_columns.apply(\n",
    "        lambda x: x.split('],')[-1].split(\"',\"))\n",
    "    data['Day_1'] = data['Days_reviews'].apply(lambda x: x[0])\n",
    "    data['Day_2'] = data['Days_reviews'].apply(lambda x: x[-1])\n",
    "    data['Day_1'] = data['Day_1'].apply(\n",
    "        lambda x: x.replace('[', '').replace(\"'\", '').replace(']', '').replace(' ', '').replace('\"', ''))\n",
    "    data['Day_2'] = data['Day_2'].apply(\n",
    "        lambda x: x.replace('[', '').replace(\"'\", '').replace(']', '').replace(' ', '').replace('\"', ''))\n",
    "    data.drop('Days_reviews', axis=1, inplace=True)\n",
    "\n",
    "    # Удалим вторую дату (дубликат первой), если отзыв был всего один\n",
    "    data['Day_2'] = data[['Day_2', 'Review_2']].apply(\n",
    "        lambda x: '' if x[1] == '' else x[0], axis=1)\n",
    "\n",
    "    # Переведём данные в формат datetime.strptime для удобства дальнейшей работы\n",
    "    data['Day_1'] = data['Day_1'].apply(lambda x: x if len(\n",
    "        x) == 0 else datetime.strptime(x, '%m/%d/%Y'))\n",
    "    data['Day_2'] = data['Day_2'].apply(lambda x: x if len(\n",
    "        x) == 0 else datetime.strptime(x, '%m/%d/%Y'))\n",
    "\n",
    "    # Cоздаём колонки, показывающие сколько дней назад были написаны отзывы\n",
    "    data['How_long_ago_1'] = (datetime.today() - data['Day_1'])\n",
    "    data['How_long_ago_2'] = datetime.today() - data['Day_2']\n",
    "    data['How_long_ago_1'] = data['How_long_ago_1'].apply(lambda x: x.days)\n",
    "    data['How_long_ago_2'] = data['How_long_ago_2'].apply(lambda x: x.days)\n",
    "    # Если пропущены значения, то заменим на среднее\n",
    "    data['How_long_ago_1'].fillna(\n",
    "        round(data['How_long_ago_1'].mean()), inplace=True)\n",
    "    data['How_long_ago_2'].fillna(\n",
    "        round(data['How_long_ago_2'].mean()), inplace=True)\n",
    "\n",
    "    # Создаём колонку с разницей в датах отзывов\n",
    "    data['Day1_2'] = abs(data['Day_1'] - data['Day_2'])\n",
    "    data['Day_1'] = data['Day_1'].fillna(0)\n",
    "    data['Day_2'] = data['Day_2'].fillna(0)\n",
    "    data['Day1_2'] = data['Day1_2'].apply(lambda x: x.days)\n",
    "    data['Day1_2'] = data['Day1_2'].fillna(0)\n",
    "\n",
    "    # Создаём колонки с днями недели отзывов и месяцы\n",
    "    data['Day_of_week_1'] = data['Day_1'].apply(\n",
    "        lambda x: 0 if x == 0 else x.strftime('%A'))\n",
    "    data['Day_of_week_2'] = data['Day_2'].apply(\n",
    "        lambda x: 0 if x == 0 else x.strftime('%A'))\n",
    "    data['Month_1'] = data['Day_1'].apply(\n",
    "        lambda x: 0 if x == 0 else x.strftime('%m'))\n",
    "    data['Month_2'] = data['Day_2'].apply(\n",
    "        lambda x: 0 if x == 0 else x.strftime('%m'))\n",
    "\n",
    "    # Удаляем больше ненужные колонки\n",
    "    data.drop('Day_1', axis=1, inplace=True)\n",
    "    data.drop('Day_2', axis=1, inplace=True)\n",
    "    data.drop('reviews', axis=1, inplace=True)"
   ]
  },
  {
   "cell_type": "code",
   "execution_count": 42,
   "metadata": {
    "execution": {
     "iopub.execute_input": "2021-07-28T14:59:48.899572Z",
     "iopub.status.busy": "2021-07-28T14:59:48.899193Z",
     "iopub.status.idle": "2021-07-28T14:59:48.916252Z",
     "shell.execute_reply": "2021-07-28T14:59:48.915545Z",
     "shell.execute_reply.started": "2021-07-28T14:59:48.899509Z"
    }
   },
   "outputs": [],
   "source": [
    "def preproc_data(df_input):\n",
    "    '''includes several functions to pre-process the predictor data.'''\n",
    "    \n",
    "    df_output = df_input.copy()\n",
    "    \n",
    "    # ################### 1. Предобработка ############################################################## \n",
    "    # убираем не нужные для модели признаки\n",
    "    df_output.columns = ['id','city','style','city_rank','price','num_of_reviews','reviews','url_ta','id_ta', 'sample', 'Rating']\n",
    "        \n",
    "    \n",
    "    # ################### 2. NAN ############################################################## \n",
    "    # Далее заполняем пропуски, вы можете попробовать заполнением средним или средним по городу и тд...\n",
    "    \n",
    "    \n",
    "    # тут ваш код по обработке NAN\n",
    "    # добавляем колонку если количество отзывов нан\n",
    "    df_output['Number_of_Reviews_isNAN'] = pd.isna(df_output['num_of_reviews']).astype('uint8')\n",
    "    \n",
    "    # заполняем пропуски в количестве отзывов на 0 или 1 в зависимости от данных в колонке с отзывами\n",
    "    df_output.reviews.fillna('[[], []]', inplace=True)\n",
    "    df_output['num_of_reviews'] = nan_review_attribution(df_output, 'num_of_reviews','reviews')\n",
    "    \n",
    "    # С большим отрывом доминирует средняя ценовая категория. Ей заполним пропуски.\n",
    "    df_output.price.fillna('$$ - $$$',inplace=True)\n",
    "       \n",
    "    \n",
    "    \n",
    "    # ################### 3. Encoding ############################################################## \n",
    "    # для One-Hot Encoding в pandas есть готовая функция - get_dummies. Особенно радует параметр dummy_na\n",
    "    dummy = pd.get_dummies(df_output.city)\n",
    "    df_output = pd.concat([df_output, dummy], axis=1)\n",
    "    # тут ваш код не Encoding фитчей\n",
    "    \n",
    "    # создаем словарь замены и применяем заранее приготовленную функцию по замене ценовых категорий\n",
    "    price_dict = {'$':1, '$$ - $$$':2, '$$$$':3}\n",
    "    df_output.price = df_output.price.apply(replace_price_tag)\n",
    "    \n",
    "       \n",
    "    \n",
    "    # ################### 4. Feature Engineering ####################################################\n",
    "    # тут ваш код на генерацию новых фитчей\n",
    "            \n",
    "    #Работаем со стилями кухни. Разбиваем на массив и создаем колонку с количеством представленных кухонь. NaN заменяем на среднее\n",
    "    df_output['num_of_cuisines'] = df_output['style'].apply(cuisine_number) \n",
    "    \n",
    "    #Работаем с датами отзывов\n",
    "    change_reviews(df_output,df_output[\"reviews\"])\n",
    "    \n",
    "    #определяем тональность отзывов\n",
    "    df_output['Review_1'] = df_output['Review_1'].apply(lambda x: TextBlob(x).polarity)\n",
    "    df_output['Review_2'] = df_output['Review_2'].apply(lambda x: TextBlob(x).polarity)\n",
    "    \n",
    "    # добавляем признак \"количество ресторанов в городе\"\n",
    "    resto_per_city = df_output.city.value_counts().to_dict() # словарь \"город: количество ресторанов\"\n",
    "    df_output['num_of_resto'] = df_output.city.apply(city_resto_num)\n",
    "    # Нормируем ранг ресторана в городе\n",
    "    df_output.city_rank = df_output.city_rank/df_output.num_of_resto\n",
    "    \n",
    "    '''добавим информацию о городах из внешнего ексель файла (подготовлен вручную).\n",
    "    В файле находится информация о населении города ('population') и название и ВВП страны, в которой находится город ('gdp')'''\n",
    "    cities_df = pd.read_excel('Cities.xls')\n",
    "    df_output = pd.merge(df_output, cities_df, on='city')\n",
    "\n",
    "    \n",
    "    # ################### 5. Clean #################################################### \n",
    "    # убираем признаки которые еще не успели обработать, \n",
    "    # модель на признаках с dtypes \"object\" обучаться не будет, просто выберим их и удалим\n",
    "    df_output = df_output.select_dtypes(exclude='object')\n",
    "    \n",
    "    return df_output"
   ]
  },
  {
   "cell_type": "markdown",
   "metadata": {},
   "source": [
    ">По хорошему, можно было бы перевести эту большую функцию в класс и разбить на подфункции (согласно ООП). "
   ]
  },
  {
   "cell_type": "markdown",
   "metadata": {},
   "source": [
    "#### Запускаем и проверяем что получилось"
   ]
  },
  {
   "cell_type": "code",
   "execution_count": 43,
   "metadata": {
    "execution": {
     "iopub.execute_input": "2021-07-28T14:59:56.919282Z",
     "iopub.status.busy": "2021-07-28T14:59:56.918776Z",
     "iopub.status.idle": "2021-07-28T15:01:02.558059Z",
     "shell.execute_reply": "2021-07-28T15:01:02.556945Z",
     "shell.execute_reply.started": "2021-07-28T14:59:56.919236Z"
    }
   },
   "outputs": [
    {
     "data": {
      "text/html": [
       "<div>\n",
       "<style scoped>\n",
       "    .dataframe tbody tr th:only-of-type {\n",
       "        vertical-align: middle;\n",
       "    }\n",
       "\n",
       "    .dataframe tbody tr th {\n",
       "        vertical-align: top;\n",
       "    }\n",
       "\n",
       "    .dataframe thead th {\n",
       "        text-align: right;\n",
       "    }\n",
       "</style>\n",
       "<table border=\"1\" class=\"dataframe\">\n",
       "  <thead>\n",
       "    <tr style=\"text-align: right;\">\n",
       "      <th></th>\n",
       "      <th>city_rank</th>\n",
       "      <th>price</th>\n",
       "      <th>num_of_reviews</th>\n",
       "      <th>sample</th>\n",
       "      <th>Rating</th>\n",
       "      <th>Number_of_Reviews_isNAN</th>\n",
       "      <th>Amsterdam</th>\n",
       "      <th>Athens</th>\n",
       "      <th>Barcelona</th>\n",
       "      <th>Berlin</th>\n",
       "      <th>...</th>\n",
       "      <th>Zurich</th>\n",
       "      <th>num_of_cuisines</th>\n",
       "      <th>Review_1</th>\n",
       "      <th>Review_2</th>\n",
       "      <th>How_long_ago_1</th>\n",
       "      <th>How_long_ago_2</th>\n",
       "      <th>Day1_2</th>\n",
       "      <th>num_of_resto</th>\n",
       "      <th>gdp</th>\n",
       "      <th>population</th>\n",
       "    </tr>\n",
       "  </thead>\n",
       "  <tbody>\n",
       "    <tr>\n",
       "      <th>36802</th>\n",
       "      <td>1.610543</td>\n",
       "      <td>2</td>\n",
       "      <td>6.0</td>\n",
       "      <td>1</td>\n",
       "      <td>4.0</td>\n",
       "      <td>0</td>\n",
       "      <td>0</td>\n",
       "      <td>0</td>\n",
       "      <td>0</td>\n",
       "      <td>0</td>\n",
       "      <td>...</td>\n",
       "      <td>0</td>\n",
       "      <td>3</td>\n",
       "      <td>0.000000</td>\n",
       "      <td>0.0000</td>\n",
       "      <td>1546.0</td>\n",
       "      <td>1614.0</td>\n",
       "      <td>0.0</td>\n",
       "      <td>3813</td>\n",
       "      <td>38392</td>\n",
       "      <td>3223</td>\n",
       "    </tr>\n",
       "    <tr>\n",
       "      <th>6096</th>\n",
       "      <td>2.202685</td>\n",
       "      <td>2</td>\n",
       "      <td>11.0</td>\n",
       "      <td>1</td>\n",
       "      <td>2.0</td>\n",
       "      <td>0</td>\n",
       "      <td>0</td>\n",
       "      <td>0</td>\n",
       "      <td>0</td>\n",
       "      <td>0</td>\n",
       "      <td>...</td>\n",
       "      <td>0</td>\n",
       "      <td>3</td>\n",
       "      <td>-0.187500</td>\n",
       "      <td>0.0000</td>\n",
       "      <td>1381.0</td>\n",
       "      <td>1842.0</td>\n",
       "      <td>461.0</td>\n",
       "      <td>6108</td>\n",
       "      <td>46062</td>\n",
       "      <td>2161</td>\n",
       "    </tr>\n",
       "    <tr>\n",
       "      <th>41145</th>\n",
       "      <td>1.400739</td>\n",
       "      <td>1</td>\n",
       "      <td>16.0</td>\n",
       "      <td>0</td>\n",
       "      <td>0.0</td>\n",
       "      <td>0</td>\n",
       "      <td>0</td>\n",
       "      <td>0</td>\n",
       "      <td>0</td>\n",
       "      <td>1</td>\n",
       "      <td>...</td>\n",
       "      <td>0</td>\n",
       "      <td>2</td>\n",
       "      <td>0.300000</td>\n",
       "      <td>0.0000</td>\n",
       "      <td>1647.0</td>\n",
       "      <td>1429.0</td>\n",
       "      <td>218.0</td>\n",
       "      <td>2705</td>\n",
       "      <td>54076</td>\n",
       "      <td>3645</td>\n",
       "    </tr>\n",
       "    <tr>\n",
       "      <th>13217</th>\n",
       "      <td>0.994161</td>\n",
       "      <td>2</td>\n",
       "      <td>60.0</td>\n",
       "      <td>1</td>\n",
       "      <td>4.0</td>\n",
       "      <td>0</td>\n",
       "      <td>0</td>\n",
       "      <td>0</td>\n",
       "      <td>0</td>\n",
       "      <td>0</td>\n",
       "      <td>...</td>\n",
       "      <td>0</td>\n",
       "      <td>3</td>\n",
       "      <td>0.341667</td>\n",
       "      <td>0.8000</td>\n",
       "      <td>1441.0</td>\n",
       "      <td>1452.0</td>\n",
       "      <td>11.0</td>\n",
       "      <td>7193</td>\n",
       "      <td>44117</td>\n",
       "      <td>8982</td>\n",
       "    </tr>\n",
       "    <tr>\n",
       "      <th>13208</th>\n",
       "      <td>0.612818</td>\n",
       "      <td>2</td>\n",
       "      <td>203.0</td>\n",
       "      <td>1</td>\n",
       "      <td>3.5</td>\n",
       "      <td>0</td>\n",
       "      <td>0</td>\n",
       "      <td>0</td>\n",
       "      <td>0</td>\n",
       "      <td>0</td>\n",
       "      <td>...</td>\n",
       "      <td>0</td>\n",
       "      <td>6</td>\n",
       "      <td>0.500000</td>\n",
       "      <td>0.5000</td>\n",
       "      <td>1349.0</td>\n",
       "      <td>1361.0</td>\n",
       "      <td>12.0</td>\n",
       "      <td>7193</td>\n",
       "      <td>44117</td>\n",
       "      <td>8982</td>\n",
       "    </tr>\n",
       "    <tr>\n",
       "      <th>47299</th>\n",
       "      <td>1.633574</td>\n",
       "      <td>2</td>\n",
       "      <td>3.0</td>\n",
       "      <td>1</td>\n",
       "      <td>4.5</td>\n",
       "      <td>0</td>\n",
       "      <td>0</td>\n",
       "      <td>0</td>\n",
       "      <td>0</td>\n",
       "      <td>0</td>\n",
       "      <td>...</td>\n",
       "      <td>0</td>\n",
       "      <td>2</td>\n",
       "      <td>0.800000</td>\n",
       "      <td>0.5725</td>\n",
       "      <td>2030.0</td>\n",
       "      <td>2096.0</td>\n",
       "      <td>66.0</td>\n",
       "      <td>554</td>\n",
       "      <td>34103</td>\n",
       "      <td>767</td>\n",
       "    </tr>\n",
       "    <tr>\n",
       "      <th>12936</th>\n",
       "      <td>0.999166</td>\n",
       "      <td>1</td>\n",
       "      <td>19.0</td>\n",
       "      <td>1</td>\n",
       "      <td>4.5</td>\n",
       "      <td>0</td>\n",
       "      <td>0</td>\n",
       "      <td>0</td>\n",
       "      <td>0</td>\n",
       "      <td>0</td>\n",
       "      <td>...</td>\n",
       "      <td>0</td>\n",
       "      <td>4</td>\n",
       "      <td>0.156250</td>\n",
       "      <td>0.7000</td>\n",
       "      <td>1302.0</td>\n",
       "      <td>1352.0</td>\n",
       "      <td>50.0</td>\n",
       "      <td>7193</td>\n",
       "      <td>44117</td>\n",
       "      <td>8982</td>\n",
       "    </tr>\n",
       "    <tr>\n",
       "      <th>717</th>\n",
       "      <td>0.269646</td>\n",
       "      <td>2</td>\n",
       "      <td>178.0</td>\n",
       "      <td>0</td>\n",
       "      <td>0.0</td>\n",
       "      <td>0</td>\n",
       "      <td>0</td>\n",
       "      <td>0</td>\n",
       "      <td>0</td>\n",
       "      <td>0</td>\n",
       "      <td>...</td>\n",
       "      <td>0</td>\n",
       "      <td>2</td>\n",
       "      <td>1.000000</td>\n",
       "      <td>0.0000</td>\n",
       "      <td>1387.0</td>\n",
       "      <td>1532.0</td>\n",
       "      <td>145.0</td>\n",
       "      <td>6108</td>\n",
       "      <td>46062</td>\n",
       "      <td>2161</td>\n",
       "    </tr>\n",
       "    <tr>\n",
       "      <th>49833</th>\n",
       "      <td>1.617117</td>\n",
       "      <td>2</td>\n",
       "      <td>3.0</td>\n",
       "      <td>1</td>\n",
       "      <td>4.0</td>\n",
       "      <td>0</td>\n",
       "      <td>0</td>\n",
       "      <td>0</td>\n",
       "      <td>0</td>\n",
       "      <td>0</td>\n",
       "      <td>...</td>\n",
       "      <td>0</td>\n",
       "      <td>4</td>\n",
       "      <td>0.250000</td>\n",
       "      <td>0.0000</td>\n",
       "      <td>1503.0</td>\n",
       "      <td>1614.0</td>\n",
       "      <td>0.0</td>\n",
       "      <td>222</td>\n",
       "      <td>38807</td>\n",
       "      <td>280</td>\n",
       "    </tr>\n",
       "    <tr>\n",
       "      <th>29361</th>\n",
       "      <td>0.458073</td>\n",
       "      <td>2</td>\n",
       "      <td>17.0</td>\n",
       "      <td>1</td>\n",
       "      <td>4.5</td>\n",
       "      <td>0</td>\n",
       "      <td>0</td>\n",
       "      <td>0</td>\n",
       "      <td>0</td>\n",
       "      <td>0</td>\n",
       "      <td>...</td>\n",
       "      <td>0</td>\n",
       "      <td>5</td>\n",
       "      <td>0.000000</td>\n",
       "      <td>0.0000</td>\n",
       "      <td>1546.0</td>\n",
       "      <td>1614.0</td>\n",
       "      <td>0.0</td>\n",
       "      <td>1443</td>\n",
       "      <td>55218</td>\n",
       "      <td>1897</td>\n",
       "    </tr>\n",
       "  </tbody>\n",
       "</table>\n",
       "<p>10 rows × 46 columns</p>\n",
       "</div>"
      ],
      "text/plain": [
       "       city_rank  price  num_of_reviews  sample  Rating  \\\n",
       "36802   1.610543      2             6.0       1     4.0   \n",
       "6096    2.202685      2            11.0       1     2.0   \n",
       "41145   1.400739      1            16.0       0     0.0   \n",
       "13217   0.994161      2            60.0       1     4.0   \n",
       "13208   0.612818      2           203.0       1     3.5   \n",
       "47299   1.633574      2             3.0       1     4.5   \n",
       "12936   0.999166      1            19.0       1     4.5   \n",
       "717     0.269646      2           178.0       0     0.0   \n",
       "49833   1.617117      2             3.0       1     4.0   \n",
       "29361   0.458073      2            17.0       1     4.5   \n",
       "\n",
       "       Number_of_Reviews_isNAN  Amsterdam  Athens  Barcelona  Berlin  ...  \\\n",
       "36802                        0          0       0          0       0  ...   \n",
       "6096                         0          0       0          0       0  ...   \n",
       "41145                        0          0       0          0       1  ...   \n",
       "13217                        0          0       0          0       0  ...   \n",
       "13208                        0          0       0          0       0  ...   \n",
       "47299                        0          0       0          0       0  ...   \n",
       "12936                        0          0       0          0       0  ...   \n",
       "717                          0          0       0          0       0  ...   \n",
       "49833                        0          0       0          0       0  ...   \n",
       "29361                        0          0       0          0       0  ...   \n",
       "\n",
       "       Zurich  num_of_cuisines  Review_1  Review_2  How_long_ago_1  \\\n",
       "36802       0                3  0.000000    0.0000          1546.0   \n",
       "6096        0                3 -0.187500    0.0000          1381.0   \n",
       "41145       0                2  0.300000    0.0000          1647.0   \n",
       "13217       0                3  0.341667    0.8000          1441.0   \n",
       "13208       0                6  0.500000    0.5000          1349.0   \n",
       "47299       0                2  0.800000    0.5725          2030.0   \n",
       "12936       0                4  0.156250    0.7000          1302.0   \n",
       "717         0                2  1.000000    0.0000          1387.0   \n",
       "49833       0                4  0.250000    0.0000          1503.0   \n",
       "29361       0                5  0.000000    0.0000          1546.0   \n",
       "\n",
       "       How_long_ago_2  Day1_2  num_of_resto    gdp  population  \n",
       "36802          1614.0     0.0          3813  38392        3223  \n",
       "6096           1842.0   461.0          6108  46062        2161  \n",
       "41145          1429.0   218.0          2705  54076        3645  \n",
       "13217          1452.0    11.0          7193  44117        8982  \n",
       "13208          1361.0    12.0          7193  44117        8982  \n",
       "47299          2096.0    66.0           554  34103         767  \n",
       "12936          1352.0    50.0          7193  44117        8982  \n",
       "717            1532.0   145.0          6108  46062        2161  \n",
       "49833          1614.0     0.0           222  38807         280  \n",
       "29361          1614.0     0.0          1443  55218        1897  \n",
       "\n",
       "[10 rows x 46 columns]"
      ]
     },
     "execution_count": 43,
     "metadata": {},
     "output_type": "execute_result"
    }
   ],
   "source": [
    "df_preproc = preproc_data(data)\n",
    "df_preproc.sample(10)"
   ]
  },
  {
   "cell_type": "code",
   "execution_count": 44,
   "metadata": {
    "execution": {
     "iopub.execute_input": "2021-07-28T15:01:11.351672Z",
     "iopub.status.busy": "2021-07-28T15:01:11.351359Z",
     "iopub.status.idle": "2021-07-28T15:01:11.372334Z",
     "shell.execute_reply": "2021-07-28T15:01:11.371209Z",
     "shell.execute_reply.started": "2021-07-28T15:01:11.351625Z"
    }
   },
   "outputs": [
    {
     "name": "stdout",
     "output_type": "stream",
     "text": [
      "<class 'pandas.core.frame.DataFrame'>\n",
      "Int64Index: 50000 entries, 0 to 49999\n",
      "Data columns (total 46 columns):\n",
      " #   Column                   Non-Null Count  Dtype  \n",
      "---  ------                   --------------  -----  \n",
      " 0   city_rank                50000 non-null  float64\n",
      " 1   price                    50000 non-null  int64  \n",
      " 2   num_of_reviews           50000 non-null  float64\n",
      " 3   sample                   50000 non-null  int64  \n",
      " 4   Rating                   50000 non-null  float64\n",
      " 5   Number_of_Reviews_isNAN  50000 non-null  uint8  \n",
      " 6   Amsterdam                50000 non-null  uint8  \n",
      " 7   Athens                   50000 non-null  uint8  \n",
      " 8   Barcelona                50000 non-null  uint8  \n",
      " 9   Berlin                   50000 non-null  uint8  \n",
      " 10  Bratislava               50000 non-null  uint8  \n",
      " 11  Brussels                 50000 non-null  uint8  \n",
      " 12  Budapest                 50000 non-null  uint8  \n",
      " 13  Copenhagen               50000 non-null  uint8  \n",
      " 14  Dublin                   50000 non-null  uint8  \n",
      " 15  Edinburgh                50000 non-null  uint8  \n",
      " 16  Geneva                   50000 non-null  uint8  \n",
      " 17  Hamburg                  50000 non-null  uint8  \n",
      " 18  Helsinki                 50000 non-null  uint8  \n",
      " 19  Krakow                   50000 non-null  uint8  \n",
      " 20  Lisbon                   50000 non-null  uint8  \n",
      " 21  Ljubljana                50000 non-null  uint8  \n",
      " 22  London                   50000 non-null  uint8  \n",
      " 23  Luxembourg               50000 non-null  uint8  \n",
      " 24  Lyon                     50000 non-null  uint8  \n",
      " 25  Madrid                   50000 non-null  uint8  \n",
      " 26  Milan                    50000 non-null  uint8  \n",
      " 27  Munich                   50000 non-null  uint8  \n",
      " 28  Oporto                   50000 non-null  uint8  \n",
      " 29  Oslo                     50000 non-null  uint8  \n",
      " 30  Paris                    50000 non-null  uint8  \n",
      " 31  Prague                   50000 non-null  uint8  \n",
      " 32  Rome                     50000 non-null  uint8  \n",
      " 33  Stockholm                50000 non-null  uint8  \n",
      " 34  Vienna                   50000 non-null  uint8  \n",
      " 35  Warsaw                   50000 non-null  uint8  \n",
      " 36  Zurich                   50000 non-null  uint8  \n",
      " 37  num_of_cuisines          50000 non-null  int64  \n",
      " 38  Review_1                 50000 non-null  float64\n",
      " 39  Review_2                 50000 non-null  float64\n",
      " 40  How_long_ago_1           50000 non-null  float64\n",
      " 41  How_long_ago_2           50000 non-null  float64\n",
      " 42  Day1_2                   50000 non-null  float64\n",
      " 43  num_of_resto             50000 non-null  int64  \n",
      " 44  gdp                      50000 non-null  int64  \n",
      " 45  population               50000 non-null  int64  \n",
      "dtypes: float64(8), int64(6), uint8(32)\n",
      "memory usage: 7.2 MB\n"
     ]
    }
   ],
   "source": [
    "df_preproc.info()"
   ]
  },
  {
   "cell_type": "code",
   "execution_count": 45,
   "metadata": {
    "execution": {
     "iopub.execute_input": "2021-07-28T15:01:14.670667Z",
     "iopub.status.busy": "2021-07-28T15:01:14.670324Z",
     "iopub.status.idle": "2021-07-28T15:01:14.700131Z",
     "shell.execute_reply": "2021-07-28T15:01:14.698929Z",
     "shell.execute_reply.started": "2021-07-28T15:01:14.670610Z"
    }
   },
   "outputs": [],
   "source": [
    "# Теперь выделим тестовую часть\n",
    "\n",
    "train_data = df_preproc.query('sample == 1').drop(['sample'], axis=1)\n",
    "test_data = df_preproc.query('sample == 0').drop(['sample'], axis=1)\n",
    "\n",
    "\n",
    "y = train_data.Rating.values            # наш таргет\n",
    "X = train_data.drop(['Rating'], axis=1)"
   ]
  },
  {
   "cell_type": "markdown",
   "metadata": {},
   "source": [
    "**Перед тем как отправлять наши данные на обучение, разделим данные на еще один тест и трейн, для валидации. \n",
    "Это поможет нам проверить, как хорошо наша модель работает, до отправки submissiona на kaggle.**"
   ]
  },
  {
   "cell_type": "code",
   "execution_count": 46,
   "metadata": {
    "execution": {
     "iopub.execute_input": "2021-07-28T15:01:18.222300Z",
     "iopub.status.busy": "2021-07-28T15:01:18.221968Z",
     "iopub.status.idle": "2021-07-28T15:01:18.241607Z",
     "shell.execute_reply": "2021-07-28T15:01:18.240119Z",
     "shell.execute_reply.started": "2021-07-28T15:01:18.222254Z"
    }
   },
   "outputs": [],
   "source": [
    "# Воспользуемся специальной функцие train_test_split для разбивки тестовых данных\n",
    "# выделим 20% данных на валидацию (параметр test_size)\n",
    "X_train, X_test, y_train, y_test = train_test_split(X, y, test_size=0.2, random_state=RANDOM_SEED)"
   ]
  },
  {
   "cell_type": "code",
   "execution_count": 47,
   "metadata": {
    "execution": {
     "iopub.execute_input": "2021-07-28T15:01:19.267596Z",
     "iopub.status.busy": "2021-07-28T15:01:19.267241Z",
     "iopub.status.idle": "2021-07-28T15:01:19.275012Z",
     "shell.execute_reply": "2021-07-28T15:01:19.274077Z",
     "shell.execute_reply.started": "2021-07-28T15:01:19.267535Z"
    }
   },
   "outputs": [
    {
     "data": {
      "text/plain": [
       "((10000, 45), (40000, 45), (40000, 44), (32000, 44), (8000, 44))"
      ]
     },
     "execution_count": 47,
     "metadata": {},
     "output_type": "execute_result"
    }
   ],
   "source": [
    "# проверяем\n",
    "test_data.shape, train_data.shape, X.shape, X_train.shape, X_test.shape"
   ]
  },
  {
   "cell_type": "markdown",
   "metadata": {},
   "source": [
    "# Model \n",
    "Сам ML"
   ]
  },
  {
   "cell_type": "code",
   "execution_count": 48,
   "metadata": {
    "execution": {
     "iopub.execute_input": "2021-07-28T15:01:22.028348Z",
     "iopub.status.busy": "2021-07-28T15:01:22.028046Z",
     "iopub.status.idle": "2021-07-28T15:01:22.033487Z",
     "shell.execute_reply": "2021-07-28T15:01:22.032666Z",
     "shell.execute_reply.started": "2021-07-28T15:01:22.028311Z"
    }
   },
   "outputs": [],
   "source": [
    "# Импортируем необходимые библиотеки:\n",
    "from sklearn.ensemble import RandomForestRegressor # инструмент для создания и обучения модели\n",
    "from sklearn import metrics # инструменты для оценки точности модели"
   ]
  },
  {
   "cell_type": "code",
   "execution_count": 49,
   "metadata": {
    "execution": {
     "iopub.execute_input": "2021-07-28T15:01:22.927777Z",
     "iopub.status.busy": "2021-07-28T15:01:22.927173Z",
     "iopub.status.idle": "2021-07-28T15:01:22.938309Z",
     "shell.execute_reply": "2021-07-28T15:01:22.937307Z",
     "shell.execute_reply.started": "2021-07-28T15:01:22.927729Z"
    }
   },
   "outputs": [],
   "source": [
    "# Создаём модель (НАСТРОЙКИ НЕ ТРОГАЕМ)\n",
    "model = RandomForestRegressor(n_estimators=100, verbose=1, n_jobs=-1, random_state=RANDOM_SEED)"
   ]
  },
  {
   "cell_type": "code",
   "execution_count": 50,
   "metadata": {
    "execution": {
     "iopub.execute_input": "2021-07-28T15:01:26.225601Z",
     "iopub.status.busy": "2021-07-28T15:01:26.225270Z",
     "iopub.status.idle": "2021-07-28T15:01:36.853801Z",
     "shell.execute_reply": "2021-07-28T15:01:36.852721Z",
     "shell.execute_reply.started": "2021-07-28T15:01:26.225552Z"
    }
   },
   "outputs": [
    {
     "name": "stderr",
     "output_type": "stream",
     "text": [
      "[Parallel(n_jobs=-1)]: Using backend ThreadingBackend with 4 concurrent workers.\n",
      "[Parallel(n_jobs=-1)]: Done  42 tasks      | elapsed:    3.3s\n",
      "[Parallel(n_jobs=-1)]: Done 100 out of 100 | elapsed:    7.3s finished\n",
      "[Parallel(n_jobs=4)]: Using backend ThreadingBackend with 4 concurrent workers.\n",
      "[Parallel(n_jobs=4)]: Done  42 tasks      | elapsed:    0.0s\n",
      "[Parallel(n_jobs=4)]: Done 100 out of 100 | elapsed:    0.0s finished\n"
     ]
    }
   ],
   "source": [
    "# Обучаем модель на тестовом наборе данных\n",
    "model.fit(X_train, y_train)\n",
    "\n",
    "# Используем обученную модель для предсказания рейтинга ресторанов в тестовой выборке.\n",
    "# Предсказанные значения записываем в переменную y_pred\n",
    "y_pred = model.predict(X_test)"
   ]
  },
  {
   "cell_type": "code",
   "execution_count": 51,
   "metadata": {
    "execution": {
     "iopub.execute_input": "2021-07-28T15:01:38.837237Z",
     "iopub.status.busy": "2021-07-28T15:01:38.836716Z",
     "iopub.status.idle": "2021-07-28T15:01:38.843662Z",
     "shell.execute_reply": "2021-07-28T15:01:38.842536Z",
     "shell.execute_reply.started": "2021-07-28T15:01:38.837146Z"
    }
   },
   "outputs": [
    {
     "name": "stdout",
     "output_type": "stream",
     "text": [
      "MAE: 0.20184312499999998\n"
     ]
    }
   ],
   "source": [
    "# Сравниваем предсказанные значения (y_pred) с реальными (y_test), и смотрим насколько они в среднем отличаются\n",
    "# Метрика называется Mean Absolute Error (MAE) и показывает среднее отклонение предсказанных значений от фактических.\n",
    "print('MAE:', metrics.mean_absolute_error(y_test, y_pred))"
   ]
  },
  {
   "cell_type": "code",
   "execution_count": 52,
   "metadata": {
    "execution": {
     "iopub.execute_input": "2021-07-28T15:01:41.008731Z",
     "iopub.status.busy": "2021-07-28T15:01:41.008405Z",
     "iopub.status.idle": "2021-07-28T15:01:41.519479Z",
     "shell.execute_reply": "2021-07-28T15:01:41.518415Z",
     "shell.execute_reply.started": "2021-07-28T15:01:41.008683Z"
    }
   },
   "outputs": [
    {
     "data": {
      "text/plain": [
       "<AxesSubplot:>"
      ]
     },
     "execution_count": 52,
     "metadata": {},
     "output_type": "execute_result"
    },
    {
     "data": {
      "image/png": "[encoded data removed]",
      "text/plain": [
       "<Figure size 720x720 with 1 Axes>"
      ]
     },
     "metadata": {
      "needs_background": "light"
     },
     "output_type": "display_data"
    }
   ],
   "source": [
    "# в RandomForestRegressor есть возможность вывести самые важные признаки для модели\n",
    "plt.rcParams['figure.figsize'] = (10,10)\n",
    "feat_importances = pd.Series(model.feature_importances_, index=X.columns)\n",
    "feat_importances.nlargest(20).plot(kind='barh')"
   ]
  },
  {
   "cell_type": "markdown",
   "metadata": {},
   "source": [
    "# Submission\n",
    "Если все устраевает - готовим Submission на кагл"
   ]
  },
  {
   "cell_type": "code",
   "execution_count": 53,
   "metadata": {
    "execution": {
     "iopub.execute_input": "2021-07-28T15:01:45.378224Z",
     "iopub.status.busy": "2021-07-28T15:01:45.377744Z",
     "iopub.status.idle": "2021-07-28T15:01:45.412675Z",
     "shell.execute_reply": "2021-07-28T15:01:45.411543Z",
     "shell.execute_reply.started": "2021-07-28T15:01:45.378180Z"
    }
   },
   "outputs": [
    {
     "data": {
      "text/html": [
       "<div>\n",
       "<style scoped>\n",
       "    .dataframe tbody tr th:only-of-type {\n",
       "        vertical-align: middle;\n",
       "    }\n",
       "\n",
       "    .dataframe tbody tr th {\n",
       "        vertical-align: top;\n",
       "    }\n",
       "\n",
       "    .dataframe thead th {\n",
       "        text-align: right;\n",
       "    }\n",
       "</style>\n",
       "<table border=\"1\" class=\"dataframe\">\n",
       "  <thead>\n",
       "    <tr style=\"text-align: right;\">\n",
       "      <th></th>\n",
       "      <th>city_rank</th>\n",
       "      <th>price</th>\n",
       "      <th>num_of_reviews</th>\n",
       "      <th>Rating</th>\n",
       "      <th>Number_of_Reviews_isNAN</th>\n",
       "      <th>Amsterdam</th>\n",
       "      <th>Athens</th>\n",
       "      <th>Barcelona</th>\n",
       "      <th>Berlin</th>\n",
       "      <th>Bratislava</th>\n",
       "      <th>...</th>\n",
       "      <th>Zurich</th>\n",
       "      <th>num_of_cuisines</th>\n",
       "      <th>Review_1</th>\n",
       "      <th>Review_2</th>\n",
       "      <th>How_long_ago_1</th>\n",
       "      <th>How_long_ago_2</th>\n",
       "      <th>Day1_2</th>\n",
       "      <th>num_of_resto</th>\n",
       "      <th>gdp</th>\n",
       "      <th>population</th>\n",
       "    </tr>\n",
       "  </thead>\n",
       "  <tbody>\n",
       "    <tr>\n",
       "      <th>21350</th>\n",
       "      <td>1.149220</td>\n",
       "      <td>2</td>\n",
       "      <td>2.0</td>\n",
       "      <td>0.0</td>\n",
       "      <td>0</td>\n",
       "      <td>0</td>\n",
       "      <td>0</td>\n",
       "      <td>0</td>\n",
       "      <td>0</td>\n",
       "      <td>0</td>\n",
       "      <td>...</td>\n",
       "      <td>0</td>\n",
       "      <td>3</td>\n",
       "      <td>0.0000</td>\n",
       "      <td>0.000000</td>\n",
       "      <td>1546.0</td>\n",
       "      <td>1614.0</td>\n",
       "      <td>0.0</td>\n",
       "      <td>2694</td>\n",
       "      <td>40861</td>\n",
       "      <td>1352</td>\n",
       "    </tr>\n",
       "    <tr>\n",
       "      <th>235</th>\n",
       "      <td>0.110347</td>\n",
       "      <td>2</td>\n",
       "      <td>135.0</td>\n",
       "      <td>0.0</td>\n",
       "      <td>0</td>\n",
       "      <td>0</td>\n",
       "      <td>0</td>\n",
       "      <td>0</td>\n",
       "      <td>0</td>\n",
       "      <td>0</td>\n",
       "      <td>...</td>\n",
       "      <td>0</td>\n",
       "      <td>5</td>\n",
       "      <td>0.3875</td>\n",
       "      <td>0.250000</td>\n",
       "      <td>1298.0</td>\n",
       "      <td>1309.0</td>\n",
       "      <td>11.0</td>\n",
       "      <td>6108</td>\n",
       "      <td>46062</td>\n",
       "      <td>2161</td>\n",
       "    </tr>\n",
       "    <tr>\n",
       "      <th>26281</th>\n",
       "      <td>1.249449</td>\n",
       "      <td>3</td>\n",
       "      <td>3.0</td>\n",
       "      <td>0.0</td>\n",
       "      <td>0</td>\n",
       "      <td>0</td>\n",
       "      <td>0</td>\n",
       "      <td>0</td>\n",
       "      <td>0</td>\n",
       "      <td>0</td>\n",
       "      <td>...</td>\n",
       "      <td>0</td>\n",
       "      <td>1</td>\n",
       "      <td>0.5000</td>\n",
       "      <td>-0.181818</td>\n",
       "      <td>1299.0</td>\n",
       "      <td>1303.0</td>\n",
       "      <td>4.0</td>\n",
       "      <td>1816</td>\n",
       "      <td>40618</td>\n",
       "      <td>1309</td>\n",
       "    </tr>\n",
       "    <tr>\n",
       "      <th>38928</th>\n",
       "      <td>1.727459</td>\n",
       "      <td>2</td>\n",
       "      <td>8.0</td>\n",
       "      <td>0.0</td>\n",
       "      <td>0</td>\n",
       "      <td>0</td>\n",
       "      <td>0</td>\n",
       "      <td>0</td>\n",
       "      <td>0</td>\n",
       "      <td>0</td>\n",
       "      <td>...</td>\n",
       "      <td>0</td>\n",
       "      <td>3</td>\n",
       "      <td>0.0000</td>\n",
       "      <td>0.350000</td>\n",
       "      <td>1554.0</td>\n",
       "      <td>1722.0</td>\n",
       "      <td>168.0</td>\n",
       "      <td>488</td>\n",
       "      <td>65800</td>\n",
       "      <td>634</td>\n",
       "    </tr>\n",
       "    <tr>\n",
       "      <th>8423</th>\n",
       "      <td>0.810788</td>\n",
       "      <td>2</td>\n",
       "      <td>11.0</td>\n",
       "      <td>0.0</td>\n",
       "      <td>0</td>\n",
       "      <td>0</td>\n",
       "      <td>0</td>\n",
       "      <td>0</td>\n",
       "      <td>0</td>\n",
       "      <td>0</td>\n",
       "      <td>...</td>\n",
       "      <td>0</td>\n",
       "      <td>1</td>\n",
       "      <td>-0.5000</td>\n",
       "      <td>0.800000</td>\n",
       "      <td>1306.0</td>\n",
       "      <td>1314.0</td>\n",
       "      <td>8.0</td>\n",
       "      <td>7193</td>\n",
       "      <td>44117</td>\n",
       "      <td>8982</td>\n",
       "    </tr>\n",
       "    <tr>\n",
       "      <th>46301</th>\n",
       "      <td>1.964174</td>\n",
       "      <td>2</td>\n",
       "      <td>4.0</td>\n",
       "      <td>0.0</td>\n",
       "      <td>0</td>\n",
       "      <td>0</td>\n",
       "      <td>0</td>\n",
       "      <td>0</td>\n",
       "      <td>0</td>\n",
       "      <td>0</td>\n",
       "      <td>...</td>\n",
       "      <td>0</td>\n",
       "      <td>3</td>\n",
       "      <td>0.3000</td>\n",
       "      <td>0.500000</td>\n",
       "      <td>1700.0</td>\n",
       "      <td>1840.0</td>\n",
       "      <td>140.0</td>\n",
       "      <td>642</td>\n",
       "      <td>34043</td>\n",
       "      <td>214</td>\n",
       "    </tr>\n",
       "    <tr>\n",
       "      <th>45318</th>\n",
       "      <td>1.898378</td>\n",
       "      <td>1</td>\n",
       "      <td>4.0</td>\n",
       "      <td>0.0</td>\n",
       "      <td>0</td>\n",
       "      <td>0</td>\n",
       "      <td>0</td>\n",
       "      <td>0</td>\n",
       "      <td>0</td>\n",
       "      <td>0</td>\n",
       "      <td>...</td>\n",
       "      <td>0</td>\n",
       "      <td>2</td>\n",
       "      <td>0.0000</td>\n",
       "      <td>0.000000</td>\n",
       "      <td>1546.0</td>\n",
       "      <td>1614.0</td>\n",
       "      <td>0.0</td>\n",
       "      <td>925</td>\n",
       "      <td>34103</td>\n",
       "      <td>1765</td>\n",
       "    </tr>\n",
       "    <tr>\n",
       "      <th>16652</th>\n",
       "      <td>1.358472</td>\n",
       "      <td>2</td>\n",
       "      <td>0.0</td>\n",
       "      <td>0.0</td>\n",
       "      <td>1</td>\n",
       "      <td>0</td>\n",
       "      <td>0</td>\n",
       "      <td>0</td>\n",
       "      <td>0</td>\n",
       "      <td>0</td>\n",
       "      <td>...</td>\n",
       "      <td>0</td>\n",
       "      <td>2</td>\n",
       "      <td>0.0000</td>\n",
       "      <td>0.000000</td>\n",
       "      <td>1546.0</td>\n",
       "      <td>1614.0</td>\n",
       "      <td>0.0</td>\n",
       "      <td>1021</td>\n",
       "      <td>33030</td>\n",
       "      <td>1756</td>\n",
       "    </tr>\n",
       "    <tr>\n",
       "      <th>576</th>\n",
       "      <td>1.112967</td>\n",
       "      <td>2</td>\n",
       "      <td>5.0</td>\n",
       "      <td>0.0</td>\n",
       "      <td>0</td>\n",
       "      <td>0</td>\n",
       "      <td>0</td>\n",
       "      <td>0</td>\n",
       "      <td>0</td>\n",
       "      <td>0</td>\n",
       "      <td>...</td>\n",
       "      <td>0</td>\n",
       "      <td>2</td>\n",
       "      <td>0.8750</td>\n",
       "      <td>0.000000</td>\n",
       "      <td>1318.0</td>\n",
       "      <td>1614.0</td>\n",
       "      <td>0.0</td>\n",
       "      <td>6108</td>\n",
       "      <td>46062</td>\n",
       "      <td>2161</td>\n",
       "    </tr>\n",
       "    <tr>\n",
       "      <th>49228</th>\n",
       "      <td>0.394915</td>\n",
       "      <td>3</td>\n",
       "      <td>81.0</td>\n",
       "      <td>0.0</td>\n",
       "      <td>0</td>\n",
       "      <td>0</td>\n",
       "      <td>0</td>\n",
       "      <td>0</td>\n",
       "      <td>0</td>\n",
       "      <td>0</td>\n",
       "      <td>...</td>\n",
       "      <td>0</td>\n",
       "      <td>6</td>\n",
       "      <td>0.0000</td>\n",
       "      <td>0.255000</td>\n",
       "      <td>1361.0</td>\n",
       "      <td>1429.0</td>\n",
       "      <td>68.0</td>\n",
       "      <td>590</td>\n",
       "      <td>72874</td>\n",
       "      <td>199</td>\n",
       "    </tr>\n",
       "  </tbody>\n",
       "</table>\n",
       "<p>10 rows × 45 columns</p>\n",
       "</div>"
      ],
      "text/plain": [
       "       city_rank  price  num_of_reviews  Rating  Number_of_Reviews_isNAN  \\\n",
       "21350   1.149220      2             2.0     0.0                        0   \n",
       "235     0.110347      2           135.0     0.0                        0   \n",
       "26281   1.249449      3             3.0     0.0                        0   \n",
       "38928   1.727459      2             8.0     0.0                        0   \n",
       "8423    0.810788      2            11.0     0.0                        0   \n",
       "46301   1.964174      2             4.0     0.0                        0   \n",
       "45318   1.898378      1             4.0     0.0                        0   \n",
       "16652   1.358472      2             0.0     0.0                        1   \n",
       "576     1.112967      2             5.0     0.0                        0   \n",
       "49228   0.394915      3            81.0     0.0                        0   \n",
       "\n",
       "       Amsterdam  Athens  Barcelona  Berlin  Bratislava  ...  Zurich  \\\n",
       "21350          0       0          0       0           0  ...       0   \n",
       "235            0       0          0       0           0  ...       0   \n",
       "26281          0       0          0       0           0  ...       0   \n",
       "38928          0       0          0       0           0  ...       0   \n",
       "8423           0       0          0       0           0  ...       0   \n",
       "46301          0       0          0       0           0  ...       0   \n",
       "45318          0       0          0       0           0  ...       0   \n",
       "16652          0       0          0       0           0  ...       0   \n",
       "576            0       0          0       0           0  ...       0   \n",
       "49228          0       0          0       0           0  ...       0   \n",
       "\n",
       "       num_of_cuisines  Review_1  Review_2  How_long_ago_1  How_long_ago_2  \\\n",
       "21350                3    0.0000  0.000000          1546.0          1614.0   \n",
       "235                  5    0.3875  0.250000          1298.0          1309.0   \n",
       "26281                1    0.5000 -0.181818          1299.0          1303.0   \n",
       "38928                3    0.0000  0.350000          1554.0          1722.0   \n",
       "8423                 1   -0.5000  0.800000          1306.0          1314.0   \n",
       "46301                3    0.3000  0.500000          1700.0          1840.0   \n",
       "45318                2    0.0000  0.000000          1546.0          1614.0   \n",
       "16652                2    0.0000  0.000000          1546.0          1614.0   \n",
       "576                  2    0.8750  0.000000          1318.0          1614.0   \n",
       "49228                6    0.0000  0.255000          1361.0          1429.0   \n",
       "\n",
       "       Day1_2  num_of_resto    gdp  population  \n",
       "21350     0.0          2694  40861        1352  \n",
       "235      11.0          6108  46062        2161  \n",
       "26281     4.0          1816  40618        1309  \n",
       "38928   168.0           488  65800         634  \n",
       "8423      8.0          7193  44117        8982  \n",
       "46301   140.0           642  34043         214  \n",
       "45318     0.0           925  34103        1765  \n",
       "16652     0.0          1021  33030        1756  \n",
       "576       0.0          6108  46062        2161  \n",
       "49228    68.0           590  72874         199  \n",
       "\n",
       "[10 rows x 45 columns]"
      ]
     },
     "execution_count": 53,
     "metadata": {},
     "output_type": "execute_result"
    }
   ],
   "source": [
    "test_data.sample(10)"
   ]
  },
  {
   "cell_type": "code",
   "execution_count": 54,
   "metadata": {
    "execution": {
     "iopub.execute_input": "2021-07-28T15:01:49.663645Z",
     "iopub.status.busy": "2021-07-28T15:01:49.663341Z",
     "iopub.status.idle": "2021-07-28T15:01:49.670902Z",
     "shell.execute_reply": "2021-07-28T15:01:49.669760Z",
     "shell.execute_reply.started": "2021-07-28T15:01:49.663599Z"
    }
   },
   "outputs": [],
   "source": [
    "test_data = test_data.drop(['Rating'], axis=1)"
   ]
  },
  {
   "cell_type": "code",
   "execution_count": 55,
   "metadata": {
    "execution": {
     "iopub.execute_input": "2021-07-28T15:01:53.074980Z",
     "iopub.status.busy": "2021-07-28T15:01:53.074677Z",
     "iopub.status.idle": "2021-07-28T15:01:53.088936Z",
     "shell.execute_reply": "2021-07-28T15:01:53.088152Z",
     "shell.execute_reply.started": "2021-07-28T15:01:53.074932Z"
    }
   },
   "outputs": [
    {
     "data": {
      "text/html": [
       "<div>\n",
       "<style scoped>\n",
       "    .dataframe tbody tr th:only-of-type {\n",
       "        vertical-align: middle;\n",
       "    }\n",
       "\n",
       "    .dataframe tbody tr th {\n",
       "        vertical-align: top;\n",
       "    }\n",
       "\n",
       "    .dataframe thead th {\n",
       "        text-align: right;\n",
       "    }\n",
       "</style>\n",
       "<table border=\"1\" class=\"dataframe\">\n",
       "  <thead>\n",
       "    <tr style=\"text-align: right;\">\n",
       "      <th></th>\n",
       "      <th>Restaurant_id</th>\n",
       "      <th>Rating</th>\n",
       "    </tr>\n",
       "  </thead>\n",
       "  <tbody>\n",
       "    <tr>\n",
       "      <th>0</th>\n",
       "      <td>id_0</td>\n",
       "      <td>2.0</td>\n",
       "    </tr>\n",
       "    <tr>\n",
       "      <th>1</th>\n",
       "      <td>id_1</td>\n",
       "      <td>2.5</td>\n",
       "    </tr>\n",
       "    <tr>\n",
       "      <th>2</th>\n",
       "      <td>id_2</td>\n",
       "      <td>4.0</td>\n",
       "    </tr>\n",
       "    <tr>\n",
       "      <th>3</th>\n",
       "      <td>id_3</td>\n",
       "      <td>1.0</td>\n",
       "    </tr>\n",
       "    <tr>\n",
       "      <th>4</th>\n",
       "      <td>id_4</td>\n",
       "      <td>4.0</td>\n",
       "    </tr>\n",
       "    <tr>\n",
       "      <th>...</th>\n",
       "      <td>...</td>\n",
       "      <td>...</td>\n",
       "    </tr>\n",
       "    <tr>\n",
       "      <th>9995</th>\n",
       "      <td>id_9995</td>\n",
       "      <td>3.0</td>\n",
       "    </tr>\n",
       "    <tr>\n",
       "      <th>9996</th>\n",
       "      <td>id_9996</td>\n",
       "      <td>1.5</td>\n",
       "    </tr>\n",
       "    <tr>\n",
       "      <th>9997</th>\n",
       "      <td>id_9997</td>\n",
       "      <td>4.5</td>\n",
       "    </tr>\n",
       "    <tr>\n",
       "      <th>9998</th>\n",
       "      <td>id_9998</td>\n",
       "      <td>1.0</td>\n",
       "    </tr>\n",
       "    <tr>\n",
       "      <th>9999</th>\n",
       "      <td>id_9999</td>\n",
       "      <td>2.5</td>\n",
       "    </tr>\n",
       "  </tbody>\n",
       "</table>\n",
       "<p>10000 rows × 2 columns</p>\n",
       "</div>"
      ],
      "text/plain": [
       "     Restaurant_id  Rating\n",
       "0             id_0     2.0\n",
       "1             id_1     2.5\n",
       "2             id_2     4.0\n",
       "3             id_3     1.0\n",
       "4             id_4     4.0\n",
       "...            ...     ...\n",
       "9995       id_9995     3.0\n",
       "9996       id_9996     1.5\n",
       "9997       id_9997     4.5\n",
       "9998       id_9998     1.0\n",
       "9999       id_9999     2.5\n",
       "\n",
       "[10000 rows x 2 columns]"
      ]
     },
     "execution_count": 55,
     "metadata": {},
     "output_type": "execute_result"
    }
   ],
   "source": [
    "sample_submission"
   ]
  },
  {
   "cell_type": "code",
   "execution_count": 56,
   "metadata": {
    "execution": {
     "iopub.execute_input": "2021-07-28T15:01:56.942176Z",
     "iopub.status.busy": "2021-07-28T15:01:56.941564Z",
     "iopub.status.idle": "2021-07-28T15:01:57.153291Z",
     "shell.execute_reply": "2021-07-28T15:01:57.152394Z",
     "shell.execute_reply.started": "2021-07-28T15:01:56.942122Z"
    }
   },
   "outputs": [
    {
     "name": "stderr",
     "output_type": "stream",
     "text": [
      "[Parallel(n_jobs=4)]: Using backend ThreadingBackend with 4 concurrent workers.\n",
      "[Parallel(n_jobs=4)]: Done  42 tasks      | elapsed:    0.0s\n",
      "[Parallel(n_jobs=4)]: Done 100 out of 100 | elapsed:    0.0s finished\n"
     ]
    }
   ],
   "source": [
    "predict_submission = model.predict(test_data)"
   ]
  },
  {
   "cell_type": "code",
   "execution_count": 57,
   "metadata": {
    "execution": {
     "iopub.execute_input": "2021-07-28T15:01:59.112251Z",
     "iopub.status.busy": "2021-07-28T15:01:59.111912Z",
     "iopub.status.idle": "2021-07-28T15:01:59.119252Z",
     "shell.execute_reply": "2021-07-28T15:01:59.117802Z",
     "shell.execute_reply.started": "2021-07-28T15:01:59.112202Z"
    }
   },
   "outputs": [
    {
     "data": {
      "text/plain": [
       "array([3.02 , 4.33 , 3.105, ..., 3.95 , 4.11 , 4.37 ])"
      ]
     },
     "execution_count": 57,
     "metadata": {},
     "output_type": "execute_result"
    }
   ],
   "source": [
    "predict_submission"
   ]
  },
  {
   "cell_type": "code",
   "execution_count": 58,
   "metadata": {
    "execution": {
     "iopub.execute_input": "2021-07-28T15:02:08.294516Z",
     "iopub.status.busy": "2021-07-28T15:02:08.294094Z",
     "iopub.status.idle": "2021-07-28T15:02:08.340015Z",
     "shell.execute_reply": "2021-07-28T15:02:08.339244Z",
     "shell.execute_reply.started": "2021-07-28T15:02:08.294476Z"
    }
   },
   "outputs": [
    {
     "data": {
      "text/html": [
       "<div>\n",
       "<style scoped>\n",
       "    .dataframe tbody tr th:only-of-type {\n",
       "        vertical-align: middle;\n",
       "    }\n",
       "\n",
       "    .dataframe tbody tr th {\n",
       "        vertical-align: top;\n",
       "    }\n",
       "\n",
       "    .dataframe thead th {\n",
       "        text-align: right;\n",
       "    }\n",
       "</style>\n",
       "<table border=\"1\" class=\"dataframe\">\n",
       "  <thead>\n",
       "    <tr style=\"text-align: right;\">\n",
       "      <th></th>\n",
       "      <th>Restaurant_id</th>\n",
       "      <th>Rating</th>\n",
       "    </tr>\n",
       "  </thead>\n",
       "  <tbody>\n",
       "    <tr>\n",
       "      <th>0</th>\n",
       "      <td>id_0</td>\n",
       "      <td>3.020</td>\n",
       "    </tr>\n",
       "    <tr>\n",
       "      <th>1</th>\n",
       "      <td>id_1</td>\n",
       "      <td>4.330</td>\n",
       "    </tr>\n",
       "    <tr>\n",
       "      <th>2</th>\n",
       "      <td>id_2</td>\n",
       "      <td>3.105</td>\n",
       "    </tr>\n",
       "    <tr>\n",
       "      <th>3</th>\n",
       "      <td>id_3</td>\n",
       "      <td>4.925</td>\n",
       "    </tr>\n",
       "    <tr>\n",
       "      <th>4</th>\n",
       "      <td>id_4</td>\n",
       "      <td>4.605</td>\n",
       "    </tr>\n",
       "    <tr>\n",
       "      <th>5</th>\n",
       "      <td>id_5</td>\n",
       "      <td>3.705</td>\n",
       "    </tr>\n",
       "    <tr>\n",
       "      <th>6</th>\n",
       "      <td>id_6</td>\n",
       "      <td>3.970</td>\n",
       "    </tr>\n",
       "    <tr>\n",
       "      <th>7</th>\n",
       "      <td>id_7</td>\n",
       "      <td>2.805</td>\n",
       "    </tr>\n",
       "    <tr>\n",
       "      <th>8</th>\n",
       "      <td>id_8</td>\n",
       "      <td>3.055</td>\n",
       "    </tr>\n",
       "    <tr>\n",
       "      <th>9</th>\n",
       "      <td>id_9</td>\n",
       "      <td>3.765</td>\n",
       "    </tr>\n",
       "  </tbody>\n",
       "</table>\n",
       "</div>"
      ],
      "text/plain": [
       "  Restaurant_id  Rating\n",
       "0          id_0   3.020\n",
       "1          id_1   4.330\n",
       "2          id_2   3.105\n",
       "3          id_3   4.925\n",
       "4          id_4   4.605\n",
       "5          id_5   3.705\n",
       "6          id_6   3.970\n",
       "7          id_7   2.805\n",
       "8          id_8   3.055\n",
       "9          id_9   3.765"
      ]
     },
     "execution_count": 58,
     "metadata": {},
     "output_type": "execute_result"
    }
   ],
   "source": [
    "sample_submission['Rating'] = predict_submission\n",
    "sample_submission.to_csv('submission.csv', index=False)\n",
    "sample_submission.head(10)"
   ]
  },
  {
   "cell_type": "code",
   "execution_count": null,
   "metadata": {},
   "outputs": [],
   "source": []
  }
 ],
 "metadata": {
  "kernelspec": {
   "display_name": "Python 3",
   "language": "python",
   "name": "python3"
  },
  "language_info": {
   "codemirror_mode": {
    "name": "ipython",
    "version": 3
   },
   "file_extension": ".py",
   "mimetype": "text/x-python",
   "name": "python",
   "nbconvert_exporter": "python",
   "pygments_lexer": "ipython3",
   "version": "3.8.5"
  }
 },
 "nbformat": 4,
 "nbformat_minor": 4
}
