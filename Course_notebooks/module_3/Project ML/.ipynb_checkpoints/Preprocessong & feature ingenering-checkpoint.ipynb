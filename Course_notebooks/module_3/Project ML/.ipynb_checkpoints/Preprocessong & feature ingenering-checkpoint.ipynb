{
 "cells": [
  {
   "cell_type": "code",
   "execution_count": 201,
   "metadata": {},
   "outputs": [],
   "source": [
    "import pandas as pd\n",
    "import numpy as np\n",
    "import matplotlib.pyplot as plt\n",
    "import math\n",
    "from collections import Counter\n",
    "import datetime\n",
    "import re\n",
    "import seaborn as sns"
   ]
  },
  {
   "cell_type": "markdown",
   "metadata": {},
   "source": [
    "### 1. Функции обработки датасета"
   ]
  },
  {
   "cell_type": "code",
   "execution_count": 202,
   "metadata": {},
   "outputs": [],
   "source": [
    "#функция замены ценовой категории на цифру\n",
    "def replace_price_tag(tag):\n",
    "    return price_dict[tag]\n",
    "\n",
    "#функция заменяет NaN-значения в количестве отзыов на 0 или один (оптимизировать,)\n",
    "def nan_review_attribution(df, na_col, rev_col):    \n",
    "    gen = (i for i in df[na_col].index if np.isnan(df[na_col][i]))\n",
    "    for i in gen:\n",
    "        df.at[i, na_col] = len(re.findall(r\"\\d+\\/\\d+\\/\\d+\", df[rev_col][i]))\n",
    "    return df[na_col]\n",
    "\n",
    "\n",
    "#функция возвращает список дат (в типе datetime) последних отзывов\n",
    "def review_dates(lst):\n",
    "    date_list =[]\n",
    "    if len(lst):\n",
    "        for date in lst:\n",
    "            date_list.append(pd.to_datetime(date))\n",
    "        return date_list\n",
    "    else:\n",
    "        return None\n",
    "    \n",
    "#возвращает количество стилей кухни\n",
    "def cuisine_number(string):\n",
    "    if pd.isnull(string):\n",
    "        return 3\n",
    "    else:\n",
    "        return len(re.findall(r\"\\w+\\s*\\w+\\s*\\w+\\s*\\w+\\s*\\w+\\s*\",str(string)))\n",
    "    \n",
    "#возвращает даты последних отзывов\n",
    "def review_dates(lst):\n",
    "    date_list =[]\n",
    "    if len(lst):\n",
    "        for date in lst:\n",
    "            date_list.append(pd.to_datetime(date).date())\n",
    "        return date_list\n",
    "    else:\n",
    "        return None\n",
    "\n",
    "#возвращает время в днях между последними двумя отзывами\n",
    "def date_delta(lst):\n",
    "    if lst:\n",
    "        return abs(lst[0]-lst[-1]).days\n",
    "    else:\n",
    "        return 0"
   ]
  },
  {
   "cell_type": "markdown",
   "metadata": {},
   "source": [
    "### 2. Открываем датасет"
   ]
  },
  {
   "cell_type": "code",
   "execution_count": 203,
   "metadata": {
    "scrolled": true
   },
   "outputs": [
    {
     "name": "stdout",
     "output_type": "stream",
     "text": [
      "<class 'pandas.core.frame.DataFrame'>\n",
      "RangeIndex: 40000 entries, 0 to 39999\n",
      "Data columns (total 10 columns):\n",
      " #   Column             Non-Null Count  Dtype  \n",
      "---  ------             --------------  -----  \n",
      " 0   Restaurant_id      40000 non-null  object \n",
      " 1   City               40000 non-null  object \n",
      " 2   Cuisine Style      30717 non-null  object \n",
      " 3   Ranking            40000 non-null  float64\n",
      " 4   Rating             40000 non-null  float64\n",
      " 5   Price Range        26114 non-null  object \n",
      " 6   Number of Reviews  37457 non-null  float64\n",
      " 7   Reviews            40000 non-null  object \n",
      " 8   URL_TA             40000 non-null  object \n",
      " 9   ID_TA              40000 non-null  object \n",
      "dtypes: float64(3), object(7)\n",
      "memory usage: 3.1+ MB\n"
     ]
    }
   ],
   "source": [
    "df = pd.read_csv('main_task_new.csv')\n",
    "df.info()"
   ]
  },
  {
   "cell_type": "markdown",
   "metadata": {},
   "source": [
    "#### 2.1 Предобработка датасета"
   ]
  },
  {
   "cell_type": "code",
   "execution_count": 204,
   "metadata": {},
   "outputs": [],
   "source": [
    "df.columns = ['id','city','style','city_rank','rating','price','num_of_reviews','reviews','url_ta','id_ta']"
   ]
  },
  {
   "cell_type": "code",
   "execution_count": 205,
   "metadata": {},
   "outputs": [],
   "source": [
    "#cities = df.city.value_counts()\n",
    "#cities.to_excel('Cities.xls')"
   ]
  },
  {
   "cell_type": "code",
   "execution_count": 206,
   "metadata": {},
   "outputs": [],
   "source": [
    "#заменяем нан в количестве отзывов на ноль или 1\n",
    "\n",
    "df['num_of_reviews'] = nan_review_attribution(df, 'num_of_reviews','reviews')"
   ]
  },
  {
   "cell_type": "markdown",
   "metadata": {},
   "source": [
    "#### заменяем текстовую ценовую категорию на числовую"
   ]
  },
  {
   "cell_type": "code",
   "execution_count": 207,
   "metadata": {},
   "outputs": [
    {
     "data": {
      "text/plain": [
       "{'$$ - $$$': 2.5, nan: 1, '$$$$': 5, '$': 1}"
      ]
     },
     "execution_count": 207,
     "metadata": {},
     "output_type": "execute_result"
    }
   ],
   "source": [
    "#ранжируем ценовую категорию, нан заменяем на самый частый случай (потом можно еще будет подумать. \n",
    "# Вообще можно будет ее получить из города типа кухни и другиз факторов через модель)\n",
    "keys = df.price.unique()\n",
    "values = [2.5, 1, 5, 1]\n",
    "price_dict = {keys[i]: values[i] for i in range(len(keys))}\n",
    "price_dict"
   ]
  },
  {
   "cell_type": "code",
   "execution_count": 208,
   "metadata": {},
   "outputs": [],
   "source": [
    "\n",
    "df.price = df.price.apply(replace_price_tag)"
   ]
  },
  {
   "cell_type": "markdown",
   "metadata": {},
   "source": [
    "#### Работаем со стилями кухни. Разбиваем на массив и создаем колонку с количеством представленных кухонь. NaN заменяем на среднее"
   ]
  },
  {
   "cell_type": "code",
   "execution_count": 209,
   "metadata": {
    "scrolled": false
   },
   "outputs": [],
   "source": [
    "df['num_of_cuisines'] = df['style'].apply(cuisine_number) "
   ]
  },
  {
   "cell_type": "markdown",
   "metadata": {},
   "source": [
    "### работаем с датами"
   ]
  },
  {
   "cell_type": "code",
   "execution_count": 210,
   "metadata": {
    "scrolled": false
   },
   "outputs": [],
   "source": [
    "df['review_dates'] = df['reviews'].apply(lambda x: re.findall(r\"\\d+\\/\\d+\\/\\d+\",x))\n",
    "df['review_dates'] = df['review_dates'].apply(review_dates)\n",
    "#на выходе массив дат в datetime формате"
   ]
  },
  {
   "cell_type": "code",
   "execution_count": 211,
   "metadata": {},
   "outputs": [],
   "source": [
    "\n",
    "\n",
    "df['time_delta'] = df['review_dates'].apply(date_delta)\n",
    "\n",
    "\n",
    "#year = datetime.timedelta(days=365)\n",
    "#df['review_deltas'] = df['review_dates'].apply(date_delta)\n",
    "#len(df[df.time_delta > year])"
   ]
  },
  {
   "cell_type": "markdown",
   "metadata": {},
   "source": [
    "### добавляем данные по ВВП на душу населения"
   ]
  },
  {
   "cell_type": "code",
   "execution_count": 212,
   "metadata": {},
   "outputs": [
    {
     "name": "stdout",
     "output_type": "stream",
     "text": [
      "<class 'pandas.core.frame.DataFrame'>\n",
      "Int64Index: 40000 entries, 0 to 39999\n",
      "Data columns (total 15 columns):\n",
      " #   Column           Non-Null Count  Dtype  \n",
      "---  ------           --------------  -----  \n",
      " 0   id               40000 non-null  object \n",
      " 1   city             40000 non-null  object \n",
      " 2   style            30717 non-null  object \n",
      " 3   city_rank        40000 non-null  float64\n",
      " 4   rating           40000 non-null  float64\n",
      " 5   price            40000 non-null  float64\n",
      " 6   num_of_reviews   40000 non-null  float64\n",
      " 7   reviews          40000 non-null  object \n",
      " 8   url_ta           40000 non-null  object \n",
      " 9   id_ta            40000 non-null  object \n",
      " 10  num_of_cuisines  40000 non-null  int64  \n",
      " 11  review_dates     33529 non-null  object \n",
      " 12  time_delta       33529 non-null  float64\n",
      " 13  gdp              40000 non-null  int64  \n",
      " 14  country          40000 non-null  object \n",
      "dtypes: float64(5), int64(2), object(8)\n",
      "memory usage: 4.9+ MB\n"
     ]
    }
   ],
   "source": [
    "cities = pd.read_excel('Cities.xls')\n",
    "df = pd.merge(df, cities, on='city')\n",
    "df.info()"
   ]
  },
  {
   "cell_type": "markdown",
   "metadata": {},
   "source": [
    "### добавим dummy переменную по городам"
   ]
  },
  {
   "cell_type": "code",
   "execution_count": 213,
   "metadata": {},
   "outputs": [],
   "source": [
    "#добавим dummy переменную по городам\n",
    "dummy = pd.get_dummies(df.city)\n",
    "df.drop(columns='city', inplace=True)\n",
    "df = pd.concat([df, dummy], axis=1)"
   ]
  },
  {
   "cell_type": "code",
   "execution_count": 214,
   "metadata": {
    "scrolled": false
   },
   "outputs": [],
   "source": [
    "df = df.select_dtypes(exclude='object')"
   ]
  },
  {
   "cell_type": "code",
   "execution_count": 215,
   "metadata": {},
   "outputs": [],
   "source": [
    "df.to_csv('5&dummies.csv', index=False)"
   ]
  }
 ],
 "metadata": {
  "kernelspec": {
   "display_name": "Python 3",
   "language": "python",
   "name": "python3"
  },
  "language_info": {
   "codemirror_mode": {
    "name": "ipython",
    "version": 3
   },
   "file_extension": ".py",
   "mimetype": "text/x-python",
   "name": "python",
   "nbconvert_exporter": "python",
   "pygments_lexer": "ipython3",
   "version": "3.8.5"
  }
 },
 "nbformat": 4,
 "nbformat_minor": 4
}
