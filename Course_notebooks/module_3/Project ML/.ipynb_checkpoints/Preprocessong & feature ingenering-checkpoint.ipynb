{
 "cells": [
  {
   "cell_type": "code",
   "execution_count": 1,
   "metadata": {},
   "outputs": [
    {
     "ename": "ModuleNotFoundError",
     "evalue": "No module named 'textblob'",
     "output_type": "error",
     "traceback": [
      "\u001b[1;31m---------------------------------------------------------------------------\u001b[0m",
      "\u001b[1;31mModuleNotFoundError\u001b[0m                       Traceback (most recent call last)",
      "\u001b[1;32m<ipython-input-1-f399d7535a41>\u001b[0m in \u001b[0;36m<module>\u001b[1;34m\u001b[0m\n\u001b[0;32m      7\u001b[0m \u001b[1;32mimport\u001b[0m \u001b[0mre\u001b[0m\u001b[1;33m\u001b[0m\u001b[1;33m\u001b[0m\u001b[0m\n\u001b[0;32m      8\u001b[0m \u001b[1;32mimport\u001b[0m \u001b[0mseaborn\u001b[0m \u001b[1;32mas\u001b[0m \u001b[0msns\u001b[0m\u001b[1;33m\u001b[0m\u001b[1;33m\u001b[0m\u001b[0m\n\u001b[1;32m----> 9\u001b[1;33m \u001b[1;32mfrom\u001b[0m \u001b[0mtextblob\u001b[0m \u001b[1;32mimport\u001b[0m \u001b[0mTextBlob\u001b[0m\u001b[1;33m\u001b[0m\u001b[1;33m\u001b[0m\u001b[0m\n\u001b[0m",
      "\u001b[1;31mModuleNotFoundError\u001b[0m: No module named 'textblob'"
     ]
    }
   ],
   "source": [
    "import pandas as pd\n",
    "import numpy as np\n",
    "import matplotlib.pyplot as plt\n",
    "import math\n",
    "from collections import Counter\n",
    "from datetime import datetime, timedelta\n",
    "import re\n",
    "import seaborn as sns\n",
    "from textblob import TextBlob"
   ]
  },
  {
   "cell_type": "markdown",
   "metadata": {},
   "source": [
    "### 1. Функции обработки датасета"
   ]
  },
  {
   "cell_type": "code",
   "execution_count": 2,
   "metadata": {},
   "outputs": [],
   "source": [
    "#функция замены ценовой категории на цифру\n",
    "def replace_price_tag(tag):\n",
    "    return price_dict[tag]\n",
    "\n",
    "#функция заменяет NaN-значения в количестве отзыов на 0 или один (оптимизировать,)\n",
    "def nan_review_attribution(df, na_col, rev_col):    \n",
    "    gen = (i for i in df[na_col].index if np.isnan(df[na_col][i]))\n",
    "    for i in gen:\n",
    "        df.at[i, na_col] = len(re.findall(r\"\\d+\\/\\d+\\/\\d+\", df[rev_col][i]))\n",
    "    return df[na_col]\n",
    "\n",
    "\n",
    "#функция возвращает список дат (в типе datetime) последних отзывов\n",
    "def review_dates(lst):\n",
    "    date_list =[]\n",
    "    if len(lst):\n",
    "        for date in lst:\n",
    "            date_list.append(pd.to_datetime(date))\n",
    "        return date_list\n",
    "    else:\n",
    "        return None\n",
    "    \n",
    "#возвращает количество стилей кухни\n",
    "def cuisine_number(string):\n",
    "    if pd.isnull(string):\n",
    "        return 3\n",
    "    else:\n",
    "        return len(re.findall(r\"\\w+\\s*\\w+\\s*\\w+\\s*\\w+\\s*\\w+\\s*\",str(string)))\n",
    "    \n",
    "#возвращает даты последних отзывов\n",
    "def review_dates(lst):\n",
    "    date_list =[]\n",
    "    if len(lst):\n",
    "        for date in lst:\n",
    "            date_list.append(pd.to_datetime(date).date())\n",
    "        return date_list\n",
    "    else:\n",
    "        return None\n",
    "\n",
    "#возвращает время в днях между последними двумя отзывами\n",
    "def date_delta(lst):\n",
    "    if lst:\n",
    "        return abs(lst[0]-lst[-1]).days\n",
    "    else:\n",
    "        return 0\n",
    "\n",
    "def city_rank_norm(df, city_rank_col, city_col):\n",
    "    for row in df:\n",
    "        row\n",
    "    return df[na_col]\n",
    "\n",
    "def replace_city(city):\n",
    "    return resto_per_city[city]"
   ]
  },
  {
   "cell_type": "markdown",
   "metadata": {},
   "source": [
    "### 2. Открываем датасет"
   ]
  },
  {
   "cell_type": "code",
   "execution_count": 3,
   "metadata": {
    "scrolled": true
   },
   "outputs": [
    {
     "name": "stdout",
     "output_type": "stream",
     "text": [
      "<class 'pandas.core.frame.DataFrame'>\n",
      "RangeIndex: 40000 entries, 0 to 39999\n",
      "Data columns (total 10 columns):\n",
      " #   Column             Non-Null Count  Dtype  \n",
      "---  ------             --------------  -----  \n",
      " 0   Restaurant_id      40000 non-null  object \n",
      " 1   City               40000 non-null  object \n",
      " 2   Cuisine Style      30717 non-null  object \n",
      " 3   Ranking            40000 non-null  float64\n",
      " 4   Rating             40000 non-null  float64\n",
      " 5   Price Range        26114 non-null  object \n",
      " 6   Number of Reviews  37457 non-null  float64\n",
      " 7   Reviews            40000 non-null  object \n",
      " 8   URL_TA             40000 non-null  object \n",
      " 9   ID_TA              40000 non-null  object \n",
      "dtypes: float64(3), object(7)\n",
      "memory usage: 3.1+ MB\n"
     ]
    }
   ],
   "source": [
    "df = pd.read_csv('main_task_new.csv')\n",
    "df.info()"
   ]
  },
  {
   "cell_type": "markdown",
   "metadata": {},
   "source": [
    "#### 2.1 Предобработка датасета"
   ]
  },
  {
   "cell_type": "code",
   "execution_count": 4,
   "metadata": {},
   "outputs": [],
   "source": [
    "df.columns = ['id','city','style','city_rank','rating','price','num_of_reviews','reviews','url_ta','id_ta']"
   ]
  },
  {
   "cell_type": "code",
   "execution_count": 5,
   "metadata": {},
   "outputs": [],
   "source": [
    "#cities = df.city.value_counts()\n",
    "#cities.to_excel('Cities.xls')"
   ]
  },
  {
   "cell_type": "code",
   "execution_count": 6,
   "metadata": {},
   "outputs": [],
   "source": [
    "#заменяем нан в количестве отзывов на ноль или 1\n",
    "#df['Number_of_Reviews_isNAN'] = pd.isna(df['num_of_reviews']).astype('uint8')\n",
    "df['num_of_reviews'] = nan_review_attribution(df, 'num_of_reviews','reviews')"
   ]
  },
  {
   "cell_type": "markdown",
   "metadata": {},
   "source": [
    "#### заменяем текстовую ценовую категорию на числовую"
   ]
  },
  {
   "cell_type": "code",
   "execution_count": 7,
   "metadata": {},
   "outputs": [
    {
     "data": {
      "text/plain": [
       "{'$$ - $$$': 2.5, nan: 1, '$$$$': 5, '$': 1}"
      ]
     },
     "execution_count": 7,
     "metadata": {},
     "output_type": "execute_result"
    }
   ],
   "source": [
    "#ранжируем ценовую категорию, нан заменяем на самый частый случай (потом можно еще будет подумать. \n",
    "# Вообще можно будет ее получить из города типа кухни и другиз факторов через модель)\n",
    "keys = df.price.unique()\n",
    "values = [2.5, 1, 5, 1]\n",
    "price_dict = {keys[i]: values[i] for i in range(len(keys))}\n",
    "price_dict"
   ]
  },
  {
   "cell_type": "code",
   "execution_count": 8,
   "metadata": {},
   "outputs": [],
   "source": [
    "\n",
    "df.price = df.price.apply(replace_price_tag)"
   ]
  },
  {
   "cell_type": "markdown",
   "metadata": {},
   "source": [
    "#### Работаем со стилями кухни. Разбиваем на массив и создаем колонку с количеством представленных кухонь. NaN заменяем на среднее"
   ]
  },
  {
   "cell_type": "code",
   "execution_count": 9,
   "metadata": {
    "scrolled": false
   },
   "outputs": [],
   "source": [
    "df['num_of_cuisines'] = df['style'].apply(cuisine_number) "
   ]
  },
  {
   "cell_type": "markdown",
   "metadata": {},
   "source": [
    "### работаем с датами"
   ]
  },
  {
   "cell_type": "code",
   "execution_count": 10,
   "metadata": {},
   "outputs": [],
   "source": [
    "def change_reviews(data, df_columns):\n",
    "    \"\"\" Функция принимает на вход ДФ и колонку с отзывами.\n",
    "    Создаёт новые колонки в ДФ:\n",
    "    Review_1 - c текстом первого отзыва;\n",
    "    Review_2 - с текстом второго отзыва;\n",
    "    How_long_ago_1 - сколько дней назад написан первый отзыв;\n",
    "    How_long_ago_2 - сколько дней назад написан второй отзыв;\n",
    "    Day1_2 - разница в днях написания первого и второго отзыва;\n",
    "    Day_of_week_1 - день недели написания первого отзыва;\n",
    "    Day_of_week_2 - день недели написания второго отзыва;\n",
    "    Month_1 - месяц написания первого отзыва;\n",
    "    Month_2 - месяц написания второго отзыва\"\"\"\n",
    "    df_columns.fillna('[[], []]', inplace=True)\n",
    "    data['Two_reviews'] = df_columns.apply(lambda x: x.split('],')[0].split(\"',\"))\n",
    "    # Создаёт две колонки с текстами отзывов\n",
    "    data['Review_1'] = data['Two_reviews'].apply(lambda x: x[0])\n",
    "    data['Review_2'] = data['Two_reviews'].apply(lambda x: x[-1])\n",
    "    data['Review_1'] = data['Review_1'].apply(\n",
    "        lambda x: x.replace('[', '').replace(\"'\", '').replace('\"', ''))\n",
    "    data['Review_2'] = data['Review_2'].apply(\n",
    "        lambda x: x.replace('[', '').replace(\"'\", '').replace('\"', ''))\n",
    "    data.drop('Two_reviews', axis=1, inplace=True)\n",
    "\n",
    "    # Удалим повторы, если отзыв был один и он продублировался в столбец Review_2\n",
    "    data['Review_2'] = data[['Review_2', 'Review_1']].apply(\n",
    "        lambda x: '' if x[0] == x[1] else x[0], axis=1)\n",
    "\n",
    "    # Работа с датами\n",
    "    data['Days_reviews'] = df_columns.apply(\n",
    "        lambda x: x.split('],')[-1].split(\"',\"))\n",
    "    data['Day_1'] = data['Days_reviews'].apply(lambda x: x[0])\n",
    "    data['Day_2'] = data['Days_reviews'].apply(lambda x: x[-1])\n",
    "    data['Day_1'] = data['Day_1'].apply(\n",
    "        lambda x: x.replace('[', '').replace(\"'\", '').replace(']', '').replace(' ', '').replace('\"', ''))\n",
    "    data['Day_2'] = data['Day_2'].apply(\n",
    "        lambda x: x.replace('[', '').replace(\"'\", '').replace(']', '').replace(' ', '').replace('\"', ''))\n",
    "    data.drop('Days_reviews', axis=1, inplace=True)\n",
    "\n",
    "    # Удалим вторую дату (дубликат первой), если отзыв был всего один\n",
    "    data['Day_2'] = data[['Day_2', 'Review_2']].apply(\n",
    "        lambda x: '' if x[1] == '' else x[0], axis=1)\n",
    "\n",
    "    # Переведём данные в формат datetime.strptime для удобства дальнейшей работы\n",
    "    data['Day_1'] = data['Day_1'].apply(lambda x: x if len(\n",
    "        x) == 0 else datetime.strptime(x, '%m/%d/%Y'))\n",
    "    data['Day_2'] = data['Day_2'].apply(lambda x: x if len(\n",
    "        x) == 0 else datetime.strptime(x, '%m/%d/%Y'))\n",
    "\n",
    "    # Cоздаём колонки, показывающие сколько дней назад были написаны отзывы\n",
    "    data['How_long_ago_1'] = (datetime.today() - data['Day_1'])\n",
    "    data['How_long_ago_2'] = datetime.today() - data['Day_2']\n",
    "    data['How_long_ago_1'] = data['How_long_ago_1'].apply(lambda x: x.days)\n",
    "    data['How_long_ago_2'] = data['How_long_ago_2'].apply(lambda x: x.days)\n",
    "    # Если пропущены значения, то заменим на среднее\n",
    "    data['How_long_ago_1'].fillna(\n",
    "        round(data['How_long_ago_1'].mean()), inplace=True)\n",
    "    data['How_long_ago_2'].fillna(\n",
    "        round(data['How_long_ago_2'].mean()), inplace=True)\n",
    "\n",
    "    # Создаём колонку с разницей в датах отзывов\n",
    "    data['Day1_2'] = abs(data['Day_1'] - data['Day_2'])\n",
    "    data['Day_1'] = data['Day_1'].fillna(0)\n",
    "    data['Day_2'] = data['Day_2'].fillna(0)\n",
    "    data['Day1_2'] = data['Day1_2'].apply(lambda x: x.days)\n",
    "    data['Day1_2'] = data['Day1_2'].fillna(0)\n",
    "\n",
    "    # Создаём колонки с днями недели отзывов и месяцы\n",
    "    data['Day_of_week_1'] = data['Day_1'].apply(\n",
    "        lambda x: 0 if x == 0 else x.strftime('%A'))\n",
    "    data['Day_of_week_2'] = data['Day_2'].apply(\n",
    "        lambda x: 0 if x == 0 else x.strftime('%A'))\n",
    "    data['Month_1'] = data['Day_1'].apply(\n",
    "        lambda x: 0 if x == 0 else x.strftime('%m'))\n",
    "    data['Month_2'] = data['Day_2'].apply(\n",
    "        lambda x: 0 if x == 0 else x.strftime('%m'))\n",
    "\n",
    "    # Удаляем больше ненужные колонки\n",
    "    data.drop('Day_1', axis=1, inplace=True)\n",
    "    data.drop('Day_2', axis=1, inplace=True)\n",
    "    data.drop('reviews', axis=1, inplace=True)"
   ]
  },
  {
   "cell_type": "code",
   "execution_count": 11,
   "metadata": {},
   "outputs": [],
   "source": [
    "change_reviews(df,df['reviews'])"
   ]
  },
  {
   "cell_type": "code",
   "execution_count": 12,
   "metadata": {},
   "outputs": [
    {
     "ename": "NameError",
     "evalue": "name 'TextBlob' is not defined",
     "output_type": "error",
     "traceback": [
      "\u001b[1;31m---------------------------------------------------------------------------\u001b[0m",
      "\u001b[1;31mNameError\u001b[0m                                 Traceback (most recent call last)",
      "\u001b[1;32m<ipython-input-12-98b841107220>\u001b[0m in \u001b[0;36m<module>\u001b[1;34m\u001b[0m\n\u001b[1;32m----> 1\u001b[1;33m \u001b[0mdf\u001b[0m\u001b[1;33m[\u001b[0m\u001b[1;34m'Review_1'\u001b[0m\u001b[1;33m]\u001b[0m \u001b[1;33m=\u001b[0m \u001b[0mdf\u001b[0m\u001b[1;33m[\u001b[0m\u001b[1;34m'Review_1'\u001b[0m\u001b[1;33m]\u001b[0m\u001b[1;33m.\u001b[0m\u001b[0mapply\u001b[0m\u001b[1;33m(\u001b[0m\u001b[1;32mlambda\u001b[0m \u001b[0mx\u001b[0m\u001b[1;33m:\u001b[0m \u001b[0mTextBlob\u001b[0m\u001b[1;33m(\u001b[0m\u001b[0mx\u001b[0m\u001b[1;33m)\u001b[0m\u001b[1;33m.\u001b[0m\u001b[0mpolarity\u001b[0m\u001b[1;33m)\u001b[0m\u001b[1;33m\u001b[0m\u001b[1;33m\u001b[0m\u001b[0m\n\u001b[0m\u001b[0;32m      2\u001b[0m \u001b[0mdf\u001b[0m\u001b[1;33m[\u001b[0m\u001b[1;34m'Review_2'\u001b[0m\u001b[1;33m]\u001b[0m \u001b[1;33m=\u001b[0m \u001b[0mdf\u001b[0m\u001b[1;33m[\u001b[0m\u001b[1;34m'Review_2'\u001b[0m\u001b[1;33m]\u001b[0m\u001b[1;33m.\u001b[0m\u001b[0mapply\u001b[0m\u001b[1;33m(\u001b[0m\u001b[1;32mlambda\u001b[0m \u001b[0mx\u001b[0m\u001b[1;33m:\u001b[0m \u001b[0mTextBlob\u001b[0m\u001b[1;33m(\u001b[0m\u001b[0mx\u001b[0m\u001b[1;33m)\u001b[0m\u001b[1;33m.\u001b[0m\u001b[0mpolarity\u001b[0m\u001b[1;33m)\u001b[0m\u001b[1;33m\u001b[0m\u001b[1;33m\u001b[0m\u001b[0m\n",
      "\u001b[1;32m~\\anaconda3\\lib\\site-packages\\pandas\\core\\series.py\u001b[0m in \u001b[0;36mapply\u001b[1;34m(self, func, convert_dtype, args, **kwds)\u001b[0m\n\u001b[0;32m   4198\u001b[0m             \u001b[1;32melse\u001b[0m\u001b[1;33m:\u001b[0m\u001b[1;33m\u001b[0m\u001b[1;33m\u001b[0m\u001b[0m\n\u001b[0;32m   4199\u001b[0m                 \u001b[0mvalues\u001b[0m \u001b[1;33m=\u001b[0m \u001b[0mself\u001b[0m\u001b[1;33m.\u001b[0m\u001b[0mastype\u001b[0m\u001b[1;33m(\u001b[0m\u001b[0mobject\u001b[0m\u001b[1;33m)\u001b[0m\u001b[1;33m.\u001b[0m\u001b[0m_values\u001b[0m\u001b[1;33m\u001b[0m\u001b[1;33m\u001b[0m\u001b[0m\n\u001b[1;32m-> 4200\u001b[1;33m                 \u001b[0mmapped\u001b[0m \u001b[1;33m=\u001b[0m \u001b[0mlib\u001b[0m\u001b[1;33m.\u001b[0m\u001b[0mmap_infer\u001b[0m\u001b[1;33m(\u001b[0m\u001b[0mvalues\u001b[0m\u001b[1;33m,\u001b[0m \u001b[0mf\u001b[0m\u001b[1;33m,\u001b[0m \u001b[0mconvert\u001b[0m\u001b[1;33m=\u001b[0m\u001b[0mconvert_dtype\u001b[0m\u001b[1;33m)\u001b[0m\u001b[1;33m\u001b[0m\u001b[1;33m\u001b[0m\u001b[0m\n\u001b[0m\u001b[0;32m   4201\u001b[0m \u001b[1;33m\u001b[0m\u001b[0m\n\u001b[0;32m   4202\u001b[0m         \u001b[1;32mif\u001b[0m \u001b[0mlen\u001b[0m\u001b[1;33m(\u001b[0m\u001b[0mmapped\u001b[0m\u001b[1;33m)\u001b[0m \u001b[1;32mand\u001b[0m \u001b[0misinstance\u001b[0m\u001b[1;33m(\u001b[0m\u001b[0mmapped\u001b[0m\u001b[1;33m[\u001b[0m\u001b[1;36m0\u001b[0m\u001b[1;33m]\u001b[0m\u001b[1;33m,\u001b[0m \u001b[0mSeries\u001b[0m\u001b[1;33m)\u001b[0m\u001b[1;33m:\u001b[0m\u001b[1;33m\u001b[0m\u001b[1;33m\u001b[0m\u001b[0m\n",
      "\u001b[1;32mpandas\\_libs\\lib.pyx\u001b[0m in \u001b[0;36mpandas._libs.lib.map_infer\u001b[1;34m()\u001b[0m\n",
      "\u001b[1;32m<ipython-input-12-98b841107220>\u001b[0m in \u001b[0;36m<lambda>\u001b[1;34m(x)\u001b[0m\n\u001b[1;32m----> 1\u001b[1;33m \u001b[0mdf\u001b[0m\u001b[1;33m[\u001b[0m\u001b[1;34m'Review_1'\u001b[0m\u001b[1;33m]\u001b[0m \u001b[1;33m=\u001b[0m \u001b[0mdf\u001b[0m\u001b[1;33m[\u001b[0m\u001b[1;34m'Review_1'\u001b[0m\u001b[1;33m]\u001b[0m\u001b[1;33m.\u001b[0m\u001b[0mapply\u001b[0m\u001b[1;33m(\u001b[0m\u001b[1;32mlambda\u001b[0m \u001b[0mx\u001b[0m\u001b[1;33m:\u001b[0m \u001b[0mTextBlob\u001b[0m\u001b[1;33m(\u001b[0m\u001b[0mx\u001b[0m\u001b[1;33m)\u001b[0m\u001b[1;33m.\u001b[0m\u001b[0mpolarity\u001b[0m\u001b[1;33m)\u001b[0m\u001b[1;33m\u001b[0m\u001b[1;33m\u001b[0m\u001b[0m\n\u001b[0m\u001b[0;32m      2\u001b[0m \u001b[0mdf\u001b[0m\u001b[1;33m[\u001b[0m\u001b[1;34m'Review_2'\u001b[0m\u001b[1;33m]\u001b[0m \u001b[1;33m=\u001b[0m \u001b[0mdf\u001b[0m\u001b[1;33m[\u001b[0m\u001b[1;34m'Review_2'\u001b[0m\u001b[1;33m]\u001b[0m\u001b[1;33m.\u001b[0m\u001b[0mapply\u001b[0m\u001b[1;33m(\u001b[0m\u001b[1;32mlambda\u001b[0m \u001b[0mx\u001b[0m\u001b[1;33m:\u001b[0m \u001b[0mTextBlob\u001b[0m\u001b[1;33m(\u001b[0m\u001b[0mx\u001b[0m\u001b[1;33m)\u001b[0m\u001b[1;33m.\u001b[0m\u001b[0mpolarity\u001b[0m\u001b[1;33m)\u001b[0m\u001b[1;33m\u001b[0m\u001b[1;33m\u001b[0m\u001b[0m\n",
      "\u001b[1;31mNameError\u001b[0m: name 'TextBlob' is not defined"
     ]
    }
   ],
   "source": [
    "df['Review_1'] = df['Review_1'].apply(lambda x: TextBlob(x).polarity)\n",
    "df['Review_2'] = df['Review_2'].apply(lambda x: TextBlob(x).polarity)"
   ]
  },
  {
   "cell_type": "code",
   "execution_count": null,
   "metadata": {
    "scrolled": false
   },
   "outputs": [],
   "source": [
    "#df['review_dates'] = df['reviews'].apply(lambda x: re.findall(r\"\\d+\\/\\d+\\/\\d+\",x))\n",
    "#df['review_dates'] = df['review_dates'].apply(review_dates)\n",
    "#на выходе массив дат в datetime формате"
   ]
  },
  {
   "cell_type": "code",
   "execution_count": null,
   "metadata": {},
   "outputs": [],
   "source": [
    "\n",
    "\n",
    "#df['time_delta'] = df['review_dates'].apply(date_delta)\n",
    "\n",
    "\n",
    "#year = datetime.timedelta(days=365)\n",
    "#df['review_deltas'] = df['review_dates'].apply(date_delta)\n",
    "#len(df[df.time_delta > year])"
   ]
  },
  {
   "cell_type": "markdown",
   "metadata": {},
   "source": [
    "### разделим сити_ранг ресторана на количество ресторанов в данном городе"
   ]
  },
  {
   "cell_type": "code",
   "execution_count": null,
   "metadata": {},
   "outputs": [],
   "source": [
    "resto_per_city = df.city.value_counts().to_dict()\n",
    "#df['n_of_restos'] = 0\n",
    "\n",
    "#for index, row in df.iterrows():\n",
    "#    row['n_of_restos'] = resto_per_city[row['city']]\n"
   ]
  },
  {
   "cell_type": "markdown",
   "metadata": {},
   "source": [
    "### добавляем данные по ВВП на душу населения"
   ]
  },
  {
   "cell_type": "code",
   "execution_count": null,
   "metadata": {
    "scrolled": true
   },
   "outputs": [],
   "source": [
    "cities = pd.read_excel('Cities.xls')\n",
    "df = pd.merge(df, cities, on='city')\n",
    "df.info()"
   ]
  },
  {
   "cell_type": "markdown",
   "metadata": {},
   "source": [
    "### нормируем ранг на количество ресторанов в городе"
   ]
  },
  {
   "cell_type": "code",
   "execution_count": null,
   "metadata": {},
   "outputs": [],
   "source": [
    "for x in (df['city'].value_counts())[0:10].index:\n",
    "    df['city_rank'][df['city'] == x].hist(bins=100)\n",
    "plt.show()"
   ]
  },
  {
   "cell_type": "code",
   "execution_count": null,
   "metadata": {},
   "outputs": [],
   "source": [
    "\n",
    "df['num_of_resto'] = df.city.apply(replace_city)\n",
    "df.city_rank = df.city_rank/df.num_of_resto #norm per number of resto in a city\n",
    "#df.num_of_resto = df.num_of_resto/df.population #per 1000 people\n",
    "#df.num_of_reviews = df.num_of_reviews/df.population*1000 #per 1 000 000 people\n",
    "#df.price = df.price/df.gdp*10000 #price range norm per GDP\n",
    "#df.drop(columns=['city'], inplace=True)"
   ]
  },
  {
   "cell_type": "code",
   "execution_count": null,
   "metadata": {},
   "outputs": [],
   "source": [
    "for x in (df['city'].value_counts())[0:10].index:\n",
    "    df['city_rank'][df['city'] == x].hist(bins=100)\n",
    "plt.show()"
   ]
  },
  {
   "cell_type": "markdown",
   "metadata": {},
   "source": [
    "### добавим dummy переменную по городам"
   ]
  },
  {
   "cell_type": "code",
   "execution_count": null,
   "metadata": {},
   "outputs": [],
   "source": [
    "#добавим dummy переменную по городам\n",
    "dummy = pd.get_dummies(df.city)\n",
    "#df.drop(columns='city', inplace=True)\n",
    "df = pd.concat([df, dummy], axis=1)\n"
   ]
  },
  {
   "cell_type": "code",
   "execution_count": null,
   "metadata": {
    "scrolled": false
   },
   "outputs": [],
   "source": [
    "df = df.select_dtypes(exclude='object')"
   ]
  },
  {
   "cell_type": "code",
   "execution_count": null,
   "metadata": {},
   "outputs": [],
   "source": [
    "df.to_csv('5&dummies.csv', index=False)"
   ]
  },
  {
   "cell_type": "code",
   "execution_count": null,
   "metadata": {},
   "outputs": [],
   "source": [
    "df.sample(5)"
   ]
  },
  {
   "cell_type": "code",
   "execution_count": null,
   "metadata": {},
   "outputs": [],
   "source": []
  }
 ],
 "metadata": {
  "kernelspec": {
   "display_name": "Python 3",
   "language": "python",
   "name": "python3"
  },
  "language_info": {
   "codemirror_mode": {
    "name": "ipython",
    "version": 3
   },
   "file_extension": ".py",
   "mimetype": "text/x-python",
   "name": "python",
   "nbconvert_exporter": "python",
   "pygments_lexer": "ipython3",
   "version": "3.8.5"
  }
 },
 "nbformat": 4,
 "nbformat_minor": 4
}
