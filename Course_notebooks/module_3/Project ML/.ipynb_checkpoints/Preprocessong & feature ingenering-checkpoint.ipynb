{
 "cells": [
  {
   "cell_type": "code",
   "execution_count": 344,
   "metadata": {},
   "outputs": [],
   "source": [
    "import pandas as pd\n",
    "import numpy as np\n",
    "import matplotlib.pyplot as plt\n",
    "import math\n",
    "from collections import Counter\n",
    "import datetime\n",
    "import re\n",
    "import seaborn as sns"
   ]
  },
  {
   "cell_type": "markdown",
   "metadata": {},
   "source": [
    "### 1. Функции обработки датасета"
   ]
  },
  {
   "cell_type": "code",
   "execution_count": 345,
   "metadata": {},
   "outputs": [],
   "source": [
    "#функция замены ценовой категории на цифру\n",
    "def replace_price_tag(tag):\n",
    "    return price_dict[tag]\n",
    "\n",
    "#функция заменяет NaN-значения в количестве отзыов на 0 или один (оптимизировать,)\n",
    "def nan_review_attribution(df, na_col, rev_col):    \n",
    "    gen = (i for i in df[na_col].index if np.isnan(df[na_col][i]))\n",
    "    for i in gen:\n",
    "        df.at[i, na_col] = len(re.findall(r\"\\d+\\/\\d+\\/\\d+\", df[rev_col][i]))\n",
    "    return df[na_col]\n",
    "\n",
    "\n",
    "#функция возвращает список дат (в типе datetime) последних отзывов\n",
    "def review_dates(lst):\n",
    "    date_list =[]\n",
    "    if len(lst):\n",
    "        for date in lst:\n",
    "            date_list.append(pd.to_datetime(date))\n",
    "        return date_list\n",
    "    else:\n",
    "        return None\n",
    "    \n",
    "#возвращает количество стилей кухни\n",
    "def cuisine_number(string):\n",
    "    if pd.isnull(string):\n",
    "        return 3\n",
    "    else:\n",
    "        return len(re.findall(r\"\\w+\\s*\\w+\\s*\\w+\\s*\\w+\\s*\\w+\\s*\",str(string)))\n",
    "    \n",
    "#возвращает даты последних отзывов\n",
    "def review_dates(lst):\n",
    "    date_list =[]\n",
    "    if len(lst):\n",
    "        for date in lst:\n",
    "            date_list.append(pd.to_datetime(date).date())\n",
    "        return date_list\n",
    "    else:\n",
    "        return None"
   ]
  },
  {
   "cell_type": "markdown",
   "metadata": {},
   "source": [
    "### 2. Открываем датасет"
   ]
  },
  {
   "cell_type": "code",
   "execution_count": 346,
   "metadata": {},
   "outputs": [
    {
     "name": "stdout",
     "output_type": "stream",
     "text": [
      "<class 'pandas.core.frame.DataFrame'>\n",
      "RangeIndex: 40000 entries, 0 to 39999\n",
      "Data columns (total 10 columns):\n",
      " #   Column             Non-Null Count  Dtype  \n",
      "---  ------             --------------  -----  \n",
      " 0   Restaurant_id      40000 non-null  object \n",
      " 1   City               40000 non-null  object \n",
      " 2   Cuisine Style      30717 non-null  object \n",
      " 3   Ranking            40000 non-null  float64\n",
      " 4   Rating             40000 non-null  float64\n",
      " 5   Price Range        26114 non-null  object \n",
      " 6   Number of Reviews  37457 non-null  float64\n",
      " 7   Reviews            40000 non-null  object \n",
      " 8   URL_TA             40000 non-null  object \n",
      " 9   ID_TA              40000 non-null  object \n",
      "dtypes: float64(3), object(7)\n",
      "memory usage: 3.1+ MB\n"
     ]
    }
   ],
   "source": [
    "df = pd.read_csv('main_task_new.csv')\n",
    "df.info()"
   ]
  },
  {
   "cell_type": "markdown",
   "metadata": {},
   "source": [
    "#### 2.1 Предобработка датасета"
   ]
  },
  {
   "cell_type": "code",
   "execution_count": 347,
   "metadata": {},
   "outputs": [],
   "source": [
    "df.columns = ['id','city','style','city_rank','rating','price','num_of_reviews','reviews','url_ta','id_ta']"
   ]
  },
  {
   "cell_type": "code",
   "execution_count": 348,
   "metadata": {},
   "outputs": [],
   "source": [
    "#заменяем нан в количестве отзывов на ноль или 1\n",
    "\n",
    "df['num_of_reviews'] = nan_review_attribution(df, 'num_of_reviews','reviews')"
   ]
  },
  {
   "cell_type": "markdown",
   "metadata": {},
   "source": [
    "#### заменяем текстовую ценовую категорию на числовую"
   ]
  },
  {
   "cell_type": "code",
   "execution_count": 349,
   "metadata": {},
   "outputs": [
    {
     "data": {
      "text/plain": [
       "{'$$ - $$$': 2.5, nan: 1, '$$$$': 5, '$': 1}"
      ]
     },
     "execution_count": 349,
     "metadata": {},
     "output_type": "execute_result"
    }
   ],
   "source": [
    "#ранжируем ценовую категорию, нан заменяем на самый частый случай (потом можно еще будет подумать. \n",
    "# Вообще можно будет ее получить из города типа кухни и другиз факторов через модель)\n",
    "keys = df.price.unique()\n",
    "values = [2.5, 1, 5, 1]\n",
    "price_dict = {keys[i]: values[i] for i in range(len(keys))}\n",
    "price_dict"
   ]
  },
  {
   "cell_type": "code",
   "execution_count": 350,
   "metadata": {},
   "outputs": [],
   "source": [
    "\n",
    "df.price = df.price.apply(replace_price_tag)"
   ]
  },
  {
   "cell_type": "markdown",
   "metadata": {},
   "source": [
    "#### Работаем со стилями кухни. Разбиваем на массив и создаем колонку с количеством представленных кухонь. NaN заменяем на среднее"
   ]
  },
  {
   "cell_type": "code",
   "execution_count": 351,
   "metadata": {
    "scrolled": false
   },
   "outputs": [],
   "source": [
    "df['num_of_cuisines'] = df['style'].apply(cuisine_number) "
   ]
  },
  {
   "cell_type": "markdown",
   "metadata": {},
   "source": [
    "### работаем с датами"
   ]
  },
  {
   "cell_type": "code",
   "execution_count": 352,
   "metadata": {
    "scrolled": false
   },
   "outputs": [],
   "source": [
    "df['review_dates'] = df['reviews'].apply(lambda x: re.findall(r\"\\d+\\/\\d+\\/\\d+\",x))\n",
    "df['review_dates'] = df['review_dates'].apply(review_dates)\n",
    "#на выходе массив дат в datetime формате"
   ]
  },
  {
   "cell_type": "code",
   "execution_count": 353,
   "metadata": {},
   "outputs": [],
   "source": [
    "def date_delta(lst):\n",
    "    if lst:\n",
    "        return abs(lst[0]-lst[-1]).days\n",
    "    else:\n",
    "        return 0\n",
    "\n",
    "df['time_delta'] = df['review_dates'].apply(date_delta)\n",
    "\n",
    "\n",
    "#year = datetime.timedelta(days=365)\n",
    "#df['review_deltas'] = df['review_dates'].apply(date_delta)\n",
    "#len(df[df['review_deltas'] > year])"
   ]
  },
  {
   "cell_type": "markdown",
   "metadata": {},
   "source": [
    "### добавим dummy переменную по городам"
   ]
  },
  {
   "cell_type": "code",
   "execution_count": 354,
   "metadata": {},
   "outputs": [],
   "source": [
    "#добавим dummy переменную по городам\n",
    "dummy = pd.get_dummies(df.city)\n",
    "df.drop(columns='city', inplace=True)\n",
    "df = pd.concat([df, dummy], axis=1)"
   ]
  },
  {
   "cell_type": "code",
   "execution_count": 355,
   "metadata": {
    "scrolled": false
   },
   "outputs": [],
   "source": [
    "df = df.select_dtypes(exclude='object')"
   ]
  },
  {
   "cell_type": "code",
   "execution_count": 356,
   "metadata": {},
   "outputs": [],
   "source": [
    "df.to_csv('5&dummies.csv', index=False)"
   ]
  },
  {
   "cell_type": "markdown",
   "metadata": {},
   "source": [
    "# дальше мусор"
   ]
  },
  {
   "cell_type": "code",
   "execution_count": 96,
   "metadata": {},
   "outputs": [],
   "source": [
    "cuisine_counter = Counter()\n",
    "for item in df['style']:\n",
    "    for element in item:\n",
    "        cuisine_counter[element] += 1\n",
    "        "
   ]
  },
  {
   "cell_type": "code",
   "execution_count": null,
   "metadata": {},
   "outputs": [],
   "source": [
    "# смотрим на отзывы ресотранов с НаН числом оизывов. Это один или ноль отзывов.\n",
    "test = df[df['Number of Reviews'].isna()].copy()\n",
    "test['review_dates'] = test['Reviews'].apply(lambda x: re.findall(r\"\\d+\\/\\d+\\/\\d+\",x))\n",
    "test['review_dates'].apply(lambda x: len(x)).value_counts()\n",
    "\n",
    "#gen = (i for rev_num in na_col if na_col.iloc[i].isna()) "
   ]
  },
  {
   "cell_type": "code",
   "execution_count": 11,
   "metadata": {},
   "outputs": [
    {
     "name": "stderr",
     "output_type": "stream",
     "text": [
      "<ipython-input-11-b051182c8e4f>:1: SettingWithCopyWarning: \n",
      "A value is trying to be set on a copy of a slice from a DataFrame.\n",
      "Try using .loc[row_indexer,col_indexer] = value instead\n",
      "\n",
      "See the caveats in the documentation: https://pandas.pydata.org/pandas-docs/stable/user_guide/indexing.html#returning-a-view-versus-a-copy\n",
      "  test['review_dates'] = test['Reviews'].apply(lambda x: re.findall(r\"\\d+\\/\\d+\\/\\d+\",x))\n"
     ]
    },
    {
     "ename": "NameError",
     "evalue": "name 'review_dates' is not defined",
     "output_type": "error",
     "traceback": [
      "\u001b[1;31m---------------------------------------------------------------------------\u001b[0m",
      "\u001b[1;31mNameError\u001b[0m                                 Traceback (most recent call last)",
      "\u001b[1;32m<ipython-input-11-b051182c8e4f>\u001b[0m in \u001b[0;36m<module>\u001b[1;34m\u001b[0m\n\u001b[0;32m      1\u001b[0m \u001b[0mtest\u001b[0m\u001b[1;33m[\u001b[0m\u001b[1;34m'review_dates'\u001b[0m\u001b[1;33m]\u001b[0m \u001b[1;33m=\u001b[0m \u001b[0mtest\u001b[0m\u001b[1;33m[\u001b[0m\u001b[1;34m'Reviews'\u001b[0m\u001b[1;33m]\u001b[0m\u001b[1;33m.\u001b[0m\u001b[0mapply\u001b[0m\u001b[1;33m(\u001b[0m\u001b[1;32mlambda\u001b[0m \u001b[0mx\u001b[0m\u001b[1;33m:\u001b[0m \u001b[0mre\u001b[0m\u001b[1;33m.\u001b[0m\u001b[0mfindall\u001b[0m\u001b[1;33m(\u001b[0m\u001b[1;34mr\"\\d+\\/\\d+\\/\\d+\"\u001b[0m\u001b[1;33m,\u001b[0m\u001b[0mx\u001b[0m\u001b[1;33m)\u001b[0m\u001b[1;33m)\u001b[0m\u001b[1;33m\u001b[0m\u001b[1;33m\u001b[0m\u001b[0m\n\u001b[1;32m----> 2\u001b[1;33m \u001b[0mtest\u001b[0m\u001b[1;33m[\u001b[0m\u001b[1;34m'review_dates'\u001b[0m\u001b[1;33m]\u001b[0m \u001b[1;33m=\u001b[0m \u001b[0mtest\u001b[0m\u001b[1;33m[\u001b[0m\u001b[1;34m'review_dates'\u001b[0m\u001b[1;33m]\u001b[0m\u001b[1;33m.\u001b[0m\u001b[0mapply\u001b[0m\u001b[1;33m(\u001b[0m\u001b[0mreview_dates\u001b[0m\u001b[1;33m)\u001b[0m\u001b[1;33m\u001b[0m\u001b[1;33m\u001b[0m\u001b[0m\n\u001b[0m\u001b[0;32m      3\u001b[0m \u001b[0mtest\u001b[0m\u001b[1;33m[\u001b[0m\u001b[1;34m'review_dates'\u001b[0m\u001b[1;33m]\u001b[0m\u001b[1;33m\u001b[0m\u001b[1;33m\u001b[0m\u001b[0m\n",
      "\u001b[1;31mNameError\u001b[0m: name 'review_dates' is not defined"
     ]
    }
   ],
   "source": [
    "test['review_dates'] = test['Reviews'].apply(lambda x: re.findall(r\"\\d+\\/\\d+\\/\\d+\",x))\n",
    "test['review_dates'] = test['review_dates'].apply(review_dates)\n",
    "test['review_dates']"
   ]
  },
  {
   "cell_type": "code",
   "execution_count": 39,
   "metadata": {},
   "outputs": [
    {
     "data": {
      "text/html": [
       "<div>\n",
       "<style scoped>\n",
       "    .dataframe tbody tr th:only-of-type {\n",
       "        vertical-align: middle;\n",
       "    }\n",
       "\n",
       "    .dataframe tbody tr th {\n",
       "        vertical-align: top;\n",
       "    }\n",
       "\n",
       "    .dataframe thead th {\n",
       "        text-align: right;\n",
       "    }\n",
       "</style>\n",
       "<table border=\"1\" class=\"dataframe\">\n",
       "  <thead>\n",
       "    <tr style=\"text-align: right;\">\n",
       "      <th></th>\n",
       "      <th>Restaurant_id</th>\n",
       "      <th>City</th>\n",
       "      <th>Cuisine Style</th>\n",
       "      <th>Ranking</th>\n",
       "      <th>Rating</th>\n",
       "      <th>Price Range</th>\n",
       "      <th>Number of Reviews</th>\n",
       "      <th>Reviews</th>\n",
       "      <th>URL_TA</th>\n",
       "      <th>ID_TA</th>\n",
       "      <th>review_dates</th>\n",
       "      <th>buffer</th>\n",
       "    </tr>\n",
       "  </thead>\n",
       "  <tbody>\n",
       "    <tr>\n",
       "      <th>9254</th>\n",
       "      <td>id_12965</td>\n",
       "      <td>London</td>\n",
       "      <td>[Cafe, French]</td>\n",
       "      <td>12975.0</td>\n",
       "      <td>3.5</td>\n",
       "      <td>$$ - $$$</td>\n",
       "      <td>31.0</td>\n",
       "      <td>[['The desserts arcade !', 'Visit today 3/1/20...</td>\n",
       "      <td>/Restaurant_Review-g186338-d1017372-Reviews-Ma...</td>\n",
       "      <td>d1017372</td>\n",
       "      <td>[2017-03-01 00:00:00, 2017-06-02 00:00:00, 201...</td>\n",
       "      <td>3</td>\n",
       "    </tr>\n",
       "    <tr>\n",
       "      <th>23348</th>\n",
       "      <td>id_450</td>\n",
       "      <td>Geneva</td>\n",
       "      <td>[French, European]</td>\n",
       "      <td>453.0</td>\n",
       "      <td>4.0</td>\n",
       "      <td>$$ - $$$</td>\n",
       "      <td>48.0</td>\n",
       "      <td>[['lunch 29/9/2016', 'Unplanned Great Dinner']...</td>\n",
       "      <td>/Restaurant_Review-g188057-d2706773-Reviews-Le...</td>\n",
       "      <td>d2706773</td>\n",
       "      <td>[2016-09-29 00:00:00, 2016-09-30 00:00:00, 201...</td>\n",
       "      <td>3</td>\n",
       "    </tr>\n",
       "  </tbody>\n",
       "</table>\n",
       "</div>"
      ],
      "text/plain": [
       "      Restaurant_id    City       Cuisine Style  Ranking  Rating Price Range  \\\n",
       "9254       id_12965  London      [Cafe, French]  12975.0     3.5    $$ - $$$   \n",
       "23348        id_450  Geneva  [French, European]    453.0     4.0    $$ - $$$   \n",
       "\n",
       "       Number of Reviews                                            Reviews  \\\n",
       "9254                31.0  [['The desserts arcade !', 'Visit today 3/1/20...   \n",
       "23348               48.0  [['lunch 29/9/2016', 'Unplanned Great Dinner']...   \n",
       "\n",
       "                                                  URL_TA     ID_TA  \\\n",
       "9254   /Restaurant_Review-g186338-d1017372-Reviews-Ma...  d1017372   \n",
       "23348  /Restaurant_Review-g188057-d2706773-Reviews-Le...  d2706773   \n",
       "\n",
       "                                            review_dates  buffer  \n",
       "9254   [2017-03-01 00:00:00, 2017-06-02 00:00:00, 201...       3  \n",
       "23348  [2016-09-29 00:00:00, 2016-09-30 00:00:00, 201...       3  "
      ]
     },
     "execution_count": 39,
     "metadata": {},
     "output_type": "execute_result"
    }
   ],
   "source": [
    "df.dropna(axis=0, subset=['review_dates'], inplace=True)\n",
    "#df['review_dates'].iloc[0][0]-df['review_dates'].iloc[0][1]\n",
    "df['buffer'] = df['review_dates'].apply(lambda x: len(x))\n",
    "df[df['buffer'] == 3]"
   ]
  },
  {
   "cell_type": "code",
   "execution_count": null,
   "metadata": {},
   "outputs": [],
   "source": [
    "df['review_dates'] = df['review_dates'].apply(review_dates)\n"
   ]
  },
  {
   "cell_type": "code",
   "execution_count": null,
   "metadata": {},
   "outputs": [],
   "source": [
    "df['review_dates'].info()"
   ]
  },
  {
   "cell_type": "code",
   "execution_count": null,
   "metadata": {},
   "outputs": [],
   "source": []
  }
 ],
 "metadata": {
  "kernelspec": {
   "display_name": "Python 3",
   "language": "python",
   "name": "python3"
  },
  "language_info": {
   "codemirror_mode": {
    "name": "ipython",
    "version": 3
   },
   "file_extension": ".py",
   "mimetype": "text/x-python",
   "name": "python",
   "nbconvert_exporter": "python",
   "pygments_lexer": "ipython3",
   "version": "3.8.5"
  }
 },
 "nbformat": 4,
 "nbformat_minor": 4
}
