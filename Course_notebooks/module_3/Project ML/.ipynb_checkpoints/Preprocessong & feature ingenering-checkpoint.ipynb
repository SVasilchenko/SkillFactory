{
 "cells": [
  {
   "cell_type": "code",
   "execution_count": 81,
   "metadata": {},
   "outputs": [],
   "source": [
    "import pandas as pd\n",
    "import numpy as np\n",
    "import matplotlib.pyplot as plt\n",
    "import math\n",
    "from collections import Counter\n",
    "from datetime import datetime, timedelta\n",
    "import re\n",
    "import seaborn as sns\n",
    "from textblob import TextBlob"
   ]
  },
  {
   "cell_type": "markdown",
   "metadata": {},
   "source": [
    "### 1. Функции обработки датасета"
   ]
  },
  {
   "cell_type": "code",
   "execution_count": 96,
   "metadata": {},
   "outputs": [],
   "source": [
    "#функция замены ценовой категории на цифру\n",
    "def replace_price_tag(tag):\n",
    "    return price_dict[tag]\n",
    "\n",
    "#функция заменяет NaN-значения в количестве отзыов на 0 или один (оптимизировать,)\n",
    "def nan_review_attribution(df, na_col, rev_col):    \n",
    "    gen = (i for i in df[na_col].index if np.isnan(df[na_col][i]))\n",
    "    for i in gen:\n",
    "        df.at[i, na_col] = len(re.findall(r\"\\d+\\/\\d+\\/\\d+\", df[rev_col][i]))\n",
    "    return df[na_col]\n",
    "\n",
    "\n",
    "#функция возвращает список дат (тип datetime) последних отзывов\n",
    "def review_dates(lst):\n",
    "    date_list =[]\n",
    "    if len(lst):\n",
    "        for date in lst:\n",
    "            date_list.append(pd.to_datetime(date))\n",
    "        return date_list\n",
    "    else:\n",
    "        return None\n",
    "    \n",
    "#возвращает количество стилей кухни\n",
    "def cuisine_number(string):\n",
    "    if pd.isnull(string):\n",
    "        return 3\n",
    "    else:\n",
    "        return len(re.findall(r\"\\'[\\w+\\s*]+\\'\",str(string)))\n",
    "    \n",
    "#возвращает время в днях между последними двумя отзывами\n",
    "def date_delta(lst):\n",
    "    if lst:\n",
    "        return abs(lst[0]-lst[-1]).days\n",
    "    else:\n",
    "        return 0\n",
    "\n",
    "def city_resto_num(city):\n",
    "    return resto_per_city[city]"
   ]
  },
  {
   "cell_type": "markdown",
   "metadata": {},
   "source": [
    "### 2. Открываем датасет"
   ]
  },
  {
   "cell_type": "code",
   "execution_count": 97,
   "metadata": {
    "scrolled": true
   },
   "outputs": [
    {
     "name": "stdout",
     "output_type": "stream",
     "text": [
      "<class 'pandas.core.frame.DataFrame'>\n",
      "RangeIndex: 40000 entries, 0 to 39999\n",
      "Data columns (total 10 columns):\n",
      " #   Column             Non-Null Count  Dtype  \n",
      "---  ------             --------------  -----  \n",
      " 0   Restaurant_id      40000 non-null  object \n",
      " 1   City               40000 non-null  object \n",
      " 2   Cuisine Style      30717 non-null  object \n",
      " 3   Ranking            40000 non-null  float64\n",
      " 4   Rating             40000 non-null  float64\n",
      " 5   Price Range        26114 non-null  object \n",
      " 6   Number of Reviews  37457 non-null  float64\n",
      " 7   Reviews            40000 non-null  object \n",
      " 8   URL_TA             40000 non-null  object \n",
      " 9   ID_TA              40000 non-null  object \n",
      "dtypes: float64(3), object(7)\n",
      "memory usage: 3.1+ MB\n"
     ]
    }
   ],
   "source": [
    "df = pd.read_csv('main_task_new.csv')\n",
    "df.info()"
   ]
  },
  {
   "cell_type": "markdown",
   "metadata": {},
   "source": [
    "#### 2.1 Предобработка датасета"
   ]
  },
  {
   "cell_type": "code",
   "execution_count": 98,
   "metadata": {},
   "outputs": [],
   "source": [
    "df.columns = ['id','city','style','city_rank','rating','price','num_of_reviews','reviews','url_ta','id_ta']"
   ]
  },
  {
   "cell_type": "code",
   "execution_count": 99,
   "metadata": {},
   "outputs": [],
   "source": [
    "#cities = df.city.value_counts()\n",
    "#cities.to_excel('Cities.xls')"
   ]
  },
  {
   "cell_type": "code",
   "execution_count": 100,
   "metadata": {},
   "outputs": [],
   "source": [
    "#заменяем нан в количестве отзывов на ноль или 1\n",
    "#df['Number_of_Reviews_isNAN'] = pd.isna(df['num_of_reviews']).astype('uint8')\n",
    "df['num_of_reviews'] = nan_review_attribution(df, 'num_of_reviews','reviews')"
   ]
  },
  {
   "cell_type": "markdown",
   "metadata": {},
   "source": [
    "#### заменяем текстовую ценовую категорию на числовую"
   ]
  },
  {
   "cell_type": "code",
   "execution_count": 101,
   "metadata": {},
   "outputs": [
    {
     "name": "stdout",
     "output_type": "stream",
     "text": [
      "$$ - $$$    18412\n",
      "$            6279\n",
      "$$$$         1423\n",
      "Name: price, dtype: int64\n"
     ]
    }
   ],
   "source": [
    "print(df.price.value_counts())\n",
    "df.price.fillna('$$ - $$$',inplace=True)"
   ]
  },
  {
   "cell_type": "code",
   "execution_count": 102,
   "metadata": {},
   "outputs": [
    {
     "data": {
      "text/plain": [
       "array(['$$ - $$$', '$$$$', '$'], dtype=object)"
      ]
     },
     "execution_count": 102,
     "metadata": {},
     "output_type": "execute_result"
    }
   ],
   "source": [
    "#ранжируем ценовую категорию, нан заменяем на самый частый случай (потом можно еще будет подумать. \n",
    "# Вообще можно будет ее получить из города типа кухни и другиз факторов через модель)\n",
    "df.price.unique()"
   ]
  },
  {
   "cell_type": "code",
   "execution_count": 103,
   "metadata": {},
   "outputs": [],
   "source": [
    "price_dict = {'$':1, '$$ - $$$':2, '$$$$':3}"
   ]
  },
  {
   "cell_type": "code",
   "execution_count": 104,
   "metadata": {},
   "outputs": [],
   "source": [
    "\n",
    "df.price = df.price.apply(replace_price_tag)"
   ]
  },
  {
   "cell_type": "code",
   "execution_count": 105,
   "metadata": {},
   "outputs": [
    {
     "data": {
      "text/plain": [
       "0        2\n",
       "1        2\n",
       "2        3\n",
       "3        2\n",
       "4        2\n",
       "        ..\n",
       "39995    2\n",
       "39996    2\n",
       "39997    2\n",
       "39998    2\n",
       "39999    2\n",
       "Name: price, Length: 40000, dtype: int64"
      ]
     },
     "execution_count": 105,
     "metadata": {},
     "output_type": "execute_result"
    }
   ],
   "source": [
    "df.price"
   ]
  },
  {
   "cell_type": "markdown",
   "metadata": {},
   "source": [
    "#### Работаем со стилями кухни. Разбиваем на массив и создаем колонку с количеством представленных кухонь. NaN заменяем на среднее"
   ]
  },
  {
   "cell_type": "code",
   "execution_count": 106,
   "metadata": {
    "scrolled": false
   },
   "outputs": [],
   "source": [
    "df['num_of_cuisines'] = df['style'].apply(cuisine_number) "
   ]
  },
  {
   "cell_type": "markdown",
   "metadata": {},
   "source": [
    "### работаем с датами"
   ]
  },
  {
   "cell_type": "code",
   "execution_count": 10,
   "metadata": {},
   "outputs": [],
   "source": [
    "def change_reviews(data, df_columns):\n",
    "    \"\"\" Функция принимает на вход ДФ и колонку с отзывами.\n",
    "    Создаёт новые колонки в ДФ:\n",
    "    Review_1 - c текстом первого отзыва;\n",
    "    Review_2 - с текстом второго отзыва;\n",
    "    How_long_ago_1 - сколько дней назад написан первый отзыв;\n",
    "    How_long_ago_2 - сколько дней назад написан второй отзыв;\n",
    "    Day1_2 - разница в днях написания первого и второго отзыва;\n",
    "    Day_of_week_1 - день недели написания первого отзыва;\n",
    "    Day_of_week_2 - день недели написания второго отзыва;\n",
    "    Month_1 - месяц написания первого отзыва;\n",
    "    Month_2 - месяц написания второго отзыва\"\"\"\n",
    "    df_columns.fillna('[[], []]', inplace=True)\n",
    "    data['Two_reviews'] = df_columns.apply(lambda x: x.split('],')[0].split(\"',\"))\n",
    "    # Создаёт две колонки с текстами отзывов\n",
    "    data['Review_1'] = data['Two_reviews'].apply(lambda x: x[0])\n",
    "    data['Review_2'] = data['Two_reviews'].apply(lambda x: x[-1])\n",
    "    data['Review_1'] = data['Review_1'].apply(\n",
    "        lambda x: x.replace('[', '').replace(\"'\", '').replace('\"', ''))\n",
    "    data['Review_2'] = data['Review_2'].apply(\n",
    "        lambda x: x.replace('[', '').replace(\"'\", '').replace('\"', ''))\n",
    "    data.drop('Two_reviews', axis=1, inplace=True)\n",
    "\n",
    "    # Удалим повторы, если отзыв был один и он продублировался в столбец Review_2\n",
    "    data['Review_2'] = data[['Review_2', 'Review_1']].apply(\n",
    "        lambda x: '' if x[0] == x[1] else x[0], axis=1)\n",
    "\n",
    "    # Работа с датами\n",
    "    data['Days_reviews'] = df_columns.apply(\n",
    "        lambda x: x.split('],')[-1].split(\"',\"))\n",
    "    data['Day_1'] = data['Days_reviews'].apply(lambda x: x[0])\n",
    "    data['Day_2'] = data['Days_reviews'].apply(lambda x: x[-1])\n",
    "    data['Day_1'] = data['Day_1'].apply(\n",
    "        lambda x: x.replace('[', '').replace(\"'\", '').replace(']', '').replace(' ', '').replace('\"', ''))\n",
    "    data['Day_2'] = data['Day_2'].apply(\n",
    "        lambda x: x.replace('[', '').replace(\"'\", '').replace(']', '').replace(' ', '').replace('\"', ''))\n",
    "    data.drop('Days_reviews', axis=1, inplace=True)\n",
    "\n",
    "    # Удалим вторую дату (дубликат первой), если отзыв был всего один\n",
    "    data['Day_2'] = data[['Day_2', 'Review_2']].apply(\n",
    "        lambda x: '' if x[1] == '' else x[0], axis=1)\n",
    "\n",
    "    # Переведём данные в формат datetime.strptime для удобства дальнейшей работы\n",
    "    data['Day_1'] = data['Day_1'].apply(lambda x: x if len(\n",
    "        x) == 0 else datetime.strptime(x, '%m/%d/%Y'))\n",
    "    data['Day_2'] = data['Day_2'].apply(lambda x: x if len(\n",
    "        x) == 0 else datetime.strptime(x, '%m/%d/%Y'))\n",
    "\n",
    "    # Cоздаём колонки, показывающие сколько дней назад были написаны отзывы\n",
    "    data['How_long_ago_1'] = (datetime.today() - data['Day_1'])\n",
    "    data['How_long_ago_2'] = datetime.today() - data['Day_2']\n",
    "    data['How_long_ago_1'] = data['How_long_ago_1'].apply(lambda x: x.days)\n",
    "    data['How_long_ago_2'] = data['How_long_ago_2'].apply(lambda x: x.days)\n",
    "    # Если пропущены значения, то заменим на среднее\n",
    "    data['How_long_ago_1'].fillna(\n",
    "        round(data['How_long_ago_1'].mean()), inplace=True)\n",
    "    data['How_long_ago_2'].fillna(\n",
    "        round(data['How_long_ago_2'].mean()), inplace=True)\n",
    "\n",
    "    # Создаём колонку с разницей в датах отзывов\n",
    "    data['Day1_2'] = abs(data['Day_1'] - data['Day_2'])\n",
    "    data['Day_1'] = data['Day_1'].fillna(0)\n",
    "    data['Day_2'] = data['Day_2'].fillna(0)\n",
    "    data['Day1_2'] = data['Day1_2'].apply(lambda x: x.days)\n",
    "    data['Day1_2'] = data['Day1_2'].fillna(0)\n",
    "\n",
    "    # Создаём колонки с днями недели отзывов и месяцы\n",
    "    data['Day_of_week_1'] = data['Day_1'].apply(\n",
    "        lambda x: 0 if x == 0 else x.strftime('%A'))\n",
    "    data['Day_of_week_2'] = data['Day_2'].apply(\n",
    "        lambda x: 0 if x == 0 else x.strftime('%A'))\n",
    "    data['Month_1'] = data['Day_1'].apply(\n",
    "        lambda x: 0 if x == 0 else x.strftime('%m'))\n",
    "    data['Month_2'] = data['Day_2'].apply(\n",
    "        lambda x: 0 if x == 0 else x.strftime('%m'))\n",
    "\n",
    "    # Удаляем больше ненужные колонки\n",
    "    data.drop('Day_1', axis=1, inplace=True)\n",
    "    data.drop('Day_2', axis=1, inplace=True)\n",
    "    data.drop('reviews', axis=1, inplace=True)"
   ]
  },
  {
   "cell_type": "code",
   "execution_count": 11,
   "metadata": {},
   "outputs": [],
   "source": [
    "change_reviews(df,df['reviews'])"
   ]
  },
  {
   "cell_type": "code",
   "execution_count": 12,
   "metadata": {},
   "outputs": [],
   "source": [
    "df['Review_1'] = df['Review_1'].apply(lambda x: TextBlob(x).polarity)\n",
    "df['Review_2'] = df['Review_2'].apply(lambda x: TextBlob(x).polarity)"
   ]
  },
  {
   "cell_type": "code",
   "execution_count": 13,
   "metadata": {
    "scrolled": false
   },
   "outputs": [],
   "source": [
    "#df['review_dates'] = df['reviews'].apply(lambda x: re.findall(r\"\\d+\\/\\d+\\/\\d+\",x))\n",
    "#df['review_dates'] = df['review_dates'].apply(review_dates)\n",
    "#на выходе массив дат в datetime формате"
   ]
  },
  {
   "cell_type": "code",
   "execution_count": 14,
   "metadata": {},
   "outputs": [],
   "source": [
    "\n",
    "\n",
    "#df['time_delta'] = df['review_dates'].apply(date_delta)\n",
    "\n",
    "\n",
    "#year = datetime.timedelta(days=365)\n",
    "#df['review_deltas'] = df['review_dates'].apply(date_delta)\n",
    "#len(df[df.time_delta > year])"
   ]
  },
  {
   "cell_type": "markdown",
   "metadata": {},
   "source": [
    "### разделим сити_ранг ресторана на количество ресторанов в данном городе"
   ]
  },
  {
   "cell_type": "code",
   "execution_count": 15,
   "metadata": {},
   "outputs": [],
   "source": [
    "resto_per_city = df.city.value_counts().to_dict()\n",
    "#df['n_of_restos'] = 0\n",
    "\n",
    "#for index, row in df.iterrows():\n",
    "#    row['n_of_restos'] = resto_per_city[row['city']]\n"
   ]
  },
  {
   "cell_type": "markdown",
   "metadata": {},
   "source": [
    "### добавляем данные по ВВП на душу населения"
   ]
  },
  {
   "cell_type": "code",
   "execution_count": 16,
   "metadata": {
    "scrolled": true
   },
   "outputs": [
    {
     "name": "stdout",
     "output_type": "stream",
     "text": [
      "<class 'pandas.core.frame.DataFrame'>\n",
      "Int64Index: 40000 entries, 0 to 39999\n",
      "Data columns (total 22 columns):\n",
      " #   Column           Non-Null Count  Dtype  \n",
      "---  ------           --------------  -----  \n",
      " 0   id               40000 non-null  object \n",
      " 1   city             40000 non-null  object \n",
      " 2   style            30717 non-null  object \n",
      " 3   city_rank        40000 non-null  float64\n",
      " 4   rating           40000 non-null  float64\n",
      " 5   price            40000 non-null  float64\n",
      " 6   num_of_reviews   40000 non-null  float64\n",
      " 7   url_ta           40000 non-null  object \n",
      " 8   id_ta            40000 non-null  object \n",
      " 9   num_of_cuisines  40000 non-null  int64  \n",
      " 10  Review_1         40000 non-null  float64\n",
      " 11  Review_2         40000 non-null  float64\n",
      " 12  How_long_ago_1   40000 non-null  float64\n",
      " 13  How_long_ago_2   40000 non-null  float64\n",
      " 14  Day1_2           40000 non-null  float64\n",
      " 15  Day_of_week_1    40000 non-null  object \n",
      " 16  Day_of_week_2    40000 non-null  object \n",
      " 17  Month_1          40000 non-null  object \n",
      " 18  Month_2          40000 non-null  object \n",
      " 19  gdp              40000 non-null  int64  \n",
      " 20  country          40000 non-null  object \n",
      " 21  population       40000 non-null  int64  \n",
      "dtypes: float64(9), int64(3), object(10)\n",
      "memory usage: 7.0+ MB\n"
     ]
    }
   ],
   "source": [
    "cities = pd.read_excel('Cities.xls')\n",
    "df = pd.merge(df, cities, on='city')\n",
    "df.info()"
   ]
  },
  {
   "cell_type": "markdown",
   "metadata": {},
   "source": [
    "### нормируем ранг на количество ресторанов в городе"
   ]
  },
  {
   "cell_type": "code",
   "execution_count": 17,
   "metadata": {},
   "outputs": [
    {
     "data": {
      "image/png": "[encoded data removed]",
      "text/plain": [
       "<Figure size 432x288 with 1 Axes>"
      ]
     },
     "metadata": {
      "needs_background": "light"
     },
     "output_type": "display_data"
    }
   ],
   "source": [
    "for x in (df['city'].value_counts())[0:10].index:\n",
    "    df['city_rank'][df['city'] == x].hist(bins=100)\n",
    "plt.show()"
   ]
  },
  {
   "cell_type": "code",
   "execution_count": 18,
   "metadata": {},
   "outputs": [],
   "source": [
    "\n",
    "df['num_of_resto'] = df.city.apply(city_resto_num)\n",
    "df.city_rank = df.city_rank/df.num_of_resto #norm per number of resto in a city\n",
    "#df.num_of_resto = df.num_of_resto/df.population #per 1000 people\n",
    "#df.num_of_reviews = df.num_of_reviews/df.population*1000 #per 1 000 000 people\n",
    "#df.price = df.price/df.gdp*10000 #price range norm per GDP\n",
    "#df.drop(columns=['city'], inplace=True)"
   ]
  },
  {
   "cell_type": "code",
   "execution_count": 19,
   "metadata": {},
   "outputs": [
    {
     "data": {
      "image/png": "[encoded data removed]",
      "text/plain": [
       "<Figure size 432x288 with 1 Axes>"
      ]
     },
     "metadata": {
      "needs_background": "light"
     },
     "output_type": "display_data"
    }
   ],
   "source": [
    "for x in (df['city'].value_counts())[0:10].index:\n",
    "    df['city_rank'][df['city'] == x].hist(bins=100)\n",
    "plt.show()"
   ]
  },
  {
   "cell_type": "markdown",
   "metadata": {},
   "source": [
    "### добавим dummy переменную по городам"
   ]
  },
  {
   "cell_type": "code",
   "execution_count": 20,
   "metadata": {},
   "outputs": [],
   "source": [
    "#добавим dummy переменную по городам\n",
    "dummy = pd.get_dummies(df.city)\n",
    "#df.drop(columns='city', inplace=True)\n",
    "df = pd.concat([df, dummy], axis=1)\n"
   ]
  },
  {
   "cell_type": "code",
   "execution_count": 21,
   "metadata": {
    "scrolled": false
   },
   "outputs": [],
   "source": [
    "df = df.select_dtypes(exclude='object')"
   ]
  },
  {
   "cell_type": "code",
   "execution_count": 22,
   "metadata": {},
   "outputs": [],
   "source": [
    "df.to_csv('5&dummies.csv', index=False)"
   ]
  },
  {
   "cell_type": "code",
   "execution_count": 23,
   "metadata": {},
   "outputs": [
    {
     "data": {
      "text/html": [
       "<div>\n",
       "<style scoped>\n",
       "    .dataframe tbody tr th:only-of-type {\n",
       "        vertical-align: middle;\n",
       "    }\n",
       "\n",
       "    .dataframe tbody tr th {\n",
       "        vertical-align: top;\n",
       "    }\n",
       "\n",
       "    .dataframe thead th {\n",
       "        text-align: right;\n",
       "    }\n",
       "</style>\n",
       "<table border=\"1\" class=\"dataframe\">\n",
       "  <thead>\n",
       "    <tr style=\"text-align: right;\">\n",
       "      <th></th>\n",
       "      <th>city_rank</th>\n",
       "      <th>rating</th>\n",
       "      <th>price</th>\n",
       "      <th>num_of_reviews</th>\n",
       "      <th>num_of_cuisines</th>\n",
       "      <th>Review_1</th>\n",
       "      <th>Review_2</th>\n",
       "      <th>How_long_ago_1</th>\n",
       "      <th>How_long_ago_2</th>\n",
       "      <th>Day1_2</th>\n",
       "      <th>...</th>\n",
       "      <th>Munich</th>\n",
       "      <th>Oporto</th>\n",
       "      <th>Oslo</th>\n",
       "      <th>Paris</th>\n",
       "      <th>Prague</th>\n",
       "      <th>Rome</th>\n",
       "      <th>Stockholm</th>\n",
       "      <th>Vienna</th>\n",
       "      <th>Warsaw</th>\n",
       "      <th>Zurich</th>\n",
       "    </tr>\n",
       "  </thead>\n",
       "  <tbody>\n",
       "    <tr>\n",
       "      <th>35557</th>\n",
       "      <td>1.354123</td>\n",
       "      <td>5.0</td>\n",
       "      <td>1.0</td>\n",
       "      <td>0.0</td>\n",
       "      <td>6</td>\n",
       "      <td>0.0</td>\n",
       "      <td>0.0</td>\n",
       "      <td>1545.0</td>\n",
       "      <td>1613.0</td>\n",
       "      <td>0.0</td>\n",
       "      <td>...</td>\n",
       "      <td>0</td>\n",
       "      <td>0</td>\n",
       "      <td>0</td>\n",
       "      <td>0</td>\n",
       "      <td>1</td>\n",
       "      <td>0</td>\n",
       "      <td>0</td>\n",
       "      <td>0</td>\n",
       "      <td>0</td>\n",
       "      <td>0</td>\n",
       "    </tr>\n",
       "    <tr>\n",
       "      <th>9501</th>\n",
       "      <td>0.113775</td>\n",
       "      <td>4.0</td>\n",
       "      <td>2.5</td>\n",
       "      <td>371.0</td>\n",
       "      <td>4</td>\n",
       "      <td>0.7</td>\n",
       "      <td>0.6</td>\n",
       "      <td>1305.0</td>\n",
       "      <td>1309.0</td>\n",
       "      <td>4.0</td>\n",
       "      <td>...</td>\n",
       "      <td>0</td>\n",
       "      <td>0</td>\n",
       "      <td>0</td>\n",
       "      <td>0</td>\n",
       "      <td>0</td>\n",
       "      <td>0</td>\n",
       "      <td>0</td>\n",
       "      <td>0</td>\n",
       "      <td>0</td>\n",
       "      <td>0</td>\n",
       "    </tr>\n",
       "    <tr>\n",
       "      <th>4147</th>\n",
       "      <td>0.512559</td>\n",
       "      <td>4.5</td>\n",
       "      <td>1.0</td>\n",
       "      <td>50.0</td>\n",
       "      <td>2</td>\n",
       "      <td>0.0</td>\n",
       "      <td>0.8</td>\n",
       "      <td>1360.0</td>\n",
       "      <td>1393.0</td>\n",
       "      <td>33.0</td>\n",
       "      <td>...</td>\n",
       "      <td>0</td>\n",
       "      <td>0</td>\n",
       "      <td>0</td>\n",
       "      <td>1</td>\n",
       "      <td>0</td>\n",
       "      <td>0</td>\n",
       "      <td>0</td>\n",
       "      <td>0</td>\n",
       "      <td>0</td>\n",
       "      <td>0</td>\n",
       "    </tr>\n",
       "    <tr>\n",
       "      <th>37380</th>\n",
       "      <td>1.710106</td>\n",
       "      <td>4.0</td>\n",
       "      <td>2.5</td>\n",
       "      <td>30.0</td>\n",
       "      <td>0</td>\n",
       "      <td>0.0</td>\n",
       "      <td>0.6</td>\n",
       "      <td>1447.0</td>\n",
       "      <td>1824.0</td>\n",
       "      <td>377.0</td>\n",
       "      <td>...</td>\n",
       "      <td>0</td>\n",
       "      <td>0</td>\n",
       "      <td>0</td>\n",
       "      <td>0</td>\n",
       "      <td>0</td>\n",
       "      <td>0</td>\n",
       "      <td>0</td>\n",
       "      <td>0</td>\n",
       "      <td>0</td>\n",
       "      <td>0</td>\n",
       "    </tr>\n",
       "    <tr>\n",
       "      <th>30047</th>\n",
       "      <td>1.941176</td>\n",
       "      <td>4.5</td>\n",
       "      <td>1.0</td>\n",
       "      <td>3.0</td>\n",
       "      <td>1</td>\n",
       "      <td>1.0</td>\n",
       "      <td>0.0</td>\n",
       "      <td>1377.0</td>\n",
       "      <td>2031.0</td>\n",
       "      <td>654.0</td>\n",
       "      <td>...</td>\n",
       "      <td>0</td>\n",
       "      <td>0</td>\n",
       "      <td>0</td>\n",
       "      <td>0</td>\n",
       "      <td>0</td>\n",
       "      <td>0</td>\n",
       "      <td>0</td>\n",
       "      <td>0</td>\n",
       "      <td>0</td>\n",
       "      <td>0</td>\n",
       "    </tr>\n",
       "  </tbody>\n",
       "</table>\n",
       "<p>5 rows × 44 columns</p>\n",
       "</div>"
      ],
      "text/plain": [
       "       city_rank  rating  price  num_of_reviews  num_of_cuisines  Review_1  \\\n",
       "35557   1.354123     5.0    1.0             0.0                6       0.0   \n",
       "9501    0.113775     4.0    2.5           371.0                4       0.7   \n",
       "4147    0.512559     4.5    1.0            50.0                2       0.0   \n",
       "37380   1.710106     4.0    2.5            30.0                0       0.0   \n",
       "30047   1.941176     4.5    1.0             3.0                1       1.0   \n",
       "\n",
       "       Review_2  How_long_ago_1  How_long_ago_2  Day1_2  ...  Munich  Oporto  \\\n",
       "35557       0.0          1545.0          1613.0     0.0  ...       0       0   \n",
       "9501        0.6          1305.0          1309.0     4.0  ...       0       0   \n",
       "4147        0.8          1360.0          1393.0    33.0  ...       0       0   \n",
       "37380       0.6          1447.0          1824.0   377.0  ...       0       0   \n",
       "30047       0.0          1377.0          2031.0   654.0  ...       0       0   \n",
       "\n",
       "       Oslo  Paris  Prague  Rome  Stockholm  Vienna  Warsaw  Zurich  \n",
       "35557     0      0       1     0          0       0       0       0  \n",
       "9501      0      0       0     0          0       0       0       0  \n",
       "4147      0      1       0     0          0       0       0       0  \n",
       "37380     0      0       0     0          0       0       0       0  \n",
       "30047     0      0       0     0          0       0       0       0  \n",
       "\n",
       "[5 rows x 44 columns]"
      ]
     },
     "execution_count": 23,
     "metadata": {},
     "output_type": "execute_result"
    }
   ],
   "source": [
    "df.sample(5)"
   ]
  },
  {
   "cell_type": "code",
   "execution_count": 24,
   "metadata": {},
   "outputs": [
    {
     "name": "stdout",
     "output_type": "stream",
     "text": [
      "<class 'pandas.core.frame.DataFrame'>\n",
      "Int64Index: 40000 entries, 0 to 39999\n",
      "Data columns (total 44 columns):\n",
      " #   Column           Non-Null Count  Dtype  \n",
      "---  ------           --------------  -----  \n",
      " 0   city_rank        40000 non-null  float64\n",
      " 1   rating           40000 non-null  float64\n",
      " 2   price            40000 non-null  float64\n",
      " 3   num_of_reviews   40000 non-null  float64\n",
      " 4   num_of_cuisines  40000 non-null  int64  \n",
      " 5   Review_1         40000 non-null  float64\n",
      " 6   Review_2         40000 non-null  float64\n",
      " 7   How_long_ago_1   40000 non-null  float64\n",
      " 8   How_long_ago_2   40000 non-null  float64\n",
      " 9   Day1_2           40000 non-null  float64\n",
      " 10  gdp              40000 non-null  int64  \n",
      " 11  population       40000 non-null  int64  \n",
      " 12  num_of_resto     40000 non-null  int64  \n",
      " 13  Amsterdam        40000 non-null  uint8  \n",
      " 14  Athens           40000 non-null  uint8  \n",
      " 15  Barcelona        40000 non-null  uint8  \n",
      " 16  Berlin           40000 non-null  uint8  \n",
      " 17  Bratislava       40000 non-null  uint8  \n",
      " 18  Brussels         40000 non-null  uint8  \n",
      " 19  Budapest         40000 non-null  uint8  \n",
      " 20  Copenhagen       40000 non-null  uint8  \n",
      " 21  Dublin           40000 non-null  uint8  \n",
      " 22  Edinburgh        40000 non-null  uint8  \n",
      " 23  Geneva           40000 non-null  uint8  \n",
      " 24  Hamburg          40000 non-null  uint8  \n",
      " 25  Helsinki         40000 non-null  uint8  \n",
      " 26  Krakow           40000 non-null  uint8  \n",
      " 27  Lisbon           40000 non-null  uint8  \n",
      " 28  Ljubljana        40000 non-null  uint8  \n",
      " 29  London           40000 non-null  uint8  \n",
      " 30  Luxembourg       40000 non-null  uint8  \n",
      " 31  Lyon             40000 non-null  uint8  \n",
      " 32  Madrid           40000 non-null  uint8  \n",
      " 33  Milan            40000 non-null  uint8  \n",
      " 34  Munich           40000 non-null  uint8  \n",
      " 35  Oporto           40000 non-null  uint8  \n",
      " 36  Oslo             40000 non-null  uint8  \n",
      " 37  Paris            40000 non-null  uint8  \n",
      " 38  Prague           40000 non-null  uint8  \n",
      " 39  Rome             40000 non-null  uint8  \n",
      " 40  Stockholm        40000 non-null  uint8  \n",
      " 41  Vienna           40000 non-null  uint8  \n",
      " 42  Warsaw           40000 non-null  uint8  \n",
      " 43  Zurich           40000 non-null  uint8  \n",
      "dtypes: float64(9), int64(4), uint8(31)\n",
      "memory usage: 5.5 MB\n"
     ]
    }
   ],
   "source": [
    "df.info()"
   ]
  },
  {
   "cell_type": "code",
   "execution_count": null,
   "metadata": {},
   "outputs": [],
   "source": []
  }
 ],
 "metadata": {
  "kernelspec": {
   "display_name": "Python 3",
   "language": "python",
   "name": "python3"
  },
  "language_info": {
   "codemirror_mode": {
    "name": "ipython",
    "version": 3
   },
   "file_extension": ".py",
   "mimetype": "text/x-python",
   "name": "python",
   "nbconvert_exporter": "python",
   "pygments_lexer": "ipython3",
   "version": "3.8.5"
  }
 },
 "nbformat": 4,
 "nbformat_minor": 4
}
