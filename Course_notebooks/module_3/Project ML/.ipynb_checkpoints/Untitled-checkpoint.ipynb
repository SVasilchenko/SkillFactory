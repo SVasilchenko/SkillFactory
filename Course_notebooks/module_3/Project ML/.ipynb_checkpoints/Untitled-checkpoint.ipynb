{
 "cells": [
  {
   "cell_type": "code",
   "execution_count": 36,
   "metadata": {},
   "outputs": [],
   "source": [
    "import pandas as pd\n",
    "import matplotlib.pyplot as plt\n",
    "import math"
   ]
  },
  {
   "cell_type": "code",
   "execution_count": 5,
   "metadata": {},
   "outputs": [
    {
     "data": {
      "text/plain": [
       "str"
      ]
     },
     "execution_count": 5,
     "metadata": {},
     "output_type": "execute_result"
    }
   ],
   "source": [
    "df = pd.read_csv('main_task_new.csv')\n",
    "type(data.iloc[0,9])"
   ]
  },
  {
   "cell_type": "code",
   "execution_count": 21,
   "metadata": {},
   "outputs": [
    {
     "name": "stdout",
     "output_type": "stream",
     "text": [
      "<class 'pandas.core.frame.DataFrame'>\n",
      "RangeIndex: 40000 entries, 0 to 39999\n",
      "Data columns (total 3 columns):\n",
      " #   Column          Non-Null Count  Dtype  \n",
      "---  ------          --------------  -----  \n",
      " 0   ranking         40000 non-null  float64\n",
      " 1   rating          40000 non-null  float64\n",
      " 2   num_of_reviews  37457 non-null  float64\n",
      "dtypes: float64(3)\n",
      "memory usage: 937.6 KB\n"
     ]
    }
   ],
   "source": [
    "df = df.select_dtypes(exclude='object')\n",
    "df.columns = ['ranking', 'rating','num_of_reviews']\n",
    "df.info()"
   ]
  },
  {
   "cell_type": "code",
   "execution_count": 56,
   "metadata": {},
   "outputs": [
    {
     "name": "stdout",
     "output_type": "stream",
     "text": [
      "<class 'pandas.core.frame.DataFrame'>\n",
      "RangeIndex: 40000 entries, 0 to 39999\n",
      "Data columns (total 3 columns):\n",
      " #   Column          Non-Null Count  Dtype  \n",
      "---  ------          --------------  -----  \n",
      " 0   ranking         40000 non-null  float64\n",
      " 1   rating          40000 non-null  float64\n",
      " 2   num_of_reviews  40000 non-null  float64\n",
      "dtypes: float64(3)\n",
      "memory usage: 937.6 KB\n"
     ]
    }
   ],
   "source": [
    "#df.plot()\n",
    "filtered_set = df.num_of_reviews[df['num_of_reviews'] < 50]\n",
    "df.num_of_reviews.fillna(2, inplace=True)\n",
    "df.num_of_reviews.value_counts()\n",
    "df.info()"
   ]
  },
  {
   "cell_type": "code",
   "execution_count": 49,
   "metadata": {},
   "outputs": [
    {
     "name": "stdout",
     "output_type": "stream",
     "text": [
      "0.057536414490356166 0.057762265046662105 0.057762265046662105\n"
     ]
    },
    {
     "data": {
      "text/plain": [
       "2.0     1916\n",
       "3.0     1636\n",
       "4.0     1370\n",
       "5.0     1181\n",
       "6.0     1018\n",
       "7.0      890\n",
       "8.0      829\n",
       "9.0      769\n",
       "10.0     688\n",
       "11.0     651\n",
       "12.0     608\n",
       "13.0     543\n",
       "14.0     501\n",
       "15.0     473\n",
       "16.0     472\n",
       "17.0     452\n",
       "18.0     431\n",
       "19.0     411\n",
       "20.0     378\n",
       "22.0     343\n",
       "21.0     337\n",
       "24.0     330\n",
       "25.0     328\n",
       "23.0     304\n",
       "26.0     302\n",
       "28.0     281\n",
       "27.0     273\n",
       "29.0     260\n",
       "33.0     258\n",
       "32.0     248\n",
       "30.0     243\n",
       "34.0     237\n",
       "35.0     232\n",
       "36.0     222\n",
       "31.0     216\n",
       "39.0     212\n",
       "37.0     210\n",
       "42.0     197\n",
       "40.0     194\n",
       "45.0     180\n",
       "38.0     179\n",
       "43.0     171\n",
       "46.0     169\n",
       "41.0     165\n",
       "44.0     161\n",
       "49.0     153\n",
       "47.0     152\n",
       "48.0     144\n",
       "Name: num_of_reviews, dtype: int64"
      ]
     },
     "execution_count": 49,
     "metadata": {},
     "output_type": "execute_result"
    }
   ],
   "source": [
    "lambda_q1 = math.log(4/3)/filtered_set.quantile(0.25)\n",
    "lambda_q2 = math.log(2)/filtered_set.quantile(0.50)\n",
    "lambda_q3 = math.log(4)/filtered_set.quantile(0.75)\n",
    "print(lambda_q1,lambda_q2,lambda_q3)\n",
    "filtered_set.value_counts()"
   ]
  },
  {
   "cell_type": "code",
   "execution_count": null,
   "metadata": {},
   "outputs": [],
   "source": []
  }
 ],
 "metadata": {
  "kernelspec": {
   "display_name": "Python 3",
   "language": "python",
   "name": "python3"
  },
  "language_info": {
   "codemirror_mode": {
    "name": "ipython",
    "version": 3
   },
   "file_extension": ".py",
   "mimetype": "text/x-python",
   "name": "python",
   "nbconvert_exporter": "python",
   "pygments_lexer": "ipython3",
   "version": "3.8.5"
  }
 },
 "nbformat": 4,
 "nbformat_minor": 4
}
