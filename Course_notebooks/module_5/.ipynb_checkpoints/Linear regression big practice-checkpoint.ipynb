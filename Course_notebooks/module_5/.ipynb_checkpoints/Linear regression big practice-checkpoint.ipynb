{
 "cells": [
  {
   "cell_type": "code",
   "execution_count": 58,
   "metadata": {},
   "outputs": [],
   "source": [
    "import pandas as pd\n",
    "import numpy as np\n",
    "import matplotlib.pyplot as plt\n",
    "%matplotlib inline"
   ]
  },
  {
   "cell_type": "code",
   "execution_count": 59,
   "metadata": {},
   "outputs": [
    {
     "data": {
      "text/html": [
       "<div>\n",
       "<style scoped>\n",
       "    .dataframe tbody tr th:only-of-type {\n",
       "        vertical-align: middle;\n",
       "    }\n",
       "\n",
       "    .dataframe tbody tr th {\n",
       "        vertical-align: top;\n",
       "    }\n",
       "\n",
       "    .dataframe thead th {\n",
       "        text-align: right;\n",
       "    }\n",
       "</style>\n",
       "<table border=\"1\" class=\"dataframe\">\n",
       "  <thead>\n",
       "    <tr style=\"text-align: right;\">\n",
       "      <th></th>\n",
       "      <th>id</th>\n",
       "      <th>full_sq</th>\n",
       "      <th>life_sq</th>\n",
       "      <th>floor</th>\n",
       "      <th>preschool_education_centers_raion</th>\n",
       "      <th>school_education_centers_raion</th>\n",
       "      <th>school_education_centers_top_20_raion</th>\n",
       "      <th>university_top_20_raion</th>\n",
       "      <th>sport_objects_raion</th>\n",
       "      <th>additional_education_raion</th>\n",
       "      <th>...</th>\n",
       "      <th>shopping_centers_raion</th>\n",
       "      <th>metro_km_walk</th>\n",
       "      <th>kindergarten_km</th>\n",
       "      <th>school_km</th>\n",
       "      <th>park_km</th>\n",
       "      <th>green_zone_km</th>\n",
       "      <th>mkad_km</th>\n",
       "      <th>bulvar_ring_km</th>\n",
       "      <th>kremlin_km</th>\n",
       "      <th>price_doc</th>\n",
       "    </tr>\n",
       "  </thead>\n",
       "  <tbody>\n",
       "    <tr>\n",
       "      <th>0</th>\n",
       "      <td>1</td>\n",
       "      <td>43</td>\n",
       "      <td>27.0</td>\n",
       "      <td>4.0</td>\n",
       "      <td>5</td>\n",
       "      <td>5</td>\n",
       "      <td>0</td>\n",
       "      <td>0</td>\n",
       "      <td>7</td>\n",
       "      <td>3</td>\n",
       "      <td>...</td>\n",
       "      <td>16</td>\n",
       "      <td>1.131260</td>\n",
       "      <td>0.145700</td>\n",
       "      <td>0.177975</td>\n",
       "      <td>2.158587</td>\n",
       "      <td>0.600973</td>\n",
       "      <td>1.422391</td>\n",
       "      <td>13.675657</td>\n",
       "      <td>15.156211</td>\n",
       "      <td>5850000</td>\n",
       "    </tr>\n",
       "    <tr>\n",
       "      <th>1</th>\n",
       "      <td>2</td>\n",
       "      <td>34</td>\n",
       "      <td>19.0</td>\n",
       "      <td>3.0</td>\n",
       "      <td>5</td>\n",
       "      <td>8</td>\n",
       "      <td>0</td>\n",
       "      <td>0</td>\n",
       "      <td>6</td>\n",
       "      <td>1</td>\n",
       "      <td>...</td>\n",
       "      <td>3</td>\n",
       "      <td>0.635053</td>\n",
       "      <td>0.147754</td>\n",
       "      <td>0.273345</td>\n",
       "      <td>0.550690</td>\n",
       "      <td>0.065321</td>\n",
       "      <td>9.503405</td>\n",
       "      <td>8.132640</td>\n",
       "      <td>8.698054</td>\n",
       "      <td>6000000</td>\n",
       "    </tr>\n",
       "    <tr>\n",
       "      <th>2</th>\n",
       "      <td>3</td>\n",
       "      <td>43</td>\n",
       "      <td>29.0</td>\n",
       "      <td>2.0</td>\n",
       "      <td>4</td>\n",
       "      <td>7</td>\n",
       "      <td>0</td>\n",
       "      <td>0</td>\n",
       "      <td>5</td>\n",
       "      <td>1</td>\n",
       "      <td>...</td>\n",
       "      <td>0</td>\n",
       "      <td>1.445960</td>\n",
       "      <td>0.049102</td>\n",
       "      <td>0.158072</td>\n",
       "      <td>0.374848</td>\n",
       "      <td>0.453172</td>\n",
       "      <td>5.604800</td>\n",
       "      <td>8.054252</td>\n",
       "      <td>9.067885</td>\n",
       "      <td>5700000</td>\n",
       "    </tr>\n",
       "    <tr>\n",
       "      <th>3</th>\n",
       "      <td>4</td>\n",
       "      <td>89</td>\n",
       "      <td>50.0</td>\n",
       "      <td>9.0</td>\n",
       "      <td>9</td>\n",
       "      <td>10</td>\n",
       "      <td>0</td>\n",
       "      <td>0</td>\n",
       "      <td>17</td>\n",
       "      <td>6</td>\n",
       "      <td>...</td>\n",
       "      <td>11</td>\n",
       "      <td>0.963802</td>\n",
       "      <td>0.179441</td>\n",
       "      <td>0.236455</td>\n",
       "      <td>0.078090</td>\n",
       "      <td>0.106125</td>\n",
       "      <td>2.677824</td>\n",
       "      <td>18.309433</td>\n",
       "      <td>19.487005</td>\n",
       "      <td>13100000</td>\n",
       "    </tr>\n",
       "    <tr>\n",
       "      <th>4</th>\n",
       "      <td>5</td>\n",
       "      <td>77</td>\n",
       "      <td>77.0</td>\n",
       "      <td>4.0</td>\n",
       "      <td>7</td>\n",
       "      <td>9</td>\n",
       "      <td>0</td>\n",
       "      <td>2</td>\n",
       "      <td>25</td>\n",
       "      <td>2</td>\n",
       "      <td>...</td>\n",
       "      <td>10</td>\n",
       "      <td>0.688859</td>\n",
       "      <td>0.247901</td>\n",
       "      <td>0.376838</td>\n",
       "      <td>0.258289</td>\n",
       "      <td>0.236214</td>\n",
       "      <td>11.616653</td>\n",
       "      <td>0.787593</td>\n",
       "      <td>2.578671</td>\n",
       "      <td>16331452</td>\n",
       "    </tr>\n",
       "  </tbody>\n",
       "</table>\n",
       "<p>5 rows × 21 columns</p>\n",
       "</div>"
      ],
      "text/plain": [
       "   id  full_sq  life_sq  floor  preschool_education_centers_raion  \\\n",
       "0   1       43     27.0    4.0                                  5   \n",
       "1   2       34     19.0    3.0                                  5   \n",
       "2   3       43     29.0    2.0                                  4   \n",
       "3   4       89     50.0    9.0                                  9   \n",
       "4   5       77     77.0    4.0                                  7   \n",
       "\n",
       "   school_education_centers_raion  school_education_centers_top_20_raion  \\\n",
       "0                               5                                      0   \n",
       "1                               8                                      0   \n",
       "2                               7                                      0   \n",
       "3                              10                                      0   \n",
       "4                               9                                      0   \n",
       "\n",
       "   university_top_20_raion  sport_objects_raion  additional_education_raion  \\\n",
       "0                        0                    7                           3   \n",
       "1                        0                    6                           1   \n",
       "2                        0                    5                           1   \n",
       "3                        0                   17                           6   \n",
       "4                        2                   25                           2   \n",
       "\n",
       "   ...  shopping_centers_raion  metro_km_walk  kindergarten_km  school_km  \\\n",
       "0  ...                      16       1.131260         0.145700   0.177975   \n",
       "1  ...                       3       0.635053         0.147754   0.273345   \n",
       "2  ...                       0       1.445960         0.049102   0.158072   \n",
       "3  ...                      11       0.963802         0.179441   0.236455   \n",
       "4  ...                      10       0.688859         0.247901   0.376838   \n",
       "\n",
       "    park_km  green_zone_km    mkad_km  bulvar_ring_km  kremlin_km  price_doc  \n",
       "0  2.158587       0.600973   1.422391       13.675657   15.156211    5850000  \n",
       "1  0.550690       0.065321   9.503405        8.132640    8.698054    6000000  \n",
       "2  0.374848       0.453172   5.604800        8.054252    9.067885    5700000  \n",
       "3  0.078090       0.106125   2.677824       18.309433   19.487005   13100000  \n",
       "4  0.258289       0.236214  11.616653        0.787593    2.578671   16331452  \n",
       "\n",
       "[5 rows x 21 columns]"
      ]
     },
     "execution_count": 59,
     "metadata": {},
     "output_type": "execute_result"
    }
   ],
   "source": [
    "data = pd.read_csv('flat_asset.csv', sep=';')\n",
    "data.head()"
   ]
  },
  {
   "cell_type": "code",
   "execution_count": 60,
   "metadata": {},
   "outputs": [
    {
     "name": "stdout",
     "output_type": "stream",
     "text": [
      "<class 'pandas.core.frame.DataFrame'>\n",
      "RangeIndex: 30469 entries, 0 to 30468\n",
      "Data columns (total 21 columns):\n",
      " #   Column                                 Non-Null Count  Dtype  \n",
      "---  ------                                 --------------  -----  \n",
      " 0   id                                     30469 non-null  int64  \n",
      " 1   full_sq                                30469 non-null  int64  \n",
      " 2   life_sq                                24086 non-null  float64\n",
      " 3   floor                                  30302 non-null  float64\n",
      " 4   preschool_education_centers_raion      30469 non-null  int64  \n",
      " 5   school_education_centers_raion         30469 non-null  int64  \n",
      " 6   school_education_centers_top_20_raion  30469 non-null  int64  \n",
      " 7   university_top_20_raion                30469 non-null  int64  \n",
      " 8   sport_objects_raion                    30469 non-null  int64  \n",
      " 9   additional_education_raion             30469 non-null  int64  \n",
      " 10  culture_objects_top_25_raion           30469 non-null  int64  \n",
      " 11  shopping_centers_raion                 30469 non-null  int64  \n",
      " 12  metro_km_walk                          30444 non-null  float64\n",
      " 13  kindergarten_km                        30469 non-null  float64\n",
      " 14  school_km                              30469 non-null  float64\n",
      " 15  park_km                                30469 non-null  float64\n",
      " 16  green_zone_km                          30469 non-null  float64\n",
      " 17  mkad_km                                30469 non-null  float64\n",
      " 18  bulvar_ring_km                         30469 non-null  float64\n",
      " 19  kremlin_km                             30469 non-null  float64\n",
      " 20  price_doc                              30469 non-null  int64  \n",
      "dtypes: float64(10), int64(11)\n",
      "memory usage: 4.9 MB\n"
     ]
    }
   ],
   "source": [
    "data.info()"
   ]
  },
  {
   "cell_type": "code",
   "execution_count": 61,
   "metadata": {},
   "outputs": [
    {
     "data": {
      "text/plain": [
       "id                                          0\n",
       "full_sq                                     0\n",
       "life_sq                                  6383\n",
       "floor                                     167\n",
       "preschool_education_centers_raion           0\n",
       "school_education_centers_raion              0\n",
       "school_education_centers_top_20_raion       0\n",
       "university_top_20_raion                     0\n",
       "sport_objects_raion                         0\n",
       "additional_education_raion                  0\n",
       "culture_objects_top_25_raion                0\n",
       "shopping_centers_raion                      0\n",
       "metro_km_walk                              25\n",
       "kindergarten_km                             0\n",
       "school_km                                   0\n",
       "park_km                                     0\n",
       "green_zone_km                               0\n",
       "mkad_km                                     0\n",
       "bulvar_ring_km                              0\n",
       "kremlin_km                                  0\n",
       "price_doc                                   0\n",
       "dtype: int64"
      ]
     },
     "execution_count": 61,
     "metadata": {},
     "output_type": "execute_result"
    }
   ],
   "source": [
    "data.isnull().sum()"
   ]
  },
  {
   "cell_type": "code",
   "execution_count": 62,
   "metadata": {},
   "outputs": [],
   "source": [
    "#import seaborn as sns\n",
    "#fig, ax = plt.subplots(figsize=(20,12))\n",
    "#sns_heatmap = sns.heatmap(data.isnull(), yticklabels=False, cbar=False, cmap='viridis')"
   ]
  },
  {
   "cell_type": "code",
   "execution_count": 63,
   "metadata": {},
   "outputs": [],
   "source": [
    "#data.drop(data.loc[data['full_sq'].isin([0,1])].index, inplace=True)\n",
    "#data['full_sq'].value_counts().sort_index()"
   ]
  },
  {
   "cell_type": "code",
   "execution_count": 64,
   "metadata": {},
   "outputs": [],
   "source": [
    "#data['price_norm'] = data['price_doc']/data['full_sq']"
   ]
  },
  {
   "cell_type": "code",
   "execution_count": 65,
   "metadata": {},
   "outputs": [],
   "source": [
    "#data['price_norm'] = data['price_norm'].apply(lambda w: np.log(w+1))\n",
    "#data['price_norm'].hist()"
   ]
  },
  {
   "cell_type": "code",
   "execution_count": 66,
   "metadata": {},
   "outputs": [
    {
     "data": {
      "image/png": "[encoded data removed]",
      "text/plain": [
       "<Figure size 432x288 with 1 Axes>"
      ]
     },
     "metadata": {
      "needs_background": "light"
     },
     "output_type": "display_data"
    }
   ],
   "source": [
    "data['price_doc'] = data['price_doc'].apply(lambda w: np.log(w + 1))\n",
    "data.price_doc.hist();"
   ]
  },
  {
   "cell_type": "code",
   "execution_count": 67,
   "metadata": {
    "scrolled": true
   },
   "outputs": [],
   "source": [
    "#sns.set(font_scale=1)\n",
    "#plt.subplots(figsize=(20, 20))\n",
    "#sns.heatmap(data.corr(), square=True,\n",
    "#              annot=True, fmt=\".1f\", linewidths=0.1, cmap=\"RdBu\")"
   ]
  },
  {
   "cell_type": "code",
   "execution_count": 68,
   "metadata": {},
   "outputs": [],
   "source": [
    "data.drop(columns=['id','kindergarten_km','preschool_education_centers_raion',\n",
    "                   'park_km','kremlin_km','life_sq'],\n",
    "         inplace=True)"
   ]
  },
  {
   "cell_type": "code",
   "execution_count": 69,
   "metadata": {},
   "outputs": [],
   "source": [
    "data.dropna(axis=0, inplace=True)\n"
   ]
  },
  {
   "cell_type": "code",
   "execution_count": 75,
   "metadata": {},
   "outputs": [
    {
     "data": {
      "text/plain": [
       "(30277, 15)"
      ]
     },
     "execution_count": 75,
     "metadata": {},
     "output_type": "execute_result"
    }
   ],
   "source": [
    "data.shape"
   ]
  },
  {
   "cell_type": "code",
   "execution_count": 85,
   "metadata": {
    "scrolled": true
   },
   "outputs": [],
   "source": [
    "X = data.iloc[:,:-1].values\n",
    "Y = data.iloc[:,-1:].values"
   ]
  },
  {
   "cell_type": "code",
   "execution_count": 55,
   "metadata": {},
   "outputs": [],
   "source": [
    "from sklearn.model_selection import train_test_split\n",
    "from sklearn.preprocessing import RobustScaler"
   ]
  },
  {
   "cell_type": "code",
   "execution_count": 89,
   "metadata": {},
   "outputs": [],
   "source": [
    "X_train, X_test, Y_train, Y_test = train_test_split(X,Y, test_size = 0.2, random_state=77)\n",
    "X_trans = RobustScaler().fit(X)"
   ]
  },
  {
   "cell_type": "code",
   "execution_count": 90,
   "metadata": {},
   "outputs": [
    {
     "data": {
      "text/plain": [
       "RobustScaler()"
      ]
     },
     "execution_count": 90,
     "metadata": {},
     "output_type": "execute_result"
    }
   ],
   "source": [
    "transform"
   ]
  },
  {
   "cell_type": "code",
   "execution_count": null,
   "metadata": {},
   "outputs": [],
   "source": []
  }
 ],
 "metadata": {
  "kernelspec": {
   "display_name": "Python 3",
   "language": "python",
   "name": "python3"
  },
  "language_info": {
   "codemirror_mode": {
    "name": "ipython",
    "version": 3
   },
   "file_extension": ".py",
   "mimetype": "text/x-python",
   "name": "python",
   "nbconvert_exporter": "python",
   "pygments_lexer": "ipython3",
   "version": "3.8.5"
  }
 },
 "nbformat": 4,
 "nbformat_minor": 4
}
