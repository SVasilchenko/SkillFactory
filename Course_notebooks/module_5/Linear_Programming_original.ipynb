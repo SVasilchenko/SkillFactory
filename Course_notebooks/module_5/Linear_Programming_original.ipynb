{
 "cells": [
  {
   "cell_type": "markdown",
   "metadata": {},
   "source": [
    "Допустим, у нас есть $n$ товаров с заданными стоимостями $v_i$ и массой $w_i$. В сумку убирается $С$ кг. Сколько какого товара взять, чтобы сумма всех стоимостей товаров была наибольшей?"
   ]
  },
  {
   "cell_type": "code",
   "execution_count": 2,
   "metadata": {},
   "outputs": [],
   "source": [
    "values = [4, 20, 1, 5, 3, 10]\n",
    "weights = [5, 10, 2, 5, 6, 6]\n",
    "C = 19\n",
    "n = 6"
   ]
  },
  {
   "cell_type": "markdown",
   "metadata": {},
   "source": [
    "Сформулируем задачу:\n",
    "$$\\max\\sum v_i x_i$$\n",
    "$$\\sum w_i x_i \\leq C $$"
   ]
  },
  {
   "cell_type": "markdown",
   "metadata": {},
   "source": [
    "Как должна выглядеть задача:\n",
    "$$\\min c^T x$$\n",
    "$$A x \\leq b $$"
   ]
  },
  {
   "cell_type": "markdown",
   "metadata": {},
   "source": [
    "Получается, что $c=-v$, $A=w^T$, $b=(C)$"
   ]
  },
  {
   "cell_type": "code",
   "execution_count": 3,
   "metadata": {},
   "outputs": [],
   "source": [
    "import numpy as np"
   ]
  },
  {
   "cell_type": "code",
   "execution_count": 4,
   "metadata": {},
   "outputs": [],
   "source": [
    "c = - np.array(values)\n",
    "A = np.array(weights)         #shape = (6,)\n",
    "A = np.expand_dims(A, 0)      #shape = (1,6)\n",
    "b = np.array([C])"
   ]
  },
  {
   "cell_type": "code",
   "execution_count": 5,
   "metadata": {},
   "outputs": [],
   "source": [
    "from scipy.optimize import linprog"
   ]
  },
  {
   "cell_type": "code",
   "execution_count": 6,
   "metadata": {
    "scrolled": true
   },
   "outputs": [
    {
     "data": {
      "text/plain": [
       "     con: array([], dtype=float64)\n",
       "     fun: -38.000000003742656\n",
       " message: 'Optimization terminated successfully.'\n",
       "     nit: 4\n",
       "   slack: array([-3.30540573e-09])\n",
       "  status: 0\n",
       " success: True\n",
       "       x: array([1.42705574e-11, 1.90000000e+00, 3.55393212e-11, 3.84018663e-11,\n",
       "       2.12247194e-10, 2.86840312e-10])"
      ]
     },
     "execution_count": 6,
     "metadata": {},
     "output_type": "execute_result"
    }
   ],
   "source": [
    "linprog(c=c, A_ub=A, b_ub=b)"
   ]
  },
  {
   "cell_type": "code",
   "execution_count": 1,
   "metadata": {},
   "outputs": [
    {
     "name": "stdout",
     "output_type": "stream",
     "text": [
      "Collecting cvxpy"
     ]
    },
    {
     "name": "stderr",
     "output_type": "stream",
     "text": [
      "  ERROR: Command errored out with exit status 1:\n",
      "   command: 'C:\\Users\\shjb\\anaconda3\\python.exe' -u -c 'import sys, setuptools, tokenize; sys.argv[0] = '\"'\"'C:\\\\Users\\\\shjb\\\\AppData\\\\Local\\\\Temp\\\\pip-install-il1yx1fg\\\\ecos\\\\setup.py'\"'\"'; __file__='\"'\"'C:\\\\Users\\\\shjb\\\\AppData\\\\Local\\\\Temp\\\\pip-install-il1yx1fg\\\\ecos\\\\setup.py'\"'\"';f=getattr(tokenize, '\"'\"'open'\"'\"', open)(__file__);code=f.read().replace('\"'\"'\\r\\n'\"'\"', '\"'\"'\\n'\"'\"');f.close();exec(compile(code, __file__, '\"'\"'exec'\"'\"'))' bdist_wheel -d 'C:\\Users\\shjb\\AppData\\Local\\Temp\\pip-wheel-ugcwtyz_'\n",
      "       cwd: C:\\Users\\shjb\\AppData\\Local\\Temp\\pip-install-il1yx1fg\\ecos\\\n",
      "  Complete output (12 lines):\n",
      "  running bdist_wheel\n",
      "  running build\n",
      "  running build_py\n",
      "  creating build\n",
      "  creating build\\lib.win-amd64-3.8\n",
      "  creating build\\lib.win-amd64-3.8\\ecos\n",
      "  copying src\\ecos\\ecos.py -> build\\lib.win-amd64-3.8\\ecos\n",
      "  copying src\\ecos\\version.py -> build\\lib.win-amd64-3.8\\ecos\n",
      "  copying src\\ecos\\__init__.py -> build\\lib.win-amd64-3.8\\ecos\n",
      "  running build_ext\n",
      "  building '_ecos' extension\n",
      "  error: Microsoft Visual C++ 14.0 or greater is required. Get it with \"Microsoft C++ Build Tools\": https://visualstudio.microsoft.com/visual-cpp-build-tools/\n",
      "  ----------------------------------------\n",
      "  ERROR: Failed building wheel for ecos\n",
      "  ERROR: Command errored out with exit status 1:\n",
      "   command: 'C:\\Users\\shjb\\anaconda3\\python.exe' 'C:\\Users\\shjb\\anaconda3\\lib\\site-packages\\pip\\_vendor\\pep517\\_in_process.py' build_wheel 'C:\\Users\\shjb\\AppData\\Local\\Temp\\tmpief_7esw'\n",
      "       cwd: C:\\Users\\shjb\\AppData\\Local\\Temp\\pip-install-il1yx1fg\\scs\n",
      "  Complete output (82 lines):\n",
      "  Namespace(blas64=False, extraverbose=False, float32=False, gpu=False, gpu_atrans=True, int32=False, scs=False)\n",
      "  running bdist_wheel\n",
      "  running build"
     ]
    },
    {
     "name": "stdout",
     "output_type": "stream",
     "text": [
      "\n",
      "  Downloading cvxpy-1.1.17-cp38-cp38-win_amd64.whl (852 kB)\n",
      "Collecting osqp>=0.4.1\n",
      "  Downloading osqp-0.6.2.post0-cp38-cp38-win_amd64.whl (162 kB)\n",
      "Collecting ecos>=2\n",
      "  Downloading ecos-2.0.7.post1.tar.gz (126 kB)\n",
      "Requirement already satisfied: numpy>=1.15 in c:\\users\\shjb\\anaconda3\\lib\\site-packages (from cvxpy) (1.19.2)\n",
      "Requirement already satisfied: scipy>=1.1.0 in c:\\users\\shjb\\anaconda3\\lib\\site-packages (from cvxpy) (1.5.2)\n",
      "Collecting scs>=1.1.6\n",
      "  Downloading scs-2.1.4.tar.gz (6.6 MB)\n",
      "  Installing build dependencies: started\n",
      "  Installing build dependencies: finished with status 'done'\n",
      "  Getting requirements to build wheel: started\n",
      "  Getting requirements to build wheel: finished with status 'done'\n",
      "    Preparing wheel metadata: started\n",
      "    Preparing wheel metadata: finished with status 'done'\n",
      "Collecting qdldl\n",
      "  Downloading qdldl-0.1.5.post0-cp38-cp38-win_amd64.whl (74 kB)\n",
      "Building wheels for collected packages: ecos, scs\n",
      "  Building wheel for ecos (setup.py): started\n",
      "  Building wheel for ecos (setup.py): finished with status 'error'\n",
      "  Running setup.py clean for ecos\n",
      "  Building wheel for scs (PEP 517): started\n",
      "  Building wheel for scs (PEP 517): finished with status 'error'\n",
      "Failed to build ecos scs\n"
     ]
    },
    {
     "name": "stderr",
     "output_type": "stream",
     "text": [
      "\n",
      "  running build_py\n",
      "  creating build\n",
      "  creating build\\lib.win-amd64-3.8\n",
      "  creating build\\lib.win-amd64-3.8\\scs\n",
      "  copying src\\__init__.py -> build\\lib.win-amd64-3.8\\scs\n",
      "  running build_ext\n",
      "  blas_mkl_info:\n",
      "    NOT AVAILABLE\n",
      "  blis_info:\n",
      "    NOT AVAILABLE\n",
      "  openblas_info:\n",
      "      library_dirs = ['C:\\\\projects\\\\numpy-wheels\\\\numpy\\\\build\\\\openblas']\n",
      "      libraries = ['openblas']\n",
      "      language = f77\n",
      "      define_macros = [('HAVE_CBLAS', None)]\n",
      "  blas_opt_info:\n",
      "      library_dirs = ['C:\\\\projects\\\\numpy-wheels\\\\numpy\\\\build\\\\openblas']\n",
      "      libraries = ['openblas']\n",
      "      language = f77\n",
      "      define_macros = [('HAVE_CBLAS', None)]\n",
      "  lapack_mkl_info:\n",
      "    NOT AVAILABLE\n",
      "  openblas_lapack_info:\n",
      "      library_dirs = ['C:\\\\projects\\\\numpy-wheels\\\\numpy\\\\build\\\\openblas']\n",
      "      libraries = ['openblas']\n",
      "      language = f77\n",
      "      define_macros = [('HAVE_CBLAS', None)]\n",
      "  lapack_opt_info:\n",
      "      library_dirs = ['C:\\\\projects\\\\numpy-wheels\\\\numpy\\\\build\\\\openblas']\n",
      "      libraries = ['openblas']\n",
      "      language = f77\n",
      "      define_macros = [('HAVE_CBLAS', None)]\n",
      "  Could not locate executable g77\n",
      "  Could not locate executable f77\n",
      "  Could not locate executable ifort\n",
      "  Could not locate executable ifl\n",
      "  Could not locate executable f90\n",
      "  Could not locate executable DF\n",
      "  Could not locate executable efl\n",
      "  Could not locate executable gfortran\n",
      "  Could not locate executable f95\n",
      "  Could not locate executable g95\n",
      "  Could not locate executable efort\n",
      "  Could not locate executable efc\n",
      "  Could not locate executable flang\n",
      "  don't know how to compile Fortran code on platform 'nt'\n",
      "  C:\\Users\\shjb\\AppData\\Local\\Temp\\pip-build-env-qarysqmj\\overlay\\Lib\\site-packages\\numpy\\distutils\\system_info.py:690: UserWarning:\n",
      "      Optimized (vendor) Blas libraries are not found.\n",
      "      Falls back to netlib Blas library which has worse performance.\n",
      "      A better performance should be easily gained by switching\n",
      "      Blas library.\n",
      "    self.calc_info()\n",
      "  C:\\Users\\shjb\\AppData\\Local\\Temp\\pip-build-env-qarysqmj\\overlay\\Lib\\site-packages\\numpy\\distutils\\system_info.py:690: UserWarning:\n",
      "      Blas (http://www.netlib.org/blas/) libraries not found.\n",
      "      Directories to search for the libraries can be specified in the\n",
      "      numpy/distutils/site.cfg file (section [blas]) or by setting\n",
      "      the BLAS environment variable.\n",
      "    self.calc_info()\n",
      "  C:\\Users\\shjb\\AppData\\Local\\Temp\\pip-build-env-qarysqmj\\overlay\\Lib\\site-packages\\numpy\\distutils\\system_info.py:690: UserWarning:\n",
      "      Blas (http://www.netlib.org/blas/) sources not found.\n",
      "      Directories to search for the sources can be specified in the\n",
      "      numpy/distutils/site.cfg file (section [blas_src]) or by setting\n",
      "      the BLAS_SRC environment variable.\n",
      "    self.calc_info()\n",
      "  C:\\Users\\shjb\\AppData\\Local\\Temp\\pip-build-env-qarysqmj\\overlay\\Lib\\site-packages\\numpy\\distutils\\system_info.py:1712: UserWarning:\n",
      "      Lapack (http://www.netlib.org/lapack/) libraries not found.\n",
      "      Directories to search for the libraries can be specified in the\n",
      "      numpy/distutils/site.cfg file (section [lapack]) or by setting\n",
      "      the LAPACK environment variable.\n",
      "    if getattr(self, '_calc_info_{}'.format(lapack))():\n",
      "  C:\\Users\\shjb\\AppData\\Local\\Temp\\pip-build-env-qarysqmj\\overlay\\Lib\\site-packages\\numpy\\distutils\\system_info.py:1712: UserWarning:\n",
      "      Lapack (http://www.netlib.org/lapack/) sources not found.\n",
      "      Directories to search for the sources can be specified in the\n",
      "      numpy/distutils/site.cfg file (section [lapack_src]) or by setting\n",
      "      the LAPACK_SRC environment variable.\n",
      "    if getattr(self, '_calc_info_{}'.format(lapack))():\n",
      "  {}\n",
      "  {}\n",
      "  error: Microsoft Visual C++ 14.0 or greater is required. Get it with \"Microsoft C++ Build Tools\": https://visualstudio.microsoft.com/visual-cpp-build-tools/\n",
      "  ----------------------------------------\n",
      "  ERROR: Failed building wheel for scs\n",
      "ERROR: Could not build wheels for scs which use PEP 517 and cannot be installed directly\n"
     ]
    }
   ],
   "source": [
    "!pip install cvxpy"
   ]
  },
  {
   "cell_type": "code",
   "execution_count": 21,
   "metadata": {},
   "outputs": [],
   "source": [
    "import cvxpy"
   ]
  },
  {
   "cell_type": "code",
   "execution_count": 22,
   "metadata": {},
   "outputs": [],
   "source": [
    "x = cvxpy.Variable(shape=n, integer = True)"
   ]
  },
  {
   "cell_type": "code",
   "execution_count": 23,
   "metadata": {},
   "outputs": [
    {
     "name": "stderr",
     "output_type": "stream",
     "text": [
      "C:\\Users\\SVasilchenko\\anaconda3\\lib\\site-packages\\cvxpy\\expressions\\expression.py:556: UserWarning: \n",
      "This use of ``*`` has resulted in matrix multiplication.\n",
      "Using ``*`` for matrix multiplication has been deprecated since CVXPY 1.1.\n",
      "    Use ``*`` for matrix-scalar and vector-scalar multiplication.\n",
      "    Use ``@`` for matrix-matrix and matrix-vector multiplication.\n",
      "    Use ``multiply`` for elementwise multiplication.\n",
      "This code path has been hit 4 times so far.\n",
      "\n",
      "  warnings.warn(msg, UserWarning)\n"
     ]
    }
   ],
   "source": [
    "constraint = (A @ x <= b)\n",
    "total_value = c * x"
   ]
  },
  {
   "cell_type": "code",
   "execution_count": 24,
   "metadata": {},
   "outputs": [],
   "source": [
    "problem = cvxpy.Problem(cvxpy.Minimize(total_value), constraints=[constraint])"
   ]
  },
  {
   "cell_type": "code",
   "execution_count": 25,
   "metadata": {},
   "outputs": [
    {
     "data": {
      "text/plain": [
       "-159383570.99999994"
      ]
     },
     "execution_count": 25,
     "metadata": {},
     "output_type": "execute_result"
    }
   ],
   "source": [
    "problem.solve(solver='ECOS_BB')"
   ]
  },
  {
   "cell_type": "code",
   "execution_count": 26,
   "metadata": {},
   "outputs": [
    {
     "data": {
      "text/plain": [
       "array([-8388608.,  8388608., -8388608., -5033161., -8388608.,  8388608.])"
      ]
     },
     "execution_count": 26,
     "metadata": {},
     "output_type": "execute_result"
    }
   ],
   "source": [
    "x.value"
   ]
  },
  {
   "cell_type": "markdown",
   "metadata": {},
   "source": [
    "Теперь положительные $x$"
   ]
  },
  {
   "cell_type": "code",
   "execution_count": 27,
   "metadata": {},
   "outputs": [
    {
     "name": "stderr",
     "output_type": "stream",
     "text": [
      "C:\\Users\\SVasilchenko\\anaconda3\\lib\\site-packages\\cvxpy\\expressions\\expression.py:556: UserWarning: \n",
      "This use of ``*`` has resulted in matrix multiplication.\n",
      "Using ``*`` for matrix multiplication has been deprecated since CVXPY 1.1.\n",
      "    Use ``*`` for matrix-scalar and vector-scalar multiplication.\n",
      "    Use ``@`` for matrix-matrix and matrix-vector multiplication.\n",
      "    Use ``multiply`` for elementwise multiplication.\n",
      "This code path has been hit 5 times so far.\n",
      "\n",
      "  warnings.warn(msg, UserWarning)\n"
     ]
    },
    {
     "data": {
      "text/plain": [
       "-31.000000028568287"
      ]
     },
     "execution_count": 27,
     "metadata": {},
     "output_type": "execute_result"
    }
   ],
   "source": [
    "x = cvxpy.Variable(shape=n, integer=True)\n",
    "constraint = (A @ x <= b)\n",
    "x_positive = (x >= 0)\n",
    "total_value = c * x\n",
    "problem = cvxpy.Problem(cvxpy.Minimize(total_value), constraints=[constraint, x_positive])\n",
    "problem.solve(solver='ECOS_BB')"
   ]
  },
  {
   "cell_type": "code",
   "execution_count": 28,
   "metadata": {},
   "outputs": [
    {
     "data": {
      "text/plain": [
       "array([0., 1., 1., 0., 0., 1.])"
      ]
     },
     "execution_count": 28,
     "metadata": {},
     "output_type": "execute_result"
    }
   ],
   "source": [
    "x.value.round(0)"
   ]
  },
  {
   "cell_type": "markdown",
   "metadata": {},
   "source": [
    "Теперь $x = 0$ или $1$"
   ]
  },
  {
   "cell_type": "code",
   "execution_count": 29,
   "metadata": {},
   "outputs": [
    {
     "name": "stderr",
     "output_type": "stream",
     "text": [
      "C:\\Users\\SVasilchenko\\anaconda3\\lib\\site-packages\\cvxpy\\expressions\\expression.py:556: UserWarning: \n",
      "This use of ``*`` has resulted in matrix multiplication.\n",
      "Using ``*`` for matrix multiplication has been deprecated since CVXPY 1.1.\n",
      "    Use ``*`` for matrix-scalar and vector-scalar multiplication.\n",
      "    Use ``@`` for matrix-matrix and matrix-vector multiplication.\n",
      "    Use ``multiply`` for elementwise multiplication.\n",
      "This code path has been hit 6 times so far.\n",
      "\n",
      "  warnings.warn(msg, UserWarning)\n"
     ]
    },
    {
     "data": {
      "text/plain": [
       "-31.000000028568287"
      ]
     },
     "execution_count": 29,
     "metadata": {},
     "output_type": "execute_result"
    }
   ],
   "source": [
    "x = cvxpy.Variable(shape=n, boolean=True)\n",
    "constraint = A @ x <= b\n",
    "x_positive = x >= 0\n",
    "total_value = c * x\n",
    "problem = cvxpy.Problem(cvxpy.Minimize(total_value), constraints=[constraint, x_positive])\n",
    "problem.solve(solver='ECOS_BB')"
   ]
  },
  {
   "cell_type": "code",
   "execution_count": 30,
   "metadata": {},
   "outputs": [
    {
     "data": {
      "text/plain": [
       "array([0., 1., 1., 0., 0., 1.])"
      ]
     },
     "execution_count": 30,
     "metadata": {},
     "output_type": "execute_result"
    }
   ],
   "source": [
    "x.value.round(0)"
   ]
  },
  {
   "cell_type": "code",
   "execution_count": null,
   "metadata": {},
   "outputs": [],
   "source": []
  }
 ],
 "metadata": {
  "kernelspec": {
   "display_name": "Python 3",
   "language": "python",
   "name": "python3"
  },
  "language_info": {
   "codemirror_mode": {
    "name": "ipython",
    "version": 3
   },
   "file_extension": ".py",
   "mimetype": "text/x-python",
   "name": "python",
   "nbconvert_exporter": "python",
   "pygments_lexer": "ipython3",
   "version": "3.8.5"
  }
 },
 "nbformat": 4,
 "nbformat_minor": 2
}
