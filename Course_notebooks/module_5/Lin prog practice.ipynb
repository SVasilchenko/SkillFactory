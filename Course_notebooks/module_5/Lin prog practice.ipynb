{
 "cells": [
  {
   "cell_type": "code",
   "execution_count": 1,
   "metadata": {},
   "outputs": [
    {
     "ename": "ModuleNotFoundError",
     "evalue": "No module named 'cvxpy'",
     "output_type": "error",
     "traceback": [
      "\u001b[1;31m---------------------------------------------------------------------------\u001b[0m",
      "\u001b[1;31mModuleNotFoundError\u001b[0m                       Traceback (most recent call last)",
      "\u001b[1;32m<ipython-input-1-aa2a579d8a83>\u001b[0m in \u001b[0;36m<module>\u001b[1;34m\u001b[0m\n\u001b[0;32m      1\u001b[0m \u001b[1;32mimport\u001b[0m \u001b[0mnumpy\u001b[0m \u001b[1;32mas\u001b[0m \u001b[0mnp\u001b[0m\u001b[1;33m\u001b[0m\u001b[1;33m\u001b[0m\u001b[0m\n\u001b[1;32m----> 2\u001b[1;33m \u001b[1;32mimport\u001b[0m \u001b[0mcvxpy\u001b[0m \u001b[1;32mas\u001b[0m \u001b[0mcp\u001b[0m\u001b[1;33m\u001b[0m\u001b[1;33m\u001b[0m\u001b[0m\n\u001b[0m\u001b[0;32m      3\u001b[0m \u001b[1;32mfrom\u001b[0m \u001b[0mscipy\u001b[0m\u001b[1;33m.\u001b[0m\u001b[0moptimize\u001b[0m \u001b[1;32mimport\u001b[0m \u001b[0mlinprog\u001b[0m\u001b[1;33m\u001b[0m\u001b[1;33m\u001b[0m\u001b[0m\n",
      "\u001b[1;31mModuleNotFoundError\u001b[0m: No module named 'cvxpy'"
     ]
    }
   ],
   "source": [
    "import numpy as np\n",
    "import cvxpy as cp\n",
    "from scipy.optimize import linprog"
   ]
  },
  {
   "cell_type": "markdown",
   "metadata": {},
   "source": [
    "### Задача 5.1"
   ]
  },
  {
   "cell_type": "code",
   "execution_count": 10,
   "metadata": {},
   "outputs": [],
   "source": [
    "#minimize c.T @ x\n",
    "#such that A_ub @ x <= b_ub\n",
    "#A_eq @ x == b_eq\n",
    "costs = np.array([2, 4, 3, 7, 7, 6])\n",
    "b_cap = np.array([180, 220])\n",
    "A_cap = np.array([[1, 1, 1, 0, 0, 0],[ 0, 0, 0, 1, 1, 1]])\n",
    "\n",
    "b_needs = np.array([110, 150, 140])\n",
    "A_needs = np.array([[1, 0, 0, 1, 0, 0],[ 0, 1, 0, 0, 1, 0],[ 0, 0, 1, 0, 0, 1]])"
   ]
  },
  {
   "cell_type": "code",
   "execution_count": 11,
   "metadata": {},
   "outputs": [
    {
     "name": "stdout",
     "output_type": "stream",
     "text": [
      "[[1 1 1 0 0 0]\n",
      " [0 0 0 1 1 1]\n",
      " [1 0 0 1 0 0]\n",
      " [0 1 0 0 1 0]\n",
      " [0 0 1 0 0 1]] [180 220 110 150 140]\n"
     ]
    }
   ],
   "source": [
    "A = np.append(A_cap, A_needs, axis=0)\n",
    "b = np.append(b_cap, b_needs)\n",
    "print(A,b)"
   ]
  },
  {
   "cell_type": "code",
   "execution_count": 12,
   "metadata": {},
   "outputs": [],
   "source": [
    "c = costs"
   ]
  },
  {
   "cell_type": "code",
   "execution_count": null,
   "metadata": {},
   "outputs": [],
   "source": []
  },
  {
   "cell_type": "code",
   "execution_count": 13,
   "metadata": {
    "scrolled": true
   },
   "outputs": [],
   "source": [
    "res = linprog(c=c, A_ub=A_cap, b_ub=b_cap, A_eq=A_needs, b_eq=b_needs)"
   ]
  },
  {
   "cell_type": "code",
   "execution_count": 14,
   "metadata": {},
   "outputs": [
    {
     "data": {
      "text/plain": [
       "array([110.,  36.,  34.,   0., 114., 106.])"
      ]
     },
     "execution_count": 14,
     "metadata": {},
     "output_type": "execute_result"
    }
   ],
   "source": [
    "res.x.round(0)"
   ]
  },
  {
   "cell_type": "code",
   "execution_count": 15,
   "metadata": {},
   "outputs": [
    {
     "data": {
      "text/plain": [
       "1900.0"
      ]
     },
     "execution_count": 15,
     "metadata": {},
     "output_type": "execute_result"
    }
   ],
   "source": [
    "c.T @ res.x.round(0)"
   ]
  },
  {
   "cell_type": "code",
   "execution_count": null,
   "metadata": {},
   "outputs": [],
   "source": []
  },
  {
   "cell_type": "code",
   "execution_count": 17,
   "metadata": {},
   "outputs": [
    {
     "data": {
      "text/plain": [
       "Variable((6,), integer=True)"
      ]
     },
     "execution_count": 17,
     "metadata": {},
     "output_type": "execute_result"
    }
   ],
   "source": [
    "x = cp.Variable(shape=c.shape[0], integer = True)\n",
    "x"
   ]
  },
  {
   "cell_type": "code",
   "execution_count": 18,
   "metadata": {},
   "outputs": [
    {
     "name": "stderr",
     "output_type": "stream",
     "text": [
      "C:\\Users\\SVasilchenko\\anaconda3\\lib\\site-packages\\cvxpy\\expressions\\expression.py:556: UserWarning: \n",
      "This use of ``*`` has resulted in matrix multiplication.\n",
      "Using ``*`` for matrix multiplication has been deprecated since CVXPY 1.1.\n",
      "    Use ``*`` for matrix-scalar and vector-scalar multiplication.\n",
      "    Use ``@`` for matrix-matrix and matrix-vector multiplication.\n",
      "    Use ``multiply`` for elementwise multiplication.\n",
      "This code path has been hit 1 times so far.\n",
      "\n",
      "  warnings.warn(msg, UserWarning)\n"
     ]
    }
   ],
   "source": [
    "total_costs = c.T * x\n",
    "constraint_capacity = (A_cap @ x <= b_cap)\n",
    "constraint_needs = (A_needs @ x == b_needs)\n",
    "x_positive = (x >= 0)"
   ]
  },
  {
   "cell_type": "code",
   "execution_count": 19,
   "metadata": {},
   "outputs": [
    {
     "data": {
      "text/plain": [
       "Expression(AFFINE, UNKNOWN, ())"
      ]
     },
     "execution_count": 19,
     "metadata": {},
     "output_type": "execute_result"
    }
   ],
   "source": [
    "total_costs"
   ]
  },
  {
   "cell_type": "code",
   "execution_count": 22,
   "metadata": {},
   "outputs": [],
   "source": [
    "problem = cp.Problem(cp.Minimize(total_costs), constraints=[constraint_capacity, constraint_needs, x_positive])"
   ]
  },
  {
   "cell_type": "code",
   "execution_count": 23,
   "metadata": {},
   "outputs": [
    {
     "data": {
      "text/plain": [
       "1899.999999997038"
      ]
     },
     "execution_count": 23,
     "metadata": {},
     "output_type": "execute_result"
    }
   ],
   "source": [
    "problem.solve(solver=\"ECOS_BB\")"
   ]
  },
  {
   "cell_type": "markdown",
   "metadata": {},
   "source": [
    "### Задача 5.2 о назначениях"
   ]
  },
  {
   "cell_type": "code",
   "execution_count": null,
   "metadata": {},
   "outputs": [],
   "source": [
    "import numpy as np\n",
    "import cvxpy as cp"
   ]
  },
  {
   "cell_type": "code",
   "execution_count": 46,
   "metadata": {},
   "outputs": [],
   "source": [
    "costs = np.array([[1000, 12, 10, 19, 8],\n",
    "                  [12, 1000, 3, 7, 2],\n",
    "                  [10, 3, 1000, 6, 20],\n",
    "                  [19, 7, 6, 1000, 4],\n",
    "                  [8, 2, 20, 4, 1000]])\n",
    "\n",
    "b = np.ones(5)"
   ]
  },
  {
   "cell_type": "code",
   "execution_count": 47,
   "metadata": {},
   "outputs": [],
   "source": [
    "assignment = cp.Variable(shape=costs.shape, boolean = True)\n",
    "\n",
    "#ограничения: суммы по строкам и столбцам равны единице\n",
    "job_costraint = (cp.sum(assignment, axis=1) == b)\n",
    "worker_costraint = (cp.sum(assignment, axis=0) == b)"
   ]
  },
  {
   "cell_type": "code",
   "execution_count": 58,
   "metadata": {},
   "outputs": [
    {
     "name": "stdout",
     "output_type": "stream",
     "text": [
      "[[ 1.  0.  0.  0.  0.]\n",
      " [ 0. -0.  1.  0.  0.]\n",
      " [ 0.  1. -0.  0.  0.]\n",
      " [ 0.  0.  0. -0.  1.]\n",
      " [ 0.  0.  0.  1. -0.]] work cost: 1014.0\n"
     ]
    }
   ],
   "source": [
    "#Оптимизируемая функция\n",
    "total_costs = cp.sum(cp.multiply(costs,assignment))\n",
    "\n",
    "#Решение\n",
    "problem = cp.Problem(cp.Minimize(total_costs), constraints = [job_costraint, worker_costraint])\n",
    "result = problem.solve(solver='ECOS_BB')\n",
    "\n",
    "print(f\"{assignment.value.round(0)} work cost: {result.round(0)}\")"
   ]
  },
  {
   "cell_type": "markdown",
   "metadata": {},
   "source": [
    "### Решение от эксперта через linprog"
   ]
  },
  {
   "cell_type": "code",
   "execution_count": 11,
   "metadata": {},
   "outputs": [],
   "source": [
    "import numpy as np\n",
    "from scipy.optimize import linprog"
   ]
  },
  {
   "cell_type": "code",
   "execution_count": 16,
   "metadata": {},
   "outputs": [
    {
     "data": {
      "text/plain": [
       "     con: array([], dtype=float64)\n",
       "     fun: 32.0000000000711\n",
       " message: 'Optimization terminated successfully.'\n",
       "     nit: 8\n",
       "   slack: array([-1.57651669e-13, -1.58539848e-13, -1.61648472e-13, -1.57651669e-13,\n",
       "       -1.60982339e-13,  1.59205982e-13,  1.58983937e-13,  1.59650071e-13,\n",
       "        1.58983937e-13,  1.59872116e-13])\n",
       "  status: 0\n",
       " success: True\n",
       "       x: array([1.05747610e-14, 1.83681432e-14, 3.24181433e-01, 1.08350393e-12,\n",
       "       6.75818567e-01, 7.70809855e-13, 6.88256483e-15, 5.08008856e-01,\n",
       "       4.91991144e-01, 2.52447852e-12, 2.93732985e-01, 4.91991144e-01,\n",
       "       8.94857188e-15, 2.14275871e-01, 1.41630446e-13, 1.07386024e-12,\n",
       "       5.08008856e-01, 1.67809711e-01, 8.69468427e-15, 3.24181433e-01,\n",
       "       7.06267015e-01, 2.68280134e-12, 1.69715522e-13, 2.93732985e-01,\n",
       "       8.22276517e-15])"
      ]
     },
     "execution_count": 16,
     "metadata": {},
     "output_type": "execute_result"
    }
   ],
   "source": [
    "cost=np.array([\n",
    "    [1000,12,10,19,8],\n",
    "    [12,1000,3,7,2],\n",
    "    [10,3,1000,6,20],\n",
    "    [19,7,6,1000,4],\n",
    "    [8,2,20,4,1000]\n",
    "])\n",
    "stock=np.array([1,1,1,1,1])\n",
    "demand=np.array([1,1,1,1,1])\n",
    "num_workers=5\n",
    "num_tasks=5\n",
    "c=cost.flatten()\n",
    "A=[]\n",
    "b=[]\n",
    "for i in range(0, num_workers):\n",
    "    A.append([0]*(num_tasks*i)+[1]*num_tasks+[0]*(num_tasks*(num_workers-i-1)))\n",
    "    b.append(stock[i])\n",
    "for j in range(0, num_tasks):\n",
    "    A.append(([0] * j + [-1] + [0] * (num_tasks - j - 1)) * num_workers)\n",
    "    b.append(-demand[j])\n",
    "A = np.asarray(A)\n",
    "b = np.asarray(b)\n",
    "linprog(c=c, A_ub=A, b_ub=b)"
   ]
  },
  {
   "cell_type": "code",
   "execution_count": 15,
   "metadata": {},
   "outputs": [
    {
     "name": "stdout",
     "output_type": "stream",
     "text": [
      "[[0.  0.  0.3 0.  0.7]\n",
      " [0.  0.  0.5 0.5 0. ]\n",
      " [0.3 0.5 0.  0.2 0. ]\n",
      " [0.  0.5 0.2 0.  0.3]\n",
      " [0.7 0.  0.  0.3 0. ]]\n",
      "[[0. 0. 0. 0. 1.]\n",
      " [0. 0. 1. 0. 0.]\n",
      " [0. 0. 0. 0. 0.]\n",
      " [0. 1. 0. 0. 0.]\n",
      " [1. 0. 0. 0. 0.]]\n"
     ]
    }
   ],
   "source": [
    "print(np.reshape(result.x.round(1), (5,5)))\n",
    "print(np.reshape(result.x.round(0), (5,5)))"
   ]
  },
  {
   "cell_type": "markdown",
   "metadata": {},
   "source": [
    "Решение неверное т.к. линпрог не решает целочисленные задачи"
   ]
  },
  {
   "cell_type": "markdown",
   "metadata": {},
   "source": [
    "### Задание 5.3 задача комивояжера"
   ]
  },
  {
   "cell_type": "code",
   "execution_count": null,
   "metadata": {},
   "outputs": [],
   "source": [
    "costs = np.array([[1000, 12, 10, 19, 8],\n",
    "                  [12, 1000, 3, 7, 2],\n",
    "                  [10, 3, 1000, 6, 20],\n",
    "                  [19, 7, 6, 1000, 4],\n",
    "                  [8, 2, 20, 4, 1000]])\n",
    "\n",
    "\n",
    "b = np.ones(5)"
   ]
  },
  {
   "cell_type": "markdown",
   "metadata": {},
   "source": [
    "### задание 7.1 Градиентный спуск"
   ]
  },
  {
   "cell_type": "code",
   "execution_count": 1,
   "metadata": {},
   "outputs": [],
   "source": [
    "def f(x,y):\n",
    "    return 2*x**2 - 4*x*y + y**4 + 2\n",
    "def grad(x,y):\n",
    "    dx = 4*x - 4\n",
    "    dy = 4*y**3 - 4*x\n",
    "    return (dx,dy)\n",
    "def dist(x1, x2):\n",
    "    return (x1[0] - x2[0]) ** 2 + (x1[1] - x2[1]) ** 2"
   ]
  },
  {
   "cell_type": "code",
   "execution_count": 2,
   "metadata": {},
   "outputs": [
    {
     "name": "stdout",
     "output_type": "stream",
     "text": [
      "iter=1; x=(-1.88, 0.88); f(x)=16.29; grad f(x)=(-11.52, 10.25), dist = 0.02880\n",
      "iter=2; x=(-1.76, 0.78); f(x)=14.08; grad f(x)=(-11.06, 8.94), dist = 0.02377\n",
      "iter=3; x=(-1.65, 0.69); f(x)=12.25; grad f(x)=(-10.62, 7.92), dist = 0.02022\n",
      "iter=4; x=(-1.55, 0.61); f(x)=10.70; grad f(x)=(-10.19, 7.10), dist = 0.01754\n",
      "iter=5; x=(-1.45, 0.54); f(x)=9.38; grad f(x)=(-9.78, 6.41), dist = 0.01542\n",
      "iter=6; x=(-1.35, 0.47); f(x)=8.24; grad f(x)=(-9.39, 5.82), dist = 0.01368\n",
      "iter=7; x=(-1.25, 0.42); f(x)=7.26; grad f(x)=(-9.02, 5.30), dist = 0.01221\n",
      "iter=8; x=(-1.16, 0.36); f(x)=6.42; grad f(x)=(-8.66, 4.85), dist = 0.01095\n",
      "iter=9; x=(-1.08, 0.31); f(x)=5.69; grad f(x)=(-8.31, 4.43), dist = 0.00984\n",
      "iter=10; x=(-0.99, 0.27); f(x)=5.06; grad f(x)=(-7.98, 4.06), dist = 0.00887\n",
      "iter=11; x=(-0.91, 0.23); f(x)=4.52; grad f(x)=(-7.66, 3.71), dist = 0.00801\n",
      "iter=12; x=(-0.84, 0.19); f(x)=4.05; grad f(x)=(-7.35, 3.38), dist = 0.00724\n",
      "iter=13; x=(-0.76, 0.16); f(x)=3.65; grad f(x)=(-7.06, 3.07), dist = 0.00655\n",
      "iter=14; x=(-0.69, 0.13); f(x)=3.32; grad f(x)=(-6.78, 2.78), dist = 0.00593\n",
      "iter=15; x=(-0.63, 0.10); f(x)=3.03; grad f(x)=(-6.51, 2.51), dist = 0.00537\n",
      "iter=16; x=(-0.56, 0.07); f(x)=2.80; grad f(x)=(-6.24, 2.25), dist = 0.00486\n",
      "iter=17; x=(-0.50, 0.05); f(x)=2.60; grad f(x)=(-6.00, 2.00), dist = 0.00440\n",
      "iter=18; x=(-0.44, 0.03); f(x)=2.44; grad f(x)=(-5.76, 1.76), dist = 0.00399\n",
      "iter=19; x=(-0.38, 0.01); f(x)=2.31; grad f(x)=(-5.53, 1.53), dist = 0.00362\n",
      "iter=20; x=(-0.33, -0.00); f(x)=2.21; grad f(x)=(-5.30, 1.30), dist = 0.00329\n",
      "iter=21; x=(-0.27, -0.01); f(x)=2.13; grad f(x)=(-5.09, 1.09), dist = 0.00298\n",
      "iter=22; x=(-0.22, -0.02); f(x)=2.08; grad f(x)=(-4.89, 0.89), dist = 0.00271\n",
      "iter=23; x=(-0.17, -0.03); f(x)=2.04; grad f(x)=(-4.69, 0.69), dist = 0.00247\n",
      "iter=24; x=(-0.13, -0.04); f(x)=2.01; grad f(x)=(-4.50, 0.50), dist = 0.00225\n",
      "iter=25; x=(-0.08, -0.05); f(x)=2.00; grad f(x)=(-4.32, 0.32), dist = 0.00205\n",
      "iter=26; x=(-0.04, -0.05); f(x)=2.00; grad f(x)=(-4.15, 0.15), dist = 0.00188\n",
      "iter=27; x=(0.00, -0.05); f(x)=2.00; grad f(x)=(-3.99, -0.01), dist = 0.00173\n",
      "iter=28; x=(0.04, -0.05); f(x)=2.01; grad f(x)=(-3.83, -0.17), dist = 0.00159\n",
      "iter=29; x=(0.08, -0.05); f(x)=2.03; grad f(x)=(-3.67, -0.33), dist = 0.00147\n",
      "iter=30; x=(0.12, -0.04); f(x)=2.05; grad f(x)=(-3.53, -0.47), dist = 0.00136\n",
      "iter=31; x=(0.15, -0.04); f(x)=2.07; grad f(x)=(-3.39, -0.62), dist = 0.00127\n",
      "iter=32; x=(0.19, -0.03); f(x)=2.10; grad f(x)=(-3.25, -0.75), dist = 0.00118\n",
      "iter=33; x=(0.22, -0.03); f(x)=2.12; grad f(x)=(-3.12, -0.88), dist = 0.00111\n",
      "iter=34; x=(0.25, -0.02); f(x)=2.14; grad f(x)=(-3.00, -1.00), dist = 0.00105\n",
      "iter=35; x=(0.28, -0.01); f(x)=2.17; grad f(x)=(-2.88, -1.12), dist = 0.00100\n",
      "iter=36; x=(0.31, 0.00); f(x)=2.19; grad f(x)=(-2.76, -1.24), dist = 0.00095\n",
      "iter=37; x=(0.34, 0.02); f(x)=2.21; grad f(x)=(-2.65, -1.35), dist = 0.00092\n",
      "iter=38; x=(0.36, 0.03); f(x)=2.22; grad f(x)=(-2.54, -1.46), dist = 0.00088\n",
      "iter=39; x=(0.39, 0.04); f(x)=2.23; grad f(x)=(-2.44, -1.56), dist = 0.00086\n",
      "iter=40; x=(0.41, 0.06); f(x)=2.24; grad f(x)=(-2.34, -1.65), dist = 0.00084\n",
      "iter=41; x=(0.44, 0.08); f(x)=2.25; grad f(x)=(-2.25, -1.75), dist = 0.00082\n",
      "iter=42; x=(0.46, 0.09); f(x)=2.25; grad f(x)=(-2.16, -1.84), dist = 0.00081\n",
      "iter=43; x=(0.48, 0.11); f(x)=2.25; grad f(x)=(-2.07, -1.92), dist = 0.00080\n",
      "iter=44; x=(0.50, 0.13); f(x)=2.24; grad f(x)=(-1.99, -2.00), dist = 0.00080\n",
      "iter=45; x=(0.52, 0.15); f(x)=2.23; grad f(x)=(-1.91, -2.07), dist = 0.00080\n",
      "iter=46; x=(0.54, 0.17); f(x)=2.21; grad f(x)=(-1.84, -2.14), dist = 0.00080\n",
      "iter=47; x=(0.56, 0.19); f(x)=2.19; grad f(x)=(-1.76, -2.21), dist = 0.00080\n",
      "iter=48; x=(0.58, 0.22); f(x)=2.17; grad f(x)=(-1.69, -2.27), dist = 0.00080\n",
      "iter=49; x=(0.59, 0.24); f(x)=2.14; grad f(x)=(-1.62, -2.32), dist = 0.00080\n",
      "iter=50; x=(0.61, 0.26); f(x)=2.11; grad f(x)=(-1.56, -2.37), dist = 0.00080\n",
      "iter=51; x=(0.63, 0.29); f(x)=2.08; grad f(x)=(-1.50, -2.41), dist = 0.00080\n",
      "iter=52; x=(0.64, 0.31); f(x)=2.04; grad f(x)=(-1.44, -2.45), dist = 0.00081\n",
      "iter=53; x=(0.66, 0.33); f(x)=2.00; grad f(x)=(-1.38, -2.47), dist = 0.00080\n",
      "iter=54; x=(0.67, 0.36); f(x)=1.95; grad f(x)=(-1.32, -2.49), dist = 0.00080\n",
      "iter=55; x=(0.68, 0.38); f(x)=1.91; grad f(x)=(-1.27, -2.50), dist = 0.00080\n",
      "iter=56; x=(0.69, 0.41); f(x)=1.86; grad f(x)=(-1.22, -2.51), dist = 0.00079\n",
      "iter=57; x=(0.71, 0.43); f(x)=1.81; grad f(x)=(-1.17, -2.50), dist = 0.00078\n",
      "iter=58; x=(0.72, 0.46); f(x)=1.76; grad f(x)=(-1.12, -2.49), dist = 0.00076\n",
      "iter=59; x=(0.73, 0.48); f(x)=1.71; grad f(x)=(-1.08, -2.47), dist = 0.00075\n",
      "iter=60; x=(0.74, 0.51); f(x)=1.66; grad f(x)=(-1.04, -2.44), dist = 0.00073\n",
      "iter=61; x=(0.75, 0.53); f(x)=1.61; grad f(x)=(-0.99, -2.40), dist = 0.00070\n",
      "iter=62; x=(0.76, 0.56); f(x)=1.56; grad f(x)=(-0.95, -2.36), dist = 0.00068\n",
      "iter=63; x=(0.77, 0.58); f(x)=1.51; grad f(x)=(-0.92, -2.30), dist = 0.00065\n",
      "iter=64; x=(0.78, 0.60); f(x)=1.47; grad f(x)=(-0.88, -2.24), dist = 0.00061\n",
      "iter=65; x=(0.79, 0.63); f(x)=1.42; grad f(x)=(-0.84, -2.18), dist = 0.00058\n",
      "iter=66; x=(0.80, 0.65); f(x)=1.38; grad f(x)=(-0.81, -2.10), dist = 0.00055\n",
      "iter=67; x=(0.81, 0.67); f(x)=1.34; grad f(x)=(-0.78, -2.03), dist = 0.00051\n",
      "iter=68; x=(0.81, 0.69); f(x)=1.31; grad f(x)=(-0.75, -1.95), dist = 0.00047\n",
      "iter=69; x=(0.82, 0.71); f(x)=1.27; grad f(x)=(-0.72, -1.86), dist = 0.00043\n",
      "iter=70; x=(0.83, 0.73); f(x)=1.24; grad f(x)=(-0.69, -1.78), dist = 0.00040\n",
      "iter=71; x=(0.83, 0.74); f(x)=1.22; grad f(x)=(-0.66, -1.69), dist = 0.00036\n",
      "iter=72; x=(0.84, 0.76); f(x)=1.19; grad f(x)=(-0.63, -1.60), dist = 0.00033\n",
      "iter=73; x=(0.85, 0.78); f(x)=1.17; grad f(x)=(-0.61, -1.51), dist = 0.00030\n",
      "iter=74; x=(0.85, 0.79); f(x)=1.15; grad f(x)=(-0.59, -1.42), dist = 0.00027\n",
      "iter=75; x=(0.86, 0.81); f(x)=1.13; grad f(x)=(-0.56, -1.34), dist = 0.00024\n",
      "iter=76; x=(0.87, 0.82); f(x)=1.11; grad f(x)=(-0.54, -1.25), dist = 0.00021\n",
      "iter=77; x=(0.87, 0.83); f(x)=1.10; grad f(x)=(-0.52, -1.17), dist = 0.00019\n",
      "iter=78; x=(0.88, 0.84); f(x)=1.08; grad f(x)=(-0.50, -1.10), dist = 0.00016\n",
      "iter=79; x=(0.88, 0.86); f(x)=1.07; grad f(x)=(-0.48, -1.02), dist = 0.00014\n",
      "iter=80; x=(0.89, 0.87); f(x)=1.06; grad f(x)=(-0.46, -0.95), dist = 0.00013\n",
      "iter=81; x=(0.89, 0.87); f(x)=1.06; grad f(x)=(-0.44, -0.88), dist = 0.00011\n",
      "iter=82; x=(0.89, 0.88); f(x)=1.05; grad f(x)=(-0.42, -0.82), dist = 0.00010\n",
      "iter=83; x=(0.90, 0.89); f(x)=1.04; grad f(x)=(-0.41, -0.76), dist = 0.00008\n",
      "iter=84; x=(0.90, 0.90); f(x)=1.04; grad f(x)=(-0.39, -0.70), dist = 0.00007\n",
      "iter=85; x=(0.91, 0.91); f(x)=1.03; grad f(x)=(-0.37, -0.65), dist = 0.00006\n",
      "iter=86; x=(0.91, 0.91); f(x)=1.03; grad f(x)=(-0.36, -0.60), dist = 0.00006\n",
      "iter=87; x=(0.91, 0.92); f(x)=1.02; grad f(x)=(-0.34, -0.55), dist = 0.00005\n",
      "iter=88; x=(0.92, 0.92); f(x)=1.02; grad f(x)=(-0.33, -0.51), dist = 0.00004\n",
      "iter=89; x=(0.92, 0.93); f(x)=1.02; grad f(x)=(-0.32, -0.47), dist = 0.00004\n",
      "iter=90; x=(0.92, 0.93); f(x)=1.02; grad f(x)=(-0.30, -0.43), dist = 0.00003\n",
      "iter=91; x=(0.93, 0.94); f(x)=1.01; grad f(x)=(-0.29, -0.40), dist = 0.00003\n",
      "iter=92; x=(0.93, 0.94); f(x)=1.01; grad f(x)=(-0.28, -0.37), dist = 0.00002\n",
      "iter=93; x=(0.93, 0.95); f(x)=1.01; grad f(x)=(-0.27, -0.34), dist = 0.00002\n",
      "iter=94; x=(0.94, 0.95); f(x)=1.01; grad f(x)=(-0.26, -0.32), dist = 0.00002\n",
      "iter=95; x=(0.94, 0.95); f(x)=1.01; grad f(x)=(-0.25, -0.29), dist = 0.00002\n",
      "iter=96; x=(0.94, 0.96); f(x)=1.01; grad f(x)=(-0.24, -0.27), dist = 0.00001\n",
      "iter=97; x=(0.94, 0.96); f(x)=1.01; grad f(x)=(-0.23, -0.25), dist = 0.00001\n",
      "iter=98; x=(0.95, 0.96); f(x)=1.01; grad f(x)=(-0.22, -0.23), dist = 0.00001\n",
      "iter=99; x=(0.95, 0.96); f(x)=1.01; grad f(x)=(-0.21, -0.21), dist = 0.00001\n"
     ]
    }
   ],
   "source": [
    "x0 = (-2,1)\n",
    "g = 0.01\n",
    "x_cur = x0\n",
    "\n",
    "coords = []\n",
    "vals = []\n",
    "i = 0\n",
    "while True:\n",
    "    x_new = (x_cur[0] - g*grad(*x_cur)[0],\n",
    "             x_cur[1] - g*grad(*x_cur)[1])\n",
    "    vals.append(f(*x_new))\n",
    "    coords.append(x_new)\n",
    "    d = dist(x_new, x_cur)\n",
    "    if dist(x_new, x_cur) < 0.00001:\n",
    "        break\n",
    "    x_cur = x_new\n",
    "    i +=1\n",
    "    print(f\"iter={i}; x=({x_cur[0]:.2f}, {x_cur[1]:.2f});\"\n",
    "          f\" f(x)={f(*x_cur):.2f}; grad f(x)=({grad(*x_cur)[0]:.2f}, {grad(*x_cur)[1]:.2f}), dist = {d:.5f}\")\n",
    "    "
   ]
  },
  {
   "cell_type": "code",
   "execution_count": 153,
   "metadata": {},
   "outputs": [],
   "source": [
    "import matplotlib.pyplot as plt\n",
    "import numpy as np"
   ]
  },
  {
   "cell_type": "code",
   "execution_count": 154,
   "metadata": {},
   "outputs": [
    {
     "data": {
      "text/plain": [
       "[<matplotlib.lines.Line2D at 0xf458040>]"
      ]
     },
     "execution_count": 154,
     "metadata": {},
     "output_type": "execute_result"
    },
    {
     "data": {
      "image/png": "[encoded data removed]",
      "text/plain": [
       "<Figure size 432x288 with 1 Axes>"
      ]
     },
     "metadata": {
      "needs_background": "light"
     },
     "output_type": "display_data"
    }
   ],
   "source": [
    "plt.plot(vals)"
   ]
  },
  {
   "cell_type": "code",
   "execution_count": 155,
   "metadata": {},
   "outputs": [
    {
     "data": {
      "text/plain": [
       "<matplotlib.collections.PathCollection at 0xf4fd280>"
      ]
     },
     "execution_count": 155,
     "metadata": {},
     "output_type": "execute_result"
    },
    {
     "data": {
      "image/png": "[encoded data removed]",
      "text/plain": [
       "<Figure size 432x288 with 1 Axes>"
      ]
     },
     "metadata": {
      "needs_background": "light"
     },
     "output_type": "display_data"
    }
   ],
   "source": [
    "n = 100 # number of discretization points along the x-axis\n",
    "m = 100 # number of discretization points along the x-axis\n",
    "a=-4; b=4 # extreme points in the x-axis\n",
    "c=-3; d=3 # extreme points in the y-axis\n",
    "X,Y = np.meshgrid(np.linspace(a,b,n), np.linspace(c,d,m))\n",
    "\n",
    "Z = f(X,Y)\n",
    "\n",
    "plt.xlim(a,b)\n",
    "plt.ylim(c,d)\n",
    "\n",
    "plt.contour(X,Y,Z, np.logspace(-0.5, 1.5, 31),cmap='gray_r')\n",
    "plt.plot([c[0] for c in coords], [c[1] for c in coords])\n",
    "plt.scatter(1,1,c='red')\n",
    "\n"
   ]
  },
  {
   "cell_type": "code",
   "execution_count": 124,
   "metadata": {},
   "outputs": [],
   "source": [
    "from scipy import optimize"
   ]
  },
  {
   "cell_type": "code",
   "execution_count": 125,
   "metadata": {},
   "outputs": [],
   "source": [
    "def f_for_scipy(x):\n",
    "    return f(x[0],x[1])"
   ]
  },
  {
   "cell_type": "code",
   "execution_count": 135,
   "metadata": {},
   "outputs": [
    {
     "data": {
      "text/plain": [
       "      fun: 1.0000000000000004\n",
       " hess_inv: array([[0.37115188, 0.12498111],\n",
       "       [0.12498111, 0.12494948]])\n",
       "      jac: array([2.98023224e-08, 0.00000000e+00])\n",
       "  message: 'Optimization terminated successfully.'\n",
       "     nfev: 30\n",
       "      nit: 8\n",
       "     njev: 10\n",
       "   status: 0\n",
       "  success: True\n",
       "        x: array([-1.00000001, -1.00000001])"
      ]
     },
     "execution_count": 135,
     "metadata": {},
     "output_type": "execute_result"
    }
   ],
   "source": [
    "optimize.minimize(f_for_scipy, x0=(1,-2))"
   ]
  },
  {
   "cell_type": "code",
   "execution_count": null,
   "metadata": {},
   "outputs": [],
   "source": []
  }
 ],
 "metadata": {
  "kernelspec": {
   "display_name": "Python 3",
   "language": "python",
   "name": "python3"
  },
  "language_info": {
   "codemirror_mode": {
    "name": "ipython",
    "version": 3
   },
   "file_extension": ".py",
   "mimetype": "text/x-python",
   "name": "python",
   "nbconvert_exporter": "python",
   "pygments_lexer": "ipython3",
   "version": "3.8.5"
  }
 },
 "nbformat": 4,
 "nbformat_minor": 4
}
