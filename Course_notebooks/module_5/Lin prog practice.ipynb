{
 "cells": [
  {
   "cell_type": "code",
   "execution_count": 9,
   "metadata": {},
   "outputs": [],
   "source": [
    "import numpy as np\n",
    "import cvxpy as cp\n",
    "from scipy.optimize import linprog"
   ]
  },
  {
   "cell_type": "markdown",
   "metadata": {},
   "source": [
    "### Задача 5.1"
   ]
  },
  {
   "cell_type": "code",
   "execution_count": 10,
   "metadata": {},
   "outputs": [],
   "source": [
    "#minimize c.T @ x\n",
    "#such that A_ub @ x <= b_ub\n",
    "#A_eq @ x == b_eq\n",
    "costs = np.array([2, 4, 3, 7, 7, 6])\n",
    "b_cap = np.array([180, 220])\n",
    "A_cap = np.array([[1, 1, 1, 0, 0, 0],[ 0, 0, 0, 1, 1, 1]])\n",
    "\n",
    "b_needs = np.array([110, 150, 140])\n",
    "A_needs = np.array([[1, 0, 0, 1, 0, 0],[ 0, 1, 0, 0, 1, 0],[ 0, 0, 1, 0, 0, 1]])"
   ]
  },
  {
   "cell_type": "code",
   "execution_count": 11,
   "metadata": {},
   "outputs": [
    {
     "name": "stdout",
     "output_type": "stream",
     "text": [
      "[[1 1 1 0 0 0]\n",
      " [0 0 0 1 1 1]\n",
      " [1 0 0 1 0 0]\n",
      " [0 1 0 0 1 0]\n",
      " [0 0 1 0 0 1]] [180 220 110 150 140]\n"
     ]
    }
   ],
   "source": [
    "A = np.append(A_cap, A_needs, axis=0)\n",
    "b = np.append(b_cap, b_needs)\n",
    "print(A,b)"
   ]
  },
  {
   "cell_type": "code",
   "execution_count": 12,
   "metadata": {},
   "outputs": [],
   "source": [
    "c = costs"
   ]
  },
  {
   "cell_type": "code",
   "execution_count": null,
   "metadata": {},
   "outputs": [],
   "source": []
  },
  {
   "cell_type": "code",
   "execution_count": 13,
   "metadata": {
    "scrolled": true
   },
   "outputs": [],
   "source": [
    "res = linprog(c=c, A_ub=A_cap, b_ub=b_cap, A_eq=A_needs, b_eq=b_needs)"
   ]
  },
  {
   "cell_type": "code",
   "execution_count": 14,
   "metadata": {},
   "outputs": [
    {
     "data": {
      "text/plain": [
       "array([110.,  36.,  34.,   0., 114., 106.])"
      ]
     },
     "execution_count": 14,
     "metadata": {},
     "output_type": "execute_result"
    }
   ],
   "source": [
    "res.x.round(0)"
   ]
  },
  {
   "cell_type": "code",
   "execution_count": 15,
   "metadata": {},
   "outputs": [
    {
     "data": {
      "text/plain": [
       "1900.0"
      ]
     },
     "execution_count": 15,
     "metadata": {},
     "output_type": "execute_result"
    }
   ],
   "source": [
    "c.T @ res.x.round(0)"
   ]
  },
  {
   "cell_type": "code",
   "execution_count": null,
   "metadata": {},
   "outputs": [],
   "source": []
  },
  {
   "cell_type": "code",
   "execution_count": 17,
   "metadata": {},
   "outputs": [
    {
     "data": {
      "text/plain": [
       "Variable((6,), integer=True)"
      ]
     },
     "execution_count": 17,
     "metadata": {},
     "output_type": "execute_result"
    }
   ],
   "source": [
    "x = cp.Variable(shape=c.shape[0], integer = True)\n",
    "x"
   ]
  },
  {
   "cell_type": "code",
   "execution_count": 18,
   "metadata": {},
   "outputs": [
    {
     "name": "stderr",
     "output_type": "stream",
     "text": [
      "C:\\Users\\SVasilchenko\\anaconda3\\lib\\site-packages\\cvxpy\\expressions\\expression.py:556: UserWarning: \n",
      "This use of ``*`` has resulted in matrix multiplication.\n",
      "Using ``*`` for matrix multiplication has been deprecated since CVXPY 1.1.\n",
      "    Use ``*`` for matrix-scalar and vector-scalar multiplication.\n",
      "    Use ``@`` for matrix-matrix and matrix-vector multiplication.\n",
      "    Use ``multiply`` for elementwise multiplication.\n",
      "This code path has been hit 1 times so far.\n",
      "\n",
      "  warnings.warn(msg, UserWarning)\n"
     ]
    }
   ],
   "source": [
    "total_costs = c.T * x\n",
    "constraint_capacity = (A_cap @ x <= b_cap)\n",
    "constraint_needs = (A_needs @ x == b_needs)\n",
    "x_positive = (x >= 0)"
   ]
  },
  {
   "cell_type": "code",
   "execution_count": 19,
   "metadata": {},
   "outputs": [
    {
     "data": {
      "text/plain": [
       "Expression(AFFINE, UNKNOWN, ())"
      ]
     },
     "execution_count": 19,
     "metadata": {},
     "output_type": "execute_result"
    }
   ],
   "source": [
    "total_costs"
   ]
  },
  {
   "cell_type": "code",
   "execution_count": 22,
   "metadata": {},
   "outputs": [],
   "source": [
    "problem = cp.Problem(cp.Minimize(total_costs), constraints=[constraint_capacity, constraint_needs, x_positive])"
   ]
  },
  {
   "cell_type": "code",
   "execution_count": 23,
   "metadata": {},
   "outputs": [
    {
     "data": {
      "text/plain": [
       "1899.999999997038"
      ]
     },
     "execution_count": 23,
     "metadata": {},
     "output_type": "execute_result"
    }
   ],
   "source": [
    "problem.solve(solver=\"ECOS_BB\")"
   ]
  },
  {
   "cell_type": "markdown",
   "metadata": {},
   "source": [
    "### Задача 5.2 о назначениях"
   ]
  },
  {
   "cell_type": "code",
   "execution_count": null,
   "metadata": {},
   "outputs": [],
   "source": [
    "import numpy as np\n",
    "import cvxpy as cp"
   ]
  },
  {
   "cell_type": "code",
   "execution_count": 46,
   "metadata": {},
   "outputs": [],
   "source": [
    "costs = np.array([[1000, 12, 10, 19, 8],\n",
    "                  [12, 1000, 3, 7, 2],\n",
    "                  [10, 3, 1000, 6, 20],\n",
    "                  [19, 7, 6, 1000, 4],\n",
    "                  [8, 2, 20, 4, 1000]])\n",
    "\n",
    "b = np.ones(5)"
   ]
  },
  {
   "cell_type": "code",
   "execution_count": 47,
   "metadata": {},
   "outputs": [],
   "source": [
    "assignment = cp.Variable(shape=costs.shape, boolean = True)\n",
    "\n",
    "#ограничения: суммы по строкам и столбцам равны единице\n",
    "job_costraint = (cp.sum(assignment, axis=1) == b)\n",
    "worker_costraint = (cp.sum(assignment, axis=0) == b)"
   ]
  },
  {
   "cell_type": "code",
   "execution_count": 58,
   "metadata": {},
   "outputs": [
    {
     "name": "stdout",
     "output_type": "stream",
     "text": [
      "[[ 1.  0.  0.  0.  0.]\n",
      " [ 0. -0.  1.  0.  0.]\n",
      " [ 0.  1. -0.  0.  0.]\n",
      " [ 0.  0.  0. -0.  1.]\n",
      " [ 0.  0.  0.  1. -0.]] work cost: 1014.0\n"
     ]
    }
   ],
   "source": [
    "#Оптимизируемая функция\n",
    "total_costs = cp.sum(cp.multiply(costs,assignment))\n",
    "\n",
    "#Решение\n",
    "problem = cp.Problem(cp.Minimize(total_costs), constraints = [job_costraint, worker_costraint])\n",
    "result = problem.solve(solver='ECOS_BB')\n",
    "\n",
    "print(f\"{assignment.value.round(0)} work cost: {result.round(0)}\")"
   ]
  },
  {
   "cell_type": "code",
   "execution_count": null,
   "metadata": {},
   "outputs": [],
   "source": []
  },
  {
   "cell_type": "code",
   "execution_count": null,
   "metadata": {},
   "outputs": [],
   "source": []
  }
 ],
 "metadata": {
  "kernelspec": {
   "display_name": "Python 3",
   "language": "python",
   "name": "python3"
  },
  "language_info": {
   "codemirror_mode": {
    "name": "ipython",
    "version": 3
   },
   "file_extension": ".py",
   "mimetype": "text/x-python",
   "name": "python",
   "nbconvert_exporter": "python",
   "pygments_lexer": "ipython3",
   "version": "3.8.5"
  }
 },
 "nbformat": 4,
 "nbformat_minor": 4
}
