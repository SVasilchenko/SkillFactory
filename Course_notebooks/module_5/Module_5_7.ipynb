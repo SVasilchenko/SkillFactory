{
 "cells": [
  {
   "cell_type": "code",
   "execution_count": 18,
   "metadata": {},
   "outputs": [],
   "source": [
    "from scipy.stats import norm\n",
    "import math"
   ]
  },
  {
   "cell_type": "code",
   "execution_count": 19,
   "metadata": {},
   "outputs": [
    {
     "data": {
      "text/plain": [
       "1.8119106729525978"
      ]
     },
     "execution_count": 19,
     "metadata": {},
     "output_type": "execute_result"
    }
   ],
   "source": [
    "alpha = 0.07\n",
    "value = -norm.ppf(alpha/2)\n",
    "value"
   ]
  },
  {
   "cell_type": "code",
   "execution_count": 20,
   "metadata": {},
   "outputs": [
    {
     "name": "stdout",
     "output_type": "stream",
     "text": [
      "36.52879269972111 37.47120730027889\n"
     ]
    }
   ],
   "source": [
    "sample_mean = 37\n",
    "sigma = 3.4\n",
    "n = 200\n",
    "alpha = 0.05\n",
    "z_crit = -norm.ppf(alpha/2)\n",
    "print(sample_mean - z_crit*sigma/n**0.5, sample_mean + z_crit*sigma/n**0.5)"
   ]
  },
  {
   "cell_type": "code",
   "execution_count": 21,
   "metadata": {},
   "outputs": [
    {
     "name": "stdout",
     "output_type": "stream",
     "text": [
      "7.333969493458188 7.8660305065418115\n"
     ]
    }
   ],
   "source": [
    "sample_mean = 7.6\n",
    "sigma = 0.8\n",
    "n = 60\n",
    "alpha = 0.01\n",
    "z_crit = -norm.ppf(alpha/2)\n",
    "print(sample_mean - z_crit*sigma/n**0.5, sample_mean + z_crit*sigma/n**0.5)"
   ]
  },
  {
   "cell_type": "code",
   "execution_count": 22,
   "metadata": {},
   "outputs": [
    {
     "name": "stdout",
     "output_type": "stream",
     "text": [
      "1.9842169515086827\n"
     ]
    }
   ],
   "source": [
    "from scipy.stats import t\n",
    "# 0.95 - доверительный интервал, 100-1 число степеней свободы\n",
    "# для двустороннего t-теста\n",
    "value = t.ppf((1 + 0.95)/2, 100-1)\n",
    "print(value) # 1.98"
   ]
  },
  {
   "cell_type": "code",
   "execution_count": 41,
   "metadata": {},
   "outputs": [],
   "source": [
    "def confidence_interval_norm(sample_mean, sigma, n, alpha):\n",
    "    z_crit = -norm.ppf(alpha/2)\n",
    "    value = z_crit*sigma/n**0.5\n",
    "    return sample_mean - value, sample_mean + value\n",
    "\n",
    "def confidence_interval_t(sample_mean, sigma, n, alpha):\n",
    "    z_crit = -t.ppf(alpha/2,n-1)\n",
    "    value = z_crit*sigma/n**0.5\n",
    "    return sample_mean - value, sample_mean + value\n",
    "\n",
    "def confidence_interval_p(positive, n, alpha):\n",
    "    p = positive/n\n",
    "    print(p)\n",
    "    sigma = (p*(1-p)/n)**0.5\n",
    "    print(sigma)\n",
    "    z_crit = -norm.ppf(alpha/2)\n",
    "    print(z_crit)\n",
    "    value = z_crit*sigma\n",
    "    return p - value, p + value"
   ]
  },
  {
   "cell_type": "code",
   "execution_count": 42,
   "metadata": {},
   "outputs": [
    {
     "name": "stdout",
     "output_type": "stream",
     "text": [
      "(1818.092671377004, 2181.907328622996)\n",
      "(1778.4873833741433, 2221.5126166258565)\n",
      "(1692.553004440083, 2307.446995559917)\n"
     ]
    }
   ],
   "source": [
    "array = [0.1,0.05,0.01]\n",
    "for i in array:\n",
    "    result = confidence_interval_t(2000,400,15,i)\n",
    "    print(result)"
   ]
  },
  {
   "cell_type": "code",
   "execution_count": 43,
   "metadata": {},
   "outputs": [
    {
     "data": {
      "text/plain": [
       "(3352.6537883505453, 3727.3462116494547)"
      ]
     },
     "execution_count": 43,
     "metadata": {},
     "output_type": "execute_result"
    }
   ],
   "source": [
    "confidence_interval_norm(3540,1150,250,0.01)"
   ]
  },
  {
   "cell_type": "code",
   "execution_count": 44,
   "metadata": {},
   "outputs": [
    {
     "name": "stdout",
     "output_type": "stream",
     "text": [
      "0.6984126984126984\n",
      "0.033383486167905034\n",
      "1.6448536269514729\n"
     ]
    },
    {
     "data": {
      "text/plain": [
       "(0.6435017501091355, 0.7533236467162613)"
      ]
     },
     "execution_count": 44,
     "metadata": {},
     "output_type": "execute_result"
    }
   ],
   "source": [
    "confidence_interval_p(132, 189, 0.1)"
   ]
  },
  {
   "cell_type": "code",
   "execution_count": null,
   "metadata": {},
   "outputs": [],
   "source": []
  }
 ],
 "metadata": {
  "kernelspec": {
   "display_name": "Python 3",
   "language": "python",
   "name": "python3"
  },
  "language_info": {
   "codemirror_mode": {
    "name": "ipython",
    "version": 3
   },
   "file_extension": ".py",
   "mimetype": "text/x-python",
   "name": "python",
   "nbconvert_exporter": "python",
   "pygments_lexer": "ipython3",
   "version": "3.8.5"
  }
 },
 "nbformat": 4,
 "nbformat_minor": 4
}
