{
 "cells": [
  {
   "cell_type": "code",
   "execution_count": 2,
   "metadata": {},
   "outputs": [
    {
     "data": {
      "text/plain": [
       "400"
      ]
     },
     "execution_count": 2,
     "metadata": {},
     "output_type": "execute_result"
    }
   ],
   "source": [
    "def square(x):\n",
    "    return x**2\n",
    "\n",
    "square_result=square(20)\n",
    "x"
   ]
  },
  {
   "cell_type": "code",
   "execution_count": 8,
   "metadata": {},
   "outputs": [
    {
     "data": {
      "text/plain": [
       "256"
      ]
     },
     "execution_count": 8,
     "metadata": {},
     "output_type": "execute_result"
    }
   ],
   "source": [
    "def power(base, exp):\n",
    "    result = 1\n",
    "    for i in range (0, exp):\n",
    "        result *= base\n",
    "    return result\n",
    "power(4,4)"
   ]
  },
  {
   "cell_type": "code",
   "execution_count": 22,
   "metadata": {},
   "outputs": [
    {
     "name": "stdout",
     "output_type": "stream",
     "text": [
      "5\n"
     ]
    }
   ],
   "source": [
    "def get_median(lst):\n",
    "    lst.sort()\n",
    "    size = len(lst)\n",
    "    if size%2 == 0:\n",
    "        result = (lst[int(size/2-1)]+lst[int(size/2)])/2\n",
    "        return int(result)\n",
    "    else:\n",
    "        x=int(size//2)\n",
    "        result = lst[x]\n",
    "        return result\n",
    "\n",
    "print(get_median([3, 3, 7, 9]))"
   ]
  },
  {
   "cell_type": "code",
   "execution_count": 25,
   "metadata": {},
   "outputs": [
    {
     "name": "stdout",
     "output_type": "stream",
     "text": [
      "29.0\n"
     ]
    }
   ],
   "source": [
    "user_db = [{'orders': 12}, {'orders': 30}, {'orders': 45}]\n",
    "\n",
    "# перепишите эту часть\n",
    "def avg_orders(user_db):\n",
    "    order_sum = sum([user['orders'] for user in user_db])\n",
    "    orders_per_user = order_sum/len(user_db)\n",
    "    return orders_per_user\n",
    "print(avg_orders(user_db))\n"
   ]
  },
  {
   "cell_type": "code",
   "execution_count": 59,
   "metadata": {},
   "outputs": [],
   "source": [
    "from random import random\n",
    "def get_euro_rate():\n",
    "    rate = 65+random()*20\n",
    "    return rate\n",
    "\n",
    "def to_euro(price):  \n",
    "    exchange_rate = get_euro_rate()  \n",
    "    rounded = round(price/exchange_rate, 2)  \n",
    "    return '€' + str(rounded)  \n",
    "  \n",
    "def db_to_euro(db):  \n",
    "    return [to_euro(item['price']) for item in db]  "
   ]
  },
  {
   "cell_type": "code",
   "execution_count": 60,
   "metadata": {},
   "outputs": [
    {
     "name": "stdout",
     "output_type": "stream",
     "text": [
      "10\n"
     ]
    }
   ],
   "source": [
    "all_the = sum\n",
    "magic = range\n",
    "print(all_the(magic(5)))"
   ]
  },
  {
   "cell_type": "code",
   "execution_count": 68,
   "metadata": {},
   "outputs": [
    {
     "data": {
      "text/plain": [
       "[-14, -10, -3, -2, 5, 24]"
      ]
     },
     "execution_count": 68,
     "metadata": {},
     "output_type": "execute_result"
    }
   ],
   "source": [
    "values = [4, 8, 15, 16, 23, 42]\n",
    "mean = 18\n",
    "result = list(map(lambda x: x - mean, values))\n",
    "result"
   ]
  },
  {
   "cell_type": "code",
   "execution_count": 69,
   "metadata": {},
   "outputs": [
    {
     "data": {
      "text/plain": [
       "[23, 42]"
      ]
     },
     "execution_count": 69,
     "metadata": {},
     "output_type": "execute_result"
    }
   ],
   "source": [
    "values = [4, 8, 15, 16, 23, 42]\n",
    "mean = 18\n",
    "\n",
    "result = list(filter(lambda x: x > mean, values))\n",
    "result"
   ]
  },
  {
   "cell_type": "code",
   "execution_count": 70,
   "metadata": {},
   "outputs": [],
   "source": [
    "def normalize(numbers, mean = 0, std =1):\n",
    "    result = [(number-mean)/std for number in numbers]\n",
    "    return result\n"
   ]
  },
  {
   "cell_type": "code",
   "execution_count": 71,
   "metadata": {},
   "outputs": [],
   "source": [
    "def sum_args(*args):\n",
    "    return sum(args)\n"
   ]
  },
  {
   "cell_type": "code",
   "execution_count": 75,
   "metadata": {},
   "outputs": [
    {
     "name": "stdout",
     "output_type": "stream",
     "text": [
      "8\n",
      "4.0\n",
      "24\n",
      "3.4285714285714284\n"
     ]
    }
   ],
   "source": [
    "def count_letters(sentence, average=False):\n",
    "    if average == False:\n",
    "        i = 0\n",
    "        result = len(list(filter(lambda symbol: symbol.isalpha(), sentence)))\n",
    "    else:\n",
    "        words = sentence.split()\n",
    "        result = sum(list(map(lambda word: len(word), words)))/len(words)\n",
    "    return result    \n",
    "\n",
    "sentence = 'шла саша по шоссе'\n",
    "count_letters(sentence, True)\n",
    "print(count_letters(\"Beep boop\")) # => 8\n",
    "print(count_letters(\"Beep boop\", average=True)) # => 4\n",
    "print(count_letters(\"I will build my own theme park\")) # => 24\n",
    "print(count_letters(\"I will build my own theme park\", average=True)) # => 3.429"
   ]
  },
  {
   "cell_type": "code",
   "execution_count": 77,
   "metadata": {},
   "outputs": [
    {
     "data": {
      "text/plain": [
       "5"
      ]
     },
     "execution_count": 77,
     "metadata": {},
     "output_type": "execute_result"
    }
   ],
   "source": [
    "def always(n):\n",
    "    return arg()\n",
    "def arg():\n",
    "    return n\n",
    "n=5\n",
    "arg()"
   ]
  },
  {
   "cell_type": "code",
   "execution_count": 78,
   "metadata": {},
   "outputs": [],
   "source": [
    "def always(n):\n",
    "    return  (lambda : n)"
   ]
  },
  {
   "cell_type": "code",
   "execution_count": null,
   "metadata": {},
   "outputs": [],
   "source": []
  }
 ],
 "metadata": {
  "kernelspec": {
   "display_name": "Python 3",
   "language": "python",
   "name": "python3"
  },
  "language_info": {
   "codemirror_mode": {
    "name": "ipython",
    "version": 3
   },
   "file_extension": ".py",
   "mimetype": "text/x-python",
   "name": "python",
   "nbconvert_exporter": "python",
   "pygments_lexer": "ipython3",
   "version": "3.8.5"
  }
 },
 "nbformat": 4,
 "nbformat_minor": 4
}
