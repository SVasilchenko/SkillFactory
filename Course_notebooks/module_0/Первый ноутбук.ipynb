{
 "cells": [
  {
   "cell_type": "markdown",
   "metadata": {},
   "source": [
    "# Это заголовок первого уровня\n",
    "## Это заголовок второго уровня\n",
    "список:\n",
    "- первый элемент списка\n",
    "- второй элемент списка"
   ]
  },
  {
   "cell_type": "code",
   "execution_count": 1,
   "metadata": {},
   "outputs": [
    {
     "name": "stdout",
     "output_type": "stream",
     "text": [
      "hello world\n"
     ]
    }
   ],
   "source": [
    "print(\"hello world\")"
   ]
  },
  {
   "cell_type": "code",
   "execution_count": 2,
   "metadata": {},
   "outputs": [],
   "source": [
    "f = 2"
   ]
  },
  {
   "cell_type": "code",
   "execution_count": 3,
   "metadata": {},
   "outputs": [
    {
     "name": "stdout",
     "output_type": "stream",
     "text": [
      "2\n"
     ]
    }
   ],
   "source": [
    "print(f)"
   ]
  },
  {
   "cell_type": "code",
   "execution_count": 7,
   "metadata": {},
   "outputs": [
    {
     "name": "stdout",
     "output_type": "stream",
     "text": [
      "x = 20.0\n"
     ]
    }
   ],
   "source": [
    "x=(67+33)*(25-20)/25\n",
    "print(\"x =\",x)"
   ]
  },
  {
   "cell_type": "code",
   "execution_count": 13,
   "metadata": {},
   "outputs": [],
   "source": [
    "y = (4 + 5*60-17+65/4)**(1/2)"
   ]
  },
  {
   "cell_type": "code",
   "execution_count": 14,
   "metadata": {},
   "outputs": [
    {
     "name": "stdout",
     "output_type": "stream",
     "text": [
      "17.414074767267998\n"
     ]
    }
   ],
   "source": [
    "print(y)"
   ]
  },
  {
   "cell_type": "code",
   "execution_count": 15,
   "metadata": {},
   "outputs": [
    {
     "name": "stdout",
     "output_type": "stream",
     "text": [
      "z = 1916.7312813742387\n"
     ]
    }
   ],
   "source": [
    "z = 6.996+45*(13/2)**2+2*18**(1/2)\n",
    "print (\"z =\",z\n",
    "    )"
   ]
  },
  {
   "cell_type": "code",
   "execution_count": 17,
   "metadata": {},
   "outputs": [
    {
     "data": {
      "text/plain": [
       "-0.3909200032552083"
      ]
     },
     "execution_count": 17,
     "metadata": {},
     "output_type": "execute_result"
    }
   ],
   "source": [
    "(1267-20*(5**3/2)**2)/(8**5*36**0.5)"
   ]
  },
  {
   "cell_type": "code",
   "execution_count": 22,
   "metadata": {},
   "outputs": [
    {
     "data": {
      "text/plain": [
       "-4251528.0"
      ]
     },
     "execution_count": 22,
     "metadata": {},
     "output_type": "execute_result"
    }
   ],
   "source": [
    "((((9**0.5)**3)**2)**2)/-2**-3"
   ]
  },
  {
   "cell_type": "code",
   "execution_count": 23,
   "metadata": {},
   "outputs": [
    {
     "data": {
      "text/plain": [
       "'hey!'"
      ]
     },
     "execution_count": 23,
     "metadata": {},
     "output_type": "execute_result"
    }
   ],
   "source": [
    "'hey'+'!'"
   ]
  },
  {
   "cell_type": "code",
   "execution_count": 24,
   "metadata": {},
   "outputs": [
    {
     "data": {
      "text/plain": [
       "float"
      ]
     },
     "execution_count": 24,
     "metadata": {},
     "output_type": "execute_result"
    }
   ],
   "source": [
    "type(2+3.4)"
   ]
  },
  {
   "cell_type": "code",
   "execution_count": 25,
   "metadata": {},
   "outputs": [
    {
     "data": {
      "text/plain": [
       "2.4"
      ]
     },
     "execution_count": 25,
     "metadata": {},
     "output_type": "execute_result"
    }
   ],
   "source": [
    "float('2.4')"
   ]
  },
  {
   "cell_type": "code",
   "execution_count": 26,
   "metadata": {},
   "outputs": [
    {
     "ename": "TypeError",
     "evalue": "can only concatenate str (not \"int\") to str",
     "output_type": "error",
     "traceback": [
      "\u001b[1;31m---------------------------------------------------------------------------\u001b[0m",
      "\u001b[1;31mTypeError\u001b[0m                                 Traceback (most recent call last)",
      "\u001b[1;32m<ipython-input-26-e3971c5ab644>\u001b[0m in \u001b[0;36m<module>\u001b[1;34m\u001b[0m\n\u001b[1;32m----> 1\u001b[1;33m \u001b[1;34m'42'\u001b[0m\u001b[1;33m+\u001b[0m\u001b[1;36m2\u001b[0m\u001b[1;33m\u001b[0m\u001b[1;33m\u001b[0m\u001b[0m\n\u001b[0m",
      "\u001b[1;31mTypeError\u001b[0m: can only concatenate str (not \"int\") to str"
     ]
    }
   ],
   "source": [
    "'42'+2"
   ]
  },
  {
   "cell_type": "code",
   "execution_count": 27,
   "metadata": {},
   "outputs": [
    {
     "data": {
      "text/plain": [
       "'4242'"
      ]
     },
     "execution_count": 27,
     "metadata": {},
     "output_type": "execute_result"
    }
   ],
   "source": [
    "'42'*2"
   ]
  },
  {
   "cell_type": "code",
   "execution_count": 30,
   "metadata": {},
   "outputs": [
    {
     "name": "stdout",
     "output_type": "stream",
     "text": [
      "write somethinggdf\n",
      "gdf\n"
     ]
    }
   ],
   "source": [
    "a = input('write something')\n",
    "print(a)"
   ]
  },
  {
   "cell_type": "code",
   "execution_count": 31,
   "metadata": {},
   "outputs": [
    {
     "name": "stdout",
     "output_type": "stream",
     "text": [
      "Введите основание степени: \n",
      "5\n",
      "Введите показатель степени: \n",
      "5\n",
      "Полученное число: 3125.0\n"
     ]
    }
   ],
   "source": [
    "a = float(input('Введите основание степени: \\n'))\n",
    "b = float(input('Введите показатель степени: \\n'))\n",
    "# В функции print() можно в качестве аргументов \n",
    "# перечислять через запятую все нужные для вывода данные\n",
    "print('Полученное число:', a**b) "
   ]
  },
  {
   "cell_type": "code",
   "execution_count": 32,
   "metadata": {},
   "outputs": [
    {
     "name": "stdout",
     "output_type": "stream",
     "text": [
      "input nameАлуксей\n",
      "Сегодня Вас зовут Алуксей\n"
     ]
    }
   ],
   "source": [
    "name = input('input name')\n",
    "print('Сегодня Вас зовут', name)"
   ]
  },
  {
   "cell_type": "code",
   "execution_count": 33,
   "metadata": {},
   "outputs": [
    {
     "name": "stdout",
     "output_type": "stream",
     "text": [
      "13\n"
     ]
    }
   ],
   "source": [
    "word = 'Очаровательно'\n",
    "print(len(word))"
   ]
  },
  {
   "cell_type": "code",
   "execution_count": 45,
   "metadata": {},
   "outputs": [
    {
     "name": "stdout",
     "output_type": "stream",
     "text": [
      "x = 2\n",
      "f = 55.996\n"
     ]
    }
   ],
   "source": [
    "x = float(input('x = '))\n",
    "print('f =', 6.996+45*(x/2)**2+2*x)"
   ]
  },
  {
   "cell_type": "code",
   "execution_count": 47,
   "metadata": {},
   "outputs": [
    {
     "name": "stdout",
     "output_type": "stream",
     "text": [
      "weight64\n",
      "height1.75\n",
      "20.897959183673468\n"
     ]
    }
   ],
   "source": [
    "weight = float(input('weight'))\n",
    "height = float(input('height'))\n",
    "IMT = weight/height**2\n",
    "print(IMT)"
   ]
  },
  {
   "cell_type": "code",
   "execution_count": 48,
   "metadata": {},
   "outputs": [
    {
     "name": "stdout",
     "output_type": "stream",
     "text": [
      "1qlskdjfhqsj\n",
      "2sdf\n",
      "3gg\n",
      "4.04124002062219\n"
     ]
    }
   ],
   "source": [
    "string_1 = input('1')\n",
    "string_2 = input('2')\n",
    "string_3 = input('3')\n",
    "print((len(string_1)*len(string_2)*len(string_3))**(1/3))"
   ]
  },
  {
   "cell_type": "code",
   "execution_count": 50,
   "metadata": {},
   "outputs": [
    {
     "name": "stdout",
     "output_type": "stream",
     "text": [
      "Это слово короткое.\n"
     ]
    }
   ],
   "source": [
    "word = 'Очень'\n",
    "if len(word) > 7:\n",
    "    print('Это слово длинное.')\n",
    "else:\n",
    "     print('Это слово короткое.')"
   ]
  },
  {
   "cell_type": "code",
   "execution_count": 52,
   "metadata": {},
   "outputs": [
    {
     "name": "stdout",
     "output_type": "stream",
     "text": [
      "wordфывадлор\n",
      "letterе\n",
      "Выбранной буквы нет в введённом слове\n"
     ]
    }
   ],
   "source": [
    "word = input('word')\n",
    "letter = input('letter')\n",
    "if letter in word:\n",
    "    print('Выбранная буква есть в введённом слове')\n",
    "else:\n",
    "     print('Выбранной буквы нет в введённом слове')"
   ]
  },
  {
   "cell_type": "code",
   "execution_count": 55,
   "metadata": {},
   "outputs": [
    {
     "name": "stdout",
     "output_type": "stream",
     "text": [
      "Квадратный корень из 159 - не целое число\n"
     ]
    }
   ],
   "source": [
    "number = 169\n",
    "if int(number**(1/2)) == number**(1/2):\n",
    "    print(int(number**(1/2)))\n",
    "else:\n",
    "    print('Квадратный корень из', number,'- не целое число')"
   ]
  },
  {
   "cell_type": "code",
   "execution_count": 3,
   "metadata": {},
   "outputs": [
    {
     "name": "stdout",
     "output_type": "stream",
     "text": [
      "вторник\n"
     ]
    }
   ],
   "source": [
    "number = 2\n",
    "if number == 1:\n",
    "    print('понедельник')\n",
    "elif number == 2:\n",
    "    print('вторник')\n",
    "elif number == 3:\n",
    "    print('среда')\n",
    "elif number == 4:\n",
    "    print('четверг')\n",
    "elif number == 5:\n",
    "    print('пятница')\n",
    "elif number == 6:\n",
    "    print('суббота')\n",
    "else:\n",
    "    print('воскресенье')"
   ]
  },
  {
   "cell_type": "code",
   "execution_count": 6,
   "metadata": {},
   "outputs": [
    {
     "name": "stdout",
     "output_type": "stream",
     "text": [
      "weight64\n",
      "height1.75\n",
      "норма\n"
     ]
    }
   ],
   "source": [
    "weight = float(input('weight'))\n",
    "height = float(input('height'))\n",
    "IMT = weight/height**2\n",
    "if IMT < 18.5:\n",
    "    print('Недостаточная масса тела')\n",
    "elif IMT > 24.99:\n",
    "    print('Избыточная масса тела')\n",
    "else:\n",
    "    print('норма')"
   ]
  },
  {
   "cell_type": "code",
   "execution_count": 16,
   "metadata": {},
   "outputs": [
    {
     "name": "stdout",
     "output_type": "stream",
     "text": [
      "mark1500\n",
      "вводимая оценка — отлично\n"
     ]
    }
   ],
   "source": [
    "mark = float(input('mark'))\n",
    "if mark < 4:\n",
    "    print('вводимая оценка — неудовлетворительно')\n",
    "elif mark == 4 or mark == 5:\n",
    "    print('вводимая оценка — удовлетворительно')\n",
    "elif mark == 6 or mark == 7:\n",
    "    print('вводимая оценка — хорошо')\n",
    "else:\n",
    "    print('вводимая оценка — отлично')"
   ]
  },
  {
   "cell_type": "code",
   "execution_count": 19,
   "metadata": {},
   "outputs": [
    {
     "name": "stdout",
     "output_type": "stream",
     "text": [
      "balance1000\n",
      "Придется потерпеть!\n"
     ]
    }
   ],
   "source": [
    "balance = float(input('balance'))\n",
    "if balance <= 2500:\n",
    "    print('Придется потерпеть!')\n",
    "elif balance >= 5000:\n",
    "    print('Сегодня твой выбор - ресторан!')\n",
    "else:\n",
    "    print('Эх, только фастфуд.')"
   ]
  },
  {
   "cell_type": "code",
   "execution_count": 24,
   "metadata": {},
   "outputs": [
    {
     "name": "stdout",
     "output_type": "stream",
     "text": [
      "Число делится на 3 без остатка\n"
     ]
    }
   ],
   "source": [
    "number = 27\n",
    "if number % 2 == 0:\n",
    "    print('Число делится на 2 без остатка')\n",
    "elif number % 3 == 0:\n",
    "    print('Число делится на 3 без остатка')\n",
    "elif number % 5 == 0:\n",
    "    print('Число делится на 5 без остатка')\n",
    "else:\n",
    "    print('Число не делится ни на 2, ни на 3, ни на 5 без остатка!')"
   ]
  },
  {
   "cell_type": "code",
   "execution_count": 29,
   "metadata": {},
   "outputs": [
    {
     "data": {
      "text/plain": [
       "True"
      ]
     },
     "execution_count": 29,
     "metadata": {},
     "output_type": "execute_result"
    }
   ],
   "source": [
    "\"239\" > \"23\""
   ]
  },
  {
   "cell_type": "code",
   "execution_count": 40,
   "metadata": {},
   "outputs": [
    {
     "name": "stdout",
     "output_type": "stream",
     "text": [
      "Аня не любит такие цветы\n"
     ]
    }
   ],
   "source": [
    "flower = \"роза\"\n",
    "color = \"фиолетовый\"\n",
    "if flower == 'роза' and color == 'белый' or color == 'синий':\n",
    "    print('Ане понравятся эти цветы')\n",
    "else:\n",
    "    print('Аня не любит такие цветы')"
   ]
  },
  {
   "cell_type": "code",
   "execution_count": 43,
   "metadata": {},
   "outputs": [
    {
     "name": "stdout",
     "output_type": "stream",
     "text": [
      "Попробуем поискать ещё...\n"
     ]
    }
   ],
   "source": [
    "height = 182\n",
    "weight = 92\n",
    "color = \"синий\"\n",
    "if height > 170 and weight < 80 and color == 'красный':\n",
    "    print('Ваша половинка нашлась!')\n",
    "else:\n",
    "    print('Попробуем поискать ещё...')"
   ]
  },
  {
   "cell_type": "code",
   "execution_count": 54,
   "metadata": {},
   "outputs": [
    {
     "name": "stdout",
     "output_type": "stream",
     "text": [
      "Вова, это нужное число\n"
     ]
    }
   ],
   "source": [
    "number = 5\n",
    "check = all([number % 2, number % 5, number % 173, number % 821])\n",
    "if check:\n",
    "    print('Вова, в этот раз ты не попал')\n",
    "else:\n",
    "    print('Вова, это нужное число')"
   ]
  },
  {
   "cell_type": "code",
   "execution_count": 56,
   "metadata": {},
   "outputs": [
    {
     "name": "stdout",
     "output_type": "stream",
     "text": [
      "Преподаватель занят.\n"
     ]
    }
   ],
   "source": [
    "hour = 18\n",
    "minute = 47\n",
    "part_time = hour + minute/60\n",
    "if 10.5 <= part_time <= 12 or 13.66 <= part_time <= 15 or 18 <= part_time <= 19.5:\n",
    "    print('Преподаватель занят.')\n",
    "else:\n",
    "    print('Преподаватель свободен.')"
   ]
  },
  {
   "cell_type": "code",
   "execution_count": 57,
   "metadata": {},
   "outputs": [
    {
     "name": "stdout",
     "output_type": "stream",
     "text": [
      "Python\n"
     ]
    }
   ],
   "source": [
    "fav_word = 'Аппликация'\n",
    "print('Python')"
   ]
  },
  {
   "cell_type": "code",
   "execution_count": 29,
   "metadata": {},
   "outputs": [
    {
     "name": "stdout",
     "output_type": "stream",
     "text": [
      "0 п\n",
      "1 о\n",
      "2 д\n",
      "3 ш\n",
      "4 и\n",
      "5 п\n",
      "6 н\n",
      "7 и\n",
      "8 к\n"
     ]
    }
   ],
   "source": [
    "word = 'подшипник'\n",
    "for i, item in enumerate(word):\n",
    "    if not i%2:\n",
    "        print(i,item)"
   ]
  },
  {
   "cell_type": "code",
   "execution_count": 68,
   "metadata": {},
   "outputs": [
    {
     "name": "stdout",
     "output_type": "stream",
     "text": [
      "2013 год невисокосный\n",
      "2014 год невисокосный\n",
      "2015 год невисокосный\n",
      "2016 год високосный\n",
      "2017 год невисокосный\n",
      "2018 год невисокосный\n",
      "2019 год невисокосный\n",
      "2020 год високосный\n"
     ]
    }
   ],
   "source": [
    "year_1 = 2013\n",
    "year_2 = 2021\n",
    "for i in range(year_1, year_2):\n",
    "    if not i%4:\n",
    "        print(i, 'год високосный')\n",
    "    else:\n",
    "        print(i, 'год невисокосный')"
   ]
  },
  {
   "cell_type": "code",
   "execution_count": 71,
   "metadata": {},
   "outputs": [
    {
     "name": "stdout",
     "output_type": "stream",
     "text": [
      "и\n",
      "у\n",
      "а\n",
      "и\n",
      "а\n"
     ]
    }
   ],
   "source": [
    "word = 'зимушка-зима'\n",
    "vowels = 'аеёиоуыэюя'\n",
    "for letter in word:\n",
    "    if letter.isalpha():\n",
    "        if letter in vowels:\n",
    "            print(letter)"
   ]
  },
  {
   "cell_type": "code",
   "execution_count": 74,
   "metadata": {},
   "outputs": [
    {
     "name": "stdout",
     "output_type": "stream",
     "text": [
      "name mjdfhg\n",
      "Буква 1 в этом имени - m\n",
      "Буква 2 в этом имени - j\n",
      "Буква 3 в этом имени - d\n",
      "Буква 4 в этом имени - f\n",
      "Буква 5 в этом имени - h\n",
      "Буква 6 в этом имени - g\n"
     ]
    }
   ],
   "source": [
    "name = input('name ')\n",
    "for i, letter in enumerate(name):\n",
    "    print('Буква', i+1, 'в этом имени -', letter)"
   ]
  },
  {
   "cell_type": "code",
   "execution_count": 85,
   "metadata": {},
   "outputs": [
    {
     "name": "stdout",
     "output_type": "stream",
     "text": [
      "25\n",
      "27\n",
      "33\n",
      "35\n",
      "39\n",
      "45\n"
     ]
    }
   ],
   "source": [
    "num_1 = 25\n",
    "num_2 = 45\n",
    "if num_1 >= 0 and num_2 >= num_1:\n",
    "    for i in range(num_1,num_2+1):\n",
    "        if i%2 and (not i%3 or not i%5):\n",
    "            print(i)\n",
    "else:\n",
    "    print('Введён неверный диапазон чисел')\n",
    "    "
   ]
  },
  {
   "cell_type": "code",
   "execution_count": 87,
   "metadata": {},
   "outputs": [
    {
     "name": "stdout",
     "output_type": "stream",
     "text": [
      "1 1 1\n",
      "2 4 8\n",
      "3 9 27\n",
      "4 16 64\n",
      "5 25 125\n",
      "6 36 216\n",
      "7 49 343\n",
      "8 64 512\n",
      "9 81 729\n",
      "10 100 1000\n",
      "расчет закончен\n"
     ]
    }
   ],
   "source": [
    "number = 10\n",
    "for i in range(1, number+1):\n",
    "    print(i, i**2, i**3)\n",
    "else:\n",
    "    print('расчет закончен')"
   ]
  },
  {
   "cell_type": "code",
   "execution_count": 90,
   "metadata": {},
   "outputs": [
    {
     "name": "stdout",
     "output_type": "stream",
     "text": [
      "1\n",
      "2\n",
      "3\n",
      "4\n",
      "6\n",
      "7\n",
      "12\n",
      "14\n",
      "21\n",
      "28\n",
      "42\n",
      "84\n"
     ]
    }
   ],
   "source": [
    "number = 84\n",
    "for i in range(1, number+1):\n",
    "    if not number % i:\n",
    "        print(i)"
   ]
  },
  {
   "cell_type": "code",
   "execution_count": 95,
   "metadata": {},
   "outputs": [
    {
     "name": "stdout",
     "output_type": "stream",
     "text": [
      "2\n",
      "3\n",
      "4\n",
      "6\n",
      "12\n"
     ]
    }
   ],
   "source": [
    "num_1 = 36\n",
    "num_2 = 156\n",
    "for i in range(2, min(num_1,num_2)+1):\n",
    "    if not num_1 % i and not num_2 % i:\n",
    "        print(i)"
   ]
  },
  {
   "cell_type": "code",
   "execution_count": 6,
   "metadata": {},
   "outputs": [
    {
     "name": "stdout",
     "output_type": "stream",
     "text": [
      "55\n"
     ]
    }
   ],
   "source": [
    "n = 10\n",
    "fib_n = 1\n",
    "fib_1 = 1\n",
    "fib_2 = 1\n",
    "for i in range(1, n+1):\n",
    "    if i <=2 :\n",
    "        fib_n = 1\n",
    "    else:\n",
    "        fib_n = fib_1 + fib_2\n",
    "        fib_1 = fib_2\n",
    "        fib_2 = fib_n\n",
    "else:\n",
    "    print(fib_n)"
   ]
  },
  {
   "cell_type": "code",
   "execution_count": 8,
   "metadata": {},
   "outputs": [
    {
     "name": "stdout",
     "output_type": "stream",
     "text": [
      "15 X 1 = 15\n",
      "15 X 2 = 30\n",
      "15 X 3 = 45\n",
      "15 X 4 = 60\n",
      "15 X 5 = 75\n",
      "15 X 6 = 90\n",
      "15 X 7 = 105\n",
      "15 X 8 = 120\n",
      "15 X 9 = 135\n",
      "15 X 10 = 150\n"
     ]
    }
   ],
   "source": [
    "n = 15\n",
    "for i in range(1, 11):\n",
    "    print(n, 'X', i, '=', n*i)"
   ]
  },
  {
   "cell_type": "code",
   "execution_count": 13,
   "metadata": {},
   "outputs": [
    {
     "name": "stdout",
     "output_type": "stream",
     "text": [
      "4\n"
     ]
    }
   ],
   "source": [
    "num_1 = 1812\n",
    "num_2 = 2500\n",
    "for i in range(min(num_1,num_2), 1, -1):\n",
    "    if not num_1 % i and not num_2 % i:\n",
    "        print(i)\n",
    "        break\n",
    "    else:\n",
    "        continue      \n",
    "else:\n",
    "    print('Общих делителей не найдено')"
   ]
  },
  {
   "cell_type": "code",
   "execution_count": 18,
   "metadata": {},
   "outputs": [
    {
     "name": "stdout",
     "output_type": "stream",
     "text": [
      "стркция"
     ]
    }
   ],
   "source": [
    "#string = input()\n",
    "string = 'абстракция'\n",
    "restricted = 'абв'\n",
    "for letter in string:\n",
    "    if letter in restricted:\n",
    "        continue\n",
    "    else:\n",
    "        print(letter,end=\"\")"
   ]
  },
  {
   "cell_type": "code",
   "execution_count": 21,
   "metadata": {},
   "outputs": [
    {
     "name": "stdout",
     "output_type": "stream",
     "text": [
      "Увы, это неправильный ответ\n",
      "Увы, это неправильный ответ\n",
      "Увы, это неправильный ответ\n",
      "Увы, это неправильный ответ\n",
      "Увы, это неправильный ответ\n",
      "Это безнадёжно!\n"
     ]
    }
   ],
   "source": [
    "answer = 'Нет'\n",
    "for i in range(5):\n",
    "    if answer == 'Нет':\n",
    "        print('Увы, это неправильный ответ')\n",
    "    else:\n",
    "        print('Это отлично!')\n",
    "        break\n",
    "else:\n",
    "    print('Это безнадёжно!')\n",
    "    \n",
    "    "
   ]
  },
  {
   "cell_type": "code",
   "execution_count": 28,
   "metadata": {},
   "outputs": [
    {
     "name": "stdout",
     "output_type": "stream",
     "text": [
      "2 Не является простым\n"
     ]
    }
   ],
   "source": [
    "number = 173\n",
    "for i in range(2,int(number/2+1)):\n",
    "    if not number % i:\n",
    "        print(i,'Не является простым')\n",
    "        break\n",
    "else:\n",
    "    print('Простое')"
   ]
  },
  {
   "cell_type": "code",
   "execution_count": 32,
   "metadata": {},
   "outputs": [
    {
     "name": "stdout",
     "output_type": "stream",
     "text": [
      "Строка мне не нравится!\n"
     ]
    }
   ],
   "source": [
    "string = 'прелестная строка'\n",
    "vowels = 'аеёиоуыэюя'\n",
    "for i, letter in enumerate(string):\n",
    "    if not number % 2 and letter in vowels:\n",
    "        print('Строка мне не нравится!')\n",
    "        break\n",
    "else:\n",
    "    print('Какая хорошая строка!')\n",
    "    "
   ]
  },
  {
   "cell_type": "code",
   "execution_count": 33,
   "metadata": {},
   "outputs": [
    {
     "name": "stdout",
     "output_type": "stream",
     "text": [
      "21\n"
     ]
    }
   ],
   "source": [
    "Y = 170000\n",
    "Z = 1000000\n",
    "while Y < Z:\n",
    "    Y*=1.1\n",
    "    i+=1\n",
    "else:\n",
    "    print(i)"
   ]
  },
  {
   "cell_type": "code",
   "execution_count": 35,
   "metadata": {},
   "outputs": [
    {
     "name": "stdout",
     "output_type": "stream",
     "text": [
      "Перевес 62 кг\n"
     ]
    }
   ],
   "source": [
    "weight = 77\n",
    "weight_max = 400\n",
    "weigth_ith = 0\n",
    "while weigth_ith < weight_max:\n",
    "    weigth_ith += weight\n",
    "else:\n",
    "    print('Перевес', weigth_ith - weight_max, 'кг')"
   ]
  },
  {
   "cell_type": "code",
   "execution_count": 36,
   "metadata": {},
   "outputs": [
    {
     "name": "stdout",
     "output_type": "stream",
     "text": [
      "8\n"
     ]
    }
   ],
   "source": [
    "current_health = 500\n",
    "attack = 80\n",
    "i=1\n",
    "while current_health > 0:\n",
    "    current_health -= attack\n",
    "    i+=1\n",
    "else:\n",
    "    print(i)"
   ]
  },
  {
   "cell_type": "code",
   "execution_count": 38,
   "metadata": {},
   "outputs": [
    {
     "name": "stdout",
     "output_type": "stream",
     "text": [
      "10000\n",
      "7200\n",
      "4400\n",
      "1600\n",
      "Слишком большие расходы\n"
     ]
    }
   ],
   "source": [
    "balance = 10000\n",
    "spent = 2800\n",
    "while balance >= 0:\n",
    "    print(balance)\n",
    "    balance -= spent\n",
    "else:\n",
    "    print(\"Слишком большие расходы\")"
   ]
  },
  {
   "cell_type": "code",
   "execution_count": 40,
   "metadata": {},
   "outputs": [
    {
     "name": "stdout",
     "output_type": "stream",
     "text": [
      "64\n"
     ]
    }
   ],
   "source": [
    "volume = 10000\n",
    "delta = 5\n",
    "capacity = 5\n",
    "i=1\n",
    "while volume > 0:\n",
    "    volume -=capacity\n",
    "    capacity += delta\n",
    "    i += 1\n",
    "else:\n",
    "    print(i)"
   ]
  },
  {
   "cell_type": "code",
   "execution_count": 41,
   "metadata": {},
   "outputs": [
    {
     "ename": "SyntaxError",
     "evalue": "invalid syntax (<ipython-input-41-cc91637cd12e>, line 1)",
     "output_type": "error",
     "traceback": [
      "\u001b[1;36m  File \u001b[1;32m\"<ipython-input-41-cc91637cd12e>\"\u001b[1;36m, line \u001b[1;32m1\u001b[0m\n\u001b[1;33m    while:\u001b[0m\n\u001b[1;37m         ^\u001b[0m\n\u001b[1;31mSyntaxError\u001b[0m\u001b[1;31m:\u001b[0m invalid syntax\n"
     ]
    }
   ],
   "source": []
  }
 ],
 "metadata": {
  "kernelspec": {
   "display_name": "Python 3",
   "language": "python",
   "name": "python3"
  },
  "language_info": {
   "codemirror_mode": {
    "name": "ipython",
    "version": 3
   },
   "file_extension": ".py",
   "mimetype": "text/x-python",
   "name": "python",
   "nbconvert_exporter": "python",
   "pygments_lexer": "ipython3",
   "version": "3.8.5"
  }
 },
 "nbformat": 4,
 "nbformat_minor": 4
}
