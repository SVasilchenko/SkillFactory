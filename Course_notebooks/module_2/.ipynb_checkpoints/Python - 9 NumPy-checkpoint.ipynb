{
 "cells": [
  {
   "cell_type": "code",
   "execution_count": 1,
   "metadata": {},
   "outputs": [],
   "source": [
    "import numpy as np"
   ]
  },
  {
   "cell_type": "code",
   "execution_count": 2,
   "metadata": {},
   "outputs": [
    {
     "data": {
      "text/plain": [
       "array([[7, 3, 5],\n",
       "       [0, 7, 7],\n",
       "       [1, 3, 0]])"
      ]
     },
     "execution_count": 2,
     "metadata": {},
     "output_type": "execute_result"
    }
   ],
   "source": [
    "np.empty(5) # одномерный массив из пяти элементов, память для которого выделена, но не инициализирована\n",
    "np.zeros((10, 7)) # массив размером 10x7, заполненный нулями \n",
    "np.ones((3,3,3)) # массив размером 3х3х3, заполненный единицами \n",
    "np.eye(3) # единичная матрица (элементы главной диагонали равны 1, остальные — 0) размера 3х3\n",
    "np.full((3, 5), 3.14)  # массив 3x5 заполненный числом 3.14\n",
    "np.arange(0, 21, 7)  # одномерный массив, заполненный числами в диапазоне от 0 до 20 с шагом 7\n",
    "np.linspace(0, 1, 5)  # массив из пяти чисел, равномерно распределённых в интервале между 0 и 1 включительно\n",
    "np.random.randint(0, 10, (3, 3))  # массив размера 3х3, заполненный случайными числами из диапазона от 0 до 9 (включительно)"
   ]
  },
  {
   "cell_type": "code",
   "execution_count": 3,
   "metadata": {},
   "outputs": [
    {
     "data": {
      "text/plain": [
       "array([[[1., 1., 1.],\n",
       "        [1., 1., 1.],\n",
       "        [1., 1., 1.]],\n",
       "\n",
       "       [[1., 1., 1.],\n",
       "        [1., 1., 1.],\n",
       "        [1., 1., 1.]],\n",
       "\n",
       "       [[1., 1., 1.],\n",
       "        [1., 1., 1.],\n",
       "        [1., 1., 1.]]])"
      ]
     },
     "execution_count": 3,
     "metadata": {},
     "output_type": "execute_result"
    }
   ],
   "source": [
    "np.ones((3,3,3)) # массив размером 3х3х3, заполненный единицами "
   ]
  },
  {
   "cell_type": "code",
   "execution_count": 4,
   "metadata": {},
   "outputs": [
    {
     "data": {
      "text/plain": [
       "array([[ 8, 13, 18,  4],\n",
       "       [25,  3, 18, 28],\n",
       "       [14, 15, 18, 24],\n",
       "       [ 1,  2,  3,  4]])"
      ]
     },
     "execution_count": 4,
     "metadata": {},
     "output_type": "execute_result"
    }
   ],
   "source": [
    "np.array([[8,13,18,4], [25,3,18,28], [14,15,18,24], [1,2,3,4]]) "
   ]
  },
  {
   "cell_type": "code",
   "execution_count": 5,
   "metadata": {},
   "outputs": [
    {
     "data": {
      "text/plain": [
       "array([[  1. ,  57. ,  71. , 127. , 141. , 197. , 211. , 267. , 281. ],\n",
       "       [  0.5,  28.5,  35.5,  63.5,  70.5,  98.5, 105.5, 133.5, 140.5],\n",
       "       [-99. , -43. , -29. ,  27. ,  41. ,  97. , 111. , 167. , 181. ]])"
      ]
     },
     "execution_count": 5,
     "metadata": {},
     "output_type": "execute_result"
    }
   ],
   "source": [
    "my_secret = [x for x in range(1, 301, 7) if x%10 == 7 or x%10 == 1]\n",
    "np.array([my_secret, [x/2 for x in my_secret], [x-100 for x in my_secret]])"
   ]
  },
  {
   "cell_type": "code",
   "execution_count": 6,
   "metadata": {},
   "outputs": [
    {
     "data": {
      "text/plain": [
       "array([1, 4, 7])"
      ]
     },
     "execution_count": 6,
     "metadata": {},
     "output_type": "execute_result"
    }
   ],
   "source": [
    "my_array = np.array([x for x in range(10)])\n",
    "my_array[5]\n",
    "my_array[-1]\n",
    "my_array[3:6]\n",
    "my_array[1:8:3]"
   ]
  },
  {
   "cell_type": "code",
   "execution_count": 7,
   "metadata": {},
   "outputs": [
    {
     "data": {
      "text/plain": [
       "array([[ 1,  2,  3,  4],\n",
       "       [10, 11, 12, 13],\n",
       "       [45, 46, 47, 48],\n",
       "       [85, 86, 87, 88]])"
      ]
     },
     "execution_count": 7,
     "metadata": {},
     "output_type": "execute_result"
    }
   ],
   "source": [
    "my_array = np.array([[1,2,3,4], [10,11,12,13], [45,46,47,48],[85,86,87,88]])\n",
    "my_array"
   ]
  },
  {
   "cell_type": "code",
   "execution_count": 8,
   "metadata": {},
   "outputs": [
    {
     "data": {
      "text/plain": [
       "array([[ 2,  3,  4],\n",
       "       [11, 12, 13],\n",
       "       [46, 47, 48],\n",
       "       [86, 87, 88]])"
      ]
     },
     "execution_count": 8,
     "metadata": {},
     "output_type": "execute_result"
    }
   ],
   "source": [
    "my_array[:,-3:]"
   ]
  },
  {
   "cell_type": "code",
   "execution_count": 9,
   "metadata": {},
   "outputs": [
    {
     "name": "stdout",
     "output_type": "stream",
     "text": [
      "3154.332495807108\n"
     ]
    },
    {
     "data": {
      "text/plain": [
       "3154.332495807108"
      ]
     },
     "execution_count": 9,
     "metadata": {},
     "output_type": "execute_result"
    }
   ],
   "source": [
    "first_line = [x*y for x in range(2, 100, 6) for y in range (7, 1, -2)]\n",
    "second_line = [x ** 0.5 for x in range(1000, 1101, 2)]\n",
    "third_line = [x**2 for x in range(51)]\n",
    "\n",
    "big_secret = np.array([first_line, second_line, third_line, second_line, first_line])\n",
    "\n",
    "summ = 0\n",
    "for item in big_secret[:,-1]:\n",
    "    summ += item\n",
    "print(summ)\n",
    "    \n",
    "big_secret[:,-1].sum()    "
   ]
  },
  {
   "cell_type": "code",
   "execution_count": 10,
   "metadata": {},
   "outputs": [
    {
     "data": {
      "text/plain": [
       "121.37188663699624"
      ]
     },
     "execution_count": 10,
     "metadata": {},
     "output_type": "execute_result"
    }
   ],
   "source": [
    "ar = big_secret[:,:5]\n",
    "summ = 0\n",
    "for i in range(0,5):\n",
    "    summ += ar[i,i]\n",
    "summ"
   ]
  },
  {
   "cell_type": "code",
   "execution_count": 11,
   "metadata": {},
   "outputs": [
    {
     "data": {
      "text/plain": [
       "341505315559.2347"
      ]
     },
     "execution_count": 11,
     "metadata": {},
     "output_type": "execute_result"
    }
   ],
   "source": [
    "ar = big_secret[:,-5:]\n",
    "mult = 1\n",
    "for i in range(0,5):\n",
    "    mult *= ar[i,i]\n",
    "mult"
   ]
  },
  {
   "cell_type": "code",
   "execution_count": 18,
   "metadata": {},
   "outputs": [
    {
     "data": {
      "text/plain": [
       "-1.0"
      ]
     },
     "execution_count": 18,
     "metadata": {},
     "output_type": "execute_result"
    }
   ],
   "source": [
    "for i in range(0, 5, 2):\n",
    "    for j in range(0, big_secret.shape[1]+1, 2):\n",
    "        big_secret[i,j] = -1\n",
    "        \n",
    "for i in range(1, 5, 2):\n",
    "    for j in range(1, big_secret.shape[1], 2):\n",
    "        big_secret[i,j] = 1\n",
    "        \n",
    "ar = big_secret[:,:5]\n",
    "\n",
    "summ = 0\n",
    "for i in range(0,5):\n",
    "    summ += ar[i,i]\n",
    "    \n",
    "summ"
   ]
  },
  {
   "cell_type": "code",
   "execution_count": 19,
   "metadata": {},
   "outputs": [
    {
     "data": {
      "text/plain": [
       "-1.0"
      ]
     },
     "execution_count": 19,
     "metadata": {},
     "output_type": "execute_result"
    }
   ],
   "source": [
    "ar = big_secret[:,-5:]\n",
    "\n",
    "mult = 1\n",
    "for i in range(0,5):\n",
    "    mult *= ar[i,i]\n",
    "mult"
   ]
  },
  {
   "cell_type": "code",
   "execution_count": 20,
   "metadata": {},
   "outputs": [
    {
     "name": "stdout",
     "output_type": "stream",
     "text": [
      "Сумма: [15 21 27]\n",
      "Разность: [9 9 9]\n",
      "Произведение: [ 36  90 162]\n",
      "Частное: [0.25 0.4  0.5 ]\n",
      "Умножение на число: [ 6 12 18]\n"
     ]
    }
   ],
   "source": [
    "a = np.array([3,6,9])\n",
    "b = np.array([12,15,18])\n",
    "\n",
    "result1 = a+b\n",
    "result2 = b-a\n",
    "result3 = a*b\n",
    "result4 = a/b\n",
    "result5 = a*2\n",
    "print('Сумма: {}\\nРазность: {}\\nПроизведение: {}\\nЧастное: {}\\nУмножение на число: {}'.format(result1,\n",
    "                                                                                              result2,\n",
    "                                                                                              result3,\n",
    "                                                                                              result4,\n",
    "                                                                                              result5))"
   ]
  },
  {
   "cell_type": "code",
   "execution_count": 21,
   "metadata": {},
   "outputs": [
    {
     "data": {
      "text/plain": [
       "array([[2, 3, 1, 3],\n",
       "       [5, 4, 2, 8],\n",
       "       [2, 1, 9, 5]])"
      ]
     },
     "execution_count": 21,
     "metadata": {},
     "output_type": "execute_result"
    }
   ],
   "source": [
    "my_array = np.random.randint(0, 10, (3,4))\n",
    "my_array"
   ]
  },
  {
   "cell_type": "code",
   "execution_count": 22,
   "metadata": {},
   "outputs": [
    {
     "data": {
      "text/plain": [
       "array([[ True,  True,  True,  True],\n",
       "       [False,  True,  True, False],\n",
       "       [ True,  True, False, False]])"
      ]
     },
     "execution_count": 22,
     "metadata": {},
     "output_type": "execute_result"
    }
   ],
   "source": [
    "my_array < 5"
   ]
  },
  {
   "cell_type": "code",
   "execution_count": 23,
   "metadata": {},
   "outputs": [
    {
     "data": {
      "text/plain": [
       "array([2, 3, 1, 3, 4, 2, 2, 1])"
      ]
     },
     "execution_count": 23,
     "metadata": {},
     "output_type": "execute_result"
    }
   ],
   "source": [
    "my_array[my_array<5]"
   ]
  },
  {
   "cell_type": "code",
   "execution_count": 27,
   "metadata": {},
   "outputs": [
    {
     "data": {
      "text/plain": [
       "array([[2, 1],\n",
       "       [5, 2],\n",
       "       [2, 9]])"
      ]
     },
     "execution_count": 27,
     "metadata": {},
     "output_type": "execute_result"
    }
   ],
   "source": [
    "mask = np.array([1, 0, 1, 0], dtype=bool)\n",
    "my_array[:, mask]"
   ]
  },
  {
   "cell_type": "code",
   "execution_count": 32,
   "metadata": {},
   "outputs": [
    {
     "data": {
      "text/plain": [
       "array([[5, 4, 2, 8],\n",
       "       [2, 1, 9, 5]])"
      ]
     },
     "execution_count": 32,
     "metadata": {},
     "output_type": "execute_result"
    }
   ],
   "source": [
    "row_mask = np.array([0, 1, 1], dtype=bool)\n",
    "my_array[row_mask,:]"
   ]
  },
  {
   "cell_type": "code",
   "execution_count": 34,
   "metadata": {},
   "outputs": [
    {
     "data": {
      "text/plain": [
       "array([[0, 6, 0, 7, 3, 8],\n",
       "       [6, 5, 1, 4, 7, 3],\n",
       "       [8, 0, 4, 7, 5, 1],\n",
       "       [1, 8, 1, 1, 5, 8]])"
      ]
     },
     "execution_count": 34,
     "metadata": {},
     "output_type": "execute_result"
    }
   ],
   "source": [
    "my_array = np.random.randint(0, 10, (4, 6))\n",
    "my_array"
   ]
  },
  {
   "cell_type": "code",
   "execution_count": 48,
   "metadata": {},
   "outputs": [
    {
     "data": {
      "text/plain": [
       "array([[0, 0, 0, 1, 3, 1],\n",
       "       [1, 5, 1, 4, 5, 3],\n",
       "       [6, 6, 1, 7, 5, 8],\n",
       "       [8, 8, 4, 7, 7, 8]])"
      ]
     },
     "execution_count": 48,
     "metadata": {},
     "output_type": "execute_result"
    }
   ],
   "source": [
    "np.sort(my_array, axis=0)"
   ]
  },
  {
   "cell_type": "code",
   "execution_count": 49,
   "metadata": {},
   "outputs": [
    {
     "data": {
      "text/plain": [
       "array([[0, 0, 3, 6, 7, 8],\n",
       "       [1, 3, 4, 5, 6, 7],\n",
       "       [0, 1, 4, 5, 7, 8],\n",
       "       [1, 1, 1, 5, 8, 8]])"
      ]
     },
     "execution_count": 49,
     "metadata": {},
     "output_type": "execute_result"
    }
   ],
   "source": [
    "np.sort(my_array, axis=1)"
   ]
  },
  {
   "cell_type": "code",
   "execution_count": 38,
   "metadata": {},
   "outputs": [
    {
     "data": {
      "text/plain": [
       "array([[0, 6, 0, 7, 3, 8],\n",
       "       [6, 5, 1, 4, 7, 3],\n",
       "       [8, 0, 4, 7, 5, 1],\n",
       "       [1, 8, 1, 1, 5, 8]])"
      ]
     },
     "execution_count": 38,
     "metadata": {},
     "output_type": "execute_result"
    }
   ],
   "source": [
    "my_array"
   ]
  },
  {
   "cell_type": "code",
   "execution_count": 39,
   "metadata": {},
   "outputs": [],
   "source": [
    "first = [x**(1/2) for x in range(100)]\n",
    "second = [x**(1/3) for x in range(100, 200)]\n",
    "third = [x/y for x in range(200,300,2) for y in [3,5]]\n",
    "\n",
    "great_secret = np.array([first, second, third]).T"
   ]
  },
  {
   "cell_type": "code",
   "execution_count": 40,
   "metadata": {},
   "outputs": [
    {
     "data": {
      "text/plain": [
       "0.16006721889793019"
      ]
     },
     "execution_count": 40,
     "metadata": {},
     "output_type": "execute_result"
    }
   ],
   "source": [
    "np.cos(great_secret[0,:]).sum()"
   ]
  },
  {
   "cell_type": "code",
   "execution_count": 46,
   "metadata": {},
   "outputs": [
    {
     "data": {
      "text/plain": [
       "5470.0"
      ]
     },
     "execution_count": 46,
     "metadata": {},
     "output_type": "execute_result"
    }
   ],
   "source": [
    "summ = 0\n",
    "for x in np.nditer(great_secret):\n",
    "    if x > 50:\n",
    "        summ += x\n",
    "    \n",
    "summ"
   ]
  },
  {
   "cell_type": "code",
   "execution_count": 47,
   "metadata": {},
   "outputs": [
    {
     "data": {
      "text/plain": [
       "7.0710678118654755"
      ]
     },
     "execution_count": 47,
     "metadata": {},
     "output_type": "execute_result"
    }
   ],
   "source": [
    "great_secret.flatten()[150] great_secret"
   ]
  },
  {
   "cell_type": "code",
   "execution_count": 50,
   "metadata": {},
   "outputs": [
    {
     "data": {
      "text/plain": [
       "115.12148016521353"
      ]
     },
     "execution_count": 50,
     "metadata": {},
     "output_type": "execute_result"
    }
   ],
   "source": [
    "np.sort(great_secret, axis=0)[-1,:].sum()"
   ]
  }
 ],
 "metadata": {
  "kernelspec": {
   "display_name": "Python 3",
   "language": "python",
   "name": "python3"
  },
  "language_info": {
   "codemirror_mode": {
    "name": "ipython",
    "version": 3
   },
   "file_extension": ".py",
   "mimetype": "text/x-python",
   "name": "python",
   "nbconvert_exporter": "python",
   "pygments_lexer": "ipython3",
   "version": "3.8.5"
  }
 },
 "nbformat": 4,
 "nbformat_minor": 4
}
