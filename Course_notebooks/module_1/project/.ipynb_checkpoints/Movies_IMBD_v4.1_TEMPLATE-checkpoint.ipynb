{
 "cells": [
  {
   "cell_type": "code",
   "execution_count": 227,
   "metadata": {
    "_cell_guid": "b1076dfc-b9ad-4769-8c92-a6c4dae69d19",
    "_uuid": "8f2839f25d086af736a60e9eeb907d3b93b6e0e5",
    "colab": {},
    "colab_type": "code",
    "id": "U2D2gTdJVp90"
   },
   "outputs": [],
   "source": [
    "import numpy as np\n",
    "import pandas as pd\n",
    "import seaborn as sns\n",
    "import matplotlib.pyplot as plt\n",
    "from collections import Counter"
   ]
  },
  {
   "cell_type": "code",
   "execution_count": 264,
   "metadata": {
    "_cell_guid": "79c7e3d0-c299-4dcb-8224-4455121ee9b0",
    "_uuid": "d629ff2d2480ee46fbb7e2d37f6b5fab8052498a",
    "colab": {},
    "colab_type": "code",
    "id": "oyGfxL3eVp9-"
   },
   "outputs": [
    {
     "data": {
      "text/html": [
       "<div>\n",
       "<style scoped>\n",
       "    .dataframe tbody tr th:only-of-type {\n",
       "        vertical-align: middle;\n",
       "    }\n",
       "\n",
       "    .dataframe tbody tr th {\n",
       "        vertical-align: top;\n",
       "    }\n",
       "\n",
       "    .dataframe thead th {\n",
       "        text-align: right;\n",
       "    }\n",
       "</style>\n",
       "<table border=\"1\" class=\"dataframe\">\n",
       "  <thead>\n",
       "    <tr style=\"text-align: right;\">\n",
       "      <th></th>\n",
       "      <th>imdb_id</th>\n",
       "      <th>budget</th>\n",
       "      <th>revenue</th>\n",
       "      <th>original_title</th>\n",
       "      <th>cast</th>\n",
       "      <th>director</th>\n",
       "      <th>tagline</th>\n",
       "      <th>overview</th>\n",
       "      <th>runtime</th>\n",
       "      <th>genres</th>\n",
       "      <th>production_companies</th>\n",
       "      <th>release_date</th>\n",
       "      <th>vote_average</th>\n",
       "      <th>release_year</th>\n",
       "    </tr>\n",
       "  </thead>\n",
       "  <tbody>\n",
       "    <tr>\n",
       "      <th>1120</th>\n",
       "      <td>tt0314353</td>\n",
       "      <td>70000000</td>\n",
       "      <td>85632458</td>\n",
       "      <td>Tears of the Sun</td>\n",
       "      <td>Bruce Willis|Monica Bellucci|Cole Hauser|Eamon...</td>\n",
       "      <td>Antoine Fuqua</td>\n",
       "      <td>He was trained to follow orders. He became a h...</td>\n",
       "      <td>Navy SEAL Lieutenant A.K. Waters and his elite...</td>\n",
       "      <td>121</td>\n",
       "      <td>Action|Drama|War</td>\n",
       "      <td>Columbia Pictures|Revolution Studios|Cheyenne ...</td>\n",
       "      <td>3/7/2003</td>\n",
       "      <td>6.4</td>\n",
       "      <td>2003</td>\n",
       "    </tr>\n",
       "    <tr>\n",
       "      <th>564</th>\n",
       "      <td>tt0242445</td>\n",
       "      <td>50000000</td>\n",
       "      <td>79958599</td>\n",
       "      <td>Exit Wounds</td>\n",
       "      <td>Steven Seagal|DMX|Isaiah Washington|Anthony An...</td>\n",
       "      <td>Andrzej Bartkowiak</td>\n",
       "      <td>This Is Gonna Hurt</td>\n",
       "      <td>Maverick cop Orin Boyd always brings down the ...</td>\n",
       "      <td>101</td>\n",
       "      <td>Action|Crime|Thriller</td>\n",
       "      <td>NPV Entertainment|Warner Bros.</td>\n",
       "      <td>3/13/2001</td>\n",
       "      <td>5.0</td>\n",
       "      <td>2001</td>\n",
       "    </tr>\n",
       "    <tr>\n",
       "      <th>463</th>\n",
       "      <td>tt0427152</td>\n",
       "      <td>69000000</td>\n",
       "      <td>86387857</td>\n",
       "      <td>Dinner for Schmucks</td>\n",
       "      <td>Steve Carell|Paul Rudd|Stephanie Szostak|Jemai...</td>\n",
       "      <td>Jay Roach</td>\n",
       "      <td>Takes One To Know One.</td>\n",
       "      <td>Rising executive Tim Wagner works for a boss w...</td>\n",
       "      <td>114</td>\n",
       "      <td>Comedy</td>\n",
       "      <td>Paramount Pictures|DreamWorks SKG|Spyglass Ent...</td>\n",
       "      <td>7/30/2010</td>\n",
       "      <td>5.4</td>\n",
       "      <td>2010</td>\n",
       "    </tr>\n",
       "    <tr>\n",
       "      <th>1249</th>\n",
       "      <td>tt1572315</td>\n",
       "      <td>20000000</td>\n",
       "      <td>47241945</td>\n",
       "      <td>Texas Chainsaw 3D</td>\n",
       "      <td>Alexandra Daddario|Dan Yeager|Bill Moseley|Mar...</td>\n",
       "      <td>John Luessenhop</td>\n",
       "      <td>Evil wears many faces.</td>\n",
       "      <td>A young woman learns that she has inherited a ...</td>\n",
       "      <td>92</td>\n",
       "      <td>Horror|Thriller</td>\n",
       "      <td>Nu Image Films|Lions Gate</td>\n",
       "      <td>1/3/2013</td>\n",
       "      <td>5.4</td>\n",
       "      <td>2013</td>\n",
       "    </tr>\n",
       "    <tr>\n",
       "      <th>58</th>\n",
       "      <td>tt2679042</td>\n",
       "      <td>35000000</td>\n",
       "      <td>82347656</td>\n",
       "      <td>Hitman: Agent 47</td>\n",
       "      <td>Rupert Friend|Zachary Quinto|Hannah Ware|Emili...</td>\n",
       "      <td>Aleksander Bach</td>\n",
       "      <td>Your Number is Up.</td>\n",
       "      <td>An assassin teams up with a woman to help her ...</td>\n",
       "      <td>96</td>\n",
       "      <td>Action|Crime|Thriller</td>\n",
       "      <td>Twentieth Century Fox Film Corporation|Fox Int...</td>\n",
       "      <td>8/20/2015</td>\n",
       "      <td>5.5</td>\n",
       "      <td>2015</td>\n",
       "    </tr>\n",
       "    <tr>\n",
       "      <th>1812</th>\n",
       "      <td>tt0187393</td>\n",
       "      <td>110000000</td>\n",
       "      <td>215294342</td>\n",
       "      <td>The Patriot</td>\n",
       "      <td>Mel Gibson|Heath Ledger|Joely Richardson|Jason...</td>\n",
       "      <td>Roland Emmerich</td>\n",
       "      <td>Some things are worth fighting for.</td>\n",
       "      <td>After proving himself on the field of battle i...</td>\n",
       "      <td>165</td>\n",
       "      <td>Drama|History|War|Action</td>\n",
       "      <td>Centropolis Entertainment|Columbia Pictures Co...</td>\n",
       "      <td>6/28/2000</td>\n",
       "      <td>6.7</td>\n",
       "      <td>2000</td>\n",
       "    </tr>\n",
       "    <tr>\n",
       "      <th>305</th>\n",
       "      <td>tt0433362</td>\n",
       "      <td>20000000</td>\n",
       "      <td>51416464</td>\n",
       "      <td>Daybreakers</td>\n",
       "      <td>Ethan Hawke|Sam Neill|Willem Dafoe|Claudia Kar...</td>\n",
       "      <td>Michael Spierig|Peter Spierig</td>\n",
       "      <td>In 2019, The Most Precious Natural Resource......</td>\n",
       "      <td>In the year 2019, a plague has transformed alm...</td>\n",
       "      <td>98</td>\n",
       "      <td>Fantasy|Horror|Action|Thriller|Science Fiction</td>\n",
       "      <td>Lionsgate|Furst Films|Pictures in Paradise|Pac...</td>\n",
       "      <td>1/6/2009</td>\n",
       "      <td>5.9</td>\n",
       "      <td>2009</td>\n",
       "    </tr>\n",
       "    <tr>\n",
       "      <th>343</th>\n",
       "      <td>tt1220198</td>\n",
       "      <td>10000000</td>\n",
       "      <td>42333295</td>\n",
       "      <td>The Fourth Kind</td>\n",
       "      <td>Milla Jovovich|Will Patton|Hakeem Kae-Kazim|Co...</td>\n",
       "      <td>Olatunde Osunsanmi</td>\n",
       "      <td>There are four kinds of alien encounters. The ...</td>\n",
       "      <td>Since the 1960s, a disproportionate number of ...</td>\n",
       "      <td>98</td>\n",
       "      <td>Science Fiction|Thriller</td>\n",
       "      <td>Universal Pictures|Saga Film|Focus Films|Gold ...</td>\n",
       "      <td>11/6/2009</td>\n",
       "      <td>5.6</td>\n",
       "      <td>2009</td>\n",
       "    </tr>\n",
       "    <tr>\n",
       "      <th>1588</th>\n",
       "      <td>tt0307453</td>\n",
       "      <td>75000000</td>\n",
       "      <td>367275019</td>\n",
       "      <td>Shark Tale</td>\n",
       "      <td>Will Smith|Robert De Niro|RenÃ©e Zellweger|Jac...</td>\n",
       "      <td>Bibo Bergeron|Vicky Jenson|Rob Letterman</td>\n",
       "      <td>The story of what happens when one little fish...</td>\n",
       "      <td>Oscar is a small fish whose big aspirations of...</td>\n",
       "      <td>90</td>\n",
       "      <td>Animation|Action|Comedy|Family</td>\n",
       "      <td>DreamWorks SKG|Pacific Data Images (PDI)|Dream...</td>\n",
       "      <td>9/20/2004</td>\n",
       "      <td>5.8</td>\n",
       "      <td>2004</td>\n",
       "    </tr>\n",
       "    <tr>\n",
       "      <th>1287</th>\n",
       "      <td>tt1621039</td>\n",
       "      <td>55000000</td>\n",
       "      <td>110000000</td>\n",
       "      <td>Free Birds</td>\n",
       "      <td>Owen Wilson|Woody Harrelson|Amy Poehler|George...</td>\n",
       "      <td>Jimmy Hayward</td>\n",
       "      <td>Hang On To Your Nuggets</td>\n",
       "      <td>In this irreverent, hilarious, adventurous bud...</td>\n",
       "      <td>91</td>\n",
       "      <td>Animation|Comedy|Family</td>\n",
       "      <td>Reel FX Creative Studios|Relativity Media</td>\n",
       "      <td>10/30/2013</td>\n",
       "      <td>5.8</td>\n",
       "      <td>2013</td>\n",
       "    </tr>\n",
       "    <tr>\n",
       "      <th>1396</th>\n",
       "      <td>tt0257516</td>\n",
       "      <td>35000000</td>\n",
       "      <td>19294901</td>\n",
       "      <td>Cursed</td>\n",
       "      <td>Portia de Rossi|Christina Ricci|Jesse Eisenber...</td>\n",
       "      <td>Wes Craven</td>\n",
       "      <td>What doesn't kill you makes you stronger.</td>\n",
       "      <td>A werewolf loose in Los Angeles changes the li...</td>\n",
       "      <td>97</td>\n",
       "      <td>Horror|Comedy</td>\n",
       "      <td>Craven-Maddalena Films|Outerbanks Entertainmen...</td>\n",
       "      <td>2/24/2005</td>\n",
       "      <td>5.0</td>\n",
       "      <td>2005</td>\n",
       "    </tr>\n",
       "    <tr>\n",
       "      <th>1279</th>\n",
       "      <td>tt1762399</td>\n",
       "      <td>80000000</td>\n",
       "      <td>126546518</td>\n",
       "      <td>Walking With Dinosaurs</td>\n",
       "      <td>Charlie Rowe|Justin Long|Karl Urban|Angourie R...</td>\n",
       "      <td>Neil Nightingale|Barry Cook</td>\n",
       "      <td>The Greatest Adventure in 70 Million Years</td>\n",
       "      <td>Walking with Dinosaurs 3D is a film depicting ...</td>\n",
       "      <td>87</td>\n",
       "      <td>Animation|Family|Adventure</td>\n",
       "      <td>20th Century Fox</td>\n",
       "      <td>12/18/2013</td>\n",
       "      <td>5.0</td>\n",
       "      <td>2013</td>\n",
       "    </tr>\n",
       "    <tr>\n",
       "      <th>1781</th>\n",
       "      <td>tt0841046</td>\n",
       "      <td>35000000</td>\n",
       "      <td>18317151</td>\n",
       "      <td>Walk Hard: The Dewey Cox Story</td>\n",
       "      <td>John C. Reilly|Jenna Fischer|Tim Meadows|Krist...</td>\n",
       "      <td>Jake Kasdan</td>\n",
       "      <td>Life made him tough. Love made him strong. Mus...</td>\n",
       "      <td>Singer Dewey Cox overcomes adversity to become...</td>\n",
       "      <td>96</td>\n",
       "      <td>Comedy|Music</td>\n",
       "      <td>Columbia Pictures Corporation|Apatow Productions</td>\n",
       "      <td>12/21/2007</td>\n",
       "      <td>6.5</td>\n",
       "      <td>2007</td>\n",
       "    </tr>\n",
       "    <tr>\n",
       "      <th>1164</th>\n",
       "      <td>tt0316465</td>\n",
       "      <td>32000000</td>\n",
       "      <td>52277485</td>\n",
       "      <td>Radio</td>\n",
       "      <td>Cuba Gooding Jr.|Ed Harris|Alfre Woodard|S. Ep...</td>\n",
       "      <td>Mike Tollin</td>\n",
       "      <td>His courage made them champions.</td>\n",
       "      <td>Football coach Harold Jones befriends Radio, a...</td>\n",
       "      <td>109</td>\n",
       "      <td>Drama</td>\n",
       "      <td>Revolution Studios|Tollin/Robbins Productions</td>\n",
       "      <td>10/24/2003</td>\n",
       "      <td>7.1</td>\n",
       "      <td>2003</td>\n",
       "    </tr>\n",
       "    <tr>\n",
       "      <th>1590</th>\n",
       "      <td>tt0345950</td>\n",
       "      <td>30000000</td>\n",
       "      <td>140161792</td>\n",
       "      <td>The SpongeBob SquarePants Movie</td>\n",
       "      <td>Tom Kenny|Clancy Brown|Rodger Bumpass|Bill Fag...</td>\n",
       "      <td>Stephen Hillenburg</td>\n",
       "      <td>Bigger. Better. More absorbent.</td>\n",
       "      <td>There's trouble brewing in Bikini Bottom. Some...</td>\n",
       "      <td>87</td>\n",
       "      <td>Animation|Comedy|Family</td>\n",
       "      <td>Paramount Pictures|Nickelodeon Movies|Paramoun...</td>\n",
       "      <td>11/14/2004</td>\n",
       "      <td>6.6</td>\n",
       "      <td>2004</td>\n",
       "    </tr>\n",
       "    <tr>\n",
       "      <th>877</th>\n",
       "      <td>tt0133240</td>\n",
       "      <td>140000000</td>\n",
       "      <td>109578115</td>\n",
       "      <td>Treasure Planet</td>\n",
       "      <td>Joseph Gordon-Levitt|David Hyde Pierce|Emma Th...</td>\n",
       "      <td>Ron Clements|John Musker</td>\n",
       "      <td>Find your place in the universe.</td>\n",
       "      <td>When space galleon cabin boy Jim Hawkins disco...</td>\n",
       "      <td>95</td>\n",
       "      <td>Adventure|Animation|Family|Fantasy|Science Fic...</td>\n",
       "      <td>Walt Disney Pictures|Walt Disney Feature Anima...</td>\n",
       "      <td>11/26/2002</td>\n",
       "      <td>7.0</td>\n",
       "      <td>2002</td>\n",
       "    </tr>\n",
       "    <tr>\n",
       "      <th>757</th>\n",
       "      <td>tt0409847</td>\n",
       "      <td>163000000</td>\n",
       "      <td>174822325</td>\n",
       "      <td>Cowboys &amp; Aliens</td>\n",
       "      <td>Daniel Craig|Olivia Wilde|Harrison Ford|Sam Ro...</td>\n",
       "      <td>Jon Favreau</td>\n",
       "      <td>First Contact. Last Stand.</td>\n",
       "      <td>A stranger stumbles into the desert town of Ab...</td>\n",
       "      <td>119</td>\n",
       "      <td>Action|Science Fiction|Thriller|Western</td>\n",
       "      <td>Imagine Entertainment|DreamWorks SKG|Universal...</td>\n",
       "      <td>7/29/2011</td>\n",
       "      <td>5.4</td>\n",
       "      <td>2011</td>\n",
       "    </tr>\n",
       "    <tr>\n",
       "      <th>443</th>\n",
       "      <td>tt1414382</td>\n",
       "      <td>20000000</td>\n",
       "      <td>32005248</td>\n",
       "      <td>You Again</td>\n",
       "      <td>Kristen Bell|Sigourney Weaver|Betty White|Kris...</td>\n",
       "      <td>Andy Fickman</td>\n",
       "      <td>What doesn't kill you... is going to marry you...</td>\n",
       "      <td>History -- make that high school -- may repeat...</td>\n",
       "      <td>105</td>\n",
       "      <td>Comedy|Romance</td>\n",
       "      <td>Oops Doughnuts Productions|Touchstone Pictures...</td>\n",
       "      <td>9/24/2010</td>\n",
       "      <td>6.0</td>\n",
       "      <td>2010</td>\n",
       "    </tr>\n",
       "    <tr>\n",
       "      <th>1497</th>\n",
       "      <td>tt0457510</td>\n",
       "      <td>32000000</td>\n",
       "      <td>80197993</td>\n",
       "      <td>Nacho Libre</td>\n",
       "      <td>Jack Black|Ana de la Reguera|HÃ©ctor JimÃ©nez|...</td>\n",
       "      <td>Jared Hess</td>\n",
       "      <td>He's not lean. He's not mean. He's nacho avera...</td>\n",
       "      <td>Nacho Libre is loosely based on the story of F...</td>\n",
       "      <td>92</td>\n",
       "      <td>Comedy|Family</td>\n",
       "      <td>Paramount Pictures|Nickelodeon Movies|Black &amp; ...</td>\n",
       "      <td>6/16/2006</td>\n",
       "      <td>5.5</td>\n",
       "      <td>2006</td>\n",
       "    </tr>\n",
       "    <tr>\n",
       "      <th>1436</th>\n",
       "      <td>tt0381061</td>\n",
       "      <td>150000000</td>\n",
       "      <td>599045960</td>\n",
       "      <td>Casino Royale</td>\n",
       "      <td>Daniel Craig|Eva Green|Mads Mikkelsen|Judi Den...</td>\n",
       "      <td>Martin Campbell</td>\n",
       "      <td>Everyone has a past. Every legend has a beginn...</td>\n",
       "      <td>Le Chiffre, a banker to the world's terrorists...</td>\n",
       "      <td>144</td>\n",
       "      <td>Adventure|Action|Thriller</td>\n",
       "      <td>Eon Productions</td>\n",
       "      <td>11/14/2006</td>\n",
       "      <td>7.1</td>\n",
       "      <td>2006</td>\n",
       "    </tr>\n",
       "  </tbody>\n",
       "</table>\n",
       "</div>"
      ],
      "text/plain": [
       "        imdb_id     budget    revenue                   original_title  \\\n",
       "1120  tt0314353   70000000   85632458                 Tears of the Sun   \n",
       "564   tt0242445   50000000   79958599                      Exit Wounds   \n",
       "463   tt0427152   69000000   86387857              Dinner for Schmucks   \n",
       "1249  tt1572315   20000000   47241945                Texas Chainsaw 3D   \n",
       "58    tt2679042   35000000   82347656                 Hitman: Agent 47   \n",
       "1812  tt0187393  110000000  215294342                      The Patriot   \n",
       "305   tt0433362   20000000   51416464                      Daybreakers   \n",
       "343   tt1220198   10000000   42333295                  The Fourth Kind   \n",
       "1588  tt0307453   75000000  367275019                       Shark Tale   \n",
       "1287  tt1621039   55000000  110000000                       Free Birds   \n",
       "1396  tt0257516   35000000   19294901                           Cursed   \n",
       "1279  tt1762399   80000000  126546518           Walking With Dinosaurs   \n",
       "1781  tt0841046   35000000   18317151   Walk Hard: The Dewey Cox Story   \n",
       "1164  tt0316465   32000000   52277485                            Radio   \n",
       "1590  tt0345950   30000000  140161792  The SpongeBob SquarePants Movie   \n",
       "877   tt0133240  140000000  109578115                  Treasure Planet   \n",
       "757   tt0409847  163000000  174822325                 Cowboys & Aliens   \n",
       "443   tt1414382   20000000   32005248                        You Again   \n",
       "1497  tt0457510   32000000   80197993                      Nacho Libre   \n",
       "1436  tt0381061  150000000  599045960                    Casino Royale   \n",
       "\n",
       "                                                   cast  \\\n",
       "1120  Bruce Willis|Monica Bellucci|Cole Hauser|Eamon...   \n",
       "564   Steven Seagal|DMX|Isaiah Washington|Anthony An...   \n",
       "463   Steve Carell|Paul Rudd|Stephanie Szostak|Jemai...   \n",
       "1249  Alexandra Daddario|Dan Yeager|Bill Moseley|Mar...   \n",
       "58    Rupert Friend|Zachary Quinto|Hannah Ware|Emili...   \n",
       "1812  Mel Gibson|Heath Ledger|Joely Richardson|Jason...   \n",
       "305   Ethan Hawke|Sam Neill|Willem Dafoe|Claudia Kar...   \n",
       "343   Milla Jovovich|Will Patton|Hakeem Kae-Kazim|Co...   \n",
       "1588  Will Smith|Robert De Niro|RenÃ©e Zellweger|Jac...   \n",
       "1287  Owen Wilson|Woody Harrelson|Amy Poehler|George...   \n",
       "1396  Portia de Rossi|Christina Ricci|Jesse Eisenber...   \n",
       "1279  Charlie Rowe|Justin Long|Karl Urban|Angourie R...   \n",
       "1781  John C. Reilly|Jenna Fischer|Tim Meadows|Krist...   \n",
       "1164  Cuba Gooding Jr.|Ed Harris|Alfre Woodard|S. Ep...   \n",
       "1590  Tom Kenny|Clancy Brown|Rodger Bumpass|Bill Fag...   \n",
       "877   Joseph Gordon-Levitt|David Hyde Pierce|Emma Th...   \n",
       "757   Daniel Craig|Olivia Wilde|Harrison Ford|Sam Ro...   \n",
       "443   Kristen Bell|Sigourney Weaver|Betty White|Kris...   \n",
       "1497  Jack Black|Ana de la Reguera|HÃ©ctor JimÃ©nez|...   \n",
       "1436  Daniel Craig|Eva Green|Mads Mikkelsen|Judi Den...   \n",
       "\n",
       "                                      director  \\\n",
       "1120                             Antoine Fuqua   \n",
       "564                         Andrzej Bartkowiak   \n",
       "463                                  Jay Roach   \n",
       "1249                           John Luessenhop   \n",
       "58                             Aleksander Bach   \n",
       "1812                           Roland Emmerich   \n",
       "305              Michael Spierig|Peter Spierig   \n",
       "343                         Olatunde Osunsanmi   \n",
       "1588  Bibo Bergeron|Vicky Jenson|Rob Letterman   \n",
       "1287                             Jimmy Hayward   \n",
       "1396                                Wes Craven   \n",
       "1279               Neil Nightingale|Barry Cook   \n",
       "1781                               Jake Kasdan   \n",
       "1164                               Mike Tollin   \n",
       "1590                        Stephen Hillenburg   \n",
       "877                   Ron Clements|John Musker   \n",
       "757                                Jon Favreau   \n",
       "443                               Andy Fickman   \n",
       "1497                                Jared Hess   \n",
       "1436                           Martin Campbell   \n",
       "\n",
       "                                                tagline  \\\n",
       "1120  He was trained to follow orders. He became a h...   \n",
       "564                                  This Is Gonna Hurt   \n",
       "463                              Takes One To Know One.   \n",
       "1249                             Evil wears many faces.   \n",
       "58                                   Your Number is Up.   \n",
       "1812                Some things are worth fighting for.   \n",
       "305   In 2019, The Most Precious Natural Resource......   \n",
       "343   There are four kinds of alien encounters. The ...   \n",
       "1588  The story of what happens when one little fish...   \n",
       "1287                            Hang On To Your Nuggets   \n",
       "1396          What doesn't kill you makes you stronger.   \n",
       "1279         The Greatest Adventure in 70 Million Years   \n",
       "1781  Life made him tough. Love made him strong. Mus...   \n",
       "1164                   His courage made them champions.   \n",
       "1590                    Bigger. Better. More absorbent.   \n",
       "877                    Find your place in the universe.   \n",
       "757                          First Contact. Last Stand.   \n",
       "443   What doesn't kill you... is going to marry you...   \n",
       "1497  He's not lean. He's not mean. He's nacho avera...   \n",
       "1436  Everyone has a past. Every legend has a beginn...   \n",
       "\n",
       "                                               overview  runtime  \\\n",
       "1120  Navy SEAL Lieutenant A.K. Waters and his elite...      121   \n",
       "564   Maverick cop Orin Boyd always brings down the ...      101   \n",
       "463   Rising executive Tim Wagner works for a boss w...      114   \n",
       "1249  A young woman learns that she has inherited a ...       92   \n",
       "58    An assassin teams up with a woman to help her ...       96   \n",
       "1812  After proving himself on the field of battle i...      165   \n",
       "305   In the year 2019, a plague has transformed alm...       98   \n",
       "343   Since the 1960s, a disproportionate number of ...       98   \n",
       "1588  Oscar is a small fish whose big aspirations of...       90   \n",
       "1287  In this irreverent, hilarious, adventurous bud...       91   \n",
       "1396  A werewolf loose in Los Angeles changes the li...       97   \n",
       "1279  Walking with Dinosaurs 3D is a film depicting ...       87   \n",
       "1781  Singer Dewey Cox overcomes adversity to become...       96   \n",
       "1164  Football coach Harold Jones befriends Radio, a...      109   \n",
       "1590  There's trouble brewing in Bikini Bottom. Some...       87   \n",
       "877   When space galleon cabin boy Jim Hawkins disco...       95   \n",
       "757   A stranger stumbles into the desert town of Ab...      119   \n",
       "443   History -- make that high school -- may repeat...      105   \n",
       "1497  Nacho Libre is loosely based on the story of F...       92   \n",
       "1436  Le Chiffre, a banker to the world's terrorists...      144   \n",
       "\n",
       "                                                 genres  \\\n",
       "1120                                   Action|Drama|War   \n",
       "564                               Action|Crime|Thriller   \n",
       "463                                              Comedy   \n",
       "1249                                    Horror|Thriller   \n",
       "58                                Action|Crime|Thriller   \n",
       "1812                           Drama|History|War|Action   \n",
       "305      Fantasy|Horror|Action|Thriller|Science Fiction   \n",
       "343                            Science Fiction|Thriller   \n",
       "1588                     Animation|Action|Comedy|Family   \n",
       "1287                            Animation|Comedy|Family   \n",
       "1396                                      Horror|Comedy   \n",
       "1279                         Animation|Family|Adventure   \n",
       "1781                                       Comedy|Music   \n",
       "1164                                              Drama   \n",
       "1590                            Animation|Comedy|Family   \n",
       "877   Adventure|Animation|Family|Fantasy|Science Fic...   \n",
       "757             Action|Science Fiction|Thriller|Western   \n",
       "443                                      Comedy|Romance   \n",
       "1497                                      Comedy|Family   \n",
       "1436                          Adventure|Action|Thriller   \n",
       "\n",
       "                                   production_companies release_date  \\\n",
       "1120  Columbia Pictures|Revolution Studios|Cheyenne ...     3/7/2003   \n",
       "564                      NPV Entertainment|Warner Bros.    3/13/2001   \n",
       "463   Paramount Pictures|DreamWorks SKG|Spyglass Ent...    7/30/2010   \n",
       "1249                          Nu Image Films|Lions Gate     1/3/2013   \n",
       "58    Twentieth Century Fox Film Corporation|Fox Int...    8/20/2015   \n",
       "1812  Centropolis Entertainment|Columbia Pictures Co...    6/28/2000   \n",
       "305   Lionsgate|Furst Films|Pictures in Paradise|Pac...     1/6/2009   \n",
       "343   Universal Pictures|Saga Film|Focus Films|Gold ...    11/6/2009   \n",
       "1588  DreamWorks SKG|Pacific Data Images (PDI)|Dream...    9/20/2004   \n",
       "1287          Reel FX Creative Studios|Relativity Media   10/30/2013   \n",
       "1396  Craven-Maddalena Films|Outerbanks Entertainmen...    2/24/2005   \n",
       "1279                                   20th Century Fox   12/18/2013   \n",
       "1781   Columbia Pictures Corporation|Apatow Productions   12/21/2007   \n",
       "1164      Revolution Studios|Tollin/Robbins Productions   10/24/2003   \n",
       "1590  Paramount Pictures|Nickelodeon Movies|Paramoun...   11/14/2004   \n",
       "877   Walt Disney Pictures|Walt Disney Feature Anima...   11/26/2002   \n",
       "757   Imagine Entertainment|DreamWorks SKG|Universal...    7/29/2011   \n",
       "443   Oops Doughnuts Productions|Touchstone Pictures...    9/24/2010   \n",
       "1497  Paramount Pictures|Nickelodeon Movies|Black & ...    6/16/2006   \n",
       "1436                                    Eon Productions   11/14/2006   \n",
       "\n",
       "      vote_average  release_year  \n",
       "1120           6.4          2003  \n",
       "564            5.0          2001  \n",
       "463            5.4          2010  \n",
       "1249           5.4          2013  \n",
       "58             5.5          2015  \n",
       "1812           6.7          2000  \n",
       "305            5.9          2009  \n",
       "343            5.6          2009  \n",
       "1588           5.8          2004  \n",
       "1287           5.8          2013  \n",
       "1396           5.0          2005  \n",
       "1279           5.0          2013  \n",
       "1781           6.5          2007  \n",
       "1164           7.1          2003  \n",
       "1590           6.6          2004  \n",
       "877            7.0          2002  \n",
       "757            5.4          2011  \n",
       "443            6.0          2010  \n",
       "1497           5.5          2006  \n",
       "1436           7.1          2006  "
      ]
     },
     "execution_count": 264,
     "metadata": {},
     "output_type": "execute_result"
    }
   ],
   "source": [
    "data = pd.read_csv('movie_bd_v5.csv')\n",
    "\n",
    "data.sample(20)\n"
   ]
  },
  {
   "cell_type": "code",
   "execution_count": 267,
   "metadata": {
    "colab": {},
    "colab_type": "code",
    "id": "CoYUnagMVp-C"
   },
   "outputs": [
    {
     "name": "stdout",
     "output_type": "stream",
     "text": [
      "<class 'pandas.core.frame.DataFrame'>\n",
      "RangeIndex: 1889 entries, 0 to 1888\n",
      "Data columns (total 15 columns):\n",
      " #   Column                Non-Null Count  Dtype  \n",
      "---  ------                --------------  -----  \n",
      " 0   imdb_id               1889 non-null   object \n",
      " 1   budget                1889 non-null   int64  \n",
      " 2   revenue               1889 non-null   int64  \n",
      " 3   original_title        1889 non-null   object \n",
      " 4   cast                  1889 non-null   object \n",
      " 5   director              1889 non-null   object \n",
      " 6   tagline               1889 non-null   object \n",
      " 7   overview              1889 non-null   object \n",
      " 8   runtime               1889 non-null   int64  \n",
      " 9   genres                1889 non-null   object \n",
      " 10  production_companies  1889 non-null   object \n",
      " 11  release_date          1889 non-null   object \n",
      " 12  vote_average          1889 non-null   float64\n",
      " 13  release_year          1889 non-null   int64  \n",
      " 14  profit                1889 non-null   int64  \n",
      "dtypes: float64(1), int64(5), object(9)\n",
      "memory usage: 221.5+ KB\n"
     ]
    }
   ],
   "source": [
    "data.info()"
   ]
  },
  {
   "cell_type": "markdown",
   "metadata": {
    "colab_type": "text",
    "id": "DTIt7ezGVp-G"
   },
   "source": [
    "# Предобработка"
   ]
  },
  {
   "cell_type": "code",
   "execution_count": 266,
   "metadata": {
    "colab": {},
    "colab_type": "code",
    "id": "jNb40DwKVp-H"
   },
   "outputs": [
    {
     "ename": "AttributeError",
     "evalue": "Can only use .str accessor with string values!",
     "output_type": "error",
     "traceback": [
      "\u001b[1;31m---------------------------------------------------------------------------\u001b[0m",
      "\u001b[1;31mAttributeError\u001b[0m                            Traceback (most recent call last)",
      "\u001b[1;32m<ipython-input-266-e4b555b89e9e>\u001b[0m in \u001b[0;36m<module>\u001b[1;34m\u001b[0m\n\u001b[0;32m      3\u001b[0m \u001b[0mdata\u001b[0m\u001b[1;33m[\u001b[0m\u001b[1;34m'profit'\u001b[0m\u001b[1;33m]\u001b[0m \u001b[1;33m=\u001b[0m \u001b[0mdata\u001b[0m\u001b[1;33m[\u001b[0m\u001b[1;34m'revenue'\u001b[0m\u001b[1;33m]\u001b[0m\u001b[1;33m-\u001b[0m\u001b[0mdata\u001b[0m\u001b[1;33m[\u001b[0m\u001b[1;34m'budget'\u001b[0m\u001b[1;33m]\u001b[0m \u001b[1;31m#добавим колонку профит\u001b[0m\u001b[1;33m\u001b[0m\u001b[1;33m\u001b[0m\u001b[0m\n\u001b[0;32m      4\u001b[0m \u001b[1;33m\u001b[0m\u001b[0m\n\u001b[1;32m----> 5\u001b[1;33m \u001b[0mdata\u001b[0m\u001b[1;33m.\u001b[0m\u001b[0mapply\u001b[0m\u001b[1;33m(\u001b[0m\u001b[1;32mlambda\u001b[0m \u001b[0ms\u001b[0m\u001b[1;33m:\u001b[0m \u001b[0ms\u001b[0m\u001b[1;33m.\u001b[0m\u001b[0mstr\u001b[0m\u001b[1;33m.\u001b[0m\u001b[0msplit\u001b[0m\u001b[1;33m(\u001b[0m\u001b[1;34m'|'\u001b[0m\u001b[1;33m)\u001b[0m\u001b[1;33m)\u001b[0m\u001b[1;33m\u001b[0m\u001b[1;33m\u001b[0m\u001b[0m\n\u001b[0m\u001b[0;32m      6\u001b[0m \u001b[1;33m\u001b[0m\u001b[0m\n\u001b[0;32m      7\u001b[0m \u001b[1;33m\u001b[0m\u001b[0m\n",
      "\u001b[1;32m~\\anaconda3\\lib\\site-packages\\pandas\\core\\frame.py\u001b[0m in \u001b[0;36mapply\u001b[1;34m(self, func, axis, raw, result_type, args, **kwds)\u001b[0m\n\u001b[0;32m   7546\u001b[0m             \u001b[0mkwds\u001b[0m\u001b[1;33m=\u001b[0m\u001b[0mkwds\u001b[0m\u001b[1;33m,\u001b[0m\u001b[1;33m\u001b[0m\u001b[1;33m\u001b[0m\u001b[0m\n\u001b[0;32m   7547\u001b[0m         )\n\u001b[1;32m-> 7548\u001b[1;33m         \u001b[1;32mreturn\u001b[0m \u001b[0mop\u001b[0m\u001b[1;33m.\u001b[0m\u001b[0mget_result\u001b[0m\u001b[1;33m(\u001b[0m\u001b[1;33m)\u001b[0m\u001b[1;33m\u001b[0m\u001b[1;33m\u001b[0m\u001b[0m\n\u001b[0m\u001b[0;32m   7549\u001b[0m \u001b[1;33m\u001b[0m\u001b[0m\n\u001b[0;32m   7550\u001b[0m     \u001b[1;32mdef\u001b[0m \u001b[0mapplymap\u001b[0m\u001b[1;33m(\u001b[0m\u001b[0mself\u001b[0m\u001b[1;33m,\u001b[0m \u001b[0mfunc\u001b[0m\u001b[1;33m)\u001b[0m \u001b[1;33m->\u001b[0m \u001b[1;34m\"DataFrame\"\u001b[0m\u001b[1;33m:\u001b[0m\u001b[1;33m\u001b[0m\u001b[1;33m\u001b[0m\u001b[0m\n",
      "\u001b[1;32m~\\anaconda3\\lib\\site-packages\\pandas\\core\\apply.py\u001b[0m in \u001b[0;36mget_result\u001b[1;34m(self)\u001b[0m\n\u001b[0;32m    178\u001b[0m             \u001b[1;32mreturn\u001b[0m \u001b[0mself\u001b[0m\u001b[1;33m.\u001b[0m\u001b[0mapply_raw\u001b[0m\u001b[1;33m(\u001b[0m\u001b[1;33m)\u001b[0m\u001b[1;33m\u001b[0m\u001b[1;33m\u001b[0m\u001b[0m\n\u001b[0;32m    179\u001b[0m \u001b[1;33m\u001b[0m\u001b[0m\n\u001b[1;32m--> 180\u001b[1;33m         \u001b[1;32mreturn\u001b[0m \u001b[0mself\u001b[0m\u001b[1;33m.\u001b[0m\u001b[0mapply_standard\u001b[0m\u001b[1;33m(\u001b[0m\u001b[1;33m)\u001b[0m\u001b[1;33m\u001b[0m\u001b[1;33m\u001b[0m\u001b[0m\n\u001b[0m\u001b[0;32m    181\u001b[0m \u001b[1;33m\u001b[0m\u001b[0m\n\u001b[0;32m    182\u001b[0m     \u001b[1;32mdef\u001b[0m \u001b[0mapply_empty_result\u001b[0m\u001b[1;33m(\u001b[0m\u001b[0mself\u001b[0m\u001b[1;33m)\u001b[0m\u001b[1;33m:\u001b[0m\u001b[1;33m\u001b[0m\u001b[1;33m\u001b[0m\u001b[0m\n",
      "\u001b[1;32m~\\anaconda3\\lib\\site-packages\\pandas\\core\\apply.py\u001b[0m in \u001b[0;36mapply_standard\u001b[1;34m(self)\u001b[0m\n\u001b[0;32m    269\u001b[0m \u001b[1;33m\u001b[0m\u001b[0m\n\u001b[0;32m    270\u001b[0m     \u001b[1;32mdef\u001b[0m \u001b[0mapply_standard\u001b[0m\u001b[1;33m(\u001b[0m\u001b[0mself\u001b[0m\u001b[1;33m)\u001b[0m\u001b[1;33m:\u001b[0m\u001b[1;33m\u001b[0m\u001b[1;33m\u001b[0m\u001b[0m\n\u001b[1;32m--> 271\u001b[1;33m         \u001b[0mresults\u001b[0m\u001b[1;33m,\u001b[0m \u001b[0mres_index\u001b[0m \u001b[1;33m=\u001b[0m \u001b[0mself\u001b[0m\u001b[1;33m.\u001b[0m\u001b[0mapply_series_generator\u001b[0m\u001b[1;33m(\u001b[0m\u001b[1;33m)\u001b[0m\u001b[1;33m\u001b[0m\u001b[1;33m\u001b[0m\u001b[0m\n\u001b[0m\u001b[0;32m    272\u001b[0m \u001b[1;33m\u001b[0m\u001b[0m\n\u001b[0;32m    273\u001b[0m         \u001b[1;31m# wrap results\u001b[0m\u001b[1;33m\u001b[0m\u001b[1;33m\u001b[0m\u001b[1;33m\u001b[0m\u001b[0m\n",
      "\u001b[1;32m~\\anaconda3\\lib\\site-packages\\pandas\\core\\apply.py\u001b[0m in \u001b[0;36mapply_series_generator\u001b[1;34m(self)\u001b[0m\n\u001b[0;32m    298\u001b[0m                 \u001b[1;32mfor\u001b[0m \u001b[0mi\u001b[0m\u001b[1;33m,\u001b[0m \u001b[0mv\u001b[0m \u001b[1;32min\u001b[0m \u001b[0menumerate\u001b[0m\u001b[1;33m(\u001b[0m\u001b[0mseries_gen\u001b[0m\u001b[1;33m)\u001b[0m\u001b[1;33m:\u001b[0m\u001b[1;33m\u001b[0m\u001b[1;33m\u001b[0m\u001b[0m\n\u001b[0;32m    299\u001b[0m                     \u001b[1;31m# ignore SettingWithCopy here in case the user mutates\u001b[0m\u001b[1;33m\u001b[0m\u001b[1;33m\u001b[0m\u001b[1;33m\u001b[0m\u001b[0m\n\u001b[1;32m--> 300\u001b[1;33m                     \u001b[0mresults\u001b[0m\u001b[1;33m[\u001b[0m\u001b[0mi\u001b[0m\u001b[1;33m]\u001b[0m \u001b[1;33m=\u001b[0m \u001b[0mself\u001b[0m\u001b[1;33m.\u001b[0m\u001b[0mf\u001b[0m\u001b[1;33m(\u001b[0m\u001b[0mv\u001b[0m\u001b[1;33m)\u001b[0m\u001b[1;33m\u001b[0m\u001b[1;33m\u001b[0m\u001b[0m\n\u001b[0m\u001b[0;32m    301\u001b[0m                     \u001b[1;32mif\u001b[0m \u001b[0misinstance\u001b[0m\u001b[1;33m(\u001b[0m\u001b[0mresults\u001b[0m\u001b[1;33m[\u001b[0m\u001b[0mi\u001b[0m\u001b[1;33m]\u001b[0m\u001b[1;33m,\u001b[0m \u001b[0mABCSeries\u001b[0m\u001b[1;33m)\u001b[0m\u001b[1;33m:\u001b[0m\u001b[1;33m\u001b[0m\u001b[1;33m\u001b[0m\u001b[0m\n\u001b[0;32m    302\u001b[0m                         \u001b[1;31m# If we have a view on v, we need to make a copy because\u001b[0m\u001b[1;33m\u001b[0m\u001b[1;33m\u001b[0m\u001b[1;33m\u001b[0m\u001b[0m\n",
      "\u001b[1;32m<ipython-input-266-e4b555b89e9e>\u001b[0m in \u001b[0;36m<lambda>\u001b[1;34m(s)\u001b[0m\n\u001b[0;32m      3\u001b[0m \u001b[0mdata\u001b[0m\u001b[1;33m[\u001b[0m\u001b[1;34m'profit'\u001b[0m\u001b[1;33m]\u001b[0m \u001b[1;33m=\u001b[0m \u001b[0mdata\u001b[0m\u001b[1;33m[\u001b[0m\u001b[1;34m'revenue'\u001b[0m\u001b[1;33m]\u001b[0m\u001b[1;33m-\u001b[0m\u001b[0mdata\u001b[0m\u001b[1;33m[\u001b[0m\u001b[1;34m'budget'\u001b[0m\u001b[1;33m]\u001b[0m \u001b[1;31m#добавим колонку профит\u001b[0m\u001b[1;33m\u001b[0m\u001b[1;33m\u001b[0m\u001b[0m\n\u001b[0;32m      4\u001b[0m \u001b[1;33m\u001b[0m\u001b[0m\n\u001b[1;32m----> 5\u001b[1;33m \u001b[0mdata\u001b[0m\u001b[1;33m.\u001b[0m\u001b[0mapply\u001b[0m\u001b[1;33m(\u001b[0m\u001b[1;32mlambda\u001b[0m \u001b[0ms\u001b[0m\u001b[1;33m:\u001b[0m \u001b[0ms\u001b[0m\u001b[1;33m.\u001b[0m\u001b[0mstr\u001b[0m\u001b[1;33m.\u001b[0m\u001b[0msplit\u001b[0m\u001b[1;33m(\u001b[0m\u001b[1;34m'|'\u001b[0m\u001b[1;33m)\u001b[0m\u001b[1;33m)\u001b[0m\u001b[1;33m\u001b[0m\u001b[1;33m\u001b[0m\u001b[0m\n\u001b[0m\u001b[0;32m      6\u001b[0m \u001b[1;33m\u001b[0m\u001b[0m\n\u001b[0;32m      7\u001b[0m \u001b[1;33m\u001b[0m\u001b[0m\n",
      "\u001b[1;32m~\\anaconda3\\lib\\site-packages\\pandas\\core\\generic.py\u001b[0m in \u001b[0;36m__getattr__\u001b[1;34m(self, name)\u001b[0m\n\u001b[0;32m   5133\u001b[0m             \u001b[1;32mor\u001b[0m \u001b[0mname\u001b[0m \u001b[1;32min\u001b[0m \u001b[0mself\u001b[0m\u001b[1;33m.\u001b[0m\u001b[0m_accessors\u001b[0m\u001b[1;33m\u001b[0m\u001b[1;33m\u001b[0m\u001b[0m\n\u001b[0;32m   5134\u001b[0m         ):\n\u001b[1;32m-> 5135\u001b[1;33m             \u001b[1;32mreturn\u001b[0m \u001b[0mobject\u001b[0m\u001b[1;33m.\u001b[0m\u001b[0m__getattribute__\u001b[0m\u001b[1;33m(\u001b[0m\u001b[0mself\u001b[0m\u001b[1;33m,\u001b[0m \u001b[0mname\u001b[0m\u001b[1;33m)\u001b[0m\u001b[1;33m\u001b[0m\u001b[1;33m\u001b[0m\u001b[0m\n\u001b[0m\u001b[0;32m   5136\u001b[0m         \u001b[1;32melse\u001b[0m\u001b[1;33m:\u001b[0m\u001b[1;33m\u001b[0m\u001b[1;33m\u001b[0m\u001b[0m\n\u001b[0;32m   5137\u001b[0m             \u001b[1;32mif\u001b[0m \u001b[0mself\u001b[0m\u001b[1;33m.\u001b[0m\u001b[0m_info_axis\u001b[0m\u001b[1;33m.\u001b[0m\u001b[0m_can_hold_identifiers_and_holds_name\u001b[0m\u001b[1;33m(\u001b[0m\u001b[0mname\u001b[0m\u001b[1;33m)\u001b[0m\u001b[1;33m:\u001b[0m\u001b[1;33m\u001b[0m\u001b[1;33m\u001b[0m\u001b[0m\n",
      "\u001b[1;32m~\\anaconda3\\lib\\site-packages\\pandas\\core\\accessor.py\u001b[0m in \u001b[0;36m__get__\u001b[1;34m(self, obj, cls)\u001b[0m\n\u001b[0;32m    185\u001b[0m             \u001b[1;31m# we're accessing the attribute of the class, i.e., Dataset.geo\u001b[0m\u001b[1;33m\u001b[0m\u001b[1;33m\u001b[0m\u001b[1;33m\u001b[0m\u001b[0m\n\u001b[0;32m    186\u001b[0m             \u001b[1;32mreturn\u001b[0m \u001b[0mself\u001b[0m\u001b[1;33m.\u001b[0m\u001b[0m_accessor\u001b[0m\u001b[1;33m\u001b[0m\u001b[1;33m\u001b[0m\u001b[0m\n\u001b[1;32m--> 187\u001b[1;33m         \u001b[0maccessor_obj\u001b[0m \u001b[1;33m=\u001b[0m \u001b[0mself\u001b[0m\u001b[1;33m.\u001b[0m\u001b[0m_accessor\u001b[0m\u001b[1;33m(\u001b[0m\u001b[0mobj\u001b[0m\u001b[1;33m)\u001b[0m\u001b[1;33m\u001b[0m\u001b[1;33m\u001b[0m\u001b[0m\n\u001b[0m\u001b[0;32m    188\u001b[0m         \u001b[1;31m# Replace the property with the accessor object. Inspired by:\u001b[0m\u001b[1;33m\u001b[0m\u001b[1;33m\u001b[0m\u001b[1;33m\u001b[0m\u001b[0m\n\u001b[0;32m    189\u001b[0m         \u001b[1;31m# https://www.pydanny.com/cached-property.html\u001b[0m\u001b[1;33m\u001b[0m\u001b[1;33m\u001b[0m\u001b[1;33m\u001b[0m\u001b[0m\n",
      "\u001b[1;32m~\\anaconda3\\lib\\site-packages\\pandas\\core\\strings.py\u001b[0m in \u001b[0;36m__init__\u001b[1;34m(self, data)\u001b[0m\n\u001b[0;32m   2098\u001b[0m \u001b[1;33m\u001b[0m\u001b[0m\n\u001b[0;32m   2099\u001b[0m     \u001b[1;32mdef\u001b[0m \u001b[0m__init__\u001b[0m\u001b[1;33m(\u001b[0m\u001b[0mself\u001b[0m\u001b[1;33m,\u001b[0m \u001b[0mdata\u001b[0m\u001b[1;33m)\u001b[0m\u001b[1;33m:\u001b[0m\u001b[1;33m\u001b[0m\u001b[1;33m\u001b[0m\u001b[0m\n\u001b[1;32m-> 2100\u001b[1;33m         \u001b[0mself\u001b[0m\u001b[1;33m.\u001b[0m\u001b[0m_inferred_dtype\u001b[0m \u001b[1;33m=\u001b[0m \u001b[0mself\u001b[0m\u001b[1;33m.\u001b[0m\u001b[0m_validate\u001b[0m\u001b[1;33m(\u001b[0m\u001b[0mdata\u001b[0m\u001b[1;33m)\u001b[0m\u001b[1;33m\u001b[0m\u001b[1;33m\u001b[0m\u001b[0m\n\u001b[0m\u001b[0;32m   2101\u001b[0m         \u001b[0mself\u001b[0m\u001b[1;33m.\u001b[0m\u001b[0m_is_categorical\u001b[0m \u001b[1;33m=\u001b[0m \u001b[0mis_categorical_dtype\u001b[0m\u001b[1;33m(\u001b[0m\u001b[0mdata\u001b[0m\u001b[1;33m.\u001b[0m\u001b[0mdtype\u001b[0m\u001b[1;33m)\u001b[0m\u001b[1;33m\u001b[0m\u001b[1;33m\u001b[0m\u001b[0m\n\u001b[0;32m   2102\u001b[0m         \u001b[0mself\u001b[0m\u001b[1;33m.\u001b[0m\u001b[0m_is_string\u001b[0m \u001b[1;33m=\u001b[0m \u001b[0mdata\u001b[0m\u001b[1;33m.\u001b[0m\u001b[0mdtype\u001b[0m\u001b[1;33m.\u001b[0m\u001b[0mname\u001b[0m \u001b[1;33m==\u001b[0m \u001b[1;34m\"string\"\u001b[0m\u001b[1;33m\u001b[0m\u001b[1;33m\u001b[0m\u001b[0m\n",
      "\u001b[1;32m~\\anaconda3\\lib\\site-packages\\pandas\\core\\strings.py\u001b[0m in \u001b[0;36m_validate\u001b[1;34m(data)\u001b[0m\n\u001b[0;32m   2155\u001b[0m \u001b[1;33m\u001b[0m\u001b[0m\n\u001b[0;32m   2156\u001b[0m         \u001b[1;32mif\u001b[0m \u001b[0minferred_dtype\u001b[0m \u001b[1;32mnot\u001b[0m \u001b[1;32min\u001b[0m \u001b[0mallowed_types\u001b[0m\u001b[1;33m:\u001b[0m\u001b[1;33m\u001b[0m\u001b[1;33m\u001b[0m\u001b[0m\n\u001b[1;32m-> 2157\u001b[1;33m             \u001b[1;32mraise\u001b[0m \u001b[0mAttributeError\u001b[0m\u001b[1;33m(\u001b[0m\u001b[1;34m\"Can only use .str accessor with string values!\"\u001b[0m\u001b[1;33m)\u001b[0m\u001b[1;33m\u001b[0m\u001b[1;33m\u001b[0m\u001b[0m\n\u001b[0m\u001b[0;32m   2158\u001b[0m         \u001b[1;32mreturn\u001b[0m \u001b[0minferred_dtype\u001b[0m\u001b[1;33m\u001b[0m\u001b[1;33m\u001b[0m\u001b[0m\n\u001b[0;32m   2159\u001b[0m \u001b[1;33m\u001b[0m\u001b[0m\n",
      "\u001b[1;31mAttributeError\u001b[0m: Can only use .str accessor with string values!"
     ]
    }
   ],
   "source": [
    "def split_explode_replace(df, column):\n",
    "    df(column)\n",
    "    \n",
    "answers = {} # создадим словарь для ответов\n",
    "\n",
    "data['profit'] = data['revenue']-data['budget'] #добавим колонку профит\n",
    "\n",
    "\n",
    "data.set_index(['imdb_id',)\n",
    "#apply(lambda s: s.split('|'))\n",
    "\n",
    "\n",
    "\n"
   ]
  },
  {
   "cell_type": "markdown",
   "metadata": {},
   "source": [
    "#добавим колоки жанров отдельными элементами\n",
    "genres_list = [item.split('|') for item in data['genres']]\n",
    "\n",
    "genres_count = collections.Counter()\n",
    "for movie in genres_list:\n",
    "    for genre in movie:\n",
    "        genres_count[genre] += 1 #посчитаем уникальные значения\n",
    "\n",
    "        \n",
    "genres_df = pd.DataFrame(columns=genres_count.keys())\n",
    "genres_count.keys()\n",
    "#data2 = pd.concat([data, genres_df], axis=1)\n",
    "#data2\n"
   ]
  },
  {
   "cell_type": "markdown",
   "metadata": {
    "colab_type": "text",
    "id": "YxZaH-nPVp-L"
   },
   "source": [
    "# 1. У какого фильма из списка самый большой бюджет?"
   ]
  },
  {
   "cell_type": "markdown",
   "metadata": {
    "colab_type": "text",
    "id": "Nd-G5gX6Vp-M"
   },
   "source": [
    "Использовать варианты ответов в коде решения запрещено.    \n",
    "Вы думаете и в жизни у вас будут варианты ответов?)"
   ]
  },
  {
   "cell_type": "code",
   "execution_count": 161,
   "metadata": {
    "colab": {},
    "colab_type": "code",
    "id": "uVnXAY5RVp-O"
   },
   "outputs": [],
   "source": [
    "# в словарь вставляем номер вопроса и ваш ответ на него\n",
    "# Пример: \n",
    "answers['1'] = '2. Spider-Man 3 (tt0413300)'\n",
    "# запишите свой вариант ответа\n",
    "answers['1'] = 'Pirates of the Caribbean: On Stranger Tides (tt1298650)'\n",
    "# если ответили верно, можете добавить комментарий со значком \"+\""
   ]
  },
  {
   "cell_type": "code",
   "execution_count": 162,
   "metadata": {
    "colab": {},
    "colab_type": "code",
    "id": "dZwb3m28Vp-S"
   },
   "outputs": [
    {
     "data": {
      "text/html": [
       "<div>\n",
       "<style scoped>\n",
       "    .dataframe tbody tr th:only-of-type {\n",
       "        vertical-align: middle;\n",
       "    }\n",
       "\n",
       "    .dataframe tbody tr th {\n",
       "        vertical-align: top;\n",
       "    }\n",
       "\n",
       "    .dataframe thead th {\n",
       "        text-align: right;\n",
       "    }\n",
       "</style>\n",
       "<table border=\"1\" class=\"dataframe\">\n",
       "  <thead>\n",
       "    <tr style=\"text-align: right;\">\n",
       "      <th></th>\n",
       "      <th>original_title</th>\n",
       "      <th>imdb_id</th>\n",
       "    </tr>\n",
       "  </thead>\n",
       "  <tbody>\n",
       "    <tr>\n",
       "      <th>723</th>\n",
       "      <td>Pirates of the Caribbean: On Stranger Tides</td>\n",
       "      <td>tt1298650</td>\n",
       "    </tr>\n",
       "  </tbody>\n",
       "</table>\n",
       "</div>"
      ],
      "text/plain": [
       "                                  original_title    imdb_id\n",
       "723  Pirates of the Caribbean: On Stranger Tides  tt1298650"
      ]
     },
     "execution_count": 162,
     "metadata": {},
     "output_type": "execute_result"
    }
   ],
   "source": [
    "# тут пишем ваш код для решения данного вопроса:\n",
    "max_budget = data[data.budget == data.budget.max()]\n",
    "max_budget[['original_title','imdb_id']]\n"
   ]
  },
  {
   "cell_type": "markdown",
   "metadata": {
    "colab_type": "text",
    "id": "K7L3nbRXVp-X"
   },
   "source": [
    "ВАРИАНТ 2"
   ]
  },
  {
   "cell_type": "code",
   "execution_count": 163,
   "metadata": {
    "colab": {},
    "colab_type": "code",
    "id": "OGaoQI7rVp-X"
   },
   "outputs": [
    {
     "data": {
      "text/plain": [
       "original_title    Pirates of the Caribbean: On Stranger Tides\n",
       "imdb_id                                             tt1298650\n",
       "Name: 723, dtype: object"
      ]
     },
     "execution_count": 163,
     "metadata": {},
     "output_type": "execute_result"
    }
   ],
   "source": [
    "# можно добавлять разные варианты решения\n",
    "sorted_data = data.sort_values(by='budget', ascending=False)\n",
    "max_budget = sorted_data.iloc[0][['original_title','imdb_id']]\n",
    "max_budget\n"
   ]
  },
  {
   "cell_type": "markdown",
   "metadata": {
    "colab_type": "text",
    "id": "FNRbbI3vVp-c"
   },
   "source": [
    "# 2. Какой из фильмов самый длительный (в минутах)?"
   ]
  },
  {
   "cell_type": "code",
   "execution_count": 164,
   "metadata": {
    "colab": {},
    "colab_type": "code",
    "id": "vHAoEXNTVp-d"
   },
   "outputs": [],
   "source": [
    "# думаю логику работы с этим словарем вы уже поняли, \n",
    "# по этому не буду больше его дублировать"
   ]
  },
  {
   "cell_type": "code",
   "execution_count": 199,
   "metadata": {
    "colab": {},
    "colab_type": "code",
    "id": "ot-VX2XrVp-g"
   },
   "outputs": [],
   "source": [
    "longest = data[data.runtime == data.runtime.max()]\n",
    "longest[['original_title','imdb_id','runtime']]\n",
    "answers['2'] = 'Gods and Generals (tt0279111)'\n"
   ]
  },
  {
   "cell_type": "markdown",
   "metadata": {
    "colab_type": "text",
    "id": "bapLlpW8Vp-k"
   },
   "source": [
    "# 3. Какой из фильмов самый короткий (в минутах)?\n",
    "\n",
    "\n",
    "\n"
   ]
  },
  {
   "cell_type": "code",
   "execution_count": 166,
   "metadata": {
    "colab": {},
    "colab_type": "code",
    "id": "YBxaSHuAVp-l"
   },
   "outputs": [
    {
     "data": {
      "text/html": [
       "<div>\n",
       "<style scoped>\n",
       "    .dataframe tbody tr th:only-of-type {\n",
       "        vertical-align: middle;\n",
       "    }\n",
       "\n",
       "    .dataframe tbody tr th {\n",
       "        vertical-align: top;\n",
       "    }\n",
       "\n",
       "    .dataframe thead th {\n",
       "        text-align: right;\n",
       "    }\n",
       "</style>\n",
       "<table border=\"1\" class=\"dataframe\">\n",
       "  <thead>\n",
       "    <tr style=\"text-align: right;\">\n",
       "      <th></th>\n",
       "      <th>original_title</th>\n",
       "      <th>imdb_id</th>\n",
       "      <th>runtime</th>\n",
       "    </tr>\n",
       "  </thead>\n",
       "  <tbody>\n",
       "    <tr>\n",
       "      <th>768</th>\n",
       "      <td>Winnie the Pooh</td>\n",
       "      <td>tt1449283</td>\n",
       "      <td>63</td>\n",
       "    </tr>\n",
       "  </tbody>\n",
       "</table>\n",
       "</div>"
      ],
      "text/plain": [
       "      original_title    imdb_id  runtime\n",
       "768  Winnie the Pooh  tt1449283       63"
      ]
     },
     "execution_count": 166,
     "metadata": {},
     "output_type": "execute_result"
    }
   ],
   "source": [
    "shortest = data[data.runtime == data.runtime.min()]\n",
    "shortest[['original_title','imdb_id','runtime']]\n"
   ]
  },
  {
   "cell_type": "code",
   "execution_count": 167,
   "metadata": {},
   "outputs": [],
   "source": [
    "answers['3'] = 'Winnie the Pooh (tt1449283)'\n"
   ]
  },
  {
   "cell_type": "markdown",
   "metadata": {
    "colab_type": "text",
    "id": "TfQbxbfNVp-p"
   },
   "source": [
    "# 4. Какова средняя длительность фильмов?\n"
   ]
  },
  {
   "cell_type": "code",
   "execution_count": 168,
   "metadata": {
    "colab": {},
    "colab_type": "code",
    "id": "5K6dKZYVVp-q"
   },
   "outputs": [
    {
     "name": "stdout",
     "output_type": "stream",
     "text": [
      "109.6585494970884\n"
     ]
    }
   ],
   "source": [
    "mean_runtime = data.describe().loc['mean']['runtime']\n",
    "print(mean_runtime)\n",
    "answers['4'] = mean_runtime\n"
   ]
  },
  {
   "cell_type": "markdown",
   "metadata": {
    "colab_type": "text",
    "id": "r5TvbnT_Vp-u"
   },
   "source": [
    "# 5. Каково медианное значение длительности фильмов? "
   ]
  },
  {
   "cell_type": "code",
   "execution_count": 169,
   "metadata": {
    "colab": {},
    "colab_type": "code",
    "id": "iBROplKnVp-v"
   },
   "outputs": [
    {
     "name": "stdout",
     "output_type": "stream",
     "text": [
      "107.0\n"
     ]
    }
   ],
   "source": [
    "median_runtime = data.describe().loc['50%']['runtime']\n",
    "print(median_runtime)\n",
    "answers['5'] = median_runtime\n"
   ]
  },
  {
   "cell_type": "markdown",
   "metadata": {
    "colab_type": "text",
    "id": "39P-deDSVp-y"
   },
   "source": [
    "# 6. Какой самый прибыльный фильм?\n",
    "#### Внимание! Здесь и далее под «прибылью» или «убытками» понимается разность между сборами и бюджетом фильма. (прибыль = сборы - бюджет) в нашем датасете это будет (profit = revenue - budget) "
   ]
  },
  {
   "cell_type": "code",
   "execution_count": 170,
   "metadata": {
    "colab": {},
    "colab_type": "code",
    "id": "UYZh4T9WVp-y"
   },
   "outputs": [
    {
     "data": {
      "text/plain": [
       "'Avatar'"
      ]
     },
     "execution_count": 170,
     "metadata": {},
     "output_type": "execute_result"
    }
   ],
   "source": [
    "# лучше код получения столбца profit вынести в Предобработку что в начале\n",
    "max_profit = data[data.profit == data.profit.max()]\n",
    "answers['6'] = max_profit.iloc[0]['original_title']\n",
    "answers['6']\n"
   ]
  },
  {
   "cell_type": "markdown",
   "metadata": {
    "colab_type": "text",
    "id": "M99JmIX4Vp-2"
   },
   "source": [
    "# 7. Какой фильм самый убыточный? "
   ]
  },
  {
   "cell_type": "code",
   "execution_count": 171,
   "metadata": {
    "colab": {},
    "colab_type": "code",
    "id": "w-D2m4XPVp-3"
   },
   "outputs": [
    {
     "data": {
      "text/plain": [
       "'The Lone Ranger'"
      ]
     },
     "execution_count": 171,
     "metadata": {},
     "output_type": "execute_result"
    }
   ],
   "source": [
    "max_profit = data[data.profit == data.profit.min()]\n",
    "answers['7'] = max_profit.iloc[0]['original_title']\n",
    "answers['7']\n"
   ]
  },
  {
   "cell_type": "markdown",
   "metadata": {
    "colab_type": "text",
    "id": "wEOM5ERVVp-6"
   },
   "source": [
    "# 8. У скольких фильмов из датасета объем сборов оказался выше бюджета?"
   ]
  },
  {
   "cell_type": "code",
   "execution_count": 172,
   "metadata": {
    "colab": {},
    "colab_type": "code",
    "id": "y00_7HD6Vp-7"
   },
   "outputs": [
    {
     "data": {
      "text/plain": [
       "1478"
      ]
     },
     "execution_count": 172,
     "metadata": {},
     "output_type": "execute_result"
    }
   ],
   "source": [
    "answers['8'] = len(data[data.profit > 0])\n",
    "answers['8']\n"
   ]
  },
  {
   "cell_type": "markdown",
   "metadata": {
    "colab_type": "text",
    "id": "xhpspA9KVp_A"
   },
   "source": [
    "# 9. Какой фильм оказался самым кассовым в 2008 году?"
   ]
  },
  {
   "cell_type": "code",
   "execution_count": 173,
   "metadata": {
    "colab": {},
    "colab_type": "code",
    "id": "MoUyQr9RVp_B"
   },
   "outputs": [
    {
     "data": {
      "text/plain": [
       "'The Dark Knight'"
      ]
     },
     "execution_count": 173,
     "metadata": {},
     "output_type": "execute_result"
    }
   ],
   "source": [
    "movies_2008 = data.query('release_year == 2008')\n",
    "max_cash_2008 = movies_2008[movies_2008.revenue == movies_2008.revenue.max()]\n",
    "answers['9'] =  max_cash_2008.iloc[0]['original_title']\n",
    "answers['9']\n"
   ]
  },
  {
   "cell_type": "markdown",
   "metadata": {
    "colab_type": "text",
    "id": "Zi4hDKidVp_F"
   },
   "source": [
    "# 10. Самый убыточный фильм за период с 2012 по 2014 г. (включительно)?\n"
   ]
  },
  {
   "cell_type": "code",
   "execution_count": 174,
   "metadata": {
    "colab": {},
    "colab_type": "code",
    "id": "XqyRmufJVp_F"
   },
   "outputs": [
    {
     "data": {
      "text/plain": [
       "'The Lone Ranger'"
      ]
     },
     "execution_count": 174,
     "metadata": {},
     "output_type": "execute_result"
    }
   ],
   "source": [
    "movies = data.query('2012 <= release_year <= 2014')\n",
    "answers['10'] = movies.sort_values(by='profit').iloc[0]['original_title']\n",
    "answers['10']\n"
   ]
  },
  {
   "cell_type": "markdown",
   "metadata": {
    "colab_type": "text",
    "id": "EA7Sa9dkVp_I"
   },
   "source": [
    "# 11. Какого жанра фильмов больше всего?"
   ]
  },
  {
   "cell_type": "code",
   "execution_count": 206,
   "metadata": {
    "colab": {},
    "colab_type": "code",
    "id": "zsJAwJ8QVp_J"
   },
   "outputs": [
    {
     "name": "stdout",
     "output_type": "stream",
     "text": [
      "Drama\n"
     ]
    },
    {
     "data": {
      "text/plain": [
       "19"
      ]
     },
     "execution_count": 206,
     "metadata": {},
     "output_type": "execute_result"
    }
   ],
   "source": [
    "# эту задачу тоже можно решать разными подходами, попробуй реализовать разные варианты\n",
    "# если будешь добавлять функцию - выноси ее в предобработку что в начале\n",
    "#data[data.str.contains()]\n",
    "\n",
    "genres_list = [item.split('|') for item in data['genres']] #получим список жанров для каждого фильма (вложенный список)\n",
    "\n",
    "genres_count = collections.Counter()\n",
    "for movie in genres_list:\n",
    "    for genre in movie:\n",
    "        genres_count[genre] += 1 #посчитаем уникальные значения\n",
    "        \n",
    "most_common = genres_count.most_common(1)[0][0]\n",
    "print(most_common) #выводим наиболее частый элемент\n",
    "answers['11'] = most_common\n",
    "\n"
   ]
  },
  {
   "cell_type": "markdown",
   "metadata": {
    "colab_type": "text",
    "id": "Ax6g2C8SVp_M"
   },
   "source": []
  },
  {
   "cell_type": "code",
   "execution_count": 178,
   "metadata": {
    "colab": {},
    "colab_type": "code",
    "id": "otO3SbrSVp_N"
   },
   "outputs": [
    {
     "data": {
      "text/html": [
       "<div>\n",
       "<style scoped>\n",
       "    .dataframe tbody tr th:only-of-type {\n",
       "        vertical-align: middle;\n",
       "    }\n",
       "\n",
       "    .dataframe tbody tr th {\n",
       "        vertical-align: top;\n",
       "    }\n",
       "\n",
       "    .dataframe thead th {\n",
       "        text-align: right;\n",
       "    }\n",
       "</style>\n",
       "<table border=\"1\" class=\"dataframe\">\n",
       "  <thead>\n",
       "    <tr style=\"text-align: right;\">\n",
       "      <th></th>\n",
       "    </tr>\n",
       "  </thead>\n",
       "  <tbody>\n",
       "  </tbody>\n",
       "</table>\n",
       "</div>"
      ],
      "text/plain": [
       "Empty DataFrame\n",
       "Columns: []\n",
       "Index: []"
      ]
     },
     "execution_count": 178,
     "metadata": {},
     "output_type": "execute_result"
    }
   ],
   "source": []
  },
  {
   "cell_type": "markdown",
   "metadata": {
    "colab_type": "text",
    "id": "T9_bPWpkVp_Q"
   },
   "source": [
    "# 12. Фильмы какого жанра чаще всего становятся прибыльными? "
   ]
  },
  {
   "cell_type": "code",
   "execution_count": 182,
   "metadata": {
    "colab": {},
    "colab_type": "code",
    "id": "Tmt8MaK1Vp_R"
   },
   "outputs": [
    {
     "data": {
      "text/plain": [
       "array(['Action|Adventure|Science Fiction|Thriller',\n",
       "       'Adventure|Science Fiction|Thriller',\n",
       "       'Action|Adventure|Science Fiction|Fantasy',\n",
       "       'Action|Crime|Thriller', 'Western|Drama|Adventure|Thriller',\n",
       "       'Science Fiction|Action|Thriller|Adventure',\n",
       "       'Drama|Adventure|Science Fiction',\n",
       "       'Family|Animation|Adventure|Comedy', 'Comedy|Animation|Family',\n",
       "       'Action|Adventure|Crime',\n",
       "       'Science Fiction|Fantasy|Action|Adventure',\n",
       "       'Drama|Science Fiction', 'Action|Comedy|Science Fiction',\n",
       "       'Action|Adventure|Science Fiction', 'Crime|Drama|Mystery|Western',\n",
       "       'Crime|Action|Thriller', 'Science Fiction|Action|Adventure',\n",
       "       'Romance|Fantasy|Family|Drama', 'War|Adventure|Science Fiction',\n",
       "       'Action|Family|Science Fiction|Adventure|Mystery', 'Action|Drama',\n",
       "       'Action|Drama|Thriller', 'Drama|Romance', 'Comedy|Drama', 'Action',\n",
       "       'Comedy', 'Crime|Comedy|Action|Adventure',\n",
       "       'Drama|Thriller|History', 'Action|Science Fiction|Thriller',\n",
       "       'Crime|Action|Science Fiction', 'Comedy|Music', 'Thriller|Drama',\n",
       "       'Adventure|Horror|Comedy', 'Drama|Thriller',\n",
       "       'Adventure|Animation|Comedy|Family|Fantasy',\n",
       "       'Action|Crime|Drama|Mystery|Thriller', 'Drama|Music',\n",
       "       'Fantasy|Action|Adventure', 'Comedy|Action|Adventure',\n",
       "       'Fantasy|Drama|Romance',\n",
       "       'Fantasy|Comedy|Animation|Science Fiction|Family',\n",
       "       'Drama|Mystery|Romance', 'Romance|Drama', 'Adventure|Drama',\n",
       "       'Drama', 'Science Fiction|Mystery|Thriller', 'Comedy|Adventure',\n",
       "       'Mystery|Crime|Action|Thriller|Drama', 'Action|Comedy|Crime',\n",
       "       'Romance|Comedy|Crime|Drama',\n",
       "       'Thriller|Drama|Adventure|Action|History', 'Drama|Thriller|War',\n",
       "       'Crime|Thriller', 'Adventure|Family|Fantasy',\n",
       "       'Adventure|Animation|Comedy|Family', 'Animation|Comedy|Family',\n",
       "       'Family|Comedy', 'Adventure|Drama|Thriller', 'Adventure|Comedy',\n",
       "       'Horror|Thriller', 'Thriller|Mystery',\n",
       "       'Adventure|Animation|Fantasy', 'Romance|Comedy', 'Horror',\n",
       "       'Action|Adventure|Comedy|Family', 'Crime|Drama',\n",
       "       'Horror|Comedy|Fantasy', 'Action|Thriller',\n",
       "       'Science Fiction|Thriller', 'Thriller|Action|Crime',\n",
       "       'Mystery|Thriller|Fantasy|Horror|Drama', 'Comedy|Drama|Music',\n",
       "       'Crime|Drama|Mystery', 'Family|Animation',\n",
       "       'Adventure|Drama|Family', 'Action|Drama|Crime',\n",
       "       'Action|Crime|Comedy', 'Drama|Horror|Thriller',\n",
       "       'Drama|Science Fiction|Thriller', 'Drama|Comedy', 'Drama|History',\n",
       "       'Drama|Music|Romance', 'Comedy|Drama|War',\n",
       "       'Adventure|Comedy|Romance', 'Comedy|Music|War',\n",
       "       'Drama|Adventure|Comedy', 'Drama|Music|Adventure|Fantasy',\n",
       "       'Adventure|Drama|Science Fiction',\n",
       "       'Action|Science Fiction|Adventure',\n",
       "       'Science Fiction|Adventure|Thriller', 'Adventure|Fantasy',\n",
       "       'Adventure|Family|Animation|Action|Comedy',\n",
       "       'History|Drama|Thriller|War',\n",
       "       'Action|Mystery|Science Fiction|Thriller',\n",
       "       'Mystery|Thriller|Drama', 'War|Drama|Action',\n",
       "       'Adventure|Comedy|Fantasy|Family',\n",
       "       'Action|Adventure|Fantasy|Science Fiction',\n",
       "       'Action|Science Fiction',\n",
       "       'Science Fiction|Action|Adventure|Fantasy|Comedy',\n",
       "       'Crime|Drama|Thriller', 'Science Fiction|Action|Drama|Thriller',\n",
       "       'Action|Adventure|Fantasy', 'Action|Comedy', 'War|Action',\n",
       "       'Adventure|Drama|Action',\n",
       "       'Fantasy|Adventure|Action|Family|Romance',\n",
       "       'Fantasy|Action|Adventure|Animation|Comedy',\n",
       "       'Action|Adventure|Thriller',\n",
       "       'Adventure|Fantasy|Animation|Comedy|Action',\n",
       "       'Horror|Action|Drama|Fantasy|War', 'Fantasy|Comedy|Music',\n",
       "       'Action|War', 'Crime|Comedy|Action',\n",
       "       'Crime|Drama|Mystery|Thriller', 'Thriller|Action|Science Fiction',\n",
       "       'Action|Thriller|Crime|Drama', 'Action|Adventure',\n",
       "       'Drama|Adventure', 'Romance|Drama|Music',\n",
       "       'Comedy|Romance|Crime|Drama|Mystery', 'Action|Thriller|Mystery',\n",
       "       'Science Fiction|Action', 'Thriller|Science Fiction|Drama|Mystery',\n",
       "       'Comedy|Romance', 'Animation|Adventure|Family',\n",
       "       'Animation|Adventure|Comedy|Family', 'War|Drama|History|Action',\n",
       "       'Drama|War', 'History|Drama',\n",
       "       'Action|Adventure|History|Romance|Drama',\n",
       "       'Music|Comedy|Drama|Family', 'Action|Crime|Drama|Thriller',\n",
       "       'Animation|Comedy|Family|Fantasy', 'Thriller|Action',\n",
       "       'Animation|Comedy|Adventure|Family', 'Action|Drama|Thriller|Crime',\n",
       "       'Thriller', 'Drama|Romance|War', 'Action|Crime|Drama',\n",
       "       'Drama|Fantasy|Mystery|Romance', 'Mystery|Thriller|Action',\n",
       "       'War|Drama', 'Thriller|Science Fiction|Drama',\n",
       "       'Comedy|Drama|Crime', 'Thriller|Crime|Drama|Mystery',\n",
       "       'Family|Drama', 'Comedy|Adventure|Crime|Family',\n",
       "       'Family|Adventure|Science Fiction', 'Thriller|Crime|Drama',\n",
       "       'Drama|Action|Thriller|War',\n",
       "       'Fantasy|Action|Adventure|Science Fiction|Thriller',\n",
       "       'Adventure|Fantasy|Family', 'Animation|Comedy|Family|Adventure',\n",
       "       'Drama|Action|Thriller|Science Fiction',\n",
       "       'Action|Thriller|Science Fiction',\n",
       "       'Adventure|Drama|Action|Comedy|Thriller', 'Comedy|Drama|Romance',\n",
       "       'Action|Mystery|Science Fiction',\n",
       "       'Action|Adventure|Animation|Science Fiction|Thriller',\n",
       "       'Romance|Family|Animation|Music', 'Comedy|Horror',\n",
       "       'Adventure|Fantasy|Drama|Romance', 'Comedy|Romance|Drama',\n",
       "       'Adventure|Action|Thriller|Science Fiction', 'Animation|Family',\n",
       "       'Adventure|Fantasy|Action|Comedy|Family', 'Animation|Drama',\n",
       "       'Fantasy|Drama', 'Drama|Family', 'Drama|Crime|Thriller',\n",
       "       'Thriller|Science Fiction', 'Action|Thriller|Crime',\n",
       "       'Action|Horror|Mystery|Science Fiction|Thriller',\n",
       "       'Action|Adventure|Drama|Mystery|Science Fiction',\n",
       "       'Science Fiction|Drama', 'Fantasy|Action|Adventure|Family|Comedy',\n",
       "       'Thriller|Drama|Crime', 'Comedy|Romance|Fantasy',\n",
       "       'Science Fiction|Drama|Romance|Fantasy',\n",
       "       'Animation|Family|Adventure|Science Fiction',\n",
       "       'Drama|Thriller|Mystery', 'History|Crime|Drama',\n",
       "       'Horror|Thriller|Mystery', 'Horror|Mystery',\n",
       "       'Comedy|Family|Animation|Fantasy|Music',\n",
       "       'Comedy|Crime|Drama|Thriller',\n",
       "       'Adventure|Family|Fantasy|Science Fiction|Thriller',\n",
       "       'Horror|Mystery|Thriller',\n",
       "       'Fantasy|Horror|Action|Thriller|Science Fiction',\n",
       "       'Drama|History|Romance', 'Thriller|Mystery|Adventure',\n",
       "       'Action|Crime|Mystery|Thriller', 'Action|Adventure|Drama|Thriller',\n",
       "       'Drama|Comedy|Romance', 'Comedy|War', 'Comedy|Drama|Family|Music',\n",
       "       'Adventure|Comedy|Science Fiction',\n",
       "       'Science Fiction|Animation|Family|Comedy|Adventure',\n",
       "       'Mystery|Horror', 'Comedy|Family', 'Adventure|Drama|History',\n",
       "       'Drama|Crime', 'Adventure|Fantasy|Action|Thriller',\n",
       "       'Animation|Action|Family|Science Fiction', 'Drama|Thriller|Crime',\n",
       "       'Documentary', 'Comedy|Drama|Family|Music|Romance',\n",
       "       'Adventure|Comedy|Family|Fantasy|Science Fiction',\n",
       "       'Thriller|Crime|Drama|Action',\n",
       "       'Adventure|Fantasy|Action|Science Fiction',\n",
       "       'Action|Thriller|Science Fiction|Mystery|Adventure',\n",
       "       'Adventure|Action|Science Fiction', 'Family|Fantasy|Adventure',\n",
       "       'Drama|Mystery|Thriller', 'Action|Animation|Family',\n",
       "       'Fantasy|Adventure|Animation|Family', 'Animation|Family|Comedy',\n",
       "       'Action|Thriller|Crime|Mystery', 'Action|Crime',\n",
       "       'Action|Thriller|Romance', 'Adventure|Fantasy|Action|Romance',\n",
       "       'Drama|Adventure|Western', 'Adventure|Fantasy|Action',\n",
       "       'Fantasy|Adventure|Action|Comedy|Drama', 'Action|Adventure|Comedy',\n",
       "       'Action|Science Fiction|Adventure|Thriller',\n",
       "       'Comedy|Adventure|Fantasy|Animation|Family',\n",
       "       'Thriller|Action|Adventure|Comedy|Crime',\n",
       "       'Action|Adventure|Comedy|Crime|Thriller', 'Action|Comedy|Thriller',\n",
       "       'Animation|Action|Comedy|Family|Science Fiction',\n",
       "       'Action|Adventure|Family|Fantasy', 'Drama|Adventure|History',\n",
       "       'Action|Science Fiction|Thriller|Crime', 'Fantasy|Horror|Thriller',\n",
       "       'Horror|Crime', 'Action|Adventure|Drama|Family',\n",
       "       'Romance|Drama|Thriller|Crime',\n",
       "       'Action|Western|Drama|Fantasy|Thriller', 'Horror|Comedy',\n",
       "       'Action|Comedy|Thriller|Romance', 'Fantasy|Comedy',\n",
       "       'Science Fiction|Comedy|Adventure', 'Drama|Horror|Mystery',\n",
       "       'Animation|Adventure|Family|Fantasy',\n",
       "       'Drama|Romance|Science Fiction', 'Drama|Action|Thriller',\n",
       "       'Comedy|Family|Fantasy', 'Science Fiction', 'Action|Comedy|Family',\n",
       "       'Drama|Fantasy', 'Drama|Horror|Mystery|Thriller',\n",
       "       'Crime|Drama|History', 'Mystery|Horror|Action',\n",
       "       'Comedy|Family|Animation|Adventure', 'Action|Adventure|Drama',\n",
       "       'Action|Comedy|Horror|Mystery|Science Fiction', 'Comedy|Thriller',\n",
       "       'Action|Adventure|Horror|Science Fiction',\n",
       "       'Drama|Comedy|Romance|Foreign', 'Thriller|Drama|Mystery',\n",
       "       'Fantasy|Animation|Family|Comedy',\n",
       "       'Drama|Science Fiction|Adventure', 'Thriller|Crime',\n",
       "       'History|Romance|War', 'Action|Adventure|Drama|Fantasy|Horror',\n",
       "       'Comedy|Family|Romance',\n",
       "       'Thriller|Science Fiction|Action|Adventure', 'War',\n",
       "       'Action|History|War', 'Adventure|Drama|Romance|Action',\n",
       "       'Action|Comedy|Crime|Thriller', 'Horror|Drama|Mystery|Thriller',\n",
       "       'Adventure|Fantasy|Animation|Action|Comedy',\n",
       "       'Drama|Mystery|Romance|Science Fiction|Thriller',\n",
       "       'Adventure|Action|Animation|Fantasy|Science Fiction',\n",
       "       'Drama|Thriller|Mystery|Romance', 'Comedy|Family|Romance|Fantasy',\n",
       "       'Action|Drama|Thriller|War', 'Crime|Mystery|Thriller|Action',\n",
       "       'Horror|Science Fiction', 'Action|Comedy|Crime|Romance',\n",
       "       'Music|Drama|Comedy', 'Drama|Romance|Thriller', 'Drama|Mystery',\n",
       "       'Mystery|Adventure|Comedy|Romance|Drama',\n",
       "       'Action|Adventure|Comedy|Thriller|Crime',\n",
       "       'Action|Horror|Science Fiction', 'Comedy|Romance|Crime',\n",
       "       'Adventure|Animation|Action|Comedy|Family',\n",
       "       'Drama|Family|Romance|Music', 'Action|Comedy|Family|Adventure',\n",
       "       'Action|Western', 'Crime|Drama|Thriller|Horror',\n",
       "       'Mystery|Thriller|Crime', 'Comedy|Family|Fantasy|Science Fiction',\n",
       "       'Crime|Comedy', 'Action|Horror|Thriller', 'Drama|Comedy|Crime',\n",
       "       'Drama|Action|Crime|Thriller', 'Adventure|Action',\n",
       "       'Adventure|Action|Thriller|Crime',\n",
       "       'Fantasy|Drama|Thriller|Mystery|Romance',\n",
       "       'Adventure|Fantasy|Science Fiction',\n",
       "       'Action|Science Fiction|Adventure|Comedy|Family',\n",
       "       'Action|Adventure|Thriller|Crime', 'Drama|Thriller|History|War',\n",
       "       'Adventure|Action|Drama|Fantasy', 'Fantasy|Action',\n",
       "       'Music|Drama|Romance', 'Animation|Family|Adventure|Comedy',\n",
       "       'Drama|Action', 'Fantasy|Comedy|Family|Romance',\n",
       "       'Drama|Action|Thriller|Crime', 'Comedy|Drama|Music|Romance',\n",
       "       'Horror|Thriller|Crime', 'Family|Action|Science Fiction',\n",
       "       'Animation|Comedy|Family|Adventure|Fantasy',\n",
       "       'Action|Adventure|Crime|Drama|Thriller', 'Thriller|Crime|Mystery',\n",
       "       'Comedy|Action', 'Action|Drama|History|War',\n",
       "       'Thriller|Horror|Mystery', 'Fantasy|Action|Science Fiction',\n",
       "       'Drama|Mystery|Science Fiction|Thriller',\n",
       "       'Drama|Thriller|Crime|Mystery',\n",
       "       'Action|Comedy|Thriller|Crime|Science Fiction',\n",
       "       'Adventure|Fantasy|Drama|Science Fiction|Romance',\n",
       "       'Adventure|Comedy|Family', 'Adventure|Comedy|Drama|Romance',\n",
       "       'Comedy|Science Fiction|Adventure|Family',\n",
       "       'Horror|Science Fiction|Thriller',\n",
       "       'Mystery|Drama|Crime|Thriller|Horror',\n",
       "       'Adventure|Comedy|Family|Fantasy', 'Adventure|Action|Fantasy',\n",
       "       'Thriller|Action|Drama|Science Fiction',\n",
       "       'Fantasy|Thriller|Action|Crime',\n",
       "       'Thriller|Science Fiction|Mystery', 'Action|Thriller|Adventure',\n",
       "       'Thriller|Crime|Mystery|Drama', 'Thriller|Mystery|Science Fiction',\n",
       "       'Comedy|Crime', 'Action|Science Fiction|Drama',\n",
       "       'Adventure|Action|Crime|Mystery',\n",
       "       'Adventure|Animation|Action|Family|Mystery',\n",
       "       'Action|Fantasy|Thriller', 'Adventure|Fantasy|Romance',\n",
       "       'Action|Thriller|Science Fiction|Adventure',\n",
       "       'Comedy|Romance|Family', 'Action|Science Fiction|Thriller|Western',\n",
       "       'Animation|Comedy|Family|Western|Adventure',\n",
       "       'Drama|Thriller|Horror', 'Adventure|Action|Thriller|Comedy',\n",
       "       'Action|Fantasy|Horror|Science Fiction|Thriller',\n",
       "       'Thriller|Action|Mystery', 'Action|Mystery|Thriller',\n",
       "       'Thriller|Romance|Fantasy', 'Fantasy|Action|Drama',\n",
       "       'Drama|Comedy|Family', 'Horror|Action|Thriller|Science Fiction',\n",
       "       'Thriller|Drama|Horror',\n",
       "       'Action|Adventure|Animation|Family|Fantasy',\n",
       "       'Crime|Adventure|Action|Comedy|Thriller',\n",
       "       'Drama|Thriller|Science Fiction', 'Drama|Fantasy|Romance',\n",
       "       'Horror|Science Fiction|Mystery|Thriller',\n",
       "       'Adventure|Fantasy|Action|Comedy',\n",
       "       'Horror|Thriller|Science Fiction', 'Music|Family|Animation|Comedy',\n",
       "       'Adventure|Animation|Family',\n",
       "       'Comedy|Fantasy|Family|Music|Animation',\n",
       "       'Animation|Family|Adventure|Comedy|Fantasy', 'Animation',\n",
       "       'Action|Comedy|Thriller|Crime', 'Comedy|Family|Music',\n",
       "       'Drama|Crime|History', 'Action|Comedy|Adventure',\n",
       "       'Drama|Action|Thriller|Crime|War',\n",
       "       'Drama|Thriller|Science Fiction|Mystery',\n",
       "       'Documentary|Music|Family', 'Action|Drama|Mystery|Thriller',\n",
       "       'Horror|Action|Science Fiction',\n",
       "       'Action|Adventure|Comedy|Science Fiction',\n",
       "       'Action|Thriller|Science Fiction|Mystery',\n",
       "       'Adventure|Animation|Family|Fantasy|Science Fiction',\n",
       "       'Adventure|Action|Thriller',\n",
       "       'Science Fiction|Horror|Action|Thriller', 'Drama|History|Crime',\n",
       "       'Family|Adventure|Animation|Comedy', 'Drama|Family|Romance',\n",
       "       'Action|Thriller|Drama',\n",
       "       'Science Fiction|Action|Adventure|Thriller',\n",
       "       'Science Fiction|Comedy|Crime|Action', 'Fantasy|Comedy|Family',\n",
       "       'Crime|Mystery|Thriller', 'Mystery|Adventure|Comedy',\n",
       "       'Western|Animation|Adventure|Comedy|Family',\n",
       "       'Action|Fantasy|Adventure', 'Action|Adventure|Comedy|Thriller',\n",
       "       'Comedy|Crime|Drama', 'Science Fiction|Adventure|Action',\n",
       "       'Drama|Action|History|War', 'Action|Adventure|Crime|Thriller',\n",
       "       'Thriller|Drama|History', 'Drama|Fantasy|Horror',\n",
       "       'Adventure|Fantasy|Animation|Family',\n",
       "       'Action|Comedy|Crime|Drama|Music', 'Thriller|Crime|Romance',\n",
       "       'Action|Fantasy|Science Fiction|Thriller',\n",
       "       'Drama|Mystery|Thriller|Crime', 'Adventure',\n",
       "       'Drama|Science Fiction|Mystery|Romance',\n",
       "       'War|Adventure|Drama|Romance', 'Drama|Mystery|Thriller|Horror',\n",
       "       'Comedy|Crime|Drama|Romance|Thriller',\n",
       "       'Adventure|Family|Science Fiction|Thriller',\n",
       "       'Action|Adventure|Comedy|Drama|Family', 'Crime|Thriller|Horror',\n",
       "       'Drama|Romance|Comedy|Music', 'Fantasy|Action|Horror',\n",
       "       'Drama|Western', 'Science Fiction|Adventure|Mystery',\n",
       "       'Animation|Adventure|Comedy|Family|Action',\n",
       "       'Adventure|Fantasy|Drama', 'Comedy|Fantasy',\n",
       "       'Family|Animation|Comedy|Adventure', 'Comedy|Music|Romance',\n",
       "       'Science Fiction|Adventure|Fantasy', 'Fantasy|Animation|Family',\n",
       "       'Action|Horror|Fantasy', 'Romance|Science Fiction|Drama|Fantasy',\n",
       "       'Thriller|Action|Adventure|Science Fiction',\n",
       "       'Adventure|Fantasy|Drama|Comedy|Science Fiction',\n",
       "       'Science Fiction|Drama|Thriller', 'Action|Thriller|War',\n",
       "       'Romance|Comedy|Drama', 'Thriller|Action|Drama|Crime',\n",
       "       'Animation|Adventure|Family|Comedy', 'Comedy|Crime|Thriller',\n",
       "       'Adventure|Drama|Romance', 'Horror|Thriller|Comedy',\n",
       "       'War|Action|Thriller|Science Fiction',\n",
       "       'Action|Comedy|Thriller|Crime|Romance',\n",
       "       'Drama|Action|Adventure|History|War', 'Documentary|Music',\n",
       "       'Fantasy|Action|Thriller', 'Romance|Comedy|Family|Fantasy',\n",
       "       'Fantasy|Action|Crime|Science Fiction|Thriller',\n",
       "       'Fantasy|Action|Thriller|Science Fiction',\n",
       "       'Family|Animation|Adventure', 'Adventure|Action|Comedy', 'Music',\n",
       "       'Drama|Action|War|History',\n",
       "       'Adventure|Action|Comedy|Thriller|Crime',\n",
       "       'Action|Adventure|Fantasy|Thriller', 'Mystery|Thriller',\n",
       "       'Action|Thriller|Adventure|Science Fiction',\n",
       "       'Action|Adventure|Comedy|Western', 'Action|Drama|War',\n",
       "       'Action|Adventure|Mystery|Science Fiction|Thriller',\n",
       "       'Action|Adventure|Comedy|Crime',\n",
       "       'Thriller|Fantasy|Comedy|Family|Mystery', 'Comedy|Drama|Family',\n",
       "       'Action|Drama|Mystery|Thriller|Crime',\n",
       "       'Adventure|Action|Comedy|Thriller', 'Western',\n",
       "       'Comedy|Adventure|Family', 'Drama|Horror|Science Fiction|Thriller',\n",
       "       'Action|Adventure|Comedy|Family|Science Fiction',\n",
       "       'Action|Comedy|Romance|Thriller',\n",
       "       'Drama|Fantasy|Horror|Mystery|Romance', 'Crime|Comedy|Romance',\n",
       "       'Drama|History|War', 'Horror|Action|Thriller',\n",
       "       'Drama|Thriller|Crime|Romance', 'Family|Documentary',\n",
       "       'Adventure|Action|Science Fiction|Thriller',\n",
       "       'Science Fiction|Thriller|Drama',\n",
       "       'Science Fiction|Thriller|Action|Adventure', 'Crime|Drama|Comedy',\n",
       "       'Action|Science Fiction|Adventure|Mystery',\n",
       "       'Romance|Science Fiction|Drama', 'Science Fiction|Action|Thriller',\n",
       "       'Action|Drama|Horror|Science Fiction|Thriller',\n",
       "       'Adventure|Comedy|Drama|Fantasy',\n",
       "       'Action|Crime|Drama|Comedy|Thriller', 'Horror|Comedy|Romance',\n",
       "       'Fantasy|Horror|Action', 'Action|Adventure|Drama|Mystery|Romance',\n",
       "       'Fantasy|Action|Comedy|Crime', 'Drama|Horror',\n",
       "       'Comedy|Music|Romance|Drama', 'Action|Family|Fantasy',\n",
       "       'Crime|Thriller|Drama', 'Comedy|Drama|History',\n",
       "       'Action|Adventure|Western', 'Crime|Drama|Action|Thriller',\n",
       "       'Fantasy|Adventure|Family', 'Thriller|Crime|Action',\n",
       "       'Action|Adventure|Romance|Science Fiction|Thriller',\n",
       "       'Drama|Thriller|Mystery|Action',\n",
       "       'Animation|Comedy|Adventure|Family|Science Fiction', 'Romance',\n",
       "       'Drama|Romance|Crime|Mystery', 'Animation|Family|Adventure',\n",
       "       'Fantasy|Family|Comedy|Animation',\n",
       "       'Action|Science Fiction|Adventure|Fantasy', 'Music|Drama',\n",
       "       'Animation|Music|Family', 'Action|Thriller|Fantasy',\n",
       "       'Adventure|Comedy|Family|Science Fiction',\n",
       "       'Action|Comedy|Drama|Family|Thriller',\n",
       "       'Adventure|Thriller|Science Fiction',\n",
       "       'Action|Thriller|Adventure|Crime',\n",
       "       'Animation|Comedy|Family|Science Fiction',\n",
       "       'Action|Crime|Adventure', 'Action|Comedy|Drama|Thriller',\n",
       "       'Action|Adventure|Drama|Western',\n",
       "       'Romance|Fantasy|Animation|Music',\n",
       "       'Drama|Mystery|Thriller|Fantasy', 'Comedy|Fantasy|Romance',\n",
       "       'Comedy|Family|Adventure|Fantasy|Romance', 'Romance|Drama|History',\n",
       "       'Action|Adventure|Science Fiction|Thriller|Horror',\n",
       "       'Adventure|Fantasy|Action|Comedy|Thriller',\n",
       "       'Mystery|Drama|Thriller|Crime', 'Drama|Action|History|Thriller',\n",
       "       'Crime|Drama|Horror|Thriller', 'Horror|Thriller|Drama',\n",
       "       'Comedy|Drama|Mystery|Romance', 'Romance|Comedy|Family',\n",
       "       'Comedy|Family|Adventure|Romance',\n",
       "       'Thriller|Science Fiction|Adventure|Action',\n",
       "       'Action|Adventure|Fantasy|Horror',\n",
       "       'Action|Adventure|Comedy|Drama|Mystery',\n",
       "       'Action|Comedy|Crime|Drama|Thriller',\n",
       "       'Action|Adventure|Drama|History|War',\n",
       "       'Adventure|Fantasy|Action|Family',\n",
       "       'Adventure|Crime|Drama|Mystery|Western',\n",
       "       'Action|Fantasy|Horror|Thriller', 'Thriller|Horror|Drama|Mystery',\n",
       "       'Action|Adventure|Horror|Thriller',\n",
       "       'Fantasy|Action|Science Fiction|Thriller',\n",
       "       'Music|Drama|Romance|Crime', 'Animation|Family|Comedy|Adventure',\n",
       "       'Action|Adventure|Comedy|Family|Fantasy',\n",
       "       'Comedy|Drama|Fantasy|Romance', 'Crime|Fantasy|Drama',\n",
       "       'Drama|Thriller|Action', 'Comedy|Drama|Family|Romance',\n",
       "       'Drama|Adventure|Science Fiction|Romance',\n",
       "       'Music|Animation|Comedy|Family', 'Fantasy|Action|Adventure|Family',\n",
       "       'Romance|Drama|Mystery', 'Thriller|Action|Adventure|Drama',\n",
       "       'Fantasy|Adventure|Animation|Comedy|Family',\n",
       "       'Comedy|Drama|Family|Fantasy|Romance', 'War|Drama|History',\n",
       "       'Comedy|Family|Adventure', 'Fantasy|Drama|Thriller|Romance',\n",
       "       'Adventure|Action|Drama|Thriller', 'Action|Adventure|Drama|War',\n",
       "       'Animation|Science Fiction|Thriller', 'Drama|History|Thriller',\n",
       "       'Horror|Action|Crime|Thriller', 'Action|Comedy|Documentary',\n",
       "       'Adventure|Action|Family', 'Fantasy|Romance|Family|Comedy',\n",
       "       'Adventure|Drama|War', 'Adventure|Comedy|Drama',\n",
       "       'Drama|History|Crime|Thriller|Action',\n",
       "       'War|Crime|Drama|Mystery|Romance',\n",
       "       'Action|Adventure|Drama|History|Romance',\n",
       "       'Comedy|Drama|Romance|Thriller',\n",
       "       'Action|Adventure|Fantasy|Horror|Science Fiction',\n",
       "       'Drama|Thriller|Fantasy|Mystery', 'Action|Adventure|Crime|Drama',\n",
       "       'Science Fiction|Drama|Romance',\n",
       "       'Action|Adventure|Animation|Family|Science Fiction',\n",
       "       'War|Adventure|Drama', 'Adventure|Action|Thriller|Mystery',\n",
       "       'Horror|Adventure|Action',\n",
       "       'Science Fiction|Action|Horror|Thriller|Adventure',\n",
       "       'Adventure|Fantasy|Comedy|Family',\n",
       "       'Animation|Action|Comedy|Family',\n",
       "       'Mystery|Action|Thriller|Science Fiction|Adventure',\n",
       "       'Adventure|Science Fiction|Action',\n",
       "       'War|History|Action|Adventure|Drama', 'Adventure|War|History',\n",
       "       'Western|History|War', 'Comedy|Drama|Horror',\n",
       "       'Thriller|Action|Comedy|Crime', 'Drama|Romance|Comedy',\n",
       "       'Western|Animation|Family|Comedy|Music', 'Western|Adventure',\n",
       "       'Music|Adventure|Animation|Action|Comedy',\n",
       "       'Music|Comedy|Family|Romance', 'Comedy|Thriller|Crime',\n",
       "       'Thriller|Drama|Romance', 'Drama|Mystery|Romance|Thriller',\n",
       "       'Crime|Drama|Horror|Mystery|Science Fiction',\n",
       "       'Mystery|Action|Drama|Thriller|Crime',\n",
       "       'Adventure|Fantasy|Family|Mystery',\n",
       "       'Drama|Horror|Action|Thriller|Science Fiction',\n",
       "       'Action|Adventure|Mystery|Thriller',\n",
       "       'Science Fiction|Horror|Thriller',\n",
       "       'Adventure|Fantasy|Romance|Family', 'Action|Adventure|War',\n",
       "       'Thriller|Action|Fantasy|Horror', 'Drama|Horror|Music',\n",
       "       'Comedy|Music|Family|Fantasy|Animation',\n",
       "       'Comedy|Family|Fantasy|Romance',\n",
       "       'Comedy|Adventure|Fantasy|Action|Science Fiction',\n",
       "       'Thriller|Action|Drama', 'Drama|Crime|Mystery|Thriller',\n",
       "       'Action|Adventure|Drama|History', 'Fantasy|Drama|Mystery',\n",
       "       'Action|Comedy|Drama', 'Action|Thriller|Comedy|Crime',\n",
       "       'Animation|Fantasy', 'Thriller|Action|Horror',\n",
       "       'Comedy|Drama|Adventure', 'Action|Horror|Crime',\n",
       "       'Crime|Horror|Mystery|Thriller', 'Action|Drama|Western',\n",
       "       'History|Drama|Thriller|Crime|Mystery',\n",
       "       'Action|Adventure|Crime|Drama|Fantasy', 'Crime|Horror|Thriller',\n",
       "       'Drama|Mystery|Crime', 'Action|Adventure|Fantasy|War',\n",
       "       'Adventure|Action|Comedy|Romance', 'Action|History',\n",
       "       'Action|Drama|Adventure', 'Family|Comedy|Fantasy',\n",
       "       'Fantasy|Comedy|Romance', 'Drama|History|War|Action',\n",
       "       'Drama|Comedy|Music', 'Thriller|Science Fiction|Action',\n",
       "       'Comedy|Crime|Action', 'Crime|Drama|Science Fiction|Thriller',\n",
       "       'Drama|Crime|Music', 'Horror|Drama|Thriller|Mystery',\n",
       "       'Comedy|Drama|Romance|Fantasy', 'Comedy|Drama|Romance|Music',\n",
       "       'Science Fiction|Comedy|Family|Romance',\n",
       "       'Drama|Adventure|Romance|Thriller',\n",
       "       'Animation|Action|Science Fiction|Family|Adventure',\n",
       "       'Fantasy|Comedy|Romance|Science Fiction',\n",
       "       'Action|Fantasy|Science Fiction', 'Action|Comedy|Drama|Romance',\n",
       "       'Horror|Family|Foreign'], dtype=object)"
      ]
     },
     "execution_count": 182,
     "metadata": {},
     "output_type": "execute_result"
    }
   ],
   "source": [
    "data['genres'].unique()"
   ]
  },
  {
   "cell_type": "markdown",
   "metadata": {
    "colab_type": "text",
    "id": "0F23bgsDVp_U"
   },
   "source": [
    "# 13. У какого режиссера самые большие суммарные кассовые сборы?"
   ]
  },
  {
   "cell_type": "code",
   "execution_count": 200,
   "metadata": {
    "colab": {},
    "colab_type": "code",
    "id": "K6Z3J8ygVp_X"
   },
   "outputs": [
    {
     "data": {
      "text/plain": [
       "'Peter Jackson'"
      ]
     },
     "execution_count": 200,
     "metadata": {},
     "output_type": "execute_result"
    }
   ],
   "source": [
    "directors = data.groupby('director')['revenue'].sum().sort_values(ascending=False)\n",
    "directors.index[0]\n",
    "answers['13'] = directors.index[0]\n"
   ]
  },
  {
   "cell_type": "markdown",
   "metadata": {
    "colab_type": "text",
    "id": "PsYC9FgRVp_a"
   },
   "source": [
    "# 14. Какой режисер снял больше всего фильмов в стиле Action?"
   ]
  },
  {
   "cell_type": "code",
   "execution_count": 252,
   "metadata": {
    "colab": {},
    "colab_type": "code",
    "id": "wd2M-wHeVp_b"
   },
   "outputs": [
    {
     "data": {
      "text/html": [
       "<div>\n",
       "<style scoped>\n",
       "    .dataframe tbody tr th:only-of-type {\n",
       "        vertical-align: middle;\n",
       "    }\n",
       "\n",
       "    .dataframe tbody tr th {\n",
       "        vertical-align: top;\n",
       "    }\n",
       "\n",
       "    .dataframe thead th {\n",
       "        text-align: right;\n",
       "    }\n",
       "</style>\n",
       "<table border=\"1\" class=\"dataframe\">\n",
       "  <thead>\n",
       "    <tr style=\"text-align: right;\">\n",
       "      <th>genres</th>\n",
       "      <th>Action</th>\n",
       "      <th>Action|Adventure</th>\n",
       "      <th>Action|Adventure|Animation|Family|Fantasy</th>\n",
       "      <th>Action|Adventure|Animation|Family|Science Fiction</th>\n",
       "      <th>Action|Adventure|Animation|Science Fiction|Thriller</th>\n",
       "      <th>Action|Adventure|Comedy</th>\n",
       "      <th>Action|Adventure|Comedy|Crime</th>\n",
       "      <th>Action|Adventure|Comedy|Crime|Thriller</th>\n",
       "      <th>Action|Adventure|Comedy|Drama|Family</th>\n",
       "      <th>Action|Adventure|Comedy|Drama|Mystery</th>\n",
       "      <th>...</th>\n",
       "      <th>Thriller|Crime|Drama|Action</th>\n",
       "      <th>Thriller|Drama|Adventure|Action|History</th>\n",
       "      <th>Thriller|Science Fiction|Action</th>\n",
       "      <th>Thriller|Science Fiction|Action|Adventure</th>\n",
       "      <th>Thriller|Science Fiction|Adventure|Action</th>\n",
       "      <th>War|Action</th>\n",
       "      <th>War|Action|Thriller|Science Fiction</th>\n",
       "      <th>War|Drama|Action</th>\n",
       "      <th>War|Drama|History|Action</th>\n",
       "      <th>War|History|Action|Adventure|Drama</th>\n",
       "    </tr>\n",
       "    <tr>\n",
       "      <th>director</th>\n",
       "      <th></th>\n",
       "      <th></th>\n",
       "      <th></th>\n",
       "      <th></th>\n",
       "      <th></th>\n",
       "      <th></th>\n",
       "      <th></th>\n",
       "      <th></th>\n",
       "      <th></th>\n",
       "      <th></th>\n",
       "      <th></th>\n",
       "      <th></th>\n",
       "      <th></th>\n",
       "      <th></th>\n",
       "      <th></th>\n",
       "      <th></th>\n",
       "      <th></th>\n",
       "      <th></th>\n",
       "      <th></th>\n",
       "      <th></th>\n",
       "      <th></th>\n",
       "    </tr>\n",
       "  </thead>\n",
       "  <tbody>\n",
       "    <tr>\n",
       "      <th>Adam McKay</th>\n",
       "      <td>NaN</td>\n",
       "      <td>NaN</td>\n",
       "      <td>NaN</td>\n",
       "      <td>NaN</td>\n",
       "      <td>NaN</td>\n",
       "      <td>NaN</td>\n",
       "      <td>NaN</td>\n",
       "      <td>NaN</td>\n",
       "      <td>NaN</td>\n",
       "      <td>NaN</td>\n",
       "      <td>...</td>\n",
       "      <td>NaN</td>\n",
       "      <td>NaN</td>\n",
       "      <td>NaN</td>\n",
       "      <td>NaN</td>\n",
       "      <td>NaN</td>\n",
       "      <td>NaN</td>\n",
       "      <td>NaN</td>\n",
       "      <td>NaN</td>\n",
       "      <td>NaN</td>\n",
       "      <td>NaN</td>\n",
       "    </tr>\n",
       "    <tr>\n",
       "      <th>Adam Shankman</th>\n",
       "      <td>NaN</td>\n",
       "      <td>NaN</td>\n",
       "      <td>NaN</td>\n",
       "      <td>NaN</td>\n",
       "      <td>NaN</td>\n",
       "      <td>NaN</td>\n",
       "      <td>NaN</td>\n",
       "      <td>NaN</td>\n",
       "      <td>NaN</td>\n",
       "      <td>NaN</td>\n",
       "      <td>...</td>\n",
       "      <td>NaN</td>\n",
       "      <td>NaN</td>\n",
       "      <td>NaN</td>\n",
       "      <td>NaN</td>\n",
       "      <td>NaN</td>\n",
       "      <td>NaN</td>\n",
       "      <td>NaN</td>\n",
       "      <td>NaN</td>\n",
       "      <td>NaN</td>\n",
       "      <td>NaN</td>\n",
       "    </tr>\n",
       "    <tr>\n",
       "      <th>Adam Wingard</th>\n",
       "      <td>NaN</td>\n",
       "      <td>NaN</td>\n",
       "      <td>NaN</td>\n",
       "      <td>NaN</td>\n",
       "      <td>NaN</td>\n",
       "      <td>NaN</td>\n",
       "      <td>NaN</td>\n",
       "      <td>NaN</td>\n",
       "      <td>NaN</td>\n",
       "      <td>NaN</td>\n",
       "      <td>...</td>\n",
       "      <td>NaN</td>\n",
       "      <td>NaN</td>\n",
       "      <td>NaN</td>\n",
       "      <td>NaN</td>\n",
       "      <td>NaN</td>\n",
       "      <td>NaN</td>\n",
       "      <td>NaN</td>\n",
       "      <td>NaN</td>\n",
       "      <td>NaN</td>\n",
       "      <td>NaN</td>\n",
       "    </tr>\n",
       "    <tr>\n",
       "      <th>Alan Taylor</th>\n",
       "      <td>NaN</td>\n",
       "      <td>NaN</td>\n",
       "      <td>NaN</td>\n",
       "      <td>NaN</td>\n",
       "      <td>NaN</td>\n",
       "      <td>NaN</td>\n",
       "      <td>NaN</td>\n",
       "      <td>NaN</td>\n",
       "      <td>NaN</td>\n",
       "      <td>NaN</td>\n",
       "      <td>...</td>\n",
       "      <td>NaN</td>\n",
       "      <td>NaN</td>\n",
       "      <td>NaN</td>\n",
       "      <td>NaN</td>\n",
       "      <td>NaN</td>\n",
       "      <td>NaN</td>\n",
       "      <td>NaN</td>\n",
       "      <td>NaN</td>\n",
       "      <td>NaN</td>\n",
       "      <td>NaN</td>\n",
       "    </tr>\n",
       "    <tr>\n",
       "      <th>Albert Hughes|Allen Hughes</th>\n",
       "      <td>NaN</td>\n",
       "      <td>NaN</td>\n",
       "      <td>NaN</td>\n",
       "      <td>NaN</td>\n",
       "      <td>NaN</td>\n",
       "      <td>NaN</td>\n",
       "      <td>NaN</td>\n",
       "      <td>NaN</td>\n",
       "      <td>NaN</td>\n",
       "      <td>NaN</td>\n",
       "      <td>...</td>\n",
       "      <td>NaN</td>\n",
       "      <td>NaN</td>\n",
       "      <td>NaN</td>\n",
       "      <td>NaN</td>\n",
       "      <td>NaN</td>\n",
       "      <td>NaN</td>\n",
       "      <td>NaN</td>\n",
       "      <td>NaN</td>\n",
       "      <td>NaN</td>\n",
       "      <td>NaN</td>\n",
       "    </tr>\n",
       "    <tr>\n",
       "      <th>...</th>\n",
       "      <td>...</td>\n",
       "      <td>...</td>\n",
       "      <td>...</td>\n",
       "      <td>...</td>\n",
       "      <td>...</td>\n",
       "      <td>...</td>\n",
       "      <td>...</td>\n",
       "      <td>...</td>\n",
       "      <td>...</td>\n",
       "      <td>...</td>\n",
       "      <td>...</td>\n",
       "      <td>...</td>\n",
       "      <td>...</td>\n",
       "      <td>...</td>\n",
       "      <td>...</td>\n",
       "      <td>...</td>\n",
       "      <td>...</td>\n",
       "      <td>...</td>\n",
       "      <td>...</td>\n",
       "      <td>...</td>\n",
       "      <td>...</td>\n",
       "    </tr>\n",
       "    <tr>\n",
       "      <th>Wes Ball</th>\n",
       "      <td>NaN</td>\n",
       "      <td>NaN</td>\n",
       "      <td>NaN</td>\n",
       "      <td>NaN</td>\n",
       "      <td>NaN</td>\n",
       "      <td>NaN</td>\n",
       "      <td>NaN</td>\n",
       "      <td>NaN</td>\n",
       "      <td>NaN</td>\n",
       "      <td>NaN</td>\n",
       "      <td>...</td>\n",
       "      <td>NaN</td>\n",
       "      <td>NaN</td>\n",
       "      <td>NaN</td>\n",
       "      <td>NaN</td>\n",
       "      <td>NaN</td>\n",
       "      <td>NaN</td>\n",
       "      <td>NaN</td>\n",
       "      <td>NaN</td>\n",
       "      <td>NaN</td>\n",
       "      <td>NaN</td>\n",
       "    </tr>\n",
       "    <tr>\n",
       "      <th>William Friedkin</th>\n",
       "      <td>NaN</td>\n",
       "      <td>NaN</td>\n",
       "      <td>NaN</td>\n",
       "      <td>NaN</td>\n",
       "      <td>NaN</td>\n",
       "      <td>NaN</td>\n",
       "      <td>NaN</td>\n",
       "      <td>NaN</td>\n",
       "      <td>NaN</td>\n",
       "      <td>NaN</td>\n",
       "      <td>...</td>\n",
       "      <td>NaN</td>\n",
       "      <td>NaN</td>\n",
       "      <td>NaN</td>\n",
       "      <td>NaN</td>\n",
       "      <td>NaN</td>\n",
       "      <td>NaN</td>\n",
       "      <td>NaN</td>\n",
       "      <td>NaN</td>\n",
       "      <td>NaN</td>\n",
       "      <td>NaN</td>\n",
       "    </tr>\n",
       "    <tr>\n",
       "      <th>Wolfgang Petersen</th>\n",
       "      <td>NaN</td>\n",
       "      <td>NaN</td>\n",
       "      <td>NaN</td>\n",
       "      <td>NaN</td>\n",
       "      <td>NaN</td>\n",
       "      <td>NaN</td>\n",
       "      <td>NaN</td>\n",
       "      <td>NaN</td>\n",
       "      <td>NaN</td>\n",
       "      <td>NaN</td>\n",
       "      <td>...</td>\n",
       "      <td>NaN</td>\n",
       "      <td>NaN</td>\n",
       "      <td>NaN</td>\n",
       "      <td>NaN</td>\n",
       "      <td>NaN</td>\n",
       "      <td>NaN</td>\n",
       "      <td>NaN</td>\n",
       "      <td>NaN</td>\n",
       "      <td>NaN</td>\n",
       "      <td>NaN</td>\n",
       "    </tr>\n",
       "    <tr>\n",
       "      <th>Xavier Gens</th>\n",
       "      <td>NaN</td>\n",
       "      <td>NaN</td>\n",
       "      <td>NaN</td>\n",
       "      <td>NaN</td>\n",
       "      <td>NaN</td>\n",
       "      <td>NaN</td>\n",
       "      <td>NaN</td>\n",
       "      <td>NaN</td>\n",
       "      <td>NaN</td>\n",
       "      <td>NaN</td>\n",
       "      <td>...</td>\n",
       "      <td>NaN</td>\n",
       "      <td>NaN</td>\n",
       "      <td>NaN</td>\n",
       "      <td>NaN</td>\n",
       "      <td>NaN</td>\n",
       "      <td>NaN</td>\n",
       "      <td>NaN</td>\n",
       "      <td>NaN</td>\n",
       "      <td>NaN</td>\n",
       "      <td>NaN</td>\n",
       "    </tr>\n",
       "    <tr>\n",
       "      <th>Zack Snyder</th>\n",
       "      <td>NaN</td>\n",
       "      <td>NaN</td>\n",
       "      <td>NaN</td>\n",
       "      <td>NaN</td>\n",
       "      <td>NaN</td>\n",
       "      <td>NaN</td>\n",
       "      <td>NaN</td>\n",
       "      <td>NaN</td>\n",
       "      <td>NaN</td>\n",
       "      <td>NaN</td>\n",
       "      <td>...</td>\n",
       "      <td>NaN</td>\n",
       "      <td>NaN</td>\n",
       "      <td>NaN</td>\n",
       "      <td>NaN</td>\n",
       "      <td>NaN</td>\n",
       "      <td>NaN</td>\n",
       "      <td>NaN</td>\n",
       "      <td>NaN</td>\n",
       "      <td>NaN</td>\n",
       "      <td>NaN</td>\n",
       "    </tr>\n",
       "  </tbody>\n",
       "</table>\n",
       "<p>345 rows × 282 columns</p>\n",
       "</div>"
      ],
      "text/plain": [
       "genres                      Action  Action|Adventure  \\\n",
       "director                                               \n",
       "Adam McKay                     NaN               NaN   \n",
       "Adam Shankman                  NaN               NaN   \n",
       "Adam Wingard                   NaN               NaN   \n",
       "Alan Taylor                    NaN               NaN   \n",
       "Albert Hughes|Allen Hughes     NaN               NaN   \n",
       "...                            ...               ...   \n",
       "Wes Ball                       NaN               NaN   \n",
       "William Friedkin               NaN               NaN   \n",
       "Wolfgang Petersen              NaN               NaN   \n",
       "Xavier Gens                    NaN               NaN   \n",
       "Zack Snyder                    NaN               NaN   \n",
       "\n",
       "genres                      Action|Adventure|Animation|Family|Fantasy  \\\n",
       "director                                                                \n",
       "Adam McKay                                                        NaN   \n",
       "Adam Shankman                                                     NaN   \n",
       "Adam Wingard                                                      NaN   \n",
       "Alan Taylor                                                       NaN   \n",
       "Albert Hughes|Allen Hughes                                        NaN   \n",
       "...                                                               ...   \n",
       "Wes Ball                                                          NaN   \n",
       "William Friedkin                                                  NaN   \n",
       "Wolfgang Petersen                                                 NaN   \n",
       "Xavier Gens                                                       NaN   \n",
       "Zack Snyder                                                       NaN   \n",
       "\n",
       "genres                      Action|Adventure|Animation|Family|Science Fiction  \\\n",
       "director                                                                        \n",
       "Adam McKay                                                                NaN   \n",
       "Adam Shankman                                                             NaN   \n",
       "Adam Wingard                                                              NaN   \n",
       "Alan Taylor                                                               NaN   \n",
       "Albert Hughes|Allen Hughes                                                NaN   \n",
       "...                                                                       ...   \n",
       "Wes Ball                                                                  NaN   \n",
       "William Friedkin                                                          NaN   \n",
       "Wolfgang Petersen                                                         NaN   \n",
       "Xavier Gens                                                               NaN   \n",
       "Zack Snyder                                                               NaN   \n",
       "\n",
       "genres                      Action|Adventure|Animation|Science Fiction|Thriller  \\\n",
       "director                                                                          \n",
       "Adam McKay                                                                NaN     \n",
       "Adam Shankman                                                             NaN     \n",
       "Adam Wingard                                                              NaN     \n",
       "Alan Taylor                                                               NaN     \n",
       "Albert Hughes|Allen Hughes                                                NaN     \n",
       "...                                                                       ...     \n",
       "Wes Ball                                                                  NaN     \n",
       "William Friedkin                                                          NaN     \n",
       "Wolfgang Petersen                                                         NaN     \n",
       "Xavier Gens                                                               NaN     \n",
       "Zack Snyder                                                               NaN     \n",
       "\n",
       "genres                      Action|Adventure|Comedy  \\\n",
       "director                                              \n",
       "Adam McKay                                      NaN   \n",
       "Adam Shankman                                   NaN   \n",
       "Adam Wingard                                    NaN   \n",
       "Alan Taylor                                     NaN   \n",
       "Albert Hughes|Allen Hughes                      NaN   \n",
       "...                                             ...   \n",
       "Wes Ball                                        NaN   \n",
       "William Friedkin                                NaN   \n",
       "Wolfgang Petersen                               NaN   \n",
       "Xavier Gens                                     NaN   \n",
       "Zack Snyder                                     NaN   \n",
       "\n",
       "genres                      Action|Adventure|Comedy|Crime  \\\n",
       "director                                                    \n",
       "Adam McKay                                            NaN   \n",
       "Adam Shankman                                         NaN   \n",
       "Adam Wingard                                          NaN   \n",
       "Alan Taylor                                           NaN   \n",
       "Albert Hughes|Allen Hughes                            NaN   \n",
       "...                                                   ...   \n",
       "Wes Ball                                              NaN   \n",
       "William Friedkin                                      NaN   \n",
       "Wolfgang Petersen                                     NaN   \n",
       "Xavier Gens                                           NaN   \n",
       "Zack Snyder                                           NaN   \n",
       "\n",
       "genres                      Action|Adventure|Comedy|Crime|Thriller  \\\n",
       "director                                                             \n",
       "Adam McKay                                                     NaN   \n",
       "Adam Shankman                                                  NaN   \n",
       "Adam Wingard                                                   NaN   \n",
       "Alan Taylor                                                    NaN   \n",
       "Albert Hughes|Allen Hughes                                     NaN   \n",
       "...                                                            ...   \n",
       "Wes Ball                                                       NaN   \n",
       "William Friedkin                                               NaN   \n",
       "Wolfgang Petersen                                              NaN   \n",
       "Xavier Gens                                                    NaN   \n",
       "Zack Snyder                                                    NaN   \n",
       "\n",
       "genres                      Action|Adventure|Comedy|Drama|Family  \\\n",
       "director                                                           \n",
       "Adam McKay                                                   NaN   \n",
       "Adam Shankman                                                NaN   \n",
       "Adam Wingard                                                 NaN   \n",
       "Alan Taylor                                                  NaN   \n",
       "Albert Hughes|Allen Hughes                                   NaN   \n",
       "...                                                          ...   \n",
       "Wes Ball                                                     NaN   \n",
       "William Friedkin                                             NaN   \n",
       "Wolfgang Petersen                                            NaN   \n",
       "Xavier Gens                                                  NaN   \n",
       "Zack Snyder                                                  NaN   \n",
       "\n",
       "genres                      Action|Adventure|Comedy|Drama|Mystery  ...  \\\n",
       "director                                                           ...   \n",
       "Adam McKay                                                    NaN  ...   \n",
       "Adam Shankman                                                 NaN  ...   \n",
       "Adam Wingard                                                  NaN  ...   \n",
       "Alan Taylor                                                   NaN  ...   \n",
       "Albert Hughes|Allen Hughes                                    NaN  ...   \n",
       "...                                                           ...  ...   \n",
       "Wes Ball                                                      NaN  ...   \n",
       "William Friedkin                                              NaN  ...   \n",
       "Wolfgang Petersen                                             NaN  ...   \n",
       "Xavier Gens                                                   NaN  ...   \n",
       "Zack Snyder                                                   NaN  ...   \n",
       "\n",
       "genres                      Thriller|Crime|Drama|Action  \\\n",
       "director                                                  \n",
       "Adam McKay                                          NaN   \n",
       "Adam Shankman                                       NaN   \n",
       "Adam Wingard                                        NaN   \n",
       "Alan Taylor                                         NaN   \n",
       "Albert Hughes|Allen Hughes                          NaN   \n",
       "...                                                 ...   \n",
       "Wes Ball                                            NaN   \n",
       "William Friedkin                                    NaN   \n",
       "Wolfgang Petersen                                   NaN   \n",
       "Xavier Gens                                         NaN   \n",
       "Zack Snyder                                         NaN   \n",
       "\n",
       "genres                      Thriller|Drama|Adventure|Action|History  \\\n",
       "director                                                              \n",
       "Adam McKay                                                      NaN   \n",
       "Adam Shankman                                                   NaN   \n",
       "Adam Wingard                                                    NaN   \n",
       "Alan Taylor                                                     NaN   \n",
       "Albert Hughes|Allen Hughes                                      NaN   \n",
       "...                                                             ...   \n",
       "Wes Ball                                                        NaN   \n",
       "William Friedkin                                                NaN   \n",
       "Wolfgang Petersen                                               NaN   \n",
       "Xavier Gens                                                     NaN   \n",
       "Zack Snyder                                                     NaN   \n",
       "\n",
       "genres                      Thriller|Science Fiction|Action  \\\n",
       "director                                                      \n",
       "Adam McKay                                              NaN   \n",
       "Adam Shankman                                           NaN   \n",
       "Adam Wingard                                            NaN   \n",
       "Alan Taylor                                             NaN   \n",
       "Albert Hughes|Allen Hughes                              NaN   \n",
       "...                                                     ...   \n",
       "Wes Ball                                                NaN   \n",
       "William Friedkin                                        NaN   \n",
       "Wolfgang Petersen                                       NaN   \n",
       "Xavier Gens                                             NaN   \n",
       "Zack Snyder                                             NaN   \n",
       "\n",
       "genres                      Thriller|Science Fiction|Action|Adventure  \\\n",
       "director                                                                \n",
       "Adam McKay                                                        NaN   \n",
       "Adam Shankman                                                     NaN   \n",
       "Adam Wingard                                                      NaN   \n",
       "Alan Taylor                                                       NaN   \n",
       "Albert Hughes|Allen Hughes                                        NaN   \n",
       "...                                                               ...   \n",
       "Wes Ball                                                          NaN   \n",
       "William Friedkin                                                  NaN   \n",
       "Wolfgang Petersen                                                 NaN   \n",
       "Xavier Gens                                                       NaN   \n",
       "Zack Snyder                                                       NaN   \n",
       "\n",
       "genres                      Thriller|Science Fiction|Adventure|Action  \\\n",
       "director                                                                \n",
       "Adam McKay                                                        NaN   \n",
       "Adam Shankman                                                     NaN   \n",
       "Adam Wingard                                                      NaN   \n",
       "Alan Taylor                                                       NaN   \n",
       "Albert Hughes|Allen Hughes                                        NaN   \n",
       "...                                                               ...   \n",
       "Wes Ball                                                          NaN   \n",
       "William Friedkin                                                  NaN   \n",
       "Wolfgang Petersen                                                 NaN   \n",
       "Xavier Gens                                                       NaN   \n",
       "Zack Snyder                                                       NaN   \n",
       "\n",
       "genres                      War|Action  War|Action|Thriller|Science Fiction  \\\n",
       "director                                                                      \n",
       "Adam McKay                         NaN                                  NaN   \n",
       "Adam Shankman                      NaN                                  NaN   \n",
       "Adam Wingard                       NaN                                  NaN   \n",
       "Alan Taylor                        NaN                                  NaN   \n",
       "Albert Hughes|Allen Hughes         NaN                                  NaN   \n",
       "...                                ...                                  ...   \n",
       "Wes Ball                           NaN                                  NaN   \n",
       "William Friedkin                   NaN                                  NaN   \n",
       "Wolfgang Petersen                  NaN                                  NaN   \n",
       "Xavier Gens                        NaN                                  NaN   \n",
       "Zack Snyder                        NaN                                  NaN   \n",
       "\n",
       "genres                      War|Drama|Action  War|Drama|History|Action  \\\n",
       "director                                                                 \n",
       "Adam McKay                               NaN                       NaN   \n",
       "Adam Shankman                            NaN                       NaN   \n",
       "Adam Wingard                             NaN                       NaN   \n",
       "Alan Taylor                              NaN                       NaN   \n",
       "Albert Hughes|Allen Hughes               NaN                       NaN   \n",
       "...                                      ...                       ...   \n",
       "Wes Ball                                 NaN                       NaN   \n",
       "William Friedkin                         NaN                       NaN   \n",
       "Wolfgang Petersen                        NaN                       NaN   \n",
       "Xavier Gens                              NaN                       NaN   \n",
       "Zack Snyder                              NaN                       NaN   \n",
       "\n",
       "genres                      War|History|Action|Adventure|Drama  \n",
       "director                                                        \n",
       "Adam McKay                                                 NaN  \n",
       "Adam Shankman                                              NaN  \n",
       "Adam Wingard                                               NaN  \n",
       "Alan Taylor                                                NaN  \n",
       "Albert Hughes|Allen Hughes                                 NaN  \n",
       "...                                                        ...  \n",
       "Wes Ball                                                   NaN  \n",
       "William Friedkin                                           NaN  \n",
       "Wolfgang Petersen                                          NaN  \n",
       "Xavier Gens                                                NaN  \n",
       "Zack Snyder                                                NaN  \n",
       "\n",
       "[345 rows x 282 columns]"
      ]
     },
     "execution_count": 252,
     "metadata": {},
     "output_type": "execute_result"
    }
   ],
   "source": [
    "pivot = data[data.genres.str.contains('Action')].pivot_table(values='original_title',\n",
    "index='director',\n",
    "columns='genres',\n",
    "aggfunc='count',\n",
    "margins=False,\n",
    "fill_value=None\n",
    ")\n",
    "#\n",
    "pivot\n"
   ]
  },
  {
   "cell_type": "markdown",
   "metadata": {
    "colab_type": "text",
    "id": "PQ0KciD7Vp_f"
   },
   "source": [
    "# 15. Фильмы с каким актером принесли самые высокие кассовые сборы в 2012 году? "
   ]
  },
  {
   "cell_type": "code",
   "execution_count": 0,
   "metadata": {
    "colab": {},
    "colab_type": "code",
    "id": "aga62oeKVp_g"
   },
   "outputs": [],
   "source": []
  },
  {
   "cell_type": "markdown",
   "metadata": {
    "colab_type": "text",
    "id": "mWHyyL7QVp_j"
   },
   "source": [
    "# 16. Какой актер снялся в большем количестве высокобюджетных фильмов?"
   ]
  },
  {
   "cell_type": "code",
   "execution_count": 0,
   "metadata": {
    "colab": {},
    "colab_type": "code",
    "id": "qQtmHKTFVp_k"
   },
   "outputs": [],
   "source": []
  },
  {
   "cell_type": "markdown",
   "metadata": {
    "colab_type": "text",
    "id": "NIh6AaW5Vp_n"
   },
   "source": [
    "# 17. В фильмах какого жанра больше всего снимался Nicolas Cage? "
   ]
  },
  {
   "cell_type": "code",
   "execution_count": 0,
   "metadata": {
    "colab": {},
    "colab_type": "code",
    "id": "H74SJDIBVp_n"
   },
   "outputs": [],
   "source": []
  },
  {
   "cell_type": "markdown",
   "metadata": {
    "colab_type": "text",
    "id": "RqOmPRfWVp_q"
   },
   "source": [
    "# 18. Самый убыточный фильм от Paramount Pictures"
   ]
  },
  {
   "cell_type": "code",
   "execution_count": 0,
   "metadata": {
    "colab": {},
    "colab_type": "code",
    "id": "9E_B0Y96Vp_r"
   },
   "outputs": [],
   "source": []
  },
  {
   "cell_type": "markdown",
   "metadata": {
    "colab_type": "text",
    "id": "vS8Ur6ddVp_u"
   },
   "source": [
    "# 19. Какой год стал самым успешным по суммарным кассовым сборам?"
   ]
  },
  {
   "cell_type": "code",
   "execution_count": 0,
   "metadata": {
    "colab": {},
    "colab_type": "code",
    "id": "Dnbt4GdIVp_v"
   },
   "outputs": [],
   "source": []
  },
  {
   "cell_type": "markdown",
   "metadata": {
    "colab_type": "text",
    "id": "JAzJh4QAVp_z"
   },
   "source": [
    "# 20. Какой самый прибыльный год для студии Warner Bros?"
   ]
  },
  {
   "cell_type": "code",
   "execution_count": 0,
   "metadata": {
    "colab": {},
    "colab_type": "code",
    "id": "wgVu02DEVp_0"
   },
   "outputs": [],
   "source": []
  },
  {
   "cell_type": "markdown",
   "metadata": {
    "colab_type": "text",
    "id": "8Im1S2HRVp_4"
   },
   "source": [
    "# 21. В каком месяце за все годы суммарно вышло больше всего фильмов?"
   ]
  },
  {
   "cell_type": "code",
   "execution_count": 0,
   "metadata": {
    "colab": {},
    "colab_type": "code",
    "id": "lev6TH7gVp_4"
   },
   "outputs": [],
   "source": []
  },
  {
   "cell_type": "markdown",
   "metadata": {
    "colab_type": "text",
    "id": "uAJsZ_NeVp_7"
   },
   "source": [
    "# 22. Сколько суммарно вышло фильмов летом? (за июнь, июль, август)"
   ]
  },
  {
   "cell_type": "code",
   "execution_count": 0,
   "metadata": {
    "colab": {},
    "colab_type": "code",
    "id": "Aa-hEREoVp_8"
   },
   "outputs": [],
   "source": []
  },
  {
   "cell_type": "markdown",
   "metadata": {
    "colab_type": "text",
    "id": "G94ppOY1VqAA"
   },
   "source": [
    "# 23. Для какого режиссера зима – самое продуктивное время года? "
   ]
  },
  {
   "cell_type": "code",
   "execution_count": 0,
   "metadata": {
    "colab": {},
    "colab_type": "code",
    "id": "RhNTsamuVqAB"
   },
   "outputs": [],
   "source": []
  },
  {
   "cell_type": "markdown",
   "metadata": {
    "colab_type": "text",
    "id": "RBo0JVjVVqAF"
   },
   "source": [
    "# 24. Какая студия дает самые длинные названия своим фильмам по количеству символов?"
   ]
  },
  {
   "cell_type": "code",
   "execution_count": 0,
   "metadata": {
    "colab": {},
    "colab_type": "code",
    "id": "QRGS8L0iVqAG"
   },
   "outputs": [],
   "source": []
  },
  {
   "cell_type": "markdown",
   "metadata": {
    "colab_type": "text",
    "id": "9G0hbvR7VqAK"
   },
   "source": [
    "# 25. Описание фильмов какой студии в среднем самые длинные по количеству слов?"
   ]
  },
  {
   "cell_type": "code",
   "execution_count": 0,
   "metadata": {
    "colab": {},
    "colab_type": "code",
    "id": "Ge2GsLNxVqAK"
   },
   "outputs": [],
   "source": []
  },
  {
   "cell_type": "markdown",
   "metadata": {
    "colab_type": "text",
    "id": "FJ1AFt90VqAP"
   },
   "source": [
    "# 26. Какие фильмы входят в 1 процент лучших по рейтингу? \n",
    "по vote_average"
   ]
  },
  {
   "cell_type": "code",
   "execution_count": 0,
   "metadata": {
    "colab": {},
    "colab_type": "code",
    "id": "8qmJVq4CVqAQ"
   },
   "outputs": [],
   "source": []
  },
  {
   "cell_type": "markdown",
   "metadata": {
    "colab_type": "text",
    "id": "MdXsUXbCVqAV"
   },
   "source": [
    "# 27. Какие актеры чаще всего снимаются в одном фильме вместе?\n"
   ]
  },
  {
   "cell_type": "markdown",
   "metadata": {
    "colab_type": "text",
    "id": "4ymnxEVoVqAW"
   },
   "source": [
    "ВАРИАНТ 2"
   ]
  },
  {
   "cell_type": "markdown",
   "metadata": {
    "colab_type": "text",
    "id": "U0nONFnGVqAX"
   },
   "source": [
    "# Submission"
   ]
  },
  {
   "cell_type": "code",
   "execution_count": 143,
   "metadata": {
    "colab": {},
    "colab_type": "code",
    "id": "IfcaRO9-VqAX",
    "outputId": "0f132912-32bb-4196-c98c-abfbc4ad5a5f"
   },
   "outputs": [
    {
     "data": {
      "text/plain": [
       "{'1': 'Pirates of the Caribbean: On Stranger Tides (tt1298650)',\n",
       " '2': 'Gods and Generals (tt0279111)',\n",
       " '3': 'Winnie the Pooh (tt1449283)',\n",
       " '4': 109.6585494970884,\n",
       " '5': 107.0,\n",
       " '6': 'Avatar',\n",
       " '7': 'The Lone Ranger',\n",
       " '8': 1478,\n",
       " '9': 'The Dark Knight',\n",
       " '10': 'The Lone Ranger'}"
      ]
     },
     "execution_count": 143,
     "metadata": {},
     "output_type": "execute_result"
    }
   ],
   "source": [
    "# в конце можно посмотреть свои ответы к каждому вопросу\n",
    "answers"
   ]
  },
  {
   "cell_type": "code",
   "execution_count": 0,
   "metadata": {
    "colab": {},
    "colab_type": "code",
    "id": "SiRmHPl8VqAd"
   },
   "outputs": [],
   "source": [
    "# и убедиться что ни чего не пропустил)\n",
    "len(answers)"
   ]
  },
  {
   "cell_type": "code",
   "execution_count": 0,
   "metadata": {
    "colab": {},
    "colab_type": "code",
    "id": "uCfuTkRbVqAg"
   },
   "outputs": [],
   "source": []
  },
  {
   "cell_type": "code",
   "execution_count": 0,
   "metadata": {
    "colab": {},
    "colab_type": "code",
    "id": "Vwx3NrkSVqAl"
   },
   "outputs": [],
   "source": []
  }
 ],
 "metadata": {
  "colab": {
   "name": "Copy of [SF-DST] Movies IMBD v4.1 TEMPLATE.ipynb",
   "provenance": []
  },
  "kernelspec": {
   "display_name": "Python 3",
   "language": "python",
   "name": "python3"
  },
  "language_info": {
   "codemirror_mode": {
    "name": "ipython",
    "version": 3
   },
   "file_extension": ".py",
   "mimetype": "text/x-python",
   "name": "python",
   "nbconvert_exporter": "python",
   "pygments_lexer": "ipython3",
   "version": "3.8.5"
  }
 },
 "nbformat": 4,
 "nbformat_minor": 1
}
