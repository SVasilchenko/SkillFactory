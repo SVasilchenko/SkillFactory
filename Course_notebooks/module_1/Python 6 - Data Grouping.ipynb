{
 "cells": [
  {
   "cell_type": "code",
   "execution_count": 3,
   "metadata": {},
   "outputs": [],
   "source": [
    "import pandas as pd\n",
    "\n",
    "data_file = pd.read_csv('c:/Users/SVasilchenko/SkillFactory/module_1/data_sf.csv')\n",
    "\n",
    "x= len(data_file['Club'].value_counts())\n"
   ]
  },
  {
   "cell_type": "code",
   "execution_count": 5,
   "metadata": {},
   "outputs": [
    {
     "name": "stdout",
     "output_type": "stream",
     "text": [
      "Shonan Bellmare      30\n",
      "V-Varen Nagasaki     30\n",
      "De Graafschap        29\n",
      "Padova               29\n",
      "FC Emmen             29\n",
      "                     ..\n",
      "Cruzeiro              8\n",
      "GD Chaves             7\n",
      "Vitória Guimarães     7\n",
      "Dinamo Zagreb         7\n",
      "Atlético Mineiro      6\n",
      "Name: Club, Length: 650, dtype: int64\n"
     ]
    }
   ],
   "source": [
    "max_club = data_file['Club'].value_counts()\n",
    "print(max_club)"
   ]
  },
  {
   "cell_type": "code",
   "execution_count": 6,
   "metadata": {},
   "outputs": [
    {
     "name": "stdout",
     "output_type": "stream",
     "text": [
      "GK     0.127239\n",
      "ST     0.117237\n",
      "CB     0.108785\n",
      "CM     0.082732\n",
      "LB     0.077692\n",
      "RB     0.073505\n",
      "RM     0.059394\n",
      "LM     0.056447\n",
      "CDM    0.053578\n",
      "CAM    0.049081\n",
      "RCB    0.032411\n",
      "LCB    0.031713\n",
      "LW     0.018764\n",
      "RCM    0.018609\n",
      "RW     0.018376\n",
      "LCM    0.018066\n",
      "LDM    0.011476\n",
      "RDM    0.010700\n",
      "LS     0.009382\n",
      "RS     0.008839\n",
      "RWB    0.005428\n",
      "LWB    0.004652\n",
      "CF     0.003954\n",
      "LF     0.000620\n",
      "RF     0.000465\n",
      "LAM    0.000465\n",
      "RAM    0.000388\n",
      "Name: Position, dtype: float64\n"
     ]
    }
   ],
   "source": [
    "x = data_file['Position'].value_counts(normalize=True)\n",
    "print(x)"
   ]
  },
  {
   "cell_type": "code",
   "execution_count": 7,
   "metadata": {},
   "outputs": [
    {
     "data": {
      "text/plain": [
       "(211750.0, 329500.0]     9\n",
       "(93528.999, 211750.0]    8\n",
       "(329500.0, 447250.0]     6\n",
       "(447250.0, 565000.0]     2\n",
       "Name: Wage, dtype: int64"
      ]
     },
     "metadata": {},
     "output_type": "display_data"
    },
    {
     "data": {
      "text/html": [
       "<div>\n",
       "<style scoped>\n",
       "    .dataframe tbody tr th:only-of-type {\n",
       "        vertical-align: middle;\n",
       "    }\n",
       "\n",
       "    .dataframe tbody tr th {\n",
       "        vertical-align: top;\n",
       "    }\n",
       "\n",
       "    .dataframe thead th {\n",
       "        text-align: right;\n",
       "    }\n",
       "</style>\n",
       "<table border=\"1\" class=\"dataframe\">\n",
       "  <thead>\n",
       "    <tr style=\"text-align: right;\">\n",
       "      <th></th>\n",
       "      <th>Name</th>\n",
       "      <th>Age</th>\n",
       "      <th>Nationality</th>\n",
       "      <th>Club</th>\n",
       "      <th>Value</th>\n",
       "      <th>Wage</th>\n",
       "      <th>Position</th>\n",
       "    </tr>\n",
       "  </thead>\n",
       "  <tbody>\n",
       "    <tr>\n",
       "      <th>0</th>\n",
       "      <td>L. Messi</td>\n",
       "      <td>31</td>\n",
       "      <td>Argentina</td>\n",
       "      <td>FC Barcelona</td>\n",
       "      <td>110500000</td>\n",
       "      <td>565000</td>\n",
       "      <td>RF</td>\n",
       "    </tr>\n",
       "    <tr>\n",
       "      <th>7</th>\n",
       "      <td>L. Suárez</td>\n",
       "      <td>31</td>\n",
       "      <td>Uruguay</td>\n",
       "      <td>FC Barcelona</td>\n",
       "      <td>80000000</td>\n",
       "      <td>455000</td>\n",
       "      <td>RS</td>\n",
       "    </tr>\n",
       "  </tbody>\n",
       "</table>\n",
       "</div>"
      ],
      "text/plain": [
       "        Name  Age Nationality          Club      Value    Wage Position\n",
       "0   L. Messi   31   Argentina  FC Barcelona  110500000  565000       RF\n",
       "7  L. Suárez   31     Uruguay  FC Barcelona   80000000  455000       RS"
      ]
     },
     "execution_count": 7,
     "metadata": {},
     "output_type": "execute_result"
    }
   ],
   "source": [
    "small_df = data_file[data_file.columns[1:8]].head(25)\n",
    "s = small_df['Wage'].value_counts(bins=4)\n",
    "display(s)\n",
    "\n",
    "\n",
    "small_df.loc[(small_df['Wage'] > s.index[3].left) & (small_df['Wage'] <= s.index[3].right)]"
   ]
  },
  {
   "cell_type": "code",
   "execution_count": 8,
   "metadata": {},
   "outputs": [
    {
     "data": {
      "text/plain": [
       "447250.0"
      ]
     },
     "execution_count": 8,
     "metadata": {},
     "output_type": "execute_result"
    }
   ],
   "source": [
    "s.index[3].left"
   ]
  },
  {
   "cell_type": "code",
   "execution_count": 9,
   "metadata": {},
   "outputs": [
    {
     "data": {
      "text/plain": [
       "(21.2, 39.4]     4859\n",
       "(39.4, 57.6]     3957\n",
       "(57.6, 75.8]     2108\n",
       "(2.908, 21.2]    1760\n",
       "(75.8, 94.0]      213\n",
       "Name: FKAccuracy, dtype: int64"
      ]
     },
     "execution_count": 9,
     "metadata": {},
     "output_type": "execute_result"
    }
   ],
   "source": [
    "x = data_file['FKAccuracy'].value_counts(bins=5)\n",
    "x"
   ]
  },
  {
   "cell_type": "code",
   "execution_count": 10,
   "metadata": {
    "scrolled": false
   },
   "outputs": [
    {
     "data": {
      "text/html": [
       "<div>\n",
       "<style scoped>\n",
       "    .dataframe tbody tr th:only-of-type {\n",
       "        vertical-align: middle;\n",
       "    }\n",
       "\n",
       "    .dataframe tbody tr th {\n",
       "        vertical-align: top;\n",
       "    }\n",
       "\n",
       "    .dataframe thead th {\n",
       "        text-align: right;\n",
       "    }\n",
       "</style>\n",
       "<table border=\"1\" class=\"dataframe\">\n",
       "  <thead>\n",
       "    <tr style=\"text-align: right;\">\n",
       "      <th></th>\n",
       "      <th>Nationality</th>\n",
       "      <th>Players</th>\n",
       "    </tr>\n",
       "  </thead>\n",
       "  <tbody>\n",
       "    <tr>\n",
       "      <th>0</th>\n",
       "      <td>England</td>\n",
       "      <td>1368</td>\n",
       "    </tr>\n",
       "    <tr>\n",
       "      <th>1</th>\n",
       "      <td>Germany</td>\n",
       "      <td>919</td>\n",
       "    </tr>\n",
       "    <tr>\n",
       "      <th>2</th>\n",
       "      <td>Spain</td>\n",
       "      <td>671</td>\n",
       "    </tr>\n",
       "    <tr>\n",
       "      <th>3</th>\n",
       "      <td>France</td>\n",
       "      <td>614</td>\n",
       "    </tr>\n",
       "    <tr>\n",
       "      <th>4</th>\n",
       "      <td>Argentina</td>\n",
       "      <td>574</td>\n",
       "    </tr>\n",
       "    <tr>\n",
       "      <th>...</th>\n",
       "      <td>...</td>\n",
       "      <td>...</td>\n",
       "    </tr>\n",
       "    <tr>\n",
       "      <th>151</th>\n",
       "      <td>Mauritius</td>\n",
       "      <td>1</td>\n",
       "    </tr>\n",
       "    <tr>\n",
       "      <th>152</th>\n",
       "      <td>Bermuda</td>\n",
       "      <td>1</td>\n",
       "    </tr>\n",
       "    <tr>\n",
       "      <th>153</th>\n",
       "      <td>Jordan</td>\n",
       "      <td>1</td>\n",
       "    </tr>\n",
       "    <tr>\n",
       "      <th>154</th>\n",
       "      <td>Philippines</td>\n",
       "      <td>1</td>\n",
       "    </tr>\n",
       "    <tr>\n",
       "      <th>155</th>\n",
       "      <td>Qatar</td>\n",
       "      <td>1</td>\n",
       "    </tr>\n",
       "  </tbody>\n",
       "</table>\n",
       "<p>156 rows × 2 columns</p>\n",
       "</div>"
      ],
      "text/plain": [
       "     Nationality  Players\n",
       "0        England     1368\n",
       "1        Germany      919\n",
       "2          Spain      671\n",
       "3         France      614\n",
       "4      Argentina      574\n",
       "..           ...      ...\n",
       "151    Mauritius        1\n",
       "152      Bermuda        1\n",
       "153       Jordan        1\n",
       "154  Philippines        1\n",
       "155        Qatar        1\n",
       "\n",
       "[156 rows x 2 columns]"
      ]
     },
     "metadata": {},
     "output_type": "display_data"
    }
   ],
   "source": [
    "s = data_file['Nationality'].value_counts().reset_index()\n",
    "s.columns = ['Nationality', 'Players']\n",
    "display(s)"
   ]
  },
  {
   "cell_type": "code",
   "execution_count": 11,
   "metadata": {
    "scrolled": false
   },
   "outputs": [
    {
     "data": {
      "text/plain": [
       "(620.999, 95750.0]      0.970194\n",
       "(95750.0, 190500.0]     0.016393\n",
       "(190500.0, 285250.0]    0.008942\n",
       "(285250.0, 380000.0]    0.004471\n",
       "Name: Wage, dtype: float64"
      ]
     },
     "execution_count": 11,
     "metadata": {},
     "output_type": "execute_result"
    }
   ],
   "source": [
    "spanish = data_file[data_file.Nationality == 'Spain']\n",
    "x = spanish['Wage'].value_counts(normalize=True,bins=4)\n",
    "x"
   ]
  },
  {
   "cell_type": "code",
   "execution_count": 12,
   "metadata": {},
   "outputs": [
    {
     "data": {
      "text/plain": [
       "13"
      ]
     },
     "execution_count": 12,
     "metadata": {},
     "output_type": "execute_result"
    }
   ],
   "source": [
    "manchester_players = data_file[data_file.Club == 'Manchester United']\n",
    "manchester_players['Nationality'].nunique()"
   ]
  },
  {
   "cell_type": "code",
   "execution_count": 13,
   "metadata": {},
   "outputs": [
    {
     "data": {
      "text/plain": [
       "array(['Alex Sandro', 'Douglas Costa'], dtype=object)"
      ]
     },
     "execution_count": 13,
     "metadata": {},
     "output_type": "execute_result"
    }
   ],
   "source": [
    "brasilians = data_file[(data_file.Club == 'Juventus') & (data_file.Nationality == 'Brazil')]\n",
    "brasilians['Name'].unique()"
   ]
  },
  {
   "cell_type": "code",
   "execution_count": 14,
   "metadata": {},
   "outputs": [
    {
     "data": {
      "text/plain": [
       "Club Atlético Huracán         4\n",
       "Hokkaido Consadole Sapporo    4\n",
       "Morecambe                     3\n",
       "San Martín de San Juan        3\n",
       "Club Atlético Colón           3\n",
       "                             ..\n",
       "Trelleborgs FF                1\n",
       "Bournemouth                   1\n",
       "Sassuolo                      1\n",
       "Colorado Rapids               1\n",
       "Houston Dynamo                1\n",
       "Name: Club, Length: 212, dtype: int64"
      ]
     },
     "execution_count": 14,
     "metadata": {},
     "output_type": "execute_result"
    }
   ],
   "source": [
    "old_players = data_file[data_file.Age > 35]\n",
    "old_players['Club'].value_counts()"
   ]
  },
  {
   "cell_type": "code",
   "execution_count": 15,
   "metadata": {},
   "outputs": [
    {
     "data": {
      "text/plain": [
       "(22.25, 28.5]      200\n",
       "(15.974, 22.25]    197\n",
       "(28.5, 34.75]      128\n",
       "(34.75, 41.0]       49\n",
       "Name: Age, dtype: int64"
      ]
     },
     "execution_count": 15,
     "metadata": {},
     "output_type": "execute_result"
    }
   ],
   "source": [
    "argent = data_file[data_file.Nationality == 'Argentina']\n",
    "argent['Age'].value_counts(bins=4)"
   ]
  },
  {
   "cell_type": "code",
   "execution_count": 16,
   "metadata": {},
   "outputs": [
    {
     "data": {
      "text/plain": [
       "(20.6, 22.9]      0.213115\n",
       "(22.9, 25.2]      0.195231\n",
       "(18.3, 20.6]      0.125186\n",
       "(25.2, 27.5]      0.116244\n",
       "(29.8, 32.1]      0.104322\n",
       "(27.5, 29.8]      0.101341\n",
       "(15.976, 18.3]    0.055142\n",
       "(32.1, 34.4]      0.053651\n",
       "(34.4, 36.7]      0.022355\n",
       "(36.7, 39.0]      0.013413\n",
       "Name: Age, dtype: float64"
      ]
     },
     "execution_count": 16,
     "metadata": {},
     "output_type": "execute_result"
    }
   ],
   "source": [
    "spanish = data_file[data_file['Nationality'] == 'Spain']\n",
    "spanish['Age'].value_counts(normalize=True, bins=10)\n"
   ]
  },
  {
   "cell_type": "code",
   "execution_count": 17,
   "metadata": {},
   "outputs": [
    {
     "data": {
      "text/plain": [
       "Position\n",
       "ST     11873000\n",
       "GK      8784000\n",
       "CB      7476000\n",
       "CM      6194000\n",
       "LB      6096000\n",
       "CAM     5500000\n",
       "LM      5440000\n",
       "RM      5098000\n",
       "RB      5034000\n",
       "CDM     4921000\n",
       "RCB     4711000\n",
       "LCB     3989000\n",
       "RW      3276000\n",
       "RCM     3241000\n",
       "LCM     3145000\n",
       "LW      2945000\n",
       "LS      1866000\n",
       "RDM     1557000\n",
       "RS      1537000\n",
       "LDM     1516000\n",
       "RF       714000\n",
       "LF       601000\n",
       "RWB      420000\n",
       "LAM      366000\n",
       "LWB      347000\n",
       "CF       248000\n",
       "RAM       59000\n",
       "Name: Wage, dtype: int64"
      ]
     },
     "metadata": {},
     "output_type": "display_data"
    }
   ],
   "source": [
    "grouped_df = data_file.groupby('Position')['Wage'].sum()\n",
    "display(grouped_df.sort_values(ascending=False))"
   ]
  },
  {
   "cell_type": "code",
   "execution_count": 18,
   "metadata": {},
   "outputs": [
    {
     "data": {
      "text/html": [
       "<div>\n",
       "<style scoped>\n",
       "    .dataframe tbody tr th:only-of-type {\n",
       "        vertical-align: middle;\n",
       "    }\n",
       "\n",
       "    .dataframe tbody tr th {\n",
       "        vertical-align: top;\n",
       "    }\n",
       "\n",
       "    .dataframe thead th {\n",
       "        text-align: right;\n",
       "    }\n",
       "</style>\n",
       "<table border=\"1\" class=\"dataframe\">\n",
       "  <thead>\n",
       "    <tr style=\"text-align: right;\">\n",
       "      <th></th>\n",
       "      <th>Wage</th>\n",
       "      <th>Value</th>\n",
       "    </tr>\n",
       "    <tr>\n",
       "      <th>Position</th>\n",
       "      <th></th>\n",
       "      <th></th>\n",
       "    </tr>\n",
       "  </thead>\n",
       "  <tbody>\n",
       "    <tr>\n",
       "      <th>LF</th>\n",
       "      <td>75125.000000</td>\n",
       "      <td>2.736250e+07</td>\n",
       "    </tr>\n",
       "    <tr>\n",
       "      <th>RF</th>\n",
       "      <td>119000.000000</td>\n",
       "      <td>2.636583e+07</td>\n",
       "    </tr>\n",
       "    <tr>\n",
       "      <th>LAM</th>\n",
       "      <td>61000.000000</td>\n",
       "      <td>1.324583e+07</td>\n",
       "    </tr>\n",
       "    <tr>\n",
       "      <th>RAM</th>\n",
       "      <td>11800.000000</td>\n",
       "      <td>8.345000e+06</td>\n",
       "    </tr>\n",
       "    <tr>\n",
       "      <th>LS</th>\n",
       "      <td>15421.487603</td>\n",
       "      <td>5.848430e+06</td>\n",
       "    </tr>\n",
       "    <tr>\n",
       "      <th>LCM</th>\n",
       "      <td>13497.854077</td>\n",
       "      <td>4.318090e+06</td>\n",
       "    </tr>\n",
       "    <tr>\n",
       "      <th>RCM</th>\n",
       "      <td>13504.166667</td>\n",
       "      <td>4.217604e+06</td>\n",
       "    </tr>\n",
       "    <tr>\n",
       "      <th>RS</th>\n",
       "      <td>13482.456140</td>\n",
       "      <td>3.645833e+06</td>\n",
       "    </tr>\n",
       "    <tr>\n",
       "      <th>LW</th>\n",
       "      <td>12169.421488</td>\n",
       "      <td>3.603099e+06</td>\n",
       "    </tr>\n",
       "    <tr>\n",
       "      <th>RW</th>\n",
       "      <td>13822.784810</td>\n",
       "      <td>3.495738e+06</td>\n",
       "    </tr>\n",
       "    <tr>\n",
       "      <th>LDM</th>\n",
       "      <td>10243.243243</td>\n",
       "      <td>3.369459e+06</td>\n",
       "    </tr>\n",
       "    <tr>\n",
       "      <th>RCB</th>\n",
       "      <td>11270.334928</td>\n",
       "      <td>3.009055e+06</td>\n",
       "    </tr>\n",
       "    <tr>\n",
       "      <th>CAM</th>\n",
       "      <td>8688.783570</td>\n",
       "      <td>2.963199e+06</td>\n",
       "    </tr>\n",
       "    <tr>\n",
       "      <th>RDM</th>\n",
       "      <td>11282.608696</td>\n",
       "      <td>2.692717e+06</td>\n",
       "    </tr>\n",
       "    <tr>\n",
       "      <th>LCB</th>\n",
       "      <td>9753.056235</td>\n",
       "      <td>2.636516e+06</td>\n",
       "    </tr>\n",
       "    <tr>\n",
       "      <th>LM</th>\n",
       "      <td>7472.527473</td>\n",
       "      <td>2.466174e+06</td>\n",
       "    </tr>\n",
       "    <tr>\n",
       "      <th>ST</th>\n",
       "      <td>7852.513228</td>\n",
       "      <td>2.157252e+06</td>\n",
       "    </tr>\n",
       "    <tr>\n",
       "      <th>RM</th>\n",
       "      <td>6655.352480</td>\n",
       "      <td>2.138734e+06</td>\n",
       "    </tr>\n",
       "    <tr>\n",
       "      <th>LWB</th>\n",
       "      <td>5783.333333</td>\n",
       "      <td>1.931333e+06</td>\n",
       "    </tr>\n",
       "    <tr>\n",
       "      <th>CF</th>\n",
       "      <td>4862.745098</td>\n",
       "      <td>1.848627e+06</td>\n",
       "    </tr>\n",
       "    <tr>\n",
       "      <th>CDM</th>\n",
       "      <td>7121.562952</td>\n",
       "      <td>1.658900e+06</td>\n",
       "    </tr>\n",
       "    <tr>\n",
       "      <th>CM</th>\n",
       "      <td>5805.060918</td>\n",
       "      <td>1.617465e+06</td>\n",
       "    </tr>\n",
       "    <tr>\n",
       "      <th>RWB</th>\n",
       "      <td>6000.000000</td>\n",
       "      <td>1.555571e+06</td>\n",
       "    </tr>\n",
       "    <tr>\n",
       "      <th>GK</th>\n",
       "      <td>5352.833638</td>\n",
       "      <td>1.502502e+06</td>\n",
       "    </tr>\n",
       "    <tr>\n",
       "      <th>LB</th>\n",
       "      <td>6083.832335</td>\n",
       "      <td>1.429032e+06</td>\n",
       "    </tr>\n",
       "    <tr>\n",
       "      <th>CB</th>\n",
       "      <td>5328.581611</td>\n",
       "      <td>1.321251e+06</td>\n",
       "    </tr>\n",
       "    <tr>\n",
       "      <th>RB</th>\n",
       "      <td>5310.126582</td>\n",
       "      <td>1.248940e+06</td>\n",
       "    </tr>\n",
       "  </tbody>\n",
       "</table>\n",
       "</div>"
      ],
      "text/plain": [
       "                   Wage         Value\n",
       "Position                             \n",
       "LF         75125.000000  2.736250e+07\n",
       "RF        119000.000000  2.636583e+07\n",
       "LAM        61000.000000  1.324583e+07\n",
       "RAM        11800.000000  8.345000e+06\n",
       "LS         15421.487603  5.848430e+06\n",
       "LCM        13497.854077  4.318090e+06\n",
       "RCM        13504.166667  4.217604e+06\n",
       "RS         13482.456140  3.645833e+06\n",
       "LW         12169.421488  3.603099e+06\n",
       "RW         13822.784810  3.495738e+06\n",
       "LDM        10243.243243  3.369459e+06\n",
       "RCB        11270.334928  3.009055e+06\n",
       "CAM         8688.783570  2.963199e+06\n",
       "RDM        11282.608696  2.692717e+06\n",
       "LCB         9753.056235  2.636516e+06\n",
       "LM          7472.527473  2.466174e+06\n",
       "ST          7852.513228  2.157252e+06\n",
       "RM          6655.352480  2.138734e+06\n",
       "LWB         5783.333333  1.931333e+06\n",
       "CF          4862.745098  1.848627e+06\n",
       "CDM         7121.562952  1.658900e+06\n",
       "CM          5805.060918  1.617465e+06\n",
       "RWB         6000.000000  1.555571e+06\n",
       "GK          5352.833638  1.502502e+06\n",
       "LB          6083.832335  1.429032e+06\n",
       "CB          5328.581611  1.321251e+06\n",
       "RB          5310.126582  1.248940e+06"
      ]
     },
     "metadata": {},
     "output_type": "display_data"
    }
   ],
   "source": [
    "grouped_df = data_file.groupby('Position')[['Wage','Value']].mean()\n",
    "display(grouped_df.sort_values('Value', ascending=False))"
   ]
  },
  {
   "cell_type": "markdown",
   "metadata": {},
   "source": [
    "data_file.groupby('Club')['Wage'].agg(['mean','median'])"
   ]
  },
  {
   "cell_type": "code",
   "execution_count": 19,
   "metadata": {},
   "outputs": [
    {
     "data": {
      "text/html": [
       "<div>\n",
       "<style scoped>\n",
       "    .dataframe tbody tr th:only-of-type {\n",
       "        vertical-align: middle;\n",
       "    }\n",
       "\n",
       "    .dataframe tbody tr th {\n",
       "        vertical-align: top;\n",
       "    }\n",
       "\n",
       "    .dataframe thead th {\n",
       "        text-align: right;\n",
       "    }\n",
       "</style>\n",
       "<table border=\"1\" class=\"dataframe\">\n",
       "  <thead>\n",
       "    <tr style=\"text-align: right;\">\n",
       "      <th></th>\n",
       "      <th>mean</th>\n",
       "      <th>median</th>\n",
       "    </tr>\n",
       "    <tr>\n",
       "      <th>Club</th>\n",
       "      <th></th>\n",
       "      <th></th>\n",
       "    </tr>\n",
       "  </thead>\n",
       "  <tbody>\n",
       "    <tr>\n",
       "      <th>Cruzeiro</th>\n",
       "      <td>13000.0</td>\n",
       "      <td>13000</td>\n",
       "    </tr>\n",
       "  </tbody>\n",
       "</table>\n",
       "</div>"
      ],
      "text/plain": [
       "             mean  median\n",
       "Club                     \n",
       "Cruzeiro  13000.0   13000"
      ]
     },
     "execution_count": 19,
     "metadata": {},
     "output_type": "execute_result"
    }
   ],
   "source": [
    "x = data_file.groupby('Club')['Wage'].agg(['mean','median'])\n",
    "y = x[x['median'] == x['mean']]\n",
    "len(y)\n",
    "y.max()\n",
    "z = y[y['mean'] == y['mean'].max()]\n",
    "z"
   ]
  },
  {
   "cell_type": "code",
   "execution_count": 72,
   "metadata": {},
   "outputs": [
    {
     "data": {
      "text/plain": [
       "2035000"
      ]
     },
     "metadata": {},
     "output_type": "display_data"
    }
   ],
   "source": [
    "x = data_file.groupby('Club')['Wage'].sum()\n",
    "type(x)\n",
    "display(x['Chelsea'])"
   ]
  },
  {
   "cell_type": "code",
   "execution_count": 66,
   "metadata": {},
   "outputs": [
    {
     "data": {
      "text/plain": [
       "300000"
      ]
     },
     "metadata": {},
     "output_type": "display_data"
    }
   ],
   "source": [
    "x = data_file[(data_file.Nationality == 'Argentina')]\n",
    "\n",
    "y = x.groupby('Age')['Wage'].max()[30]\n",
    "display(y)"
   ]
  },
  {
   "cell_type": "code",
   "execution_count": 43,
   "metadata": {},
   "outputs": [
    {
     "data": {
      "text/plain": [
       "1000"
      ]
     },
     "execution_count": 43,
     "metadata": {},
     "output_type": "execute_result"
    }
   ],
   "source": [
    "x = data_file[(data_file.Nationality == 'Argentina')]\n",
    "x.groupby('Age')['Wage'].min()[30]"
   ]
  },
  {
   "cell_type": "code",
   "execution_count": 14,
   "metadata": {},
   "outputs": [
    {
     "data": {
      "text/plain": [
       "Strength    59\n",
       "Balance     95\n",
       "Name: Argentina, dtype: int64"
      ]
     },
     "execution_count": 14,
     "metadata": {},
     "output_type": "execute_result"
    }
   ],
   "source": [
    "x = data_file[data_file.Club == 'FC Barcelona']\n",
    "y = x.groupby('Nationality')[['Strength','Balance']].max()\n",
    "y.loc['Argentina']"
   ]
  },
  {
   "cell_type": "code",
   "execution_count": 16,
   "metadata": {
    "scrolled": true
   },
   "outputs": [
    {
     "data": {
      "text/html": [
       "<div>\n",
       "<style scoped>\n",
       "    .dataframe tbody tr th:only-of-type {\n",
       "        vertical-align: middle;\n",
       "    }\n",
       "\n",
       "    .dataframe tbody tr th {\n",
       "        vertical-align: top;\n",
       "    }\n",
       "\n",
       "    .dataframe thead tr th {\n",
       "        text-align: left;\n",
       "    }\n",
       "\n",
       "    .dataframe thead tr:last-of-type th {\n",
       "        text-align: right;\n",
       "    }\n",
       "</style>\n",
       "<table border=\"1\" class=\"dataframe\">\n",
       "  <thead>\n",
       "    <tr>\n",
       "      <th></th>\n",
       "      <th colspan=\"5\" halign=\"left\">Wage</th>\n",
       "    </tr>\n",
       "    <tr>\n",
       "      <th>Club</th>\n",
       "      <th>FC Barcelona</th>\n",
       "      <th>Juventus</th>\n",
       "      <th>Manchester United</th>\n",
       "      <th>Real Madrid</th>\n",
       "      <th>All</th>\n",
       "    </tr>\n",
       "    <tr>\n",
       "      <th>Nationality</th>\n",
       "      <th></th>\n",
       "      <th></th>\n",
       "      <th></th>\n",
       "      <th></th>\n",
       "      <th></th>\n",
       "    </tr>\n",
       "  </thead>\n",
       "  <tbody>\n",
       "    <tr>\n",
       "      <th>Argentina</th>\n",
       "      <td>565000</td>\n",
       "      <td>205000</td>\n",
       "      <td>206000</td>\n",
       "      <td>0</td>\n",
       "      <td>976000</td>\n",
       "    </tr>\n",
       "    <tr>\n",
       "      <th>Belgium</th>\n",
       "      <td>110000</td>\n",
       "      <td>0</td>\n",
       "      <td>230000</td>\n",
       "      <td>240000</td>\n",
       "      <td>580000</td>\n",
       "    </tr>\n",
       "    <tr>\n",
       "      <th>Bosnia Herzegovina</th>\n",
       "      <td>0</td>\n",
       "      <td>180000</td>\n",
       "      <td>0</td>\n",
       "      <td>0</td>\n",
       "      <td>180000</td>\n",
       "    </tr>\n",
       "    <tr>\n",
       "      <th>Brazil</th>\n",
       "      <td>465000</td>\n",
       "      <td>335000</td>\n",
       "      <td>91000</td>\n",
       "      <td>570000</td>\n",
       "      <td>1461000</td>\n",
       "    </tr>\n",
       "    <tr>\n",
       "      <th>Chile</th>\n",
       "      <td>205000</td>\n",
       "      <td>0</td>\n",
       "      <td>215000</td>\n",
       "      <td>0</td>\n",
       "      <td>420000</td>\n",
       "    </tr>\n",
       "    <tr>\n",
       "      <th>Costa Rica</th>\n",
       "      <td>0</td>\n",
       "      <td>0</td>\n",
       "      <td>0</td>\n",
       "      <td>195000</td>\n",
       "      <td>195000</td>\n",
       "    </tr>\n",
       "    <tr>\n",
       "      <th>Croatia</th>\n",
       "      <td>260000</td>\n",
       "      <td>160000</td>\n",
       "      <td>0</td>\n",
       "      <td>420000</td>\n",
       "      <td>840000</td>\n",
       "    </tr>\n",
       "    <tr>\n",
       "      <th>Dominican Republic</th>\n",
       "      <td>0</td>\n",
       "      <td>0</td>\n",
       "      <td>0</td>\n",
       "      <td>140000</td>\n",
       "      <td>140000</td>\n",
       "    </tr>\n",
       "    <tr>\n",
       "      <th>Ecuador</th>\n",
       "      <td>0</td>\n",
       "      <td>0</td>\n",
       "      <td>120000</td>\n",
       "      <td>0</td>\n",
       "      <td>120000</td>\n",
       "    </tr>\n",
       "    <tr>\n",
       "      <th>England</th>\n",
       "      <td>0</td>\n",
       "      <td>0</td>\n",
       "      <td>478000</td>\n",
       "      <td>0</td>\n",
       "      <td>478000</td>\n",
       "    </tr>\n",
       "    <tr>\n",
       "      <th>France</th>\n",
       "      <td>495000</td>\n",
       "      <td>145000</td>\n",
       "      <td>375000</td>\n",
       "      <td>459000</td>\n",
       "      <td>1474000</td>\n",
       "    </tr>\n",
       "    <tr>\n",
       "      <th>Germany</th>\n",
       "      <td>240000</td>\n",
       "      <td>160000</td>\n",
       "      <td>0</td>\n",
       "      <td>355000</td>\n",
       "      <td>755000</td>\n",
       "    </tr>\n",
       "    <tr>\n",
       "      <th>Italy</th>\n",
       "      <td>0</td>\n",
       "      <td>460000</td>\n",
       "      <td>88000</td>\n",
       "      <td>0</td>\n",
       "      <td>548000</td>\n",
       "    </tr>\n",
       "    <tr>\n",
       "      <th>Ivory Coast</th>\n",
       "      <td>0</td>\n",
       "      <td>0</td>\n",
       "      <td>105000</td>\n",
       "      <td>0</td>\n",
       "      <td>105000</td>\n",
       "    </tr>\n",
       "    <tr>\n",
       "      <th>Morocco</th>\n",
       "      <td>0</td>\n",
       "      <td>160000</td>\n",
       "      <td>0</td>\n",
       "      <td>0</td>\n",
       "      <td>160000</td>\n",
       "    </tr>\n",
       "    <tr>\n",
       "      <th>Netherlands</th>\n",
       "      <td>135000</td>\n",
       "      <td>0</td>\n",
       "      <td>0</td>\n",
       "      <td>0</td>\n",
       "      <td>135000</td>\n",
       "    </tr>\n",
       "    <tr>\n",
       "      <th>Poland</th>\n",
       "      <td>0</td>\n",
       "      <td>125000</td>\n",
       "      <td>0</td>\n",
       "      <td>0</td>\n",
       "      <td>125000</td>\n",
       "    </tr>\n",
       "    <tr>\n",
       "      <th>Portugal</th>\n",
       "      <td>125000</td>\n",
       "      <td>405000</td>\n",
       "      <td>0</td>\n",
       "      <td>0</td>\n",
       "      <td>530000</td>\n",
       "    </tr>\n",
       "    <tr>\n",
       "      <th>Scotland</th>\n",
       "      <td>0</td>\n",
       "      <td>0</td>\n",
       "      <td>11000</td>\n",
       "      <td>0</td>\n",
       "      <td>11000</td>\n",
       "    </tr>\n",
       "    <tr>\n",
       "      <th>Serbia</th>\n",
       "      <td>0</td>\n",
       "      <td>0</td>\n",
       "      <td>165000</td>\n",
       "      <td>0</td>\n",
       "      <td>165000</td>\n",
       "    </tr>\n",
       "    <tr>\n",
       "      <th>Spain</th>\n",
       "      <td>912000</td>\n",
       "      <td>0</td>\n",
       "      <td>260000</td>\n",
       "      <td>1404000</td>\n",
       "      <td>2576000</td>\n",
       "    </tr>\n",
       "    <tr>\n",
       "      <th>Uruguay</th>\n",
       "      <td>455000</td>\n",
       "      <td>0</td>\n",
       "      <td>0</td>\n",
       "      <td>0</td>\n",
       "      <td>455000</td>\n",
       "    </tr>\n",
       "    <tr>\n",
       "      <th>Wales</th>\n",
       "      <td>0</td>\n",
       "      <td>0</td>\n",
       "      <td>13000</td>\n",
       "      <td>355000</td>\n",
       "      <td>368000</td>\n",
       "    </tr>\n",
       "    <tr>\n",
       "      <th>All</th>\n",
       "      <td>3967000</td>\n",
       "      <td>2335000</td>\n",
       "      <td>2357000</td>\n",
       "      <td>4138000</td>\n",
       "      <td>12797000</td>\n",
       "    </tr>\n",
       "  </tbody>\n",
       "</table>\n",
       "</div>"
      ],
      "text/plain": [
       "                           Wage                                         \\\n",
       "Club               FC Barcelona Juventus Manchester United Real Madrid   \n",
       "Nationality                                                              \n",
       "Argentina                565000   205000            206000           0   \n",
       "Belgium                  110000        0            230000      240000   \n",
       "Bosnia Herzegovina            0   180000                 0           0   \n",
       "Brazil                   465000   335000             91000      570000   \n",
       "Chile                    205000        0            215000           0   \n",
       "Costa Rica                    0        0                 0      195000   \n",
       "Croatia                  260000   160000                 0      420000   \n",
       "Dominican Republic            0        0                 0      140000   \n",
       "Ecuador                       0        0            120000           0   \n",
       "England                       0        0            478000           0   \n",
       "France                   495000   145000            375000      459000   \n",
       "Germany                  240000   160000                 0      355000   \n",
       "Italy                         0   460000             88000           0   \n",
       "Ivory Coast                   0        0            105000           0   \n",
       "Morocco                       0   160000                 0           0   \n",
       "Netherlands              135000        0                 0           0   \n",
       "Poland                        0   125000                 0           0   \n",
       "Portugal                 125000   405000                 0           0   \n",
       "Scotland                      0        0             11000           0   \n",
       "Serbia                        0        0            165000           0   \n",
       "Spain                    912000        0            260000     1404000   \n",
       "Uruguay                  455000        0                 0           0   \n",
       "Wales                         0        0             13000      355000   \n",
       "All                     3967000  2335000           2357000     4138000   \n",
       "\n",
       "                              \n",
       "Club                     All  \n",
       "Nationality                   \n",
       "Argentina             976000  \n",
       "Belgium               580000  \n",
       "Bosnia Herzegovina    180000  \n",
       "Brazil               1461000  \n",
       "Chile                 420000  \n",
       "Costa Rica            195000  \n",
       "Croatia               840000  \n",
       "Dominican Republic    140000  \n",
       "Ecuador               120000  \n",
       "England               478000  \n",
       "France               1474000  \n",
       "Germany               755000  \n",
       "Italy                 548000  \n",
       "Ivory Coast           105000  \n",
       "Morocco               160000  \n",
       "Netherlands           135000  \n",
       "Poland                125000  \n",
       "Portugal              530000  \n",
       "Scotland               11000  \n",
       "Serbia                165000  \n",
       "Spain                2576000  \n",
       "Uruguay               455000  \n",
       "Wales                 368000  \n",
       "All                 12797000  "
      ]
     },
     "metadata": {},
     "output_type": "display_data"
    }
   ],
   "source": [
    "pivot = data_file.loc[data_file['Club'].isin(['FC Barcelona','Real Madrid','Juventus','Manchester United'])].pivot_table(values=['Wage'],\n",
    "index=['Nationality'],\n",
    "columns=['Club'],\n",
    "aggfunc='sum',\n",
    "margins=True,\n",
    "fill_value=0)\n",
    "display(pivot)"
   ]
  },
  {
   "cell_type": "code",
   "execution_count": 34,
   "metadata": {},
   "outputs": [
    {
     "data": {
      "text/plain": [
       "125000.0"
      ]
     },
     "execution_count": 34,
     "metadata": {},
     "output_type": "execute_result"
    }
   ],
   "source": [
    "pivot2 = data_file.pivot_table(\n",
    "columns='Position',\n",
    "index='Club',\n",
    "values='Wage',\n",
    "aggfunc='max'\n",
    ")\n",
    "pivot2.loc['Manchester City']['GK']"
   ]
  },
  {
   "cell_type": "code",
   "execution_count": 53,
   "metadata": {},
   "outputs": [
    {
     "data": {
      "text/plain": [
       "Club\n",
       "FC Barcelona         1\n",
       "Juventus             1\n",
       "Manchester United    2\n",
       "Real Madrid          0\n",
       "All                  4\n",
       "Name: Argentina, dtype: int64"
      ]
     },
     "execution_count": 53,
     "metadata": {},
     "output_type": "execute_result"
    }
   ],
   "source": [
    "pivot3 = data_file.loc[data_file['Club'].isin(['FC Barcelona','Real Madrid','Juventus','Manchester United'])].pivot_table(\n",
    "values='Name',\n",
    "index='Nationality',\n",
    "columns='Club',\n",
    "aggfunc='count',\n",
    "margins=True,\n",
    "fill_value=0\n",
    ")\n",
    "pivot3.loc['Argentina']"
   ]
  },
  {
   "cell_type": "code",
   "execution_count": 45,
   "metadata": {},
   "outputs": [],
   "source": [
    "#Вывод зависит от того в скобках параметры или нет, нужно задать вопрос почему так и чем отличабтся функции"
   ]
  },
  {
   "cell_type": "code",
   "execution_count": 49,
   "metadata": {},
   "outputs": [
    {
     "data": {
      "text/plain": [
       "2"
      ]
     },
     "execution_count": 49,
     "metadata": {},
     "output_type": "execute_result"
    }
   ],
   "source": [
    "pivot = data_file.loc[data_file['Club'].isin(['FC Barcelona','Real Madrid','Juventus','Manchester United'])].pivot_table(values=['Name'],\n",
    "index=['Nationality'],\n",
    "columns=['Club'],\n",
    "aggfunc='count',\n",
    "fill_value=0\n",
    ")\n",
    "pivot.loc['Argentina']['Name']['Manchester United']"
   ]
  },
  {
   "cell_type": "code",
   "execution_count": 66,
   "metadata": {},
   "outputs": [
    {
     "data": {
      "text/plain": [
       "Club\n",
       " SSV Jahn Regensburg     3\n",
       "1. FC Heidenheim 1846    2\n",
       "1. FC Kaiserslautern     3\n",
       "1. FC Köln               3\n",
       "1. FC Magdeburg          3\n",
       "                        ..\n",
       "Zagłębie Sosnowiec       3\n",
       "Çaykur Rizespor          3\n",
       "Örebro SK                3\n",
       "Östersunds FK            3\n",
       "Śląsk Wrocław            3\n",
       "Name: GK, Length: 650, dtype: int64"
      ]
     },
     "execution_count": 66,
     "metadata": {},
     "output_type": "execute_result"
    }
   ],
   "source": [
    "df = pd.read_csv('c:/Users/SVasilchenko/SkillFactory/module_1/data_sf.csv')\n",
    "\n",
    "pivot = df.pivot_table(values=\"Name\",\n",
    "                      index='Club',\n",
    "                      columns='Position',\n",
    "                      aggfunc='count',\n",
    "                      fill_value=0)\n",
    "pivot['GK']"
   ]
  },
  {
   "cell_type": "code",
   "execution_count": 51,
   "metadata": {},
   "outputs": [
    {
     "data": {
      "text/plain": [
       "61000"
      ]
     },
     "execution_count": 51,
     "metadata": {},
     "output_type": "execute_result"
    }
   ],
   "source": [
    "pivot = df.pivot_table(values='Wage',\n",
    "                      index=\"Club\",\n",
    "                      columns='Nationality',\n",
    "                      aggfunc='sum',\n",
    "                      fill_value=0)\n",
    "\n",
    "pivot['Russia'][pivot['Russia'] != 0] #все клубы с ненулевой зп у русских\n",
    "pivot.loc['AS Monaco']['Russia']"
   ]
  },
  {
   "cell_type": "code",
   "execution_count": 75,
   "metadata": {},
   "outputs": [
    {
     "data": {
      "text/plain": [
       "Position\n",
       "RF     76.333333\n",
       "LAM    76.333333\n",
       "LF     75.875000\n",
       "RW     75.417722\n",
       "RM     74.943864\n",
       "LW     74.747934\n",
       "LM     74.211538\n",
       "RAM    73.800000\n",
       "RWB    73.128571\n",
       "LWB    72.833333\n",
       "LS     72.338843\n",
       "RS     71.991228\n",
       "RB     71.186709\n",
       "LB     70.718563\n",
       "CF     69.803922\n",
       "ST     68.700397\n",
       "CAM    68.236967\n",
       "LCM    65.334764\n",
       "RCM    65.233333\n",
       "CM     64.299906\n",
       "All    63.205629\n",
       "RDM    62.152174\n",
       "LDM    62.006757\n",
       "CDM    60.813314\n",
       "LCB    58.936430\n",
       "RCB    58.239234\n",
       "CB     57.734854\n",
       "GK     37.622182\n",
       "Name: All, dtype: float64"
      ]
     },
     "execution_count": 75,
     "metadata": {},
     "output_type": "execute_result"
    }
   ],
   "source": [
    "pivot=df.pivot_table(values='SprintSpeed',\n",
    "                    index='Club',\n",
    "                    columns='Position',\n",
    "                    aggfunc='mean',\n",
    "                    fill_value=None,\n",
    "                    margins=True)\n",
    "\n",
    "pivot.loc['All'].sort_values(ascending=False)\n",
    "#pivot.mean(skipna=True).sort_values(ascending=False)\n",
    "#pivot[['RB','LM','RM','CF','RS']].\n",
    "#display(pivot.describe().loc['mean'].sort_values(ascending=False))"
   ]
  },
  {
   "cell_type": "code",
   "execution_count": 55,
   "metadata": {},
   "outputs": [
    {
     "data": {
      "text/plain": [
       "Club\n",
       "Vitória            91.000000\n",
       "Sydney FC          88.000000\n",
       "CD Lugo            87.000000\n",
       "Brøndby IF         84.666667\n",
       "Leicester City     84.500000\n",
       "                     ...    \n",
       "Valencia CF              NaN\n",
       "VfL Bochum 1848          NaN\n",
       "VfL Wolfsburg            NaN\n",
       "Waterford FC             NaN\n",
       "Wigan Athletic           NaN\n",
       "Name: ST, Length: 650, dtype: float64"
      ]
     },
     "execution_count": 55,
     "metadata": {},
     "output_type": "execute_result"
    }
   ],
   "source": [
    "pivot['ST'].sort_values(ascending=False)"
   ]
  }
 ],
 "metadata": {
  "kernelspec": {
   "display_name": "Python 3",
   "language": "python",
   "name": "python3"
  },
  "language_info": {
   "codemirror_mode": {
    "name": "ipython",
    "version": 3
   },
   "file_extension": ".py",
   "mimetype": "text/x-python",
   "name": "python",
   "nbconvert_exporter": "python",
   "pygments_lexer": "ipython3",
   "version": "3.8.5"
  }
 },
 "nbformat": 4,
 "nbformat_minor": 4
}
