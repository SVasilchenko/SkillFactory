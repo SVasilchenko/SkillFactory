{
 "cells": [
  {
   "cell_type": "code",
   "execution_count": 1,
   "metadata": {},
   "outputs": [
    {
     "name": "stdout",
     "output_type": "stream",
     "text": [
      "Ваш алгоритм угадывает число в среднем за 5 попыток\n"
     ]
    },
    {
     "data": {
      "text/plain": [
       "5"
      ]
     },
     "execution_count": 1,
     "metadata": {},
     "output_type": "execute_result"
    }
   ],
   "source": [
    "import numpy as np\n",
    "\n",
    "\n",
    "def cut_range(low, high):\n",
    "    '''функция принимает на вход диапазон в котором находится искомое число и рубит его пополам.\n",
    "       Возвращает число в середине диапазона'''\n",
    "    return (low+high) // 2 # Представляет собой упрощенное выражение low + (high-low)/2\n",
    "\n",
    "\n",
    "def game_core(number):\n",
    "    '''Доагадка - это центр диапазона, в зависимости от ответа (больше/меньше) сужаем диапазон в 2 раза, двигая одну из границ.\n",
    "    Функция возвращает количество попыток'''\n",
    "    count = 0    # счетчик на ноль\n",
    "    low = 0      # инициализируем нижнюю и верхнюю границы поиска\n",
    "    high = 101   # чтобы числа 1 и 100 тоже угадывались нужно расширить границы на единицу\n",
    "    \n",
    "    while True:\n",
    "        count += 1\n",
    "        predict = cut_range(low, high) # \"тыкаем\" в середину диапазона\n",
    "        if predict == number:\n",
    "            break            # выход из цикла, если угадали\n",
    "        elif number > predict:\n",
    "            low = predict    # если загаданное число больше, сужаем диапазон в область больших значений\n",
    "        elif number < predict:\n",
    "            high = predict   # и наоборот, если меньше - сужаем диапазон в область меньших значений\n",
    "        \n",
    "    return count # возвращаем количество попыток\n",
    "\n",
    "\n",
    "def score_game(game_core):\n",
    "    '''Запускаем игру 1000 раз, чтобы узнать, как быстро игра угадывает число'''\n",
    "    count_ls = []\n",
    "    np.random.seed(1)  # фиксируем RANDOM SEED, чтобы ваш эксперимент был воспроизводим!\n",
    "    random_array = np.random.randint(1,101, size=(1000))\n",
    "    for number in random_array:\n",
    "        count_ls.append(game_core(number))\n",
    "    score = int(np.mean(count_ls))\n",
    "    print(f\"Ваш алгоритм угадывает число в среднем за {score} попыток\")\n",
    "    \n",
    "    return(score)\n",
    "\n",
    "\n",
    "score_game(game_core)"
   ]
  },
  {
   "cell_type": "code",
   "execution_count": null,
   "metadata": {},
   "outputs": [],
   "source": []
  }
 ],
 "metadata": {
  "kernelspec": {
   "display_name": "Python 3",
   "language": "python",
   "name": "python3"
  },
  "language_info": {
   "codemirror_mode": {
    "name": "ipython",
    "version": 3
   },
   "file_extension": ".py",
   "mimetype": "text/x-python",
   "name": "python",
   "nbconvert_exporter": "python",
   "pygments_lexer": "ipython3",
   "version": "3.8.5"
  }
 },
 "nbformat": 4,
 "nbformat_minor": 4
}
